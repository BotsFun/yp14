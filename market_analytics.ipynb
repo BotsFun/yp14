{
 "cells": [
  {
   "cell_type": "markdown",
   "metadata": {},
   "source": [
    "# Рынок заведений общественного питания Москвы"
   ]
  },
  {
   "cell_type": "markdown",
   "metadata": {},
   "source": [
    "Вы решили открыть небольшое кафе в Москве. Оно оригинальное — гостей должны обслуживать роботы. Проект многообещающий, но дорогой. Вместе с партнёрами вы решились обратиться к инвесторам. Их интересует текущее положение дел на рынке — сможете ли вы снискать популярность на долгое время, когда все зеваки насмотрятся на роботов-официантов?  \n",
    "  \n",
    "  \n",
    "  Вы — гуру аналитики, и партнёры просят вас подготовить исследование рынка. У вас есть открытые данные о заведениях общественного питания в Москве."
   ]
  },
  {
   "cell_type": "markdown",
   "metadata": {},
   "source": [
    "## Описание данных\n",
    "\n",
    "**/datasets/rest_data.csv** — данные о заведениях общественного питания Москвы:  \n",
    "- `id` — идентификатор объекта;\n",
    "- `object_name` — название объекта общественного питания;\n",
    "- `chain` — сетевой ресторан;\n",
    "- `object_type` — тип объекта общественного питания;\n",
    "- `address` — адрес;\n",
    "- `number` — количество посадочных мест\n"
   ]
  },
  {
   "cell_type": "markdown",
   "metadata": {},
   "source": [
    "## Оглавление\n",
    "1. [Шаг 1. Откройте файл с данными и изучите общую информацию](#step1)  \n",
    "    1.1 [Вывод к Шагу 1](#step1.1)\n",
    "    \n",
    "        \n",
    "2. [Шаг 2. Подготовка данных](#step2)  \n",
    "    2.1  [Вывод к Шагу 2](#step2.1)     \n",
    "  \n",
    "    \n",
    "3. [Шаг 3. Анализ данных](#step3)   \n",
    "    3.1   [Cоотношение видов объектов общественного питания по количеству](#step3.1)  \n",
    "    3.2   [Cоотношение сетевых и несетевых заведений по количеству](#step3.2)  \n",
    "    3.3   [Для какого вида объекта общественного питания характерно сетевое распространение](#step3.3)  \n",
    "    3.4   [Ответ на вопрос: что характерно для сетевых заведений: много заведений с небольшим числом посадочных мест в каждом или мало заведений с большим количеством посадочных мест?](#step3.4)  \n",
    "    3.5   [Описание среднего количества посадочных мест для каждого вида объекта общественного питания. Ответ на вопрос: какой вид предоставляет в среднем самое большое количество посадочных мест ](#step3.5)   \n",
    "    3.6   [Выделение в отдельный столбец информации об улице из столбца `address`](#step3.6)   \n",
    "    3.7   [Построим график топ-10 улиц по количеству объектов общественного питания. Используем внешнюю информацию и дадим ответ на вопрос: в каких районах Москвы находятся эти улицы?](#step3.7)   \n",
    "    3.8   [Найдём число улиц с одним объектом общественного питания. В каких районах Москвы находятся эти улицы?](#step3.8)  \n",
    "    3.9   [Посмотрим на распределение количества посадочных мест для улиц с большим количеством объектов общественного питания. Какие закономерности можно выявить?](#step3.9)   \n",
    "    \n",
    " \n",
    "4. [Шаг 4. Общий вывод. Рекомендации](#step5)  "
   ]
  },
  {
   "cell_type": "markdown",
   "metadata": {},
   "source": [
    "### Шаг 1. Откройте файлы с данными и изучите общую информацию <a id=\"step1\"></a>   \n",
    "</div>"
   ]
  },
  {
   "cell_type": "code",
   "execution_count": 1,
   "metadata": {},
   "outputs": [],
   "source": [
    "import pandas as pd\n",
    "import matplotlib.pyplot as plt\n",
    "from IPython.display import display\n",
    "from scipy import stats as st\n",
    "import math\n",
    "import numpy as np\n",
    "from functools import reduce\n",
    "import seaborn as sns\n",
    "import datetime as dt\n",
    "import scipy.stats as stats\n",
    "import plotly.express as px\n",
    "\n",
    "\n",
    "rest_data = pd.read_csv('/datasets/rest_data.csv')\n"
   ]
  },
  {
   "cell_type": "markdown",
   "metadata": {},
   "source": [
    "Выведем наш датасет и информацию о нём на экран"
   ]
  },
  {
   "cell_type": "code",
   "execution_count": 2,
   "metadata": {},
   "outputs": [
    {
     "data": {
      "text/html": [
       "<div>\n",
       "<style scoped>\n",
       "    .dataframe tbody tr th:only-of-type {\n",
       "        vertical-align: middle;\n",
       "    }\n",
       "\n",
       "    .dataframe tbody tr th {\n",
       "        vertical-align: top;\n",
       "    }\n",
       "\n",
       "    .dataframe thead th {\n",
       "        text-align: right;\n",
       "    }\n",
       "</style>\n",
       "<table border=\"1\" class=\"dataframe\">\n",
       "  <thead>\n",
       "    <tr style=\"text-align: right;\">\n",
       "      <th></th>\n",
       "      <th>id</th>\n",
       "      <th>object_name</th>\n",
       "      <th>chain</th>\n",
       "      <th>object_type</th>\n",
       "      <th>address</th>\n",
       "      <th>number</th>\n",
       "    </tr>\n",
       "  </thead>\n",
       "  <tbody>\n",
       "    <tr>\n",
       "      <td>0</td>\n",
       "      <td>151635</td>\n",
       "      <td>СМЕТАНА</td>\n",
       "      <td>нет</td>\n",
       "      <td>кафе</td>\n",
       "      <td>город Москва, улица Егора Абакумова, дом 9</td>\n",
       "      <td>48</td>\n",
       "    </tr>\n",
       "    <tr>\n",
       "      <td>1</td>\n",
       "      <td>77874</td>\n",
       "      <td>Родник</td>\n",
       "      <td>нет</td>\n",
       "      <td>кафе</td>\n",
       "      <td>город Москва, улица Талалихина, дом 2/1, корпус 1</td>\n",
       "      <td>35</td>\n",
       "    </tr>\n",
       "    <tr>\n",
       "      <td>2</td>\n",
       "      <td>24309</td>\n",
       "      <td>Кафе «Академия»</td>\n",
       "      <td>нет</td>\n",
       "      <td>кафе</td>\n",
       "      <td>город Москва, Абельмановская улица, дом 6</td>\n",
       "      <td>95</td>\n",
       "    </tr>\n",
       "    <tr>\n",
       "      <td>3</td>\n",
       "      <td>21894</td>\n",
       "      <td>ПИЦЦЕТОРИЯ</td>\n",
       "      <td>да</td>\n",
       "      <td>кафе</td>\n",
       "      <td>город Москва, Абрамцевская улица, дом 1</td>\n",
       "      <td>40</td>\n",
       "    </tr>\n",
       "    <tr>\n",
       "      <td>4</td>\n",
       "      <td>119365</td>\n",
       "      <td>Кафе «Вишневая метель»</td>\n",
       "      <td>нет</td>\n",
       "      <td>кафе</td>\n",
       "      <td>город Москва, Абрамцевская улица, дом 9, корпус 1</td>\n",
       "      <td>50</td>\n",
       "    </tr>\n",
       "    <tr>\n",
       "      <td>...</td>\n",
       "      <td>...</td>\n",
       "      <td>...</td>\n",
       "      <td>...</td>\n",
       "      <td>...</td>\n",
       "      <td>...</td>\n",
       "      <td>...</td>\n",
       "    </tr>\n",
       "    <tr>\n",
       "      <td>15361</td>\n",
       "      <td>208537</td>\n",
       "      <td>Шоколадница</td>\n",
       "      <td>да</td>\n",
       "      <td>кафе</td>\n",
       "      <td>город Москва, 3-й Крутицкий переулок, дом 18</td>\n",
       "      <td>50</td>\n",
       "    </tr>\n",
       "    <tr>\n",
       "      <td>15362</td>\n",
       "      <td>209264</td>\n",
       "      <td>Шоколадница</td>\n",
       "      <td>да</td>\n",
       "      <td>кафе</td>\n",
       "      <td>город Москва, улица Земляной Вал, дом 33</td>\n",
       "      <td>10</td>\n",
       "    </tr>\n",
       "    <tr>\n",
       "      <td>15363</td>\n",
       "      <td>209186</td>\n",
       "      <td>Шоколадница</td>\n",
       "      <td>да</td>\n",
       "      <td>кафе</td>\n",
       "      <td>город Москва, улица Земляной Вал, дом 33</td>\n",
       "      <td>20</td>\n",
       "    </tr>\n",
       "    <tr>\n",
       "      <td>15364</td>\n",
       "      <td>221900</td>\n",
       "      <td>Шоколадница</td>\n",
       "      <td>да</td>\n",
       "      <td>кафе</td>\n",
       "      <td>город Москва, поселение Московский, Киевское ш...</td>\n",
       "      <td>36</td>\n",
       "    </tr>\n",
       "    <tr>\n",
       "      <td>15365</td>\n",
       "      <td>222535</td>\n",
       "      <td>Шоколадница</td>\n",
       "      <td>да</td>\n",
       "      <td>кафе</td>\n",
       "      <td>город Москва, Ходынский бульвар, дом 4</td>\n",
       "      <td>10</td>\n",
       "    </tr>\n",
       "  </tbody>\n",
       "</table>\n",
       "<p>15366 rows × 6 columns</p>\n",
       "</div>"
      ],
      "text/plain": [
       "           id             object_name chain object_type  \\\n",
       "0      151635                 СМЕТАНА   нет        кафе   \n",
       "1       77874                  Родник   нет        кафе   \n",
       "2       24309         Кафе «Академия»   нет        кафе   \n",
       "3       21894              ПИЦЦЕТОРИЯ    да        кафе   \n",
       "4      119365  Кафе «Вишневая метель»   нет        кафе   \n",
       "...       ...                     ...   ...         ...   \n",
       "15361  208537             Шоколадница    да        кафе   \n",
       "15362  209264             Шоколадница    да        кафе   \n",
       "15363  209186             Шоколадница    да        кафе   \n",
       "15364  221900             Шоколадница    да        кафе   \n",
       "15365  222535             Шоколадница    да        кафе   \n",
       "\n",
       "                                                 address  number  \n",
       "0             город Москва, улица Егора Абакумова, дом 9      48  \n",
       "1      город Москва, улица Талалихина, дом 2/1, корпус 1      35  \n",
       "2              город Москва, Абельмановская улица, дом 6      95  \n",
       "3                город Москва, Абрамцевская улица, дом 1      40  \n",
       "4      город Москва, Абрамцевская улица, дом 9, корпус 1      50  \n",
       "...                                                  ...     ...  \n",
       "15361       город Москва, 3-й Крутицкий переулок, дом 18      50  \n",
       "15362           город Москва, улица Земляной Вал, дом 33      10  \n",
       "15363           город Москва, улица Земляной Вал, дом 33      20  \n",
       "15364  город Москва, поселение Московский, Киевское ш...      36  \n",
       "15365             город Москва, Ходынский бульвар, дом 4      10  \n",
       "\n",
       "[15366 rows x 6 columns]"
      ]
     },
     "metadata": {},
     "output_type": "display_data"
    },
    {
     "name": "stdout",
     "output_type": "stream",
     "text": [
      "<class 'pandas.core.frame.DataFrame'>\n",
      "RangeIndex: 15366 entries, 0 to 15365\n",
      "Data columns (total 6 columns):\n",
      "id             15366 non-null int64\n",
      "object_name    15366 non-null object\n",
      "chain          15366 non-null object\n",
      "object_type    15366 non-null object\n",
      "address        15366 non-null object\n",
      "number         15366 non-null int64\n",
      "dtypes: int64(2), object(4)\n",
      "memory usage: 720.4+ KB\n"
     ]
    }
   ],
   "source": [
    "display(rest_data)\n",
    "rest_data.info()"
   ]
  },
  {
   "cell_type": "markdown",
   "metadata": {},
   "source": [
    "### Вывод<a id=\"step1.1\"></a>   \n",
    "</div>  \n",
    "\n",
    "В датасете содержится 15366 записей о ресторанах. Очевидно записи делались или разными людьми, или с помощью разных инструментов. Так многие названия в `object_name` написаны Caps Lock'ом, есть лишние символы, в названии присутствует отсылка к типу объекта.   \n",
    "\n",
    "Дополнительно изучим столбцы `object_name, chain и number` на наличие артефактов.\n",
    "\n",
    "Также в следующем этапе отработаем гипотетические дубликаты и/или пропущенные значения.\n"
   ]
  },
  {
   "cell_type": "markdown",
   "metadata": {},
   "source": [
    "### Шаг 2. Предобработка данных <a id=\"step2\"></a>   \n",
    "</div>  "
   ]
  },
  {
   "cell_type": "markdown",
   "metadata": {},
   "source": [
    "Для удобства переименуем столбец `number` в `seats`, чтобы название больше отражало его суть."
   ]
  },
  {
   "cell_type": "code",
   "execution_count": 3,
   "metadata": {},
   "outputs": [],
   "source": [
    "rest_data = rest_data.rename(columns={'number':'seats'})"
   ]
  },
  {
   "cell_type": "markdown",
   "metadata": {},
   "source": [
    "Снизим накал и приведём все к нижнему регистру в столбцах с записями: `object_name, object_type и adress`."
   ]
  },
  {
   "cell_type": "code",
   "execution_count": 4,
   "metadata": {},
   "outputs": [],
   "source": [
    "rest_data['object_name'] = rest_data['object_name'].str.lower()\n",
    "rest_data['object_type'] = rest_data['object_type'].str.lower()\n",
    "rest_data['address'] = rest_data['address'].str.lower()"
   ]
  },
  {
   "cell_type": "markdown",
   "metadata": {},
   "source": [
    "Посмотрим нет ли у нас дубликатов"
   ]
  },
  {
   "cell_type": "code",
   "execution_count": 5,
   "metadata": {},
   "outputs": [
    {
     "data": {
      "text/plain": [
       "0"
      ]
     },
     "execution_count": 5,
     "metadata": {},
     "output_type": "execute_result"
    }
   ],
   "source": [
    "rest_data.duplicated().sum()"
   ]
  },
  {
   "cell_type": "markdown",
   "metadata": {},
   "source": [
    "Убедимся, что пропущенных значений действительно нет"
   ]
  },
  {
   "cell_type": "code",
   "execution_count": 6,
   "metadata": {},
   "outputs": [
    {
     "data": {
      "text/plain": [
       "id             0\n",
       "object_name    0\n",
       "chain          0\n",
       "object_type    0\n",
       "address        0\n",
       "seats          0\n",
       "dtype: int64"
      ]
     },
     "execution_count": 6,
     "metadata": {},
     "output_type": "execute_result"
    }
   ],
   "source": [
    "rest_data.isnull().sum()"
   ]
  },
  {
   "cell_type": "markdown",
   "metadata": {},
   "source": [
    "Проведём проверку нескольких столбцов на предмет наличия артефактов в значениях"
   ]
  },
  {
   "cell_type": "code",
   "execution_count": 7,
   "metadata": {},
   "outputs": [
    {
     "data": {
      "text/plain": [
       "chain        да                                    2968.0\n",
       "             нет                                  12398.0\n",
       "object_type  бар                                    856.0\n",
       "             буфет                                  585.0\n",
       "             закусочная                             360.0\n",
       "             кафе                                  6099.0\n",
       "             кафетерий                              398.0\n",
       "             магазин (отдел кулинарии)              273.0\n",
       "             предприятие быстрого обслуживания     1923.0\n",
       "             ресторан                              2285.0\n",
       "             столовая                              2587.0\n",
       "dtype: float64"
      ]
     },
     "metadata": {},
     "output_type": "display_data"
    }
   ],
   "source": [
    "display(rest_data[['chain','object_type']].apply(lambda x: x.value_counts()).T.stack())"
   ]
  },
  {
   "cell_type": "markdown",
   "metadata": {},
   "source": [
    "Для удобства сделаем небольшой ребрендинг: *предприятия быстрого обслуживания* превратим в *фастфуды*, а сложный *магазин (отдел кулинарии)* - в кулинарию"
   ]
  },
  {
   "cell_type": "code",
   "execution_count": 8,
   "metadata": {},
   "outputs": [],
   "source": [
    "rest_data['object_type'] = rest_data['object_type'].str.replace('предприятие быстрого обслуживания', 'фастфуд')\n",
    "rest_data['object_type'] = rest_data['object_type'].str.replace('магазин \\(отдел кулинарии\\)', 'кулинария')"
   ]
  },
  {
   "cell_type": "markdown",
   "metadata": {},
   "source": [
    "Аналогично для удобства и лучшего понимания в дальнейшем на графиках заменим значения *да* и *нет* в столбце `chain` на *сетевой* и *несетевой* тип объекта соответственно"
   ]
  },
  {
   "cell_type": "code",
   "execution_count": 9,
   "metadata": {},
   "outputs": [],
   "source": [
    "rest_data['chain'] = rest_data['chain'].map({'нет':'несетевой','да':'сетевой'})"
   ]
  },
  {
   "cell_type": "markdown",
   "metadata": {},
   "source": [
    "Построим гистограмму распределения числа посадочных мест и проверим возможные выбросы. Параллельно с этим применим метод `describe()`"
   ]
  },
  {
   "cell_type": "code",
   "execution_count": 10,
   "metadata": {},
   "outputs": [
    {
     "data": {
      "image/png": "[encoded data removed]",
      "text/plain": [
       "<Figure size 432x288 with 1 Axes>"
      ]
     },
     "metadata": {
      "needs_background": "light"
     },
     "output_type": "display_data"
    },
    {
     "data": {
      "text/plain": [
       "count    15366.000000\n",
       "mean        59.547182\n",
       "std         74.736833\n",
       "min          0.000000\n",
       "25%         12.000000\n",
       "50%         40.000000\n",
       "75%         80.000000\n",
       "max       1700.000000\n",
       "Name: seats, dtype: float64"
      ]
     },
     "execution_count": 10,
     "metadata": {},
     "output_type": "execute_result"
    }
   ],
   "source": [
    "plt.hist(rest_data['seats'], bins = 50)\n",
    "plt.title('Гистограмма количества посадочных мест')\n",
    "plt.xlabel('Посадочные места')\n",
    "plt.ylabel('Количество ресторанов')\n",
    "plt.show()\n",
    "rest_data['seats'].describe()"
   ]
  },
  {
   "cell_type": "markdown",
   "metadata": {},
   "source": [
    "Есть ряд очень вместительных ресторанов, они достаточно сильно влияют на среднее значения (по сравнению с медианным). Посмотрим кто вмещает в себя больше 700 посетителей одновременно."
   ]
  },
  {
   "cell_type": "code",
   "execution_count": 11,
   "metadata": {},
   "outputs": [
    {
     "data": {
      "text/html": [
       "<div>\n",
       "<style scoped>\n",
       "    .dataframe tbody tr th:only-of-type {\n",
       "        vertical-align: middle;\n",
       "    }\n",
       "\n",
       "    .dataframe tbody tr th {\n",
       "        vertical-align: top;\n",
       "    }\n",
       "\n",
       "    .dataframe thead th {\n",
       "        text-align: right;\n",
       "    }\n",
       "</style>\n",
       "<table border=\"1\" class=\"dataframe\">\n",
       "  <thead>\n",
       "    <tr style=\"text-align: right;\">\n",
       "      <th></th>\n",
       "      <th>id</th>\n",
       "      <th>object_name</th>\n",
       "      <th>chain</th>\n",
       "      <th>object_type</th>\n",
       "      <th>address</th>\n",
       "      <th>seats</th>\n",
       "    </tr>\n",
       "  </thead>\n",
       "  <tbody>\n",
       "    <tr>\n",
       "      <td>2313</td>\n",
       "      <td>26560</td>\n",
       "      <td>ресторан «альфа»</td>\n",
       "      <td>несетевой</td>\n",
       "      <td>ресторан</td>\n",
       "      <td>город москва, измайловское шоссе, дом 71, корп...</td>\n",
       "      <td>1040</td>\n",
       "    </tr>\n",
       "    <tr>\n",
       "      <td>3686</td>\n",
       "      <td>27026</td>\n",
       "      <td>рум сервис</td>\n",
       "      <td>несетевой</td>\n",
       "      <td>ресторан</td>\n",
       "      <td>город москва, площадь европы, дом 2</td>\n",
       "      <td>1200</td>\n",
       "    </tr>\n",
       "    <tr>\n",
       "      <td>4480</td>\n",
       "      <td>27024</td>\n",
       "      <td>рум сервис</td>\n",
       "      <td>несетевой</td>\n",
       "      <td>ресторан</td>\n",
       "      <td>город москва, кутузовский проспект, дом 2/1, с...</td>\n",
       "      <td>1200</td>\n",
       "    </tr>\n",
       "    <tr>\n",
       "      <td>5649</td>\n",
       "      <td>29232</td>\n",
       "      <td>столовая московский гуманитарный университет</td>\n",
       "      <td>несетевой</td>\n",
       "      <td>столовая</td>\n",
       "      <td>город москва, улица юности, дом 5, строение 1</td>\n",
       "      <td>760</td>\n",
       "    </tr>\n",
       "    <tr>\n",
       "      <td>8148</td>\n",
       "      <td>80291</td>\n",
       "      <td>банкетный зал шелк</td>\n",
       "      <td>несетевой</td>\n",
       "      <td>ресторан</td>\n",
       "      <td>город москва, большой саввинский переулок, дом...</td>\n",
       "      <td>1500</td>\n",
       "    </tr>\n",
       "    <tr>\n",
       "      <td>8345</td>\n",
       "      <td>27750</td>\n",
       "      <td>столовая-буфет</td>\n",
       "      <td>несетевой</td>\n",
       "      <td>столовая</td>\n",
       "      <td>город москва, улица волхонка, дом 15</td>\n",
       "      <td>1400</td>\n",
       "    </tr>\n",
       "    <tr>\n",
       "      <td>9064</td>\n",
       "      <td>19719</td>\n",
       "      <td>комбинат питания «управление академсервис»</td>\n",
       "      <td>несетевой</td>\n",
       "      <td>столовая</td>\n",
       "      <td>город москва, проспект вернадского, дом 84, ст...</td>\n",
       "      <td>1288</td>\n",
       "    </tr>\n",
       "    <tr>\n",
       "      <td>9955</td>\n",
       "      <td>171116</td>\n",
       "      <td>eataly</td>\n",
       "      <td>несетевой</td>\n",
       "      <td>ресторан</td>\n",
       "      <td>город москва, киевская улица, дом 2</td>\n",
       "      <td>920</td>\n",
       "    </tr>\n",
       "    <tr>\n",
       "      <td>12723</td>\n",
       "      <td>199696</td>\n",
       "      <td>arena by soho family</td>\n",
       "      <td>несетевой</td>\n",
       "      <td>бар</td>\n",
       "      <td>город москва, кутузовский проспект, дом 36, ст...</td>\n",
       "      <td>1700</td>\n",
       "    </tr>\n",
       "  </tbody>\n",
       "</table>\n",
       "</div>"
      ],
      "text/plain": [
       "           id                                   object_name      chain  \\\n",
       "2313    26560                              ресторан «альфа»  несетевой   \n",
       "3686    27026                                    рум сервис  несетевой   \n",
       "4480    27024                                    рум сервис  несетевой   \n",
       "5649    29232  столовая московский гуманитарный университет  несетевой   \n",
       "8148    80291                            банкетный зал шелк  несетевой   \n",
       "8345    27750                                столовая-буфет  несетевой   \n",
       "9064    19719    комбинат питания «управление академсервис»  несетевой   \n",
       "9955   171116                                        eataly  несетевой   \n",
       "12723  199696                          arena by soho family  несетевой   \n",
       "\n",
       "      object_type                                            address  seats  \n",
       "2313     ресторан  город москва, измайловское шоссе, дом 71, корп...   1040  \n",
       "3686     ресторан                город москва, площадь европы, дом 2   1200  \n",
       "4480     ресторан  город москва, кутузовский проспект, дом 2/1, с...   1200  \n",
       "5649     столовая      город москва, улица юности, дом 5, строение 1    760  \n",
       "8148     ресторан  город москва, большой саввинский переулок, дом...   1500  \n",
       "8345     столовая               город москва, улица волхонка, дом 15   1400  \n",
       "9064     столовая  город москва, проспект вернадского, дом 84, ст...   1288  \n",
       "9955     ресторан                город москва, киевская улица, дом 2    920  \n",
       "12723         бар  город москва, кутузовский проспект, дом 36, ст...   1700  "
      ]
     },
     "metadata": {},
     "output_type": "display_data"
    }
   ],
   "source": [
    "rest_data_large_seats = rest_data.query('seats > 700')\n",
    "display(rest_data_large_seats)"
   ]
  },
  {
   "cell_type": "markdown",
   "metadata": {},
   "source": [
    "Достаточно разношерстная компания собралась, есть и фудкорты типа *eataly* и банкет-холлы (*шёлк*, *arena* и т.д.), а есть и просто столовая МГУ. Туда бы наших роботов! Пока оставим их в покое. "
   ]
  },
  {
   "cell_type": "markdown",
   "metadata": {},
   "source": [
    "Посмотрим ещё раз на гистограмму в диапазоне, близком к нулю"
   ]
  },
  {
   "cell_type": "code",
   "execution_count": 12,
   "metadata": {},
   "outputs": [
    {
     "data": {
      "image/png": "[encoded data removed]",
      "text/plain": [
       "<Figure size 432x288 with 1 Axes>"
      ]
     },
     "metadata": {
      "needs_background": "light"
     },
     "output_type": "display_data"
    },
    {
     "data": {
      "text/plain": [
       "count    15366.000000\n",
       "mean        59.547182\n",
       "std         74.736833\n",
       "min          0.000000\n",
       "25%         12.000000\n",
       "50%         40.000000\n",
       "75%         80.000000\n",
       "max       1700.000000\n",
       "Name: seats, dtype: float64"
      ]
     },
     "execution_count": 12,
     "metadata": {},
     "output_type": "execute_result"
    }
   ],
   "source": [
    "plt.hist(rest_data['seats'], bins = 15, range = (0,53))\n",
    "plt.title('Гистограмма количества посадочных мест')\n",
    "plt.xlabel('Посадочные места')\n",
    "plt.ylabel('Количество ресторанов')\n",
    "plt.show()\n",
    "rest_data['seats'].describe()"
   ]
  },
  {
   "cell_type": "markdown",
   "metadata": {},
   "source": [
    "Посмотрим на наши \"нулевые\" по вместимости заведения"
   ]
  },
  {
   "cell_type": "code",
   "execution_count": 13,
   "metadata": {},
   "outputs": [
    {
     "data": {
      "text/html": [
       "<div>\n",
       "<style scoped>\n",
       "    .dataframe tbody tr th:only-of-type {\n",
       "        vertical-align: middle;\n",
       "    }\n",
       "\n",
       "    .dataframe tbody tr th {\n",
       "        vertical-align: top;\n",
       "    }\n",
       "\n",
       "    .dataframe thead th {\n",
       "        text-align: right;\n",
       "    }\n",
       "</style>\n",
       "<table border=\"1\" class=\"dataframe\">\n",
       "  <thead>\n",
       "    <tr style=\"text-align: right;\">\n",
       "      <th></th>\n",
       "      <th>id</th>\n",
       "      <th>object_name</th>\n",
       "      <th>chain</th>\n",
       "      <th>object_type</th>\n",
       "      <th>address</th>\n",
       "      <th>seats</th>\n",
       "    </tr>\n",
       "  </thead>\n",
       "  <tbody>\n",
       "    <tr>\n",
       "      <td>137</td>\n",
       "      <td>115498</td>\n",
       "      <td>пекарня &amp; донер</td>\n",
       "      <td>несетевой</td>\n",
       "      <td>закусочная</td>\n",
       "      <td>город москва, бутырская улица, дом 9, корпус 2</td>\n",
       "      <td>0</td>\n",
       "    </tr>\n",
       "    <tr>\n",
       "      <td>154</td>\n",
       "      <td>152556</td>\n",
       "      <td>шаурма в пите</td>\n",
       "      <td>несетевой</td>\n",
       "      <td>фастфуд</td>\n",
       "      <td>город москва, варшавское шоссе, дом 72, корпус 2</td>\n",
       "      <td>0</td>\n",
       "    </tr>\n",
       "    <tr>\n",
       "      <td>157</td>\n",
       "      <td>149568</td>\n",
       "      <td>суши</td>\n",
       "      <td>несетевой</td>\n",
       "      <td>фастфуд</td>\n",
       "      <td>город москва, улица маршала василевского, дом ...</td>\n",
       "      <td>0</td>\n",
       "    </tr>\n",
       "    <tr>\n",
       "      <td>190</td>\n",
       "      <td>126956</td>\n",
       "      <td>шаурма, куры-гриль</td>\n",
       "      <td>несетевой</td>\n",
       "      <td>фастфуд</td>\n",
       "      <td>город москва, 1-я владимирская улица, дом 21</td>\n",
       "      <td>0</td>\n",
       "    </tr>\n",
       "    <tr>\n",
       "      <td>195</td>\n",
       "      <td>149531</td>\n",
       "      <td>шаурма, куры-гриль</td>\n",
       "      <td>несетевой</td>\n",
       "      <td>фастфуд</td>\n",
       "      <td>город москва, 2-я владимирская улица, дом 44/10</td>\n",
       "      <td>0</td>\n",
       "    </tr>\n",
       "    <tr>\n",
       "      <td>198</td>\n",
       "      <td>124201</td>\n",
       "      <td>шаурма, выпечка</td>\n",
       "      <td>несетевой</td>\n",
       "      <td>фастфуд</td>\n",
       "      <td>город москва, 3-я владимирская улица, дом 27</td>\n",
       "      <td>0</td>\n",
       "    </tr>\n",
       "    <tr>\n",
       "      <td>206</td>\n",
       "      <td>150836</td>\n",
       "      <td>гбоу школа №1468</td>\n",
       "      <td>несетевой</td>\n",
       "      <td>столовая</td>\n",
       "      <td>город москва, волгоградский проспект, дом 17, ...</td>\n",
       "      <td>0</td>\n",
       "    </tr>\n",
       "    <tr>\n",
       "      <td>219</td>\n",
       "      <td>156226</td>\n",
       "      <td>суши-шоп</td>\n",
       "      <td>несетевой</td>\n",
       "      <td>закусочная</td>\n",
       "      <td>город москва, волоколамское шоссе, дом 92</td>\n",
       "      <td>0</td>\n",
       "    </tr>\n",
       "    <tr>\n",
       "      <td>240</td>\n",
       "      <td>154738</td>\n",
       "      <td>пекарня</td>\n",
       "      <td>несетевой</td>\n",
       "      <td>фастфуд</td>\n",
       "      <td>город москва, улица гастелло, дом 37</td>\n",
       "      <td>0</td>\n",
       "    </tr>\n",
       "    <tr>\n",
       "      <td>278</td>\n",
       "      <td>25742</td>\n",
       "      <td>бистро</td>\n",
       "      <td>несетевой</td>\n",
       "      <td>фастфуд</td>\n",
       "      <td>город москва, тверская улица, дом 27, строение 1</td>\n",
       "      <td>0</td>\n",
       "    </tr>\n",
       "  </tbody>\n",
       "</table>\n",
       "</div>"
      ],
      "text/plain": [
       "         id         object_name      chain object_type  \\\n",
       "137  115498     пекарня & донер  несетевой  закусочная   \n",
       "154  152556       шаурма в пите  несетевой     фастфуд   \n",
       "157  149568                суши  несетевой     фастфуд   \n",
       "190  126956  шаурма, куры-гриль  несетевой     фастфуд   \n",
       "195  149531  шаурма, куры-гриль  несетевой     фастфуд   \n",
       "198  124201     шаурма, выпечка  несетевой     фастфуд   \n",
       "206  150836    гбоу школа №1468  несетевой    столовая   \n",
       "219  156226            суши-шоп  несетевой  закусочная   \n",
       "240  154738             пекарня  несетевой     фастфуд   \n",
       "278   25742              бистро  несетевой     фастфуд   \n",
       "\n",
       "                                               address  seats  \n",
       "137     город москва, бутырская улица, дом 9, корпус 2      0  \n",
       "154   город москва, варшавское шоссе, дом 72, корпус 2      0  \n",
       "157  город москва, улица маршала василевского, дом ...      0  \n",
       "190       город москва, 1-я владимирская улица, дом 21      0  \n",
       "195    город москва, 2-я владимирская улица, дом 44/10      0  \n",
       "198       город москва, 3-я владимирская улица, дом 27      0  \n",
       "206  город москва, волгоградский проспект, дом 17, ...      0  \n",
       "219          город москва, волоколамское шоссе, дом 92      0  \n",
       "240               город москва, улица гастелло, дом 37      0  \n",
       "278   город москва, тверская улица, дом 27, строение 1      0  "
      ]
     },
     "metadata": {},
     "output_type": "display_data"
    }
   ],
   "source": [
    "display(rest_data.query('seats == 0').head(10))"
   ]
  },
  {
   "cell_type": "markdown",
   "metadata": {},
   "source": [
    "Эх, куда же мы без шаурмы. Как и в жизни, в аналитике не можем от неё отказаться. Может ли робот сделать такую же вкусную  и опасную шаурму как на площади 3 вокзалов? А написать симфонию?"
   ]
  },
  {
   "cell_type": "markdown",
   "metadata": {},
   "source": [
    "Соберем столбец `duplicates`, в котором соберем значения из `object_name`, `address` и `seats` (предварительно переведенный в формат `str`.  \n",
    "\n",
    "Затем посчитаем количество дубликатов и удалим эти строки"
   ]
  },
  {
   "cell_type": "code",
   "execution_count": 14,
   "metadata": {},
   "outputs": [
    {
     "name": "stdout",
     "output_type": "stream",
     "text": [
      "Количество неполных дубликатов (без столбца id): 225\n"
     ]
    },
    {
     "data": {
      "text/html": [
       "<div>\n",
       "<style scoped>\n",
       "    .dataframe tbody tr th:only-of-type {\n",
       "        vertical-align: middle;\n",
       "    }\n",
       "\n",
       "    .dataframe tbody tr th {\n",
       "        vertical-align: top;\n",
       "    }\n",
       "\n",
       "    .dataframe thead th {\n",
       "        text-align: right;\n",
       "    }\n",
       "</style>\n",
       "<table border=\"1\" class=\"dataframe\">\n",
       "  <thead>\n",
       "    <tr style=\"text-align: right;\">\n",
       "      <th></th>\n",
       "      <th>id</th>\n",
       "      <th>object_name</th>\n",
       "      <th>chain</th>\n",
       "      <th>object_type</th>\n",
       "      <th>address</th>\n",
       "      <th>seats</th>\n",
       "      <th>duplicates</th>\n",
       "    </tr>\n",
       "  </thead>\n",
       "  <tbody>\n",
       "    <tr>\n",
       "      <td>0</td>\n",
       "      <td>151635</td>\n",
       "      <td>сметана</td>\n",
       "      <td>несетевой</td>\n",
       "      <td>кафе</td>\n",
       "      <td>город москва, улица егора абакумова, дом 9</td>\n",
       "      <td>48</td>\n",
       "      <td>сметанагород москва, улица егора абакумова, до...</td>\n",
       "    </tr>\n",
       "    <tr>\n",
       "      <td>1</td>\n",
       "      <td>77874</td>\n",
       "      <td>родник</td>\n",
       "      <td>несетевой</td>\n",
       "      <td>кафе</td>\n",
       "      <td>город москва, улица талалихина, дом 2/1, корпус 1</td>\n",
       "      <td>35</td>\n",
       "      <td>родникгород москва, улица талалихина, дом 2/1,...</td>\n",
       "    </tr>\n",
       "    <tr>\n",
       "      <td>2</td>\n",
       "      <td>24309</td>\n",
       "      <td>кафе «академия»</td>\n",
       "      <td>несетевой</td>\n",
       "      <td>кафе</td>\n",
       "      <td>город москва, абельмановская улица, дом 6</td>\n",
       "      <td>95</td>\n",
       "      <td>кафе «академия»город москва, абельмановская ул...</td>\n",
       "    </tr>\n",
       "    <tr>\n",
       "      <td>3</td>\n",
       "      <td>21894</td>\n",
       "      <td>пиццетория</td>\n",
       "      <td>сетевой</td>\n",
       "      <td>кафе</td>\n",
       "      <td>город москва, абрамцевская улица, дом 1</td>\n",
       "      <td>40</td>\n",
       "      <td>пиццеториягород москва, абрамцевская улица, до...</td>\n",
       "    </tr>\n",
       "    <tr>\n",
       "      <td>4</td>\n",
       "      <td>119365</td>\n",
       "      <td>кафе «вишневая метель»</td>\n",
       "      <td>несетевой</td>\n",
       "      <td>кафе</td>\n",
       "      <td>город москва, абрамцевская улица, дом 9, корпус 1</td>\n",
       "      <td>50</td>\n",
       "      <td>кафе «вишневая метель»город москва, абрамцевск...</td>\n",
       "    </tr>\n",
       "  </tbody>\n",
       "</table>\n",
       "</div>"
      ],
      "text/plain": [
       "       id             object_name      chain object_type  \\\n",
       "0  151635                 сметана  несетевой        кафе   \n",
       "1   77874                  родник  несетевой        кафе   \n",
       "2   24309         кафе «академия»  несетевой        кафе   \n",
       "3   21894              пиццетория    сетевой        кафе   \n",
       "4  119365  кафе «вишневая метель»  несетевой        кафе   \n",
       "\n",
       "                                             address  seats  \\\n",
       "0         город москва, улица егора абакумова, дом 9     48   \n",
       "1  город москва, улица талалихина, дом 2/1, корпус 1     35   \n",
       "2          город москва, абельмановская улица, дом 6     95   \n",
       "3            город москва, абрамцевская улица, дом 1     40   \n",
       "4  город москва, абрамцевская улица, дом 9, корпус 1     50   \n",
       "\n",
       "                                          duplicates  \n",
       "0  сметанагород москва, улица егора абакумова, до...  \n",
       "1  родникгород москва, улица талалихина, дом 2/1,...  \n",
       "2  кафе «академия»город москва, абельмановская ул...  \n",
       "3  пиццеториягород москва, абрамцевская улица, до...  \n",
       "4  кафе «вишневая метель»город москва, абрамцевск...  "
      ]
     },
     "execution_count": 14,
     "metadata": {},
     "output_type": "execute_result"
    }
   ],
   "source": [
    "rest_data['duplicates'] = rest_data['object_name'] + rest_data['address'] + str(rest_data['seats'])\n",
    "print('Количество неполных дубликатов (без столбца id):', rest_data['duplicates'].duplicated().sum())\n",
    "rest_data['duplicates'].drop_duplicates()\n",
    "rest_data.head(5)\n"
   ]
  },
  {
   "cell_type": "markdown",
   "metadata": {},
   "source": [
    "Своё очищающее дело столбец `duplicates` сделал, можем его удалить"
   ]
  },
  {
   "cell_type": "code",
   "execution_count": 15,
   "metadata": {},
   "outputs": [
    {
     "data": {
      "text/html": [
       "<div>\n",
       "<style scoped>\n",
       "    .dataframe tbody tr th:only-of-type {\n",
       "        vertical-align: middle;\n",
       "    }\n",
       "\n",
       "    .dataframe tbody tr th {\n",
       "        vertical-align: top;\n",
       "    }\n",
       "\n",
       "    .dataframe thead th {\n",
       "        text-align: right;\n",
       "    }\n",
       "</style>\n",
       "<table border=\"1\" class=\"dataframe\">\n",
       "  <thead>\n",
       "    <tr style=\"text-align: right;\">\n",
       "      <th></th>\n",
       "      <th>id</th>\n",
       "      <th>object_name</th>\n",
       "      <th>chain</th>\n",
       "      <th>object_type</th>\n",
       "      <th>address</th>\n",
       "      <th>seats</th>\n",
       "    </tr>\n",
       "  </thead>\n",
       "  <tbody>\n",
       "    <tr>\n",
       "      <td>0</td>\n",
       "      <td>151635</td>\n",
       "      <td>сметана</td>\n",
       "      <td>несетевой</td>\n",
       "      <td>кафе</td>\n",
       "      <td>город москва, улица егора абакумова, дом 9</td>\n",
       "      <td>48</td>\n",
       "    </tr>\n",
       "    <tr>\n",
       "      <td>1</td>\n",
       "      <td>77874</td>\n",
       "      <td>родник</td>\n",
       "      <td>несетевой</td>\n",
       "      <td>кафе</td>\n",
       "      <td>город москва, улица талалихина, дом 2/1, корпус 1</td>\n",
       "      <td>35</td>\n",
       "    </tr>\n",
       "    <tr>\n",
       "      <td>2</td>\n",
       "      <td>24309</td>\n",
       "      <td>кафе «академия»</td>\n",
       "      <td>несетевой</td>\n",
       "      <td>кафе</td>\n",
       "      <td>город москва, абельмановская улица, дом 6</td>\n",
       "      <td>95</td>\n",
       "    </tr>\n",
       "    <tr>\n",
       "      <td>3</td>\n",
       "      <td>21894</td>\n",
       "      <td>пиццетория</td>\n",
       "      <td>сетевой</td>\n",
       "      <td>кафе</td>\n",
       "      <td>город москва, абрамцевская улица, дом 1</td>\n",
       "      <td>40</td>\n",
       "    </tr>\n",
       "    <tr>\n",
       "      <td>4</td>\n",
       "      <td>119365</td>\n",
       "      <td>кафе «вишневая метель»</td>\n",
       "      <td>несетевой</td>\n",
       "      <td>кафе</td>\n",
       "      <td>город москва, абрамцевская улица, дом 9, корпус 1</td>\n",
       "      <td>50</td>\n",
       "    </tr>\n",
       "    <tr>\n",
       "      <td>5</td>\n",
       "      <td>27429</td>\n",
       "      <td>стол. при гоу сош № 1051</td>\n",
       "      <td>несетевой</td>\n",
       "      <td>столовая</td>\n",
       "      <td>город москва, абрамцевская улица, дом 15, корп...</td>\n",
       "      <td>240</td>\n",
       "    </tr>\n",
       "    <tr>\n",
       "      <td>6</td>\n",
       "      <td>148815</td>\n",
       "      <td>брусника</td>\n",
       "      <td>сетевой</td>\n",
       "      <td>кафе</td>\n",
       "      <td>город москва, переулок сивцев вражек, дом 6/2</td>\n",
       "      <td>10</td>\n",
       "    </tr>\n",
       "    <tr>\n",
       "      <td>7</td>\n",
       "      <td>20957</td>\n",
       "      <td>буфет мтуси</td>\n",
       "      <td>несетевой</td>\n",
       "      <td>столовая</td>\n",
       "      <td>город москва, авиамоторная улица, дом 8, строе...</td>\n",
       "      <td>90</td>\n",
       "    </tr>\n",
       "    <tr>\n",
       "      <td>8</td>\n",
       "      <td>20958</td>\n",
       "      <td>кпф семья-1</td>\n",
       "      <td>несетевой</td>\n",
       "      <td>столовая</td>\n",
       "      <td>город москва, авиамоторная улица, дом 8, строе...</td>\n",
       "      <td>150</td>\n",
       "    </tr>\n",
       "    <tr>\n",
       "      <td>9</td>\n",
       "      <td>28858</td>\n",
       "      <td>столовая мтуси</td>\n",
       "      <td>несетевой</td>\n",
       "      <td>столовая</td>\n",
       "      <td>город москва, авиамоторная улица, дом 8, строе...</td>\n",
       "      <td>120</td>\n",
       "    </tr>\n",
       "    <tr>\n",
       "      <td>10</td>\n",
       "      <td>148595</td>\n",
       "      <td>пекарня 24</td>\n",
       "      <td>несетевой</td>\n",
       "      <td>закусочная</td>\n",
       "      <td>город москва, авиамоторная улица, дом 47</td>\n",
       "      <td>5</td>\n",
       "    </tr>\n",
       "    <tr>\n",
       "      <td>11</td>\n",
       "      <td>23394</td>\n",
       "      <td>гогиели</td>\n",
       "      <td>несетевой</td>\n",
       "      <td>кафе</td>\n",
       "      <td>город москва, авиамоторная улица, дом 49/1</td>\n",
       "      <td>24</td>\n",
       "    </tr>\n",
       "    <tr>\n",
       "      <td>12</td>\n",
       "      <td>28582</td>\n",
       "      <td>школа 735</td>\n",
       "      <td>несетевой</td>\n",
       "      <td>столовая</td>\n",
       "      <td>город москва, авиамоторная улица, дом 51</td>\n",
       "      <td>140</td>\n",
       "    </tr>\n",
       "    <tr>\n",
       "      <td>13</td>\n",
       "      <td>22579</td>\n",
       "      <td>алло пицца</td>\n",
       "      <td>сетевой</td>\n",
       "      <td>кафе</td>\n",
       "      <td>город москва, улица авиаторов, дом 14</td>\n",
       "      <td>32</td>\n",
       "    </tr>\n",
       "    <tr>\n",
       "      <td>14</td>\n",
       "      <td>23670</td>\n",
       "      <td>гимназия 1542</td>\n",
       "      <td>несетевой</td>\n",
       "      <td>столовая</td>\n",
       "      <td>город москва, улица авиаторов, дом 16</td>\n",
       "      <td>270</td>\n",
       "    </tr>\n",
       "  </tbody>\n",
       "</table>\n",
       "</div>"
      ],
      "text/plain": [
       "        id               object_name      chain object_type  \\\n",
       "0   151635                   сметана  несетевой        кафе   \n",
       "1    77874                    родник  несетевой        кафе   \n",
       "2    24309           кафе «академия»  несетевой        кафе   \n",
       "3    21894                пиццетория    сетевой        кафе   \n",
       "4   119365    кафе «вишневая метель»  несетевой        кафе   \n",
       "5    27429  стол. при гоу сош № 1051  несетевой    столовая   \n",
       "6   148815                  брусника    сетевой        кафе   \n",
       "7    20957               буфет мтуси  несетевой    столовая   \n",
       "8    20958               кпф семья-1  несетевой    столовая   \n",
       "9    28858            столовая мтуси  несетевой    столовая   \n",
       "10  148595                пекарня 24  несетевой  закусочная   \n",
       "11   23394                   гогиели  несетевой        кафе   \n",
       "12   28582                 школа 735  несетевой    столовая   \n",
       "13   22579                алло пицца    сетевой        кафе   \n",
       "14   23670             гимназия 1542  несетевой    столовая   \n",
       "\n",
       "                                              address  seats  \n",
       "0          город москва, улица егора абакумова, дом 9     48  \n",
       "1   город москва, улица талалихина, дом 2/1, корпус 1     35  \n",
       "2           город москва, абельмановская улица, дом 6     95  \n",
       "3             город москва, абрамцевская улица, дом 1     40  \n",
       "4   город москва, абрамцевская улица, дом 9, корпус 1     50  \n",
       "5   город москва, абрамцевская улица, дом 15, корп...    240  \n",
       "6       город москва, переулок сивцев вражек, дом 6/2     10  \n",
       "7   город москва, авиамоторная улица, дом 8, строе...     90  \n",
       "8   город москва, авиамоторная улица, дом 8, строе...    150  \n",
       "9   город москва, авиамоторная улица, дом 8, строе...    120  \n",
       "10           город москва, авиамоторная улица, дом 47      5  \n",
       "11         город москва, авиамоторная улица, дом 49/1     24  \n",
       "12           город москва, авиамоторная улица, дом 51    140  \n",
       "13              город москва, улица авиаторов, дом 14     32  \n",
       "14              город москва, улица авиаторов, дом 16    270  "
      ]
     },
     "execution_count": 15,
     "metadata": {},
     "output_type": "execute_result"
    }
   ],
   "source": [
    "rest_data.drop(['duplicates'], axis = 'columns', inplace = True)\n",
    "rest_data.head(15)"
   ]
  },
  {
   "cell_type": "markdown",
   "metadata": {},
   "source": [
    "### Вывод <a id=\"step2.1\"></a>   \n",
    "</div>  \n",
    "\n",
    "- В датасете не обнаружено дубликатов и пропущенных значений.  \n",
    "\n",
    "- Уменьшили \"эмоциональность\", понизив её до нижнего регистра в части столбцов.  \n",
    "\n",
    "- Проверили выбросы в количестве посадочных мест и отметили их влияние на среднее значение. \n",
    "  \n",
    "- Немного переименовали названия типов заведения, чтобы читать данные было проще.\n",
    "\n",
    "- Разобрались с неполными дубликатами, они больше не будут портить наш датасет. \n",
    "\n",
    "Можем двигаться дальше, непосредственно к аналитике\n"
   ]
  },
  {
   "cell_type": "markdown",
   "metadata": {},
   "source": [
    "### Шаг 3. Анализ данных <a id=\"step3\"></a>   \n",
    "</div>  "
   ]
  },
  {
   "cell_type": "markdown",
   "metadata": {},
   "source": [
    "### Cоотношение видов объектов общественного питания по количеству <a id=\"step3.1\"></a>   \n",
    "</div>  "
   ]
  },
  {
   "cell_type": "markdown",
   "metadata": {},
   "source": [
    "Сгруппируем наш датасет по объектам и построим график количества объектов по типу"
   ]
  },
  {
   "cell_type": "code",
   "execution_count": 16,
   "metadata": {},
   "outputs": [
    {
     "data": {
      "image/png": "[encoded data removed]",
      "text/plain": [
       "<Figure size 432x288 with 1 Axes>"
      ]
     },
     "metadata": {
      "needs_background": "light"
     },
     "output_type": "display_data"
    }
   ],
   "source": [
    "rest_data_type = rest_data.groupby('object_type').count().reset_index()\n",
    "ax = rest_data_type.set_index('object_type').sort_values('seats', ascending = False).plot(kind = 'bar', color = 'green')\n",
    "ax.set_title('Количество объектов по типу')\n",
    "ax.set_xlabel('Тип объектов')\n",
    "ax.set_ylabel('Количество объектов')\n",
    "ax.legend('')\n",
    "plt.xticks(rotation = 45)\n",
    "plt.show()\n"
   ]
  },
  {
   "cell_type": "code",
   "execution_count": 17,
   "metadata": {},
   "outputs": [
    {
     "data": {
      "text/plain": [
       "object_type\n",
       "кафе          6099\n",
       "столовая      2587\n",
       "ресторан      2285\n",
       "фастфуд       1923\n",
       "бар            856\n",
       "буфет          585\n",
       "кафетерий      398\n",
       "закусочная     360\n",
       "кулинария      273\n",
       "Name: object_name, dtype: int64"
      ]
     },
     "metadata": {},
     "output_type": "display_data"
    }
   ],
   "source": [
    "display(rest_data.groupby('object_type')['object_name'].count().sort_values(ascending = False))"
   ]
  },
  {
   "cell_type": "markdown",
   "metadata": {},
   "source": [
    "Как мы видим, абсолютный лидер - это **кафе**. Более чем в два раза от данного типа отстают **фастфуды, рестораны и столовые**. Все остальные - ещё дальше. "
   ]
  },
  {
   "cell_type": "markdown",
   "metadata": {},
   "source": [
    "### Cоотношение сетевых и несетевых заведений по количеству <a id=\"step3.2\"></a>   \n",
    "</div>  "
   ]
  },
  {
   "cell_type": "markdown",
   "metadata": {},
   "source": [
    "Теперь сгруппируем нашу таблицу по категории `chain`."
   ]
  },
  {
   "cell_type": "code",
   "execution_count": 18,
   "metadata": {
    "scrolled": true
   },
   "outputs": [
    {
     "data": {
      "text/plain": [
       "chain\n",
       "сетевой       2968\n",
       "несетевой    12398\n",
       "Name: object_name, dtype: int64"
      ]
     },
     "metadata": {},
     "output_type": "display_data"
    }
   ],
   "source": [
    "rest_data_chain = rest_data.groupby('chain')['object_name'].count().sort_values()\n",
    "display(rest_data_chain)"
   ]
  },
  {
   "cell_type": "code",
   "execution_count": 19,
   "metadata": {},
   "outputs": [
    {
     "data": {
      "image/png": "[encoded data removed]",
      "text/plain": [
       "<Figure size 432x288 with 1 Axes>"
      ]
     },
     "metadata": {
      "needs_background": "light"
     },
     "output_type": "display_data"
    }
   ],
   "source": [
    "ax = rest_data_chain.plot(kind = 'bar', color = 'orange')\n",
    "ax.set_title('Соотношение сетевых и несетевых объектов')\n",
    "ax.set_xlabel('Тип объекта')\n",
    "ax.set_ylabel('Количество объектов данного типа')\n",
    "ax.legend('')\n",
    "plt.xticks(rotation = 0)\n",
    "plt.show()"
   ]
  },
  {
   "cell_type": "markdown",
   "metadata": {},
   "source": [
    "Как мы видим, несетевых объектов в 4 раза больше, чем сетевых. "
   ]
  },
  {
   "cell_type": "markdown",
   "metadata": {},
   "source": [
    "### Для какого вида объекта общественного питания характерно сетевое распространение <a id=\"step3.3\"></a>   \n",
    "</div>  "
   ]
  },
  {
   "cell_type": "markdown",
   "metadata": {},
   "source": [
    "Для ответа на этот вопрос сделаем срез по сетевым магазинам. Выведем первые 5 строк новой таблицы"
   ]
  },
  {
   "cell_type": "code",
   "execution_count": 20,
   "metadata": {},
   "outputs": [
    {
     "data": {
      "text/html": [
       "<div>\n",
       "<style scoped>\n",
       "    .dataframe tbody tr th:only-of-type {\n",
       "        vertical-align: middle;\n",
       "    }\n",
       "\n",
       "    .dataframe tbody tr th {\n",
       "        vertical-align: top;\n",
       "    }\n",
       "\n",
       "    .dataframe thead th {\n",
       "        text-align: right;\n",
       "    }\n",
       "</style>\n",
       "<table border=\"1\" class=\"dataframe\">\n",
       "  <thead>\n",
       "    <tr style=\"text-align: right;\">\n",
       "      <th></th>\n",
       "      <th>id</th>\n",
       "      <th>object_name</th>\n",
       "      <th>chain</th>\n",
       "      <th>object_type</th>\n",
       "      <th>address</th>\n",
       "      <th>seats</th>\n",
       "    </tr>\n",
       "  </thead>\n",
       "  <tbody>\n",
       "    <tr>\n",
       "      <td>3</td>\n",
       "      <td>21894</td>\n",
       "      <td>пиццетория</td>\n",
       "      <td>сетевой</td>\n",
       "      <td>кафе</td>\n",
       "      <td>город москва, абрамцевская улица, дом 1</td>\n",
       "      <td>40</td>\n",
       "    </tr>\n",
       "    <tr>\n",
       "      <td>6</td>\n",
       "      <td>148815</td>\n",
       "      <td>брусника</td>\n",
       "      <td>сетевой</td>\n",
       "      <td>кафе</td>\n",
       "      <td>город москва, переулок сивцев вражек, дом 6/2</td>\n",
       "      <td>10</td>\n",
       "    </tr>\n",
       "    <tr>\n",
       "      <td>13</td>\n",
       "      <td>22579</td>\n",
       "      <td>алло пицца</td>\n",
       "      <td>сетевой</td>\n",
       "      <td>кафе</td>\n",
       "      <td>город москва, улица авиаторов, дом 14</td>\n",
       "      <td>32</td>\n",
       "    </tr>\n",
       "    <tr>\n",
       "      <td>16</td>\n",
       "      <td>144107</td>\n",
       "      <td>суши wok</td>\n",
       "      <td>сетевой</td>\n",
       "      <td>фастфуд</td>\n",
       "      <td>город москва, азовская улица, дом 3</td>\n",
       "      <td>7</td>\n",
       "    </tr>\n",
       "    <tr>\n",
       "      <td>18</td>\n",
       "      <td>58565</td>\n",
       "      <td>тануки</td>\n",
       "      <td>сетевой</td>\n",
       "      <td>ресторан</td>\n",
       "      <td>город москва, большая академическая улица, дом 65</td>\n",
       "      <td>160</td>\n",
       "    </tr>\n",
       "  </tbody>\n",
       "</table>\n",
       "</div>"
      ],
      "text/plain": [
       "        id object_name    chain object_type  \\\n",
       "3    21894  пиццетория  сетевой        кафе   \n",
       "6   148815    брусника  сетевой        кафе   \n",
       "13   22579  алло пицца  сетевой        кафе   \n",
       "16  144107    суши wok  сетевой     фастфуд   \n",
       "18   58565      тануки  сетевой    ресторан   \n",
       "\n",
       "                                              address  seats  \n",
       "3             город москва, абрамцевская улица, дом 1     40  \n",
       "6       город москва, переулок сивцев вражек, дом 6/2     10  \n",
       "13              город москва, улица авиаторов, дом 14     32  \n",
       "16                город москва, азовская улица, дом 3      7  \n",
       "18  город москва, большая академическая улица, дом 65    160  "
      ]
     },
     "metadata": {},
     "output_type": "display_data"
    }
   ],
   "source": [
    "rest_data_net = rest_data.query('chain == \"сетевой\"')\n",
    "display(rest_data_net.head(5))\n"
   ]
  },
  {
   "cell_type": "code",
   "execution_count": 21,
   "metadata": {},
   "outputs": [
    {
     "data": {
      "text/html": [
       "<div>\n",
       "<style scoped>\n",
       "    .dataframe tbody tr th:only-of-type {\n",
       "        vertical-align: middle;\n",
       "    }\n",
       "\n",
       "    .dataframe tbody tr th {\n",
       "        vertical-align: top;\n",
       "    }\n",
       "\n",
       "    .dataframe thead th {\n",
       "        text-align: right;\n",
       "    }\n",
       "</style>\n",
       "<table border=\"1\" class=\"dataframe\">\n",
       "  <thead>\n",
       "    <tr style=\"text-align: right;\">\n",
       "      <th></th>\n",
       "      <th>not_net</th>\n",
       "      <th>net</th>\n",
       "      <th>ratio</th>\n",
       "    </tr>\n",
       "    <tr>\n",
       "      <th>object_type</th>\n",
       "      <th></th>\n",
       "      <th></th>\n",
       "      <th></th>\n",
       "    </tr>\n",
       "  </thead>\n",
       "  <tbody>\n",
       "    <tr>\n",
       "      <td>столовая</td>\n",
       "      <td>2584</td>\n",
       "      <td>3</td>\n",
       "      <td>0.001</td>\n",
       "    </tr>\n",
       "    <tr>\n",
       "      <td>буфет</td>\n",
       "      <td>574</td>\n",
       "      <td>11</td>\n",
       "      <td>0.019</td>\n",
       "    </tr>\n",
       "    <tr>\n",
       "      <td>бар</td>\n",
       "      <td>819</td>\n",
       "      <td>37</td>\n",
       "      <td>0.043</td>\n",
       "    </tr>\n",
       "    <tr>\n",
       "      <td>кафетерий</td>\n",
       "      <td>346</td>\n",
       "      <td>52</td>\n",
       "      <td>0.131</td>\n",
       "    </tr>\n",
       "    <tr>\n",
       "      <td>закусочная</td>\n",
       "      <td>304</td>\n",
       "      <td>56</td>\n",
       "      <td>0.156</td>\n",
       "    </tr>\n",
       "    <tr>\n",
       "      <td>кафе</td>\n",
       "      <td>4703</td>\n",
       "      <td>1396</td>\n",
       "      <td>0.229</td>\n",
       "    </tr>\n",
       "    <tr>\n",
       "      <td>ресторан</td>\n",
       "      <td>1741</td>\n",
       "      <td>544</td>\n",
       "      <td>0.238</td>\n",
       "    </tr>\n",
       "    <tr>\n",
       "      <td>кулинария</td>\n",
       "      <td>195</td>\n",
       "      <td>78</td>\n",
       "      <td>0.286</td>\n",
       "    </tr>\n",
       "    <tr>\n",
       "      <td>фастфуд</td>\n",
       "      <td>1132</td>\n",
       "      <td>791</td>\n",
       "      <td>0.411</td>\n",
       "    </tr>\n",
       "  </tbody>\n",
       "</table>\n",
       "</div>"
      ],
      "text/plain": [
       "             not_net   net  ratio\n",
       "object_type                      \n",
       "столовая        2584     3  0.001\n",
       "буфет            574    11  0.019\n",
       "бар              819    37  0.043\n",
       "кафетерий        346    52  0.131\n",
       "закусочная       304    56  0.156\n",
       "кафе            4703  1396  0.229\n",
       "ресторан        1741   544  0.238\n",
       "кулинария        195    78  0.286\n",
       "фастфуд         1132   791  0.411"
      ]
     },
     "metadata": {},
     "output_type": "display_data"
    }
   ],
   "source": [
    "rest_data_chain_pivot = pd.pivot_table(rest_data, \n",
    "                                       index = ['object_type'], \n",
    "                                       values = ['object_name'],\n",
    "                                       columns = 'chain',\n",
    "                                       aggfunc = 'count')\n",
    "rest_data_chain_pivot.columns = ['not_net', 'net']\n",
    "rest_data_chain_pivot['ratio'] = rest_data_chain_pivot['net']/(rest_data_chain_pivot['net']+rest_data_chain_pivot['not_net'])\n",
    "rest_data_chain_pivot = rest_data_chain_pivot.sort_values('ratio').round(3)\n",
    "display(rest_data_chain_pivot)"
   ]
  },
  {
   "cell_type": "markdown",
   "metadata": {},
   "source": [
    "По аналогии с первым этапом шага, сгруппируем нашу новую таблицу и построим графики"
   ]
  },
  {
   "cell_type": "code",
   "execution_count": 22,
   "metadata": {},
   "outputs": [
    {
     "data": {
      "image/png": "[encoded data removed]",
      "text/plain": [
       "<Figure size 720x720 with 1 Axes>"
      ]
     },
     "metadata": {
      "needs_background": "light"
     },
     "output_type": "display_data"
    }
   ],
   "source": [
    "fig, ax = plt.subplots()\n",
    "ax = sns.barplot(data = rest_data_chain_pivot, x = rest_data_chain_pivot.index, y = 'ratio', palette = 'Set2')\n",
    "ax.set_title('Какое количество сетевых заведений от общего количества')\n",
    "ax.set_xlabel('Тип заведения')\n",
    "ax.set_ylabel('% сетевых')\n",
    "fig.set_figheight(10)\n",
    "fig.set_figwidth(10)\n",
    "plt.show()"
   ]
  },
  {
   "cell_type": "markdown",
   "metadata": {},
   "source": [
    "Сетевых **столовых** (как и **буфетов**) почти не обнаружено. Безусловно лидирует **фастфуд**. Что вполне логично - такого типа заведения чаще всего и бывают сетевыми. За ним следуют **кулинария, рестораны и кафы**.\n"
   ]
  },
  {
   "cell_type": "markdown",
   "metadata": {},
   "source": [
    "### Ответ на вопрос: что характерно для сетевых заведений: много заведений с небольшим числом посадочных мест в каждом или мало заведений с большим количеством посадочных мест? <a id=\"step3.4\"></a>   \n",
    "</div>  "
   ]
  },
  {
   "cell_type": "markdown",
   "metadata": {},
   "source": [
    "Для начала построим гистограмму распределения количества посадочных мест для сетевых заведений"
   ]
  },
  {
   "cell_type": "code",
   "execution_count": 23,
   "metadata": {},
   "outputs": [
    {
     "data": {
      "image/png": "[encoded data removed]",
      "text/plain": [
       "<Figure size 432x288 with 1 Axes>"
      ]
     },
     "metadata": {
      "needs_background": "light"
     },
     "output_type": "display_data"
    }
   ],
   "source": [
    "rest_data_net['seats'].hist(bins = 15)\n",
    "plt.title('Гистограмма распределенеия количества посадочных мест')\n",
    "plt.xlabel('Количество мест')\n",
    "plt.ylabel('Количество заведений')\n",
    "plt.show()"
   ]
  },
  {
   "cell_type": "markdown",
   "metadata": {},
   "source": [
    "Теперь построим ящик с усами и выведем значения методом `describe`"
   ]
  },
  {
   "cell_type": "code",
   "execution_count": 24,
   "metadata": {},
   "outputs": [
    {
     "data": {
      "image/png": "[encoded data removed]",
      "text/plain": [
       "<Figure size 432x288 with 1 Axes>"
      ]
     },
     "metadata": {
      "needs_background": "light"
     },
     "output_type": "display_data"
    },
    {
     "data": {
      "text/plain": [
       "count    2968.000000\n",
       "mean       52.919811\n",
       "std        57.140644\n",
       "min         0.000000\n",
       "25%        15.000000\n",
       "50%        40.000000\n",
       "75%        72.000000\n",
       "90%       120.000000\n",
       "max       580.000000\n",
       "Name: seats, dtype: float64"
      ]
     },
     "metadata": {},
     "output_type": "display_data"
    }
   ],
   "source": [
    "ax = sns.boxplot(x = rest_data_net['seats'])\n",
    "ax.set_title('Ящик с усамии количества мест для сетевых магазинов')\n",
    "ax.set_xlabel('Количество мест')\n",
    "plt.show()\n",
    "\n",
    "display(rest_data_net['seats'].describe([0.25, 0.5, 0.75, 0.9]))"
   ]
  },
  {
   "cell_type": "markdown",
   "metadata": {},
   "source": [
    "В целом, вопрос звучит достаточно странно, так как одно условие *много заведений с малым количеством мест* не противоречит другому условию *мало заведений с большим количеством мест*. И тот, и другой ответ может быть (и являются в данном случае) правильными. "
   ]
  },
  {
   "cell_type": "markdown",
   "metadata": {},
   "source": [
    "### Описание среднего количества посадочных мест для каждого вида объекта общественного питания. Ответ на вопрос: какой вид предоставляет в среднем самое большое количество посадочных мест <a id=\"step3.5\"></a>   \n",
    "</div>  "
   ]
  },
  {
   "cell_type": "markdown",
   "metadata": {},
   "source": [
    "Лучше всего нам для ответа на поставленный вопрос помогут ящики с усами и опять же метод `describe`"
   ]
  },
  {
   "cell_type": "code",
   "execution_count": 25,
   "metadata": {
    "scrolled": false
   },
   "outputs": [
    {
     "data": {
      "image/png": "[encoded data removed]",
      "text/plain": [
       "<Figure size 720x720 with 1 Axes>"
      ]
     },
     "metadata": {
      "needs_background": "light"
     },
     "output_type": "display_data"
    }
   ],
   "source": [
    "fig, ax = plt.subplots()\n",
    "ax = sns.boxplot(data = rest_data, \n",
    "                 x = 'seats', \n",
    "                 y = 'object_type', \n",
    "                 order = [\"кулинария\", \"кафетерий\", \"закусочная\", \"буфет\", \"кафе\", \"бар\", \"ресторан\", \"столовая\"], \n",
    "                 hue = 'chain', \n",
    "                 showfliers = False,\n",
    "                 palette = 'Set2')\n",
    "ax.set_title('Ящик с усамии для количества посадочных мест для каждого вида')\n",
    "ax.set_xlim(-10,400)\n",
    "ax.set_xlabel('Количество мест')\n",
    "ax.set_ylabel('Тип заведения')\n",
    "fig.set_figheight(10)\n",
    "fig.set_figwidth(10)\n",
    "plt.show()"
   ]
  },
  {
   "cell_type": "code",
   "execution_count": 26,
   "metadata": {},
   "outputs": [
    {
     "data": {
      "text/html": [
       "<div>\n",
       "<style scoped>\n",
       "    .dataframe tbody tr th:only-of-type {\n",
       "        vertical-align: middle;\n",
       "    }\n",
       "\n",
       "    .dataframe tbody tr th {\n",
       "        vertical-align: top;\n",
       "    }\n",
       "\n",
       "    .dataframe thead th {\n",
       "        text-align: right;\n",
       "    }\n",
       "</style>\n",
       "<table border=\"1\" class=\"dataframe\">\n",
       "  <thead>\n",
       "    <tr style=\"text-align: right;\">\n",
       "      <th></th>\n",
       "      <th>count</th>\n",
       "      <th>mean</th>\n",
       "      <th>std</th>\n",
       "      <th>min</th>\n",
       "      <th>25%</th>\n",
       "      <th>50%</th>\n",
       "      <th>75%</th>\n",
       "      <th>max</th>\n",
       "    </tr>\n",
       "    <tr>\n",
       "      <th>object_type</th>\n",
       "      <th></th>\n",
       "      <th></th>\n",
       "      <th></th>\n",
       "      <th></th>\n",
       "      <th></th>\n",
       "      <th></th>\n",
       "      <th></th>\n",
       "      <th></th>\n",
       "    </tr>\n",
       "  </thead>\n",
       "  <tbody>\n",
       "    <tr>\n",
       "      <td>столовая</td>\n",
       "      <td>2587.0</td>\n",
       "      <td>130.246618</td>\n",
       "      <td>95.179313</td>\n",
       "      <td>0.0</td>\n",
       "      <td>50.0</td>\n",
       "      <td>103.0</td>\n",
       "      <td>200.0</td>\n",
       "      <td>1400.0</td>\n",
       "    </tr>\n",
       "    <tr>\n",
       "      <td>ресторан</td>\n",
       "      <td>2285.0</td>\n",
       "      <td>96.834136</td>\n",
       "      <td>94.756542</td>\n",
       "      <td>0.0</td>\n",
       "      <td>46.0</td>\n",
       "      <td>80.0</td>\n",
       "      <td>114.0</td>\n",
       "      <td>1500.0</td>\n",
       "    </tr>\n",
       "    <tr>\n",
       "      <td>бар</td>\n",
       "      <td>856.0</td>\n",
       "      <td>43.494159</td>\n",
       "      <td>67.082876</td>\n",
       "      <td>0.0</td>\n",
       "      <td>20.0</td>\n",
       "      <td>35.0</td>\n",
       "      <td>50.0</td>\n",
       "      <td>1700.0</td>\n",
       "    </tr>\n",
       "    <tr>\n",
       "      <td>буфет</td>\n",
       "      <td>585.0</td>\n",
       "      <td>51.129915</td>\n",
       "      <td>56.331974</td>\n",
       "      <td>0.0</td>\n",
       "      <td>14.0</td>\n",
       "      <td>32.0</td>\n",
       "      <td>80.0</td>\n",
       "      <td>320.0</td>\n",
       "    </tr>\n",
       "    <tr>\n",
       "      <td>кафе</td>\n",
       "      <td>6099.0</td>\n",
       "      <td>39.716019</td>\n",
       "      <td>37.720947</td>\n",
       "      <td>0.0</td>\n",
       "      <td>15.0</td>\n",
       "      <td>30.0</td>\n",
       "      <td>50.0</td>\n",
       "      <td>533.0</td>\n",
       "    </tr>\n",
       "    <tr>\n",
       "      <td>кафетерий</td>\n",
       "      <td>398.0</td>\n",
       "      <td>9.123116</td>\n",
       "      <td>14.639150</td>\n",
       "      <td>0.0</td>\n",
       "      <td>0.0</td>\n",
       "      <td>6.0</td>\n",
       "      <td>12.0</td>\n",
       "      <td>200.0</td>\n",
       "    </tr>\n",
       "    <tr>\n",
       "      <td>фастфуд</td>\n",
       "      <td>1923.0</td>\n",
       "      <td>20.552262</td>\n",
       "      <td>38.366974</td>\n",
       "      <td>0.0</td>\n",
       "      <td>0.0</td>\n",
       "      <td>5.0</td>\n",
       "      <td>25.0</td>\n",
       "      <td>580.0</td>\n",
       "    </tr>\n",
       "    <tr>\n",
       "      <td>закусочная</td>\n",
       "      <td>360.0</td>\n",
       "      <td>7.608333</td>\n",
       "      <td>16.650912</td>\n",
       "      <td>0.0</td>\n",
       "      <td>0.0</td>\n",
       "      <td>0.0</td>\n",
       "      <td>10.0</td>\n",
       "      <td>216.0</td>\n",
       "    </tr>\n",
       "    <tr>\n",
       "      <td>кулинария</td>\n",
       "      <td>273.0</td>\n",
       "      <td>5.589744</td>\n",
       "      <td>9.872729</td>\n",
       "      <td>0.0</td>\n",
       "      <td>0.0</td>\n",
       "      <td>0.0</td>\n",
       "      <td>8.0</td>\n",
       "      <td>50.0</td>\n",
       "    </tr>\n",
       "  </tbody>\n",
       "</table>\n",
       "</div>"
      ],
      "text/plain": [
       "              count        mean        std  min   25%    50%    75%     max\n",
       "object_type                                                                \n",
       "столовая     2587.0  130.246618  95.179313  0.0  50.0  103.0  200.0  1400.0\n",
       "ресторан     2285.0   96.834136  94.756542  0.0  46.0   80.0  114.0  1500.0\n",
       "бар           856.0   43.494159  67.082876  0.0  20.0   35.0   50.0  1700.0\n",
       "буфет         585.0   51.129915  56.331974  0.0  14.0   32.0   80.0   320.0\n",
       "кафе         6099.0   39.716019  37.720947  0.0  15.0   30.0   50.0   533.0\n",
       "кафетерий     398.0    9.123116  14.639150  0.0   0.0    6.0   12.0   200.0\n",
       "фастфуд      1923.0   20.552262  38.366974  0.0   0.0    5.0   25.0   580.0\n",
       "закусочная    360.0    7.608333  16.650912  0.0   0.0    0.0   10.0   216.0\n",
       "кулинария     273.0    5.589744   9.872729  0.0   0.0    0.0    8.0    50.0"
      ]
     },
     "execution_count": 26,
     "metadata": {},
     "output_type": "execute_result"
    }
   ],
   "source": [
    "rest_data.groupby('object_type')['seats'].describe().sort_values(by = '50%', ascending = False)"
   ]
  },
  {
   "cell_type": "markdown",
   "metadata": {},
   "source": [
    "Как видно из графиков и из таблицы лучше всего в среднем с местами в столовых, за ними идут рестораны. Это подтверждается и тем, что столовые как раз-таки предназначены для обслуживания как можно большего числа людей в короткий промежуток времени.  \n",
    "\n",
    "\n",
    "Рестораны же действуют по другой логике: так как посетители проводят в них больше времени, то нужно и больше посадочных мест.  \n",
    "\n",
    "\n",
    "Фастфудам же сильно портит статистику заведения этого типа без столиков.  \n",
    "\n",
    "Кроме всего важного выше, было замечено интересное наблюдение. Для сетевых заведений любого типа характерна большая вместимость, чем для одиночных заведений. Единственный тип, для которого данный комментарий несправедлив - буфеты. В несетевых заведениях этого типа стараются не только угостить посетителей чем-нибудь вкусным, но и дают бОльшую возможность остановиться и отдохнуть от бешеного темпа Москвы. "
   ]
  },
  {
   "cell_type": "markdown",
   "metadata": {},
   "source": [
    "### Выделение в отдельный столбец информации об улице из столбца `address` <a id=\"step3.6\"></a>   \n",
    "</div>  "
   ]
  },
  {
   "cell_type": "markdown",
   "metadata": {},
   "source": [
    "Используя регулярные выражения и str.extract выделим из столбца 'address' название улицы"
   ]
  },
  {
   "cell_type": "code",
   "execution_count": 27,
   "metadata": {},
   "outputs": [],
   "source": [
    "rest_data['street'] = rest_data['address'].str.extract(',([0-9А-яё\\-\\s]+),')\n",
    "rest_data.loc[(rest_data['street'].isnull()), 'street'] = rest_data.loc[(rest_data['street'].isnull()), 'address'].str.extract('([0-9А-яё\\-\\s]+),')[0]\n"
   ]
  },
  {
   "cell_type": "markdown",
   "metadata": {},
   "source": [
    "Выведем 10 первых значений на экран"
   ]
  },
  {
   "cell_type": "code",
   "execution_count": 28,
   "metadata": {},
   "outputs": [
    {
     "data": {
      "text/html": [
       "<div>\n",
       "<style scoped>\n",
       "    .dataframe tbody tr th:only-of-type {\n",
       "        vertical-align: middle;\n",
       "    }\n",
       "\n",
       "    .dataframe tbody tr th {\n",
       "        vertical-align: top;\n",
       "    }\n",
       "\n",
       "    .dataframe thead th {\n",
       "        text-align: right;\n",
       "    }\n",
       "</style>\n",
       "<table border=\"1\" class=\"dataframe\">\n",
       "  <thead>\n",
       "    <tr style=\"text-align: right;\">\n",
       "      <th></th>\n",
       "      <th>id</th>\n",
       "      <th>object_name</th>\n",
       "      <th>chain</th>\n",
       "      <th>object_type</th>\n",
       "      <th>address</th>\n",
       "      <th>seats</th>\n",
       "      <th>street</th>\n",
       "    </tr>\n",
       "  </thead>\n",
       "  <tbody>\n",
       "    <tr>\n",
       "      <td>0</td>\n",
       "      <td>151635</td>\n",
       "      <td>сметана</td>\n",
       "      <td>несетевой</td>\n",
       "      <td>кафе</td>\n",
       "      <td>город москва, улица егора абакумова, дом 9</td>\n",
       "      <td>48</td>\n",
       "      <td>улица егора абакумова</td>\n",
       "    </tr>\n",
       "    <tr>\n",
       "      <td>1</td>\n",
       "      <td>77874</td>\n",
       "      <td>родник</td>\n",
       "      <td>несетевой</td>\n",
       "      <td>кафе</td>\n",
       "      <td>город москва, улица талалихина, дом 2/1, корпус 1</td>\n",
       "      <td>35</td>\n",
       "      <td>улица талалихина</td>\n",
       "    </tr>\n",
       "    <tr>\n",
       "      <td>2</td>\n",
       "      <td>24309</td>\n",
       "      <td>кафе «академия»</td>\n",
       "      <td>несетевой</td>\n",
       "      <td>кафе</td>\n",
       "      <td>город москва, абельмановская улица, дом 6</td>\n",
       "      <td>95</td>\n",
       "      <td>абельмановская улица</td>\n",
       "    </tr>\n",
       "    <tr>\n",
       "      <td>3</td>\n",
       "      <td>21894</td>\n",
       "      <td>пиццетория</td>\n",
       "      <td>сетевой</td>\n",
       "      <td>кафе</td>\n",
       "      <td>город москва, абрамцевская улица, дом 1</td>\n",
       "      <td>40</td>\n",
       "      <td>абрамцевская улица</td>\n",
       "    </tr>\n",
       "    <tr>\n",
       "      <td>4</td>\n",
       "      <td>119365</td>\n",
       "      <td>кафе «вишневая метель»</td>\n",
       "      <td>несетевой</td>\n",
       "      <td>кафе</td>\n",
       "      <td>город москва, абрамцевская улица, дом 9, корпус 1</td>\n",
       "      <td>50</td>\n",
       "      <td>абрамцевская улица</td>\n",
       "    </tr>\n",
       "    <tr>\n",
       "      <td>5</td>\n",
       "      <td>27429</td>\n",
       "      <td>стол. при гоу сош № 1051</td>\n",
       "      <td>несетевой</td>\n",
       "      <td>столовая</td>\n",
       "      <td>город москва, абрамцевская улица, дом 15, корп...</td>\n",
       "      <td>240</td>\n",
       "      <td>абрамцевская улица</td>\n",
       "    </tr>\n",
       "    <tr>\n",
       "      <td>6</td>\n",
       "      <td>148815</td>\n",
       "      <td>брусника</td>\n",
       "      <td>сетевой</td>\n",
       "      <td>кафе</td>\n",
       "      <td>город москва, переулок сивцев вражек, дом 6/2</td>\n",
       "      <td>10</td>\n",
       "      <td>переулок сивцев вражек</td>\n",
       "    </tr>\n",
       "    <tr>\n",
       "      <td>7</td>\n",
       "      <td>20957</td>\n",
       "      <td>буфет мтуси</td>\n",
       "      <td>несетевой</td>\n",
       "      <td>столовая</td>\n",
       "      <td>город москва, авиамоторная улица, дом 8, строе...</td>\n",
       "      <td>90</td>\n",
       "      <td>авиамоторная улица</td>\n",
       "    </tr>\n",
       "    <tr>\n",
       "      <td>8</td>\n",
       "      <td>20958</td>\n",
       "      <td>кпф семья-1</td>\n",
       "      <td>несетевой</td>\n",
       "      <td>столовая</td>\n",
       "      <td>город москва, авиамоторная улица, дом 8, строе...</td>\n",
       "      <td>150</td>\n",
       "      <td>авиамоторная улица</td>\n",
       "    </tr>\n",
       "    <tr>\n",
       "      <td>9</td>\n",
       "      <td>28858</td>\n",
       "      <td>столовая мтуси</td>\n",
       "      <td>несетевой</td>\n",
       "      <td>столовая</td>\n",
       "      <td>город москва, авиамоторная улица, дом 8, строе...</td>\n",
       "      <td>120</td>\n",
       "      <td>авиамоторная улица</td>\n",
       "    </tr>\n",
       "  </tbody>\n",
       "</table>\n",
       "</div>"
      ],
      "text/plain": [
       "       id               object_name      chain object_type  \\\n",
       "0  151635                   сметана  несетевой        кафе   \n",
       "1   77874                    родник  несетевой        кафе   \n",
       "2   24309           кафе «академия»  несетевой        кафе   \n",
       "3   21894                пиццетория    сетевой        кафе   \n",
       "4  119365    кафе «вишневая метель»  несетевой        кафе   \n",
       "5   27429  стол. при гоу сош № 1051  несетевой    столовая   \n",
       "6  148815                  брусника    сетевой        кафе   \n",
       "7   20957               буфет мтуси  несетевой    столовая   \n",
       "8   20958               кпф семья-1  несетевой    столовая   \n",
       "9   28858            столовая мтуси  несетевой    столовая   \n",
       "\n",
       "                                             address  seats  \\\n",
       "0         город москва, улица егора абакумова, дом 9     48   \n",
       "1  город москва, улица талалихина, дом 2/1, корпус 1     35   \n",
       "2          город москва, абельмановская улица, дом 6     95   \n",
       "3            город москва, абрамцевская улица, дом 1     40   \n",
       "4  город москва, абрамцевская улица, дом 9, корпус 1     50   \n",
       "5  город москва, абрамцевская улица, дом 15, корп...    240   \n",
       "6      город москва, переулок сивцев вражек, дом 6/2     10   \n",
       "7  город москва, авиамоторная улица, дом 8, строе...     90   \n",
       "8  город москва, авиамоторная улица, дом 8, строе...    150   \n",
       "9  город москва, авиамоторная улица, дом 8, строе...    120   \n",
       "\n",
       "                    street  \n",
       "0    улица егора абакумова  \n",
       "1         улица талалихина  \n",
       "2     абельмановская улица  \n",
       "3       абрамцевская улица  \n",
       "4       абрамцевская улица  \n",
       "5       абрамцевская улица  \n",
       "6   переулок сивцев вражек  \n",
       "7       авиамоторная улица  \n",
       "8       авиамоторная улица  \n",
       "9       авиамоторная улица  "
      ]
     },
     "metadata": {},
     "output_type": "display_data"
    }
   ],
   "source": [
    "display(rest_data.head(10))"
   ]
  },
  {
   "cell_type": "markdown",
   "metadata": {},
   "source": [
    "Проверим, не пропал ли кто-нибудь"
   ]
  },
  {
   "cell_type": "code",
   "execution_count": 29,
   "metadata": {},
   "outputs": [
    {
     "data": {
      "text/plain": [
       "0"
      ]
     },
     "execution_count": 29,
     "metadata": {},
     "output_type": "execute_result"
    }
   ],
   "source": [
    "rest_data['street'].isnull().sum()"
   ]
  },
  {
   "cell_type": "markdown",
   "metadata": {},
   "source": [
    "Все улицы на месте, может двигаться дальше"
   ]
  },
  {
   "cell_type": "markdown",
   "metadata": {},
   "source": [
    "### Построим график топ-10 улиц по количеству объектов общественного питания. Используем внешнюю информацию и дадим ответ на вопрос: в каких районах Москвы находятся эти улицы? <a id=\"step3.7\"></a>   \n",
    "</div>  "
   ]
  },
  {
   "cell_type": "markdown",
   "metadata": {},
   "source": [
    "В качестве внешней информации будем использовать список всех улиц Москвы с сайта МосГаз: `https://hubofdata.ru/dataset/mosgaz-contacts/resource/92b3edb3-f4c8-4562-9338-264a666d0965`"
   ]
  },
  {
   "cell_type": "markdown",
   "metadata": {},
   "source": [
    "Используя библиотеки `BytesIO` и `requests`, а также ресурс *Google Sheets* добавим внешний датасет к нам. Выведем первые 5 районов"
   ]
  },
  {
   "cell_type": "code",
   "execution_count": 30,
   "metadata": {},
   "outputs": [
    {
     "data": {
      "text/html": [
       "<div>\n",
       "<style scoped>\n",
       "    .dataframe tbody tr th:only-of-type {\n",
       "        vertical-align: middle;\n",
       "    }\n",
       "\n",
       "    .dataframe tbody tr th {\n",
       "        vertical-align: top;\n",
       "    }\n",
       "\n",
       "    .dataframe thead th {\n",
       "        text-align: right;\n",
       "    }\n",
       "</style>\n",
       "<table border=\"1\" class=\"dataframe\">\n",
       "  <thead>\n",
       "    <tr style=\"text-align: right;\">\n",
       "      <th></th>\n",
       "      <th>street</th>\n",
       "      <th>areaid</th>\n",
       "      <th>okrug</th>\n",
       "      <th>area</th>\n",
       "    </tr>\n",
       "  </thead>\n",
       "  <tbody>\n",
       "    <tr>\n",
       "      <td>0</td>\n",
       "      <td>Выставочный переулок</td>\n",
       "      <td>17</td>\n",
       "      <td>ЦАО</td>\n",
       "      <td>Пресненский район</td>\n",
       "    </tr>\n",
       "    <tr>\n",
       "      <td>1</td>\n",
       "      <td>улица Гашека</td>\n",
       "      <td>17</td>\n",
       "      <td>ЦАО</td>\n",
       "      <td>Пресненский район</td>\n",
       "    </tr>\n",
       "    <tr>\n",
       "      <td>2</td>\n",
       "      <td>Большая Никитская улица</td>\n",
       "      <td>17</td>\n",
       "      <td>ЦАО</td>\n",
       "      <td>Пресненский район</td>\n",
       "    </tr>\n",
       "    <tr>\n",
       "      <td>3</td>\n",
       "      <td>Глубокий переулок</td>\n",
       "      <td>17</td>\n",
       "      <td>ЦАО</td>\n",
       "      <td>Пресненский район</td>\n",
       "    </tr>\n",
       "    <tr>\n",
       "      <td>4</td>\n",
       "      <td>Большой Гнездниковский переулок</td>\n",
       "      <td>17</td>\n",
       "      <td>ЦАО</td>\n",
       "      <td>Пресненский район</td>\n",
       "    </tr>\n",
       "  </tbody>\n",
       "</table>\n",
       "</div>"
      ],
      "text/plain": [
       "                            street  areaid okrug               area\n",
       "0             Выставочный переулок      17   ЦАО  Пресненский район\n",
       "1                     улица Гашека      17   ЦАО  Пресненский район\n",
       "2          Большая Никитская улица      17   ЦАО  Пресненский район\n",
       "3                Глубокий переулок      17   ЦАО  Пресненский район\n",
       "4  Большой Гнездниковский переулок      17   ЦАО  Пресненский район"
      ]
     },
     "execution_count": 30,
     "metadata": {},
     "output_type": "execute_result"
    }
   ],
   "source": [
    "from io import BytesIO\n",
    "import requests\n",
    "spreadsheet_id = '1ZdebiBI8kiFmeXg2OAJDLNjBhrhw17dfvvEK1Hnas80'\n",
    "file_name = 'https://docs.google.com/spreadsheets/d/{}/export?format=csv'.format(spreadsheet_id)\n",
    "r = requests.get(file_name)\n",
    "#mosgaz_data_area = mosgaz_data.sort_values(by = ['street', 'area'], ascending = [True, False]).groupby('area').agg({'okrug': 'first'})\n",
    "\n",
    "\n",
    "mosgaz_data = pd.read_csv(BytesIO(r.content))\n",
    "mosgaz_data.columns = ['street', 'areaid', 'okrug', 'area']\n",
    "mosgaz_data.head(5)\n",
    "\n"
   ]
  },
  {
   "cell_type": "markdown",
   "metadata": {},
   "source": [
    "Подготовим данные для метода 'merge'. Уберём возможные лишние пробелы из строк и уберем верхний регистр в датасете из МосГаза."
   ]
  },
  {
   "cell_type": "code",
   "execution_count": 31,
   "metadata": {},
   "outputs": [],
   "source": [
    "rest_data['street'] = rest_data['street'].str.strip()\n",
    "mosgaz_data['street'] = mosgaz_data['street'].str.strip()\n",
    "mosgaz_data['street'] = mosgaz_data['street'].str.lower()\n",
    "#mosgaz_data['area'] = mosgaz_data['area'].str.lower()"
   ]
  },
  {
   "cell_type": "code",
   "execution_count": 32,
   "metadata": {},
   "outputs": [
    {
     "data": {
      "text/html": [
       "<div>\n",
       "<style scoped>\n",
       "    .dataframe tbody tr th:only-of-type {\n",
       "        vertical-align: middle;\n",
       "    }\n",
       "\n",
       "    .dataframe tbody tr th {\n",
       "        vertical-align: top;\n",
       "    }\n",
       "\n",
       "    .dataframe thead th {\n",
       "        text-align: right;\n",
       "    }\n",
       "</style>\n",
       "<table border=\"1\" class=\"dataframe\">\n",
       "  <thead>\n",
       "    <tr style=\"text-align: right;\">\n",
       "      <th></th>\n",
       "      <th>id</th>\n",
       "      <th>object_name</th>\n",
       "      <th>chain</th>\n",
       "      <th>object_type</th>\n",
       "      <th>address</th>\n",
       "      <th>seats</th>\n",
       "      <th>street</th>\n",
       "      <th>areaid</th>\n",
       "      <th>okrug</th>\n",
       "      <th>area</th>\n",
       "    </tr>\n",
       "  </thead>\n",
       "  <tbody>\n",
       "    <tr>\n",
       "      <td>0</td>\n",
       "      <td>151635</td>\n",
       "      <td>сметана</td>\n",
       "      <td>несетевой</td>\n",
       "      <td>кафе</td>\n",
       "      <td>город москва, улица егора абакумова, дом 9</td>\n",
       "      <td>48</td>\n",
       "      <td>улица егора абакумова</td>\n",
       "      <td>86.0</td>\n",
       "      <td>СВАО</td>\n",
       "      <td>Ярославский Район</td>\n",
       "    </tr>\n",
       "    <tr>\n",
       "      <td>1</td>\n",
       "      <td>77874</td>\n",
       "      <td>родник</td>\n",
       "      <td>несетевой</td>\n",
       "      <td>кафе</td>\n",
       "      <td>город москва, улица талалихина, дом 2/1, корпус 1</td>\n",
       "      <td>35</td>\n",
       "      <td>улица талалихина</td>\n",
       "      <td>18.0</td>\n",
       "      <td>ЦАО</td>\n",
       "      <td>Таганский район</td>\n",
       "    </tr>\n",
       "    <tr>\n",
       "      <td>2</td>\n",
       "      <td>77874</td>\n",
       "      <td>родник</td>\n",
       "      <td>несетевой</td>\n",
       "      <td>кафе</td>\n",
       "      <td>город москва, улица талалихина, дом 2/1, корпус 1</td>\n",
       "      <td>35</td>\n",
       "      <td>улица талалихина</td>\n",
       "      <td>117.0</td>\n",
       "      <td>ЮВАО</td>\n",
       "      <td>Нижегородский район</td>\n",
       "    </tr>\n",
       "    <tr>\n",
       "      <td>3</td>\n",
       "      <td>77874</td>\n",
       "      <td>родник</td>\n",
       "      <td>несетевой</td>\n",
       "      <td>кафе</td>\n",
       "      <td>город москва, улица талалихина, дом 2/1, корпус 1</td>\n",
       "      <td>35</td>\n",
       "      <td>улица талалихина</td>\n",
       "      <td>133.0</td>\n",
       "      <td>ЮЗАО</td>\n",
       "      <td>Район Южное Бутово</td>\n",
       "    </tr>\n",
       "    <tr>\n",
       "      <td>4</td>\n",
       "      <td>24309</td>\n",
       "      <td>кафе «академия»</td>\n",
       "      <td>несетевой</td>\n",
       "      <td>кафе</td>\n",
       "      <td>город москва, абельмановская улица, дом 6</td>\n",
       "      <td>95</td>\n",
       "      <td>абельмановская улица</td>\n",
       "      <td>18.0</td>\n",
       "      <td>ЦАО</td>\n",
       "      <td>Таганский район</td>\n",
       "    </tr>\n",
       "    <tr>\n",
       "      <td>5</td>\n",
       "      <td>21894</td>\n",
       "      <td>пиццетория</td>\n",
       "      <td>сетевой</td>\n",
       "      <td>кафе</td>\n",
       "      <td>город москва, абрамцевская улица, дом 1</td>\n",
       "      <td>40</td>\n",
       "      <td>абрамцевская улица</td>\n",
       "      <td>75.0</td>\n",
       "      <td>СВАО</td>\n",
       "      <td>Район Лианозово</td>\n",
       "    </tr>\n",
       "    <tr>\n",
       "      <td>6</td>\n",
       "      <td>119365</td>\n",
       "      <td>кафе «вишневая метель»</td>\n",
       "      <td>несетевой</td>\n",
       "      <td>кафе</td>\n",
       "      <td>город москва, абрамцевская улица, дом 9, корпус 1</td>\n",
       "      <td>50</td>\n",
       "      <td>абрамцевская улица</td>\n",
       "      <td>75.0</td>\n",
       "      <td>СВАО</td>\n",
       "      <td>Район Лианозово</td>\n",
       "    </tr>\n",
       "    <tr>\n",
       "      <td>7</td>\n",
       "      <td>27429</td>\n",
       "      <td>стол. при гоу сош № 1051</td>\n",
       "      <td>несетевой</td>\n",
       "      <td>столовая</td>\n",
       "      <td>город москва, абрамцевская улица, дом 15, корп...</td>\n",
       "      <td>240</td>\n",
       "      <td>абрамцевская улица</td>\n",
       "      <td>75.0</td>\n",
       "      <td>СВАО</td>\n",
       "      <td>Район Лианозово</td>\n",
       "    </tr>\n",
       "    <tr>\n",
       "      <td>8</td>\n",
       "      <td>148815</td>\n",
       "      <td>брусника</td>\n",
       "      <td>сетевой</td>\n",
       "      <td>кафе</td>\n",
       "      <td>город москва, переулок сивцев вражек, дом 6/2</td>\n",
       "      <td>10</td>\n",
       "      <td>переулок сивцев вражек</td>\n",
       "      <td>12.0</td>\n",
       "      <td>ЦАО</td>\n",
       "      <td>Район Арбат</td>\n",
       "    </tr>\n",
       "    <tr>\n",
       "      <td>9</td>\n",
       "      <td>148815</td>\n",
       "      <td>брусника</td>\n",
       "      <td>сетевой</td>\n",
       "      <td>кафе</td>\n",
       "      <td>город москва, переулок сивцев вражек, дом 6/2</td>\n",
       "      <td>10</td>\n",
       "      <td>переулок сивцев вражек</td>\n",
       "      <td>20.0</td>\n",
       "      <td>ЦАО</td>\n",
       "      <td>Район Хамовники</td>\n",
       "    </tr>\n",
       "  </tbody>\n",
       "</table>\n",
       "</div>"
      ],
      "text/plain": [
       "       id               object_name      chain object_type  \\\n",
       "0  151635                   сметана  несетевой        кафе   \n",
       "1   77874                    родник  несетевой        кафе   \n",
       "2   77874                    родник  несетевой        кафе   \n",
       "3   77874                    родник  несетевой        кафе   \n",
       "4   24309           кафе «академия»  несетевой        кафе   \n",
       "5   21894                пиццетория    сетевой        кафе   \n",
       "6  119365    кафе «вишневая метель»  несетевой        кафе   \n",
       "7   27429  стол. при гоу сош № 1051  несетевой    столовая   \n",
       "8  148815                  брусника    сетевой        кафе   \n",
       "9  148815                  брусника    сетевой        кафе   \n",
       "\n",
       "                                             address  seats  \\\n",
       "0         город москва, улица егора абакумова, дом 9     48   \n",
       "1  город москва, улица талалихина, дом 2/1, корпус 1     35   \n",
       "2  город москва, улица талалихина, дом 2/1, корпус 1     35   \n",
       "3  город москва, улица талалихина, дом 2/1, корпус 1     35   \n",
       "4          город москва, абельмановская улица, дом 6     95   \n",
       "5            город москва, абрамцевская улица, дом 1     40   \n",
       "6  город москва, абрамцевская улица, дом 9, корпус 1     50   \n",
       "7  город москва, абрамцевская улица, дом 15, корп...    240   \n",
       "8      город москва, переулок сивцев вражек, дом 6/2     10   \n",
       "9      город москва, переулок сивцев вражек, дом 6/2     10   \n",
       "\n",
       "                   street  areaid okrug                 area  \n",
       "0   улица егора абакумова    86.0  СВАО    Ярославский Район  \n",
       "1        улица талалихина    18.0   ЦАО      Таганский район  \n",
       "2        улица талалихина   117.0  ЮВАО  Нижегородский район  \n",
       "3        улица талалихина   133.0  ЮЗАО   Район Южное Бутово  \n",
       "4    абельмановская улица    18.0   ЦАО      Таганский район  \n",
       "5      абрамцевская улица    75.0  СВАО      Район Лианозово  \n",
       "6      абрамцевская улица    75.0  СВАО      Район Лианозово  \n",
       "7      абрамцевская улица    75.0  СВАО      Район Лианозово  \n",
       "8  переулок сивцев вражек    12.0   ЦАО          Район Арбат  \n",
       "9  переулок сивцев вражек    20.0   ЦАО      Район Хамовники  "
      ]
     },
     "execution_count": 32,
     "metadata": {},
     "output_type": "execute_result"
    }
   ],
   "source": [
    "rest_data = rest_data.merge(mosgaz_data, on = 'street', how = 'left')\n",
    "rest_data.head(10)\n"
   ]
  },
  {
   "cell_type": "markdown",
   "metadata": {},
   "source": [
    "Найдём топ-10 районов с помощью `lambda` функции"
   ]
  },
  {
   "cell_type": "code",
   "execution_count": 33,
   "metadata": {
    "scrolled": true
   },
   "outputs": [
    {
     "data": {
      "text/plain": [
       "area  Тверской район         1131\n",
       "      Пресненский район       791\n",
       "      Басманный район         703\n",
       "      Мещанский район         670\n",
       "      Даниловский район       668\n",
       "      Донской район           584\n",
       "      Таганский район         537\n",
       "      Обручевский район       494\n",
       "      Район Замоскворечье     479\n",
       "      Район Гагаринский       475\n",
       "dtype: int64"
      ]
     },
     "metadata": {},
     "output_type": "display_data"
    }
   ],
   "source": [
    "display(rest_data[['area']].apply(lambda x: x.value_counts()).T.stack().head(10))\n"
   ]
  },
  {
   "cell_type": "markdown",
   "metadata": {},
   "source": [
    "Список самых популярных районов перед нами. По сути это весь центр, что вполне ожидаемо."
   ]
  },
  {
   "cell_type": "markdown",
   "metadata": {},
   "source": [
    "Для наглядности построим график топ-10 самых насыщенных районов"
   ]
  },
  {
   "cell_type": "code",
   "execution_count": 34,
   "metadata": {},
   "outputs": [
    {
     "data": {
      "image/png": "[encoded data removed]",
      "text/plain": [
       "<Figure size 720x720 with 1 Axes>"
      ]
     },
     "metadata": {
      "needs_background": "light"
     },
     "output_type": "display_data"
    }
   ],
   "source": [
    "fig, ax = plt.subplots()\n",
    "top10_area = rest_data.groupby('area').count().sort_values('id', ascending = False).head(10).reset_index()\n",
    "fig.set_figheight(10)\n",
    "fig.set_figwidth(10)\n",
    "#display(top10_area)\n",
    "ax = sns.barplot(data = top10_area, x = 'area', y = 'id')\n",
    "ax.set_title('Топ-10 районов по количеству заведений')\n",
    "ax.set_xlabel('Район')\n",
    "ax.set_ylabel('Количество объектов')\n",
    "ax.legend('')\n",
    "plt.xticks(rotation = 45)\n",
    "plt.show()\n"
   ]
  },
  {
   "cell_type": "markdown",
   "metadata": {},
   "source": [
    "### Найдём число улиц с одним объектом общественного питания. В каких районах Москвы находятся эти улицы? <a id=\"step3.8\"></a>   \n",
    "</div>  "
   ]
  },
  {
   "cell_type": "markdown",
   "metadata": {},
   "source": [
    "Применим лямбда функцию и посчитаем количество улиц с одним объектом общественного питания"
   ]
  },
  {
   "cell_type": "code",
   "execution_count": 35,
   "metadata": {},
   "outputs": [
    {
     "name": "stdout",
     "output_type": "stream",
     "text": [
      "Количество улиц с одним объектом общественного питания 521\n"
     ]
    }
   ],
   "source": [
    "rest_data_street = rest_data[['street']].apply(lambda x: x.value_counts()).T.stack()\n",
    "print('Количество улиц с одним объектом общественного питания', rest_data_street.loc[rest_data_street == 1].count())\n",
    "\n"
   ]
  },
  {
   "cell_type": "markdown",
   "metadata": {},
   "source": [
    "Теперь найдём топ-10 районов с 1 заведением на улице."
   ]
  },
  {
   "cell_type": "code",
   "execution_count": 36,
   "metadata": {},
   "outputs": [
    {
     "data": {
      "text/plain": [
       "area  Таганский район        24\n",
       "      Басманный район        23\n",
       "      Район Хамовники        22\n",
       "      Тверской район         19\n",
       "      Район Марьина роща     16\n",
       "      Пресненский район      15\n",
       "      Район Сокольники       15\n",
       "      Район Замоскворечье    12\n",
       "      Мещанский район        12\n",
       "      Район Лефортово        11\n",
       "dtype: int64"
      ]
     },
     "metadata": {},
     "output_type": "display_data"
    }
   ],
   "source": [
    "rest_data_area = rest_data.groupby('street').count()\n",
    "rest_data_area = rest_data_area.query('id == 1')\n",
    "rest_data_area = rest_data_area.reset_index()\n",
    "rest_data_area_1 = list(rest_data_area['street'])\n",
    "rest_data_area_1 = rest_data[rest_data['street'].isin(rest_data_area_1)]\n",
    "rest_data_area_1 = rest_data_area_1[['area']].apply(lambda x: x.value_counts()).T.stack()\n",
    "display(rest_data_area_1.head(10))"
   ]
  },
  {
   "cell_type": "markdown",
   "metadata": {},
   "source": [
    "Маленькие проулки и улочки Таганского, Басманного и района Хамовники выбились в лидеры в данном вопросе"
   ]
  },
  {
   "cell_type": "markdown",
   "metadata": {},
   "source": [
    "### Посмотрим на распределение количества посадочных мест для улиц с большим количеством объектов общественного питания. Какие закономерности можно выявить?<a id=\"step3.9\"></a>   \n",
    "</div>  "
   ]
  },
  {
   "cell_type": "markdown",
   "metadata": {},
   "source": [
    "Уберём из выборки Зеленоград и создадим сводную таблицу, в которой для найденных топ-10 улиц посчитаем медианное значение посадочных мест"
   ]
  },
  {
   "cell_type": "code",
   "execution_count": 37,
   "metadata": {},
   "outputs": [
    {
     "data": {
      "text/html": [
       "<div>\n",
       "<style scoped>\n",
       "    .dataframe tbody tr th:only-of-type {\n",
       "        vertical-align: middle;\n",
       "    }\n",
       "\n",
       "    .dataframe tbody tr th {\n",
       "        vertical-align: top;\n",
       "    }\n",
       "\n",
       "    .dataframe thead th {\n",
       "        text-align: right;\n",
       "    }\n",
       "</style>\n",
       "<table border=\"1\" class=\"dataframe\">\n",
       "  <thead>\n",
       "    <tr style=\"text-align: right;\">\n",
       "      <th></th>\n",
       "      <th>seats</th>\n",
       "    </tr>\n",
       "    <tr>\n",
       "      <th>street</th>\n",
       "      <th></th>\n",
       "    </tr>\n",
       "  </thead>\n",
       "  <tbody>\n",
       "    <tr>\n",
       "      <td>профсоюзная улица</td>\n",
       "      <td>24.0</td>\n",
       "    </tr>\n",
       "    <tr>\n",
       "      <td>каширское шоссе</td>\n",
       "      <td>25.0</td>\n",
       "    </tr>\n",
       "    <tr>\n",
       "      <td>варшавское шоссе</td>\n",
       "      <td>30.0</td>\n",
       "    </tr>\n",
       "    <tr>\n",
       "      <td>ленинградское шоссе</td>\n",
       "      <td>30.0</td>\n",
       "    </tr>\n",
       "    <tr>\n",
       "      <td>дмитровское шоссе</td>\n",
       "      <td>40.0</td>\n",
       "    </tr>\n",
       "    <tr>\n",
       "      <td>ленинградский проспект</td>\n",
       "      <td>40.0</td>\n",
       "    </tr>\n",
       "    <tr>\n",
       "      <td>проспект вернадского</td>\n",
       "      <td>40.0</td>\n",
       "    </tr>\n",
       "    <tr>\n",
       "      <td>ленинский проспект</td>\n",
       "      <td>45.0</td>\n",
       "    </tr>\n",
       "    <tr>\n",
       "      <td>проспект мира</td>\n",
       "      <td>46.5</td>\n",
       "    </tr>\n",
       "    <tr>\n",
       "      <td>волгоградский проспект</td>\n",
       "      <td>49.0</td>\n",
       "    </tr>\n",
       "  </tbody>\n",
       "</table>\n",
       "</div>"
      ],
      "text/plain": [
       "                        seats\n",
       "street                       \n",
       "профсоюзная улица        24.0\n",
       "каширское шоссе          25.0\n",
       "варшавское шоссе         30.0\n",
       "ленинградское шоссе      30.0\n",
       "дмитровское шоссе        40.0\n",
       "ленинградский проспект   40.0\n",
       "проспект вернадского     40.0\n",
       "ленинский проспект       45.0\n",
       "проспект мира            46.5\n",
       "волгоградский проспект   49.0"
      ]
     },
     "metadata": {},
     "output_type": "display_data"
    }
   ],
   "source": [
    "top10_streets = rest_data.query('street != \"город зеленоград\"').groupby('street').count().sort_values('id', ascending = False).head(10).reset_index()\n",
    "top10_streats_data = rest_data[rest_data['street'].isin(top10_streets['street'])]\n",
    "top10_streats_data_pivot = pd.pivot_table(top10_streats_data, values = 'seats', index = 'street', aggfunc = 'median').sort_values(by = 'seats', ascending = True)\n",
    "display(top10_streats_data_pivot.sort_values(by = 'seats'))"
   ]
  },
  {
   "cell_type": "markdown",
   "metadata": {},
   "source": [
    "В дополнение к получившейся таблице построим график на её основе"
   ]
  },
  {
   "cell_type": "code",
   "execution_count": 38,
   "metadata": {},
   "outputs": [
    {
     "data": {
      "image/png": "[encoded data removed]",
      "text/plain": [
       "<Figure size 720x720 with 1 Axes>"
      ]
     },
     "metadata": {
      "needs_background": "light"
     },
     "output_type": "display_data"
    }
   ],
   "source": [
    "fig, ax = plt.subplots()\n",
    "ax = sns.barplot(data = top10_streats_data_pivot, x = top10_streats_data_pivot.index, y = 'seats', palette = 'Set2')\n",
    "ax.set_title('')\n",
    "#ax.set_xlim(-10,400)\n",
    "ax.set_title('Топ-10 улиц по количеству заведений с учетом количества посадочных мест')\n",
    "ax.set_xlabel('Название улицы')\n",
    "ax.set_ylabel('Количество заведений')\n",
    "fig.set_figheight(10)\n",
    "fig.set_figwidth(10)\n",
    "plt.xticks(rotation = 45)\n",
    "plt.show()"
   ]
  },
  {
   "cell_type": "markdown",
   "metadata": {},
   "source": [
    "### Шаг 4. Общий вывод. Рекомендации  <a id=\"step4\"></a>   \n",
    "</div>    \n"
   ]
  },
  {
   "cell_type": "markdown",
   "metadata": {},
   "source": [
    "Несмотря на проделанную работу и аналитику делать выводы только на основании количества мест, а также наличия рядом большого или, наоборот, малого количества конкурентов не стоит.\n",
    "\n",
    "Что мы знаем:\n",
    "- У наc роботы, которые на 99% не работают быстрее, чем люди, поэтому нам не нужно большое количество мест;\n",
    "- Таким образом нам нужно открывать что-то похожее на робокафе или робар (целый нейминг готов) :);\n",
    "- Да, нам нужно разместиться на популярной улице.\n",
    "- Нет, возвращаясь к количеству посадочных мест, улицы с большой медианной вместимостью нам не подойдут\n",
    "- Нам стоит ориентироваться на такие улицы, как Профсоюзная, Ленинский проспект и в целом район Парка Культуры и Замоскворечья. Эти районы особенно цифровизированы. Наша аудитория может быть как раз здесь.\n",
    "- Нам не стоит выбирать для размещения пилотного проекта Волгоградский проспект, Дмитровское, Каширское и Варшавское шоссе.\n",
    "\n"
   ]
  },
  {
   "cell_type": "markdown",
   "metadata": {},
   "source": [
    "Презентация: <https://yadi.sk/i/WpW5EVKPdYbGeQ> \n",
    "\n",
    "https://yadi.sk/i/aLlgMCRdWTA7rA"
   ]
  }
 ],
 "metadata": {
  "kernelspec": {
   "display_name": "Python 3",
   "language": "python",
   "name": "python3"
  },
  "language_info": {
   "codemirror_mode": {
    "name": "ipython",
    "version": 3
   },
   "file_extension": ".py",
   "mimetype": "text/x-python",
   "name": "python",
   "nbconvert_exporter": "python",
   "pygments_lexer": "ipython3",
   "version": "3.7.8"
  },
  "toc": {
   "base_numbering": 1,
   "nav_menu": {},
   "number_sections": true,
   "sideBar": true,
   "skip_h1_title": true,
   "title_cell": "Table of Contents",
   "title_sidebar": "Contents",
   "toc_cell": false,
   "toc_position": {},
   "toc_section_display": true,
   "toc_window_display": false
  }
 },
 "nbformat": 4,
 "nbformat_minor": 2
}
