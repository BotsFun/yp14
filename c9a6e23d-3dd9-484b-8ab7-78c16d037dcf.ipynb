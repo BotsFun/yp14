{
 "cells": [
  {
   "cell_type": "markdown",
   "metadata": {},
   "source": [
    "# Банки — Сегментация пользователей по потреблению"
   ]
  },
  {
   "cell_type": "markdown",
   "metadata": {},
   "source": [
    "В «Метанпромбанк», один из лучших банков страны, требуется аналитик с уверенным владением Python. Вашими главными задачами станут анализ оттока клиентов и сегментирование пользователей банка. Сегментация покажет, как клиенты пользуются нашими услугами.\n",
    "\n",
    "### Задача**:**\n",
    "\n",
    "Проанализировать клиентов регионального банка и сегментировать пользователей по количеству потребляемых продуктов.\n",
    "\n",
    "- Проводим исследовательский анализ данных,\n",
    "- Сегментируем пользователей на основе данных о количестве потребляемых продуктов,\n",
    "- Сформулируем и проверим статистические гипотезы.\n",
    "\n",
    "    *Проверьте гипотезу различия дохода между теми клиентами, которые пользуются двумя продуктами банка, и теми, которые пользуются одним.*\n",
    "\n",
    "    *Сформулируйте и проверьте статистическую гипотезу относительно представленных данных.*"
   ]
  },
  {
   "cell_type": "markdown",
   "metadata": {},
   "source": [
    "### **Описание данных:**\n",
    "\n",
    "Датасет содержит данные о клиентах банка «Метанпром». Банк располагается в Ярославле и областных городах: Ростов Великий и Рыбинск.\n",
    "\n",
    "Колонки:\n",
    "\n",
    "- `userid` — идентификатор пользователя,\n",
    "- `score` — баллы кредитного скоринга,\n",
    "- `City` — город,\n",
    "- `Gender` — пол,\n",
    "- `Age` — возраст,\n",
    "- `Objects` — количество объектов в собственности,\n",
    "- `Balance` — баланс на счёте,\n",
    "- `Products` — количество продуктов, которыми пользуется клиент,\n",
    "- `CreditCard` — есть ли кредитная карта,\n",
    "- `Loyalty` — активный клиент,\n",
    "- `estimated_salary` — заработная плата клиента,\n",
    "- `Churn` — ушёл или нет."
   ]
  },
  {
   "cell_type": "markdown",
   "metadata": {},
   "source": [
    "## Оглавление\n",
    "1. [Шаг 1. Откроем файлы с данными и изучим общую информацию](#step1)  \n",
    "    1.1 [Вывод к Шагу 1](#step1.1)\n",
    "    \n",
    "        \n",
    "2. [Шаг 2. Предобратка данных и исследовательский анализ данных (EDA)](#step2)  \n",
    "    2.1  [Обработка дубликатов](#step2.1)  \n",
    "    2.2  [Обработка пропущенных значений](#step2.2)  \n",
    "    2.3  [Столбчатые гистограммы и распределение признаков](#step2.3)  \n",
    "    2.4  [Матрица корреляции](#step2.4)  \n",
    "    2.5  [Вывод к Шагу 2](#step2.5)  \n",
    "  \n",
    "    \n",
    "3. [Шаг 3. Сегментирование пользователей на основе данных о количестве потребляемых продуктов](#step3)   \n",
    "    3.1   [Алгоритм K-Means](#step3.1)  \n",
    "    3.2   [Средние значения признаков для кластеров](#step3.2)    \n",
    "    3.3   [Матрица корреляции](#step3.3)    \n",
    "    \n",
    "    \n",
    "  \n",
    "4. [Шаг 4. Сформулируем и проверим статистические гипотезы](#step4)   \n",
    "    4.1   [Проверим гипотезу различия дохода между теми клиентами, которые пользуются двумя продуктами банка, и теми, которые пользуются одним.](#step4.1)  \n",
    "    4.2   [Проверим статистическую гипотезу относительно представленных данных](#step4.2)  \n",
    "   \n",
    "    \n",
    " \n",
    "5. [Шаг 5. Общий вывод.](#step5)  "
   ]
  },

  {
   "cell_type": "markdown",
   "metadata": {},
   "source": [
    "### Шаг 1. Откроем файлы с данными и изучим общую информацию <a id=\"step1\"></a>   \n",
    "</div>"
   ]
  },
  {
   "cell_type": "code",
   "execution_count": 1,
   "metadata": {},
   "outputs": [
    {
     "data": {
      "text/html": [
       "<div>\n",
       "<style scoped>\n",
       "    .dataframe tbody tr th:only-of-type {\n",
       "        vertical-align: middle;\n",
       "    }\n",
       "\n",
       "    .dataframe tbody tr th {\n",
       "        vertical-align: top;\n",
       "    }\n",
       "\n",
       "    .dataframe thead th {\n",
       "        text-align: right;\n",
       "    }\n",
       "</style>\n",
       "<table border=\"1\" class=\"dataframe\">\n",
       "  <thead>\n",
       "    <tr style=\"text-align: right;\">\n",
       "      <th></th>\n",
       "      <th>userid</th>\n",
       "      <th>score</th>\n",
       "      <th>City</th>\n",
       "      <th>Gender</th>\n",
       "      <th>Age</th>\n",
       "      <th>Objects</th>\n",
       "      <th>Balance</th>\n",
       "      <th>Products</th>\n",
       "      <th>CreditCard</th>\n",
       "      <th>Loyalty</th>\n",
       "      <th>estimated_salary</th>\n",
       "      <th>Churn</th>\n",
       "    </tr>\n",
       "  </thead>\n",
       "  <tbody>\n",
       "    <tr>\n",
       "      <td>0</td>\n",
       "      <td>15677338</td>\n",
       "      <td>619</td>\n",
       "      <td>Ярославль</td>\n",
       "      <td>Ж</td>\n",
       "      <td>42</td>\n",
       "      <td>2</td>\n",
       "      <td>NaN</td>\n",
       "      <td>1</td>\n",
       "      <td>1</td>\n",
       "      <td>1</td>\n",
       "      <td>101348.88</td>\n",
       "      <td>1</td>\n",
       "    </tr>\n",
       "    <tr>\n",
       "      <td>1</td>\n",
       "      <td>15690047</td>\n",
       "      <td>608</td>\n",
       "      <td>Рыбинск</td>\n",
       "      <td>Ж</td>\n",
       "      <td>41</td>\n",
       "      <td>1</td>\n",
       "      <td>83807.86</td>\n",
       "      <td>1</td>\n",
       "      <td>0</td>\n",
       "      <td>1</td>\n",
       "      <td>112542.58</td>\n",
       "      <td>0</td>\n",
       "    </tr>\n",
       "    <tr>\n",
       "      <td>2</td>\n",
       "      <td>15662040</td>\n",
       "      <td>502</td>\n",
       "      <td>Ярославль</td>\n",
       "      <td>Ж</td>\n",
       "      <td>42</td>\n",
       "      <td>8</td>\n",
       "      <td>159660.80</td>\n",
       "      <td>3</td>\n",
       "      <td>1</td>\n",
       "      <td>0</td>\n",
       "      <td>113931.57</td>\n",
       "      <td>1</td>\n",
       "    </tr>\n",
       "    <tr>\n",
       "      <td>3</td>\n",
       "      <td>15744090</td>\n",
       "      <td>699</td>\n",
       "      <td>Ярославль</td>\n",
       "      <td>Ж</td>\n",
       "      <td>39</td>\n",
       "      <td>1</td>\n",
       "      <td>NaN</td>\n",
       "      <td>2</td>\n",
       "      <td>0</td>\n",
       "      <td>0</td>\n",
       "      <td>93826.63</td>\n",
       "      <td>0</td>\n",
       "    </tr>\n",
       "    <tr>\n",
       "      <td>4</td>\n",
       "      <td>15780624</td>\n",
       "      <td>850</td>\n",
       "      <td>Рыбинск</td>\n",
       "      <td>Ж</td>\n",
       "      <td>43</td>\n",
       "      <td>2</td>\n",
       "      <td>125510.82</td>\n",
       "      <td>1</td>\n",
       "      <td>1</td>\n",
       "      <td>1</td>\n",
       "      <td>79084.10</td>\n",
       "      <td>0</td>\n",
       "    </tr>\n",
       "    <tr>\n",
       "      <td>5</td>\n",
       "      <td>15616748</td>\n",
       "      <td>645</td>\n",
       "      <td>Рыбинск</td>\n",
       "      <td>М</td>\n",
       "      <td>44</td>\n",
       "      <td>8</td>\n",
       "      <td>113755.78</td>\n",
       "      <td>2</td>\n",
       "      <td>1</td>\n",
       "      <td>0</td>\n",
       "      <td>149756.71</td>\n",
       "      <td>1</td>\n",
       "    </tr>\n",
       "    <tr>\n",
       "      <td>6</td>\n",
       "      <td>15635267</td>\n",
       "      <td>822</td>\n",
       "      <td>Ярославль</td>\n",
       "      <td>М</td>\n",
       "      <td>50</td>\n",
       "      <td>7</td>\n",
       "      <td>NaN</td>\n",
       "      <td>2</td>\n",
       "      <td>1</td>\n",
       "      <td>1</td>\n",
       "      <td>10062.80</td>\n",
       "      <td>0</td>\n",
       "    </tr>\n",
       "    <tr>\n",
       "      <td>7</td>\n",
       "      <td>15698884</td>\n",
       "      <td>376</td>\n",
       "      <td>Ростов Великий</td>\n",
       "      <td>Ж</td>\n",
       "      <td>29</td>\n",
       "      <td>4</td>\n",
       "      <td>115046.74</td>\n",
       "      <td>4</td>\n",
       "      <td>1</td>\n",
       "      <td>0</td>\n",
       "      <td>119346.88</td>\n",
       "      <td>1</td>\n",
       "    </tr>\n",
       "    <tr>\n",
       "      <td>8</td>\n",
       "      <td>15835101</td>\n",
       "      <td>501</td>\n",
       "      <td>Ярославль</td>\n",
       "      <td>М</td>\n",
       "      <td>44</td>\n",
       "      <td>4</td>\n",
       "      <td>142051.07</td>\n",
       "      <td>2</td>\n",
       "      <td>0</td>\n",
       "      <td>1</td>\n",
       "      <td>74940.50</td>\n",
       "      <td>0</td>\n",
       "    </tr>\n",
       "    <tr>\n",
       "      <td>9</td>\n",
       "      <td>15635125</td>\n",
       "      <td>684</td>\n",
       "      <td>Ярославль</td>\n",
       "      <td>М</td>\n",
       "      <td>27</td>\n",
       "      <td>2</td>\n",
       "      <td>134603.88</td>\n",
       "      <td>1</td>\n",
       "      <td>1</td>\n",
       "      <td>1</td>\n",
       "      <td>71725.73</td>\n",
       "      <td>0</td>\n",
       "    </tr>\n",
       "  </tbody>\n",
       "</table>\n",
       "</div>"
      ],
      "text/plain": [
       "     userid  score            City Gender  Age  Objects    Balance  Products  \\\n",
       "0  15677338    619       Ярославль      Ж   42        2        NaN         1   \n",
       "1  15690047    608         Рыбинск      Ж   41        1   83807.86         1   \n",
       "2  15662040    502       Ярославль      Ж   42        8  159660.80         3   \n",
       "3  15744090    699       Ярославль      Ж   39        1        NaN         2   \n",
       "4  15780624    850         Рыбинск      Ж   43        2  125510.82         1   \n",
       "5  15616748    645         Рыбинск      М   44        8  113755.78         2   \n",
       "6  15635267    822       Ярославль      М   50        7        NaN         2   \n",
       "7  15698884    376  Ростов Великий      Ж   29        4  115046.74         4   \n",
       "8  15835101    501       Ярославль      М   44        4  142051.07         2   \n",
       "9  15635125    684       Ярославль      М   27        2  134603.88         1   \n",
       "\n",
       "   CreditCard  Loyalty  estimated_salary  Churn  \n",
       "0           1        1         101348.88      1  \n",
       "1           0        1         112542.58      0  \n",
       "2           1        0         113931.57      1  \n",
       "3           0        0          93826.63      0  \n",
       "4           1        1          79084.10      0  \n",
       "5           1        0         149756.71      1  \n",
       "6           1        1          10062.80      0  \n",
       "7           1        0         119346.88      1  \n",
       "8           0        1          74940.50      0  \n",
       "9           1        1          71725.73      0  "
      ]
     },
     "metadata": {},
     "output_type": "display_data"
    },
    {
     "name": "stdout",
     "output_type": "stream",
     "text": [
      "<class 'pandas.core.frame.DataFrame'>\n",
      "RangeIndex: 10000 entries, 0 to 9999\n",
      "Data columns (total 12 columns):\n",
      "userid              10000 non-null int64\n",
      "score               10000 non-null int64\n",
      "City                10000 non-null object\n",
      "Gender              10000 non-null object\n",
      "Age                 10000 non-null int64\n",
      "Objects             10000 non-null int64\n",
      "Balance             6383 non-null float64\n",
      "Products            10000 non-null int64\n",
      "CreditCard          10000 non-null int64\n",
      "Loyalty             10000 non-null int64\n",
      "estimated_salary    10000 non-null float64\n",
      "Churn               10000 non-null int64\n",
      "dtypes: float64(2), int64(8), object(2)\n",
      "memory usage: 937.6+ KB\n"
     ]
    }
   ],
   "source": [
    "import pandas as pd\n",
    "import matplotlib.pyplot as plt\n",
    "from IPython.display import display\n",
    "from scipy import stats as st\n",
    "import math\n",
    "import numpy as np\n",
    "from functools import reduce\n",
    "import seaborn as sns\n",
    "import datetime as dt\n",
    "import scipy.stats as stats\n",
    "from plotly import graph_objects as go\n",
    "from sklearn.model_selection import train_test_split\n",
    "from sklearn.linear_model import LogisticRegression\n",
    "from sklearn.ensemble import RandomForestClassifier\n",
    "from sklearn.preprocessing import StandardScaler\n",
    "from sklearn.metrics import accuracy_score, precision_score, recall_score, f1_score\n",
    "from scipy.cluster.hierarchy import dendrogram, linkage\n",
    "from sklearn.cluster import KMeans\n",
    "\n",
    "data = pd.read_csv('/datasets/bank_dataset.csv')\n",
    "\n",
    "display(data.head(10))\n",
    "data.info()"
   ]
  },
  {
   "cell_type": "markdown",
   "metadata": {},
   "source": [
    "### Вывод<a id=\"step1.1\"></a>   \n",
    "</div>  \n",
    "\n",
    "Мы получили датасет с 10000 записями. В столбце `Balance` есть пропущенные значения. К форматам особых претензий нет. Обязательно нужно проверить дубликаты, но с таким датасетом должно быть не сложно работать.\n",
    "\n",
    "Также некоторые проблемы нам могут принести названия столбцов, поэтому с их изменеия и начнём следующий этап. "
   ]
  },
,
  {
   "cell_type": "markdown",
   "metadata": {},
   "source": [
    "### Шаг 2. Предобратка данных и исследовательский анализ данных (EDA) <a id=\"step2\"></a>   \n",
    "</div>  "
   ]
  },
  {
   "cell_type": "markdown",
   "metadata": {},
   "source": [
    "Приведём все к нижнему регистру"
   ]
  },
  {
   "cell_type": "code",
   "execution_count": 2,
   "metadata": {},
   "outputs": [
    {
     "data": {
      "text/plain": [
       "Index(['userid', 'score', 'city', 'gender', 'age', 'objects', 'balance',\n",
       "       'products', 'creditcard', 'loyalty', 'estimated_salary', 'churn'],\n",
       "      dtype='object')"
      ]
     },
     "metadata": {},
     "output_type": "display_data"
    }
   ],
   "source": [
    "data.columns = data.columns.str.lower()\n",
    "display(data.columns)"
   ]
  },
  {
   "cell_type": "markdown",
   "metadata": {},
   "source": [
    "Посмотрим нет ли каких-то артефактов в ряде стобцов"
   ]
  },
  {
   "cell_type": "code",
   "execution_count": 3,
   "metadata": {},
   "outputs": [
    {
     "data": {
      "text/plain": [
       "city        Ростов Великий    2509.0\n",
       "            Рыбинск           2477.0\n",
       "            Ярославль         5014.0\n",
       "gender      Ж                 4543.0\n",
       "            М                 5457.0\n",
       "products    1                 5084.0\n",
       "            2                 4590.0\n",
       "            3                  266.0\n",
       "            4                   60.0\n",
       "creditcard  0                 2945.0\n",
       "            1                 7055.0\n",
       "loyalty     0                 4849.0\n",
       "            1                 5151.0\n",
       "churn       0                 7963.0\n",
       "            1                 2037.0\n",
       "dtype: float64"
      ]
     },
     "metadata": {},
     "output_type": "display_data"
    }
   ],
   "source": [
    "display(data[['city','gender','products','creditcard','loyalty', 'churn']].apply(lambda x: x.value_counts()).T.stack())"
   ]
  },
  {
   "cell_type": "markdown",
   "metadata": {},
   "source": [
    "Кажется ничего лишнего, идем дальше и проверим наличие полных дубликатов"
   ]
  },
  {
   "cell_type": "markdown",
   "metadata": {},
   "source": [
    "### Обработка дубликатов <a id=\"step2.1\"></a>   \n",
    "</div>  "
   ]
  },
  {
   "cell_type": "code",
   "execution_count": 4,
   "metadata": {},
   "outputs": [
    {
     "data": {
      "text/plain": [
       "0"
      ]
     },
     "execution_count": 4,
     "metadata": {},
     "output_type": "execute_result"
    }
   ],
   "source": [
    "data.duplicated().sum()"
   ]
  },
  {
   "cell_type": "markdown",
   "metadata": {},
   "source": [
    "Создадим дополнительный столбец для проверки неполных дубликатов"
   ]
  },
  {
   "cell_type": "code",
   "execution_count": 5,
   "metadata": {},
   "outputs": [
    {
     "data": {
      "text/html": [
       "<div>\n",
       "<style scoped>\n",
       "    .dataframe tbody tr th:only-of-type {\n",
       "        vertical-align: middle;\n",
       "    }\n",
       "\n",
       "    .dataframe tbody tr th {\n",
       "        vertical-align: top;\n",
       "    }\n",
       "\n",
       "    .dataframe thead th {\n",
       "        text-align: right;\n",
       "    }\n",
       "</style>\n",
       "<table border=\"1\" class=\"dataframe\">\n",
       "  <thead>\n",
       "    <tr style=\"text-align: right;\">\n",
       "      <th></th>\n",
       "      <th>userid</th>\n",
       "      <th>score</th>\n",
       "      <th>city</th>\n",
       "      <th>gender</th>\n",
       "      <th>age</th>\n",
       "      <th>objects</th>\n",
       "      <th>balance</th>\n",
       "      <th>products</th>\n",
       "      <th>creditcard</th>\n",
       "      <th>loyalty</th>\n",
       "      <th>estimated_salary</th>\n",
       "      <th>churn</th>\n",
       "      <th>dupl</th>\n",
       "    </tr>\n",
       "  </thead>\n",
       "  <tbody>\n",
       "    <tr>\n",
       "      <td>0</td>\n",
       "      <td>15677338</td>\n",
       "      <td>619</td>\n",
       "      <td>Ярославль</td>\n",
       "      <td>Ж</td>\n",
       "      <td>42</td>\n",
       "      <td>2</td>\n",
       "      <td>NaN</td>\n",
       "      <td>1</td>\n",
       "      <td>1</td>\n",
       "      <td>1</td>\n",
       "      <td>101348.88</td>\n",
       "      <td>1</td>\n",
       "      <td>61915677338</td>\n",
       "    </tr>\n",
       "    <tr>\n",
       "      <td>1</td>\n",
       "      <td>15690047</td>\n",
       "      <td>608</td>\n",
       "      <td>Рыбинск</td>\n",
       "      <td>Ж</td>\n",
       "      <td>41</td>\n",
       "      <td>1</td>\n",
       "      <td>83807.86</td>\n",
       "      <td>1</td>\n",
       "      <td>0</td>\n",
       "      <td>1</td>\n",
       "      <td>112542.58</td>\n",
       "      <td>0</td>\n",
       "      <td>60815690047</td>\n",
       "    </tr>\n",
       "    <tr>\n",
       "      <td>2</td>\n",
       "      <td>15662040</td>\n",
       "      <td>502</td>\n",
       "      <td>Ярославль</td>\n",
       "      <td>Ж</td>\n",
       "      <td>42</td>\n",
       "      <td>8</td>\n",
       "      <td>159660.80</td>\n",
       "      <td>3</td>\n",
       "      <td>1</td>\n",
       "      <td>0</td>\n",
       "      <td>113931.57</td>\n",
       "      <td>1</td>\n",
       "      <td>50215662040</td>\n",
       "    </tr>\n",
       "    <tr>\n",
       "      <td>3</td>\n",
       "      <td>15744090</td>\n",
       "      <td>699</td>\n",
       "      <td>Ярославль</td>\n",
       "      <td>Ж</td>\n",
       "      <td>39</td>\n",
       "      <td>1</td>\n",
       "      <td>NaN</td>\n",
       "      <td>2</td>\n",
       "      <td>0</td>\n",
       "      <td>0</td>\n",
       "      <td>93826.63</td>\n",
       "      <td>0</td>\n",
       "      <td>69915744090</td>\n",
       "    </tr>\n",
       "    <tr>\n",
       "      <td>4</td>\n",
       "      <td>15780624</td>\n",
       "      <td>850</td>\n",
       "      <td>Рыбинск</td>\n",
       "      <td>Ж</td>\n",
       "      <td>43</td>\n",
       "      <td>2</td>\n",
       "      <td>125510.82</td>\n",
       "      <td>1</td>\n",
       "      <td>1</td>\n",
       "      <td>1</td>\n",
       "      <td>79084.10</td>\n",
       "      <td>0</td>\n",
       "      <td>85015780624</td>\n",
       "    </tr>\n",
       "  </tbody>\n",
       "</table>\n",
       "</div>"
      ],
      "text/plain": [
       "     userid  score       city gender  age  objects    balance  products  \\\n",
       "0  15677338    619  Ярославль      Ж   42        2        NaN         1   \n",
       "1  15690047    608    Рыбинск      Ж   41        1   83807.86         1   \n",
       "2  15662040    502  Ярославль      Ж   42        8  159660.80         3   \n",
       "3  15744090    699  Ярославль      Ж   39        1        NaN         2   \n",
       "4  15780624    850    Рыбинск      Ж   43        2  125510.82         1   \n",
       "\n",
       "   creditcard  loyalty  estimated_salary  churn         dupl  \n",
       "0           1        1         101348.88      1  61915677338  \n",
       "1           0        1         112542.58      0  60815690047  \n",
       "2           1        0         113931.57      1  50215662040  \n",
       "3           0        0          93826.63      0  69915744090  \n",
       "4           1        1          79084.10      0  85015780624  "
      ]
     },
     "metadata": {},
     "output_type": "display_data"
    }
   ],
   "source": [
    "data['dupl'] = data['score'].astype(str) + data['userid'].astype(str)\n",
    "\n",
    "display(data.head(5))\n",
    "\n"
   ]
  },
  {
   "cell_type": "code",
   "execution_count": 6,
   "metadata": {},
   "outputs": [
    {
     "name": "stdout",
     "output_type": "stream",
     "text": [
      "     userid  score       city gender  age  objects    balance  products  \\\n",
      "0  15677338    619  Ярославль      Ж   42        2        NaN         1   \n",
      "1  15690047    608    Рыбинск      Ж   41        1   83807.86         1   \n",
      "2  15662040    502  Ярославль      Ж   42        8  159660.80         3   \n",
      "3  15744090    699  Ярославль      Ж   39        1        NaN         2   \n",
      "4  15780624    850    Рыбинск      Ж   43        2  125510.82         1   \n",
      "\n",
      "   creditcard  loyalty  estimated_salary  churn         dupl  \\\n",
      "0           1        1         101348.88      1  61915677338   \n",
      "1           0        1         112542.58      0  60815690047   \n",
      "2           1        0         113931.57      1  50215662040   \n",
      "3           0        0          93826.63      0  69915744090   \n",
      "4           1        1          79084.10      0  85015780624   \n",
      "\n",
      "                          dupl_2  \n",
      "0  619ЯрославльЖ4221111101348.88  \n",
      "1    608РыбинскЖ4111010112542.58  \n",
      "2  502ЯрославльЖ4283101113931.57  \n",
      "3   699ЯрославльЖ391200093826.63  \n",
      "4      850РыбинскЖ432111079084.1  \n",
      "Количество неполных дубликатов 0\n"
     ]
    }
   ],
   "source": [
    "data['dupl_2'] = data['score'].astype(str) + data['city'].astype(str) + \\\n",
    "                    data['gender'].astype(str) + data['age'].astype(str) + \\\n",
    "                    data['objects'].astype(str) + data['products'].astype(str) + \\\n",
    "                    data['creditcard'].astype(str) + data['loyalty'].astype(str) + \\\n",
    "                    data['churn'].astype(str) + data['estimated_salary'].astype(str)\n",
    "print(data.head(5))\n",
    "print('Количество неполных дубликатов', data['dupl_2'].duplicated().sum())"
   ]
  },
  {
   "cell_type": "code",
   "execution_count": 7,
   "metadata": {},
   "outputs": [
    {
     "name": "stdout",
     "output_type": "stream",
     "text": [
      "Количество неполных дубликатов 0\n",
      "Количество дубликатов в userid 0\n"
     ]
    }
   ],
   "source": [
    "print('Количество неполных дубликатов', data['dupl'].duplicated().sum())\n",
    "print('Количество дубликатов в userid', data['userid'].duplicated().sum())"
   ]
  },
  {
   "cell_type": "code",
   "execution_count": null,
   "metadata": {},
   "outputs": [],
   "source": []
  },
 
  {
   "cell_type": "markdown",
   "metadata": {},
   "source": [
    "С дубликатами проблем нет, поэтому удалим наш временный столбец `dupl`"
   ]
  },
  {
   "cell_type": "code",
   "execution_count": 8,
   "metadata": {
    "scrolled": true
   },
   "outputs": [
    {
     "data": {
      "text/html": [
       "<div>\n",
       "<style scoped>\n",
       "    .dataframe tbody tr th:only-of-type {\n",
       "        vertical-align: middle;\n",
       "    }\n",
       "\n",
       "    .dataframe tbody tr th {\n",
       "        vertical-align: top;\n",
       "    }\n",
       "\n",
       "    .dataframe thead th {\n",
       "        text-align: right;\n",
       "    }\n",
       "</style>\n",
       "<table border=\"1\" class=\"dataframe\">\n",
       "  <thead>\n",
       "    <tr style=\"text-align: right;\">\n",
       "      <th></th>\n",
       "      <th>userid</th>\n",
       "      <th>score</th>\n",
       "      <th>city</th>\n",
       "      <th>gender</th>\n",
       "      <th>age</th>\n",
       "      <th>objects</th>\n",
       "      <th>balance</th>\n",
       "      <th>products</th>\n",
       "      <th>creditcard</th>\n",
       "      <th>loyalty</th>\n",
       "      <th>estimated_salary</th>\n",
       "      <th>churn</th>\n",
       "    </tr>\n",
       "  </thead>\n",
       "  <tbody>\n",
       "    <tr>\n",
       "      <td>0</td>\n",
       "      <td>15677338</td>\n",
       "      <td>619</td>\n",
       "      <td>Ярославль</td>\n",
       "      <td>Ж</td>\n",
       "      <td>42</td>\n",
       "      <td>2</td>\n",
       "      <td>NaN</td>\n",
       "      <td>1</td>\n",
       "      <td>1</td>\n",
       "      <td>1</td>\n",
       "      <td>101348.88</td>\n",
       "      <td>1</td>\n",
       "    </tr>\n",
       "    <tr>\n",
       "      <td>1</td>\n",
       "      <td>15690047</td>\n",
       "      <td>608</td>\n",
       "      <td>Рыбинск</td>\n",
       "      <td>Ж</td>\n",
       "      <td>41</td>\n",
       "      <td>1</td>\n",
       "      <td>83807.86</td>\n",
       "      <td>1</td>\n",
       "      <td>0</td>\n",
       "      <td>1</td>\n",
       "      <td>112542.58</td>\n",
       "      <td>0</td>\n",
       "    </tr>\n",
       "    <tr>\n",
       "      <td>2</td>\n",
       "      <td>15662040</td>\n",
       "      <td>502</td>\n",
       "      <td>Ярославль</td>\n",
       "      <td>Ж</td>\n",
       "      <td>42</td>\n",
       "      <td>8</td>\n",
       "      <td>159660.80</td>\n",
       "      <td>3</td>\n",
       "      <td>1</td>\n",
       "      <td>0</td>\n",
       "      <td>113931.57</td>\n",
       "      <td>1</td>\n",
       "    </tr>\n",
       "    <tr>\n",
       "      <td>3</td>\n",
       "      <td>15744090</td>\n",
       "      <td>699</td>\n",
       "      <td>Ярославль</td>\n",
       "      <td>Ж</td>\n",
       "      <td>39</td>\n",
       "      <td>1</td>\n",
       "      <td>NaN</td>\n",
       "      <td>2</td>\n",
       "      <td>0</td>\n",
       "      <td>0</td>\n",
       "      <td>93826.63</td>\n",
       "      <td>0</td>\n",
       "    </tr>\n",
       "    <tr>\n",
       "      <td>4</td>\n",
       "      <td>15780624</td>\n",
       "      <td>850</td>\n",
       "      <td>Рыбинск</td>\n",
       "      <td>Ж</td>\n",
       "      <td>43</td>\n",
       "      <td>2</td>\n",
       "      <td>125510.82</td>\n",
       "      <td>1</td>\n",
       "      <td>1</td>\n",
       "      <td>1</td>\n",
       "      <td>79084.10</td>\n",
       "      <td>0</td>\n",
       "    </tr>\n",
       "  </tbody>\n",
       "</table>\n",
       "</div>"
      ],
      "text/plain": [
       "     userid  score       city gender  age  objects    balance  products  \\\n",
       "0  15677338    619  Ярославль      Ж   42        2        NaN         1   \n",
       "1  15690047    608    Рыбинск      Ж   41        1   83807.86         1   \n",
       "2  15662040    502  Ярославль      Ж   42        8  159660.80         3   \n",
       "3  15744090    699  Ярославль      Ж   39        1        NaN         2   \n",
       "4  15780624    850    Рыбинск      Ж   43        2  125510.82         1   \n",
       "\n",
       "   creditcard  loyalty  estimated_salary  churn  \n",
       "0           1        1         101348.88      1  \n",
       "1           0        1         112542.58      0  \n",
       "2           1        0         113931.57      1  \n",
       "3           0        0          93826.63      0  \n",
       "4           1        1          79084.10      0  "
      ]
     },
     "metadata": {},
     "output_type": "display_data"
    }
   ],
   "source": [
    "data = data.drop(['dupl','dupl_2'], axis = 1)\n",
    "display(data.head(5))"
   ]
  },
  {
   "cell_type": "markdown",
   "metadata": {},
   "source": [
    "### Обработка пропущенных значений <a id=\"step2.2\"></a>   \n",
    "</div>  "
   ]
  },
  {
   "cell_type": "markdown",
   "metadata": {},
   "source": [
    "Теперь разберёмся с пропущенными значениями в `balance`. Их достаточно много, около **36%**, поэтому просто избавиться мы от них не можем"
   ]
  },
  {
   "cell_type": "code",
   "execution_count": 9,
   "metadata": {},
   "outputs": [
    {
     "name": "stdout",
     "output_type": "stream",
     "text": [
      "3617\n"
     ]
    }
   ],
   "source": [
    "print(data['balance'].isnull().sum())"
   ]
  },
  {
   "cell_type": "markdown",
   "metadata": {},
   "source": [
    "Прежде, чем работать с `balance` попробуем найти возможность отсеять часть значений. Проверим количество людей с нулевым количеством объектов и качество таких строк"
   ]
  },
  {
   "cell_type": "code",
   "execution_count": 10,
   "metadata": {},
   "outputs": [
    {
     "data": {
      "text/plain": [
       "2     1048\n",
       "1     1035\n",
       "7     1028\n",
       "8     1025\n",
       "5     1012\n",
       "3     1009\n",
       "4      989\n",
       "9      984\n",
       "6      967\n",
       "10     490\n",
       "0      413\n",
       "Name: objects, dtype: int64"
      ]
     },
     "execution_count": 10,
     "metadata": {},
     "output_type": "execute_result"
    }
   ],
   "source": [
    "data['objects'].value_counts()"
   ]
  },
  {
   "cell_type": "code",
   "execution_count": 11,
   "metadata": {
    "scrolled": true
   },
   "outputs": [
    {
     "data": {
      "text/html": [
       "<div>\n",
       "<style scoped>\n",
       "    .dataframe tbody tr th:only-of-type {\n",
       "        vertical-align: middle;\n",
       "    }\n",
       "\n",
       "    .dataframe tbody tr th {\n",
       "        vertical-align: top;\n",
       "    }\n",
       "\n",
       "    .dataframe thead th {\n",
       "        text-align: right;\n",
       "    }\n",
       "</style>\n",
       "<table border=\"1\" class=\"dataframe\">\n",
       "  <thead>\n",
       "    <tr style=\"text-align: right;\">\n",
       "      <th></th>\n",
       "      <th>userid</th>\n",
       "      <th>score</th>\n",
       "      <th>city</th>\n",
       "      <th>gender</th>\n",
       "      <th>age</th>\n",
       "      <th>objects</th>\n",
       "      <th>balance</th>\n",
       "      <th>products</th>\n",
       "      <th>creditcard</th>\n",
       "      <th>loyalty</th>\n",
       "      <th>estimated_salary</th>\n",
       "      <th>churn</th>\n",
       "    </tr>\n",
       "  </thead>\n",
       "  <tbody>\n",
       "    <tr>\n",
       "      <td>29</td>\n",
       "      <td>15699036</td>\n",
       "      <td>411</td>\n",
       "      <td>Ярославль</td>\n",
       "      <td>М</td>\n",
       "      <td>29</td>\n",
       "      <td>0</td>\n",
       "      <td>59697.17</td>\n",
       "      <td>2</td>\n",
       "      <td>1</td>\n",
       "      <td>1</td>\n",
       "      <td>53483.21</td>\n",
       "      <td>0</td>\n",
       "    </tr>\n",
       "    <tr>\n",
       "      <td>35</td>\n",
       "      <td>15836907</td>\n",
       "      <td>475</td>\n",
       "      <td>Ярославль</td>\n",
       "      <td>Ж</td>\n",
       "      <td>45</td>\n",
       "      <td>0</td>\n",
       "      <td>134264.04</td>\n",
       "      <td>1</td>\n",
       "      <td>1</td>\n",
       "      <td>0</td>\n",
       "      <td>27822.99</td>\n",
       "      <td>1</td>\n",
       "    </tr>\n",
       "    <tr>\n",
       "      <td>57</td>\n",
       "      <td>15689827</td>\n",
       "      <td>725</td>\n",
       "      <td>Ростов Великий</td>\n",
       "      <td>М</td>\n",
       "      <td>19</td>\n",
       "      <td>0</td>\n",
       "      <td>75888.20</td>\n",
       "      <td>1</td>\n",
       "      <td>0</td>\n",
       "      <td>0</td>\n",
       "      <td>45613.75</td>\n",
       "      <td>0</td>\n",
       "    </tr>\n",
       "    <tr>\n",
       "      <td>72</td>\n",
       "      <td>15855254</td>\n",
       "      <td>657</td>\n",
       "      <td>Рыбинск</td>\n",
       "      <td>Ж</td>\n",
       "      <td>37</td>\n",
       "      <td>0</td>\n",
       "      <td>163607.18</td>\n",
       "      <td>1</td>\n",
       "      <td>0</td>\n",
       "      <td>1</td>\n",
       "      <td>44203.55</td>\n",
       "      <td>0</td>\n",
       "    </tr>\n",
       "    <tr>\n",
       "      <td>127</td>\n",
       "      <td>15825424</td>\n",
       "      <td>625</td>\n",
       "      <td>Ростов Великий</td>\n",
       "      <td>М</td>\n",
       "      <td>56</td>\n",
       "      <td>0</td>\n",
       "      <td>148507.24</td>\n",
       "      <td>1</td>\n",
       "      <td>1</td>\n",
       "      <td>0</td>\n",
       "      <td>46824.08</td>\n",
       "      <td>1</td>\n",
       "    </tr>\n",
       "    <tr>\n",
       "      <td>...</td>\n",
       "      <td>...</td>\n",
       "      <td>...</td>\n",
       "      <td>...</td>\n",
       "      <td>...</td>\n",
       "      <td>...</td>\n",
       "      <td>...</td>\n",
       "      <td>...</td>\n",
       "      <td>...</td>\n",
       "      <td>...</td>\n",
       "      <td>...</td>\n",
       "      <td>...</td>\n",
       "      <td>...</td>\n",
       "    </tr>\n",
       "    <tr>\n",
       "      <td>9793</td>\n",
       "      <td>15815099</td>\n",
       "      <td>772</td>\n",
       "      <td>Ростов Великий</td>\n",
       "      <td>Ж</td>\n",
       "      <td>42</td>\n",
       "      <td>0</td>\n",
       "      <td>101979.16</td>\n",
       "      <td>1</td>\n",
       "      <td>1</td>\n",
       "      <td>0</td>\n",
       "      <td>90928.48</td>\n",
       "      <td>0</td>\n",
       "    </tr>\n",
       "    <tr>\n",
       "      <td>9799</td>\n",
       "      <td>15765467</td>\n",
       "      <td>653</td>\n",
       "      <td>Ярославль</td>\n",
       "      <td>М</td>\n",
       "      <td>46</td>\n",
       "      <td>0</td>\n",
       "      <td>119556.10</td>\n",
       "      <td>1</td>\n",
       "      <td>1</td>\n",
       "      <td>0</td>\n",
       "      <td>78250.13</td>\n",
       "      <td>1</td>\n",
       "    </tr>\n",
       "    <tr>\n",
       "      <td>9843</td>\n",
       "      <td>15821040</td>\n",
       "      <td>646</td>\n",
       "      <td>Ростов Великий</td>\n",
       "      <td>М</td>\n",
       "      <td>24</td>\n",
       "      <td>0</td>\n",
       "      <td>92398.08</td>\n",
       "      <td>1</td>\n",
       "      <td>1</td>\n",
       "      <td>1</td>\n",
       "      <td>18897.29</td>\n",
       "      <td>0</td>\n",
       "    </tr>\n",
       "    <tr>\n",
       "      <td>9868</td>\n",
       "      <td>15630376</td>\n",
       "      <td>718</td>\n",
       "      <td>Ярославль</td>\n",
       "      <td>Ж</td>\n",
       "      <td>43</td>\n",
       "      <td>0</td>\n",
       "      <td>93143.39</td>\n",
       "      <td>1</td>\n",
       "      <td>1</td>\n",
       "      <td>0</td>\n",
       "      <td>167554.86</td>\n",
       "      <td>0</td>\n",
       "    </tr>\n",
       "    <tr>\n",
       "      <td>9919</td>\n",
       "      <td>15840820</td>\n",
       "      <td>688</td>\n",
       "      <td>Ярославль</td>\n",
       "      <td>М</td>\n",
       "      <td>26</td>\n",
       "      <td>0</td>\n",
       "      <td>NaN</td>\n",
       "      <td>2</td>\n",
       "      <td>1</td>\n",
       "      <td>0</td>\n",
       "      <td>105784.85</td>\n",
       "      <td>0</td>\n",
       "    </tr>\n",
       "  </tbody>\n",
       "</table>\n",
       "<p>413 rows × 12 columns</p>\n",
       "</div>"
      ],
      "text/plain": [
       "        userid  score            city gender  age  objects    balance  \\\n",
       "29    15699036    411       Ярославль      М   29        0   59697.17   \n",
       "35    15836907    475       Ярославль      Ж   45        0  134264.04   \n",
       "57    15689827    725  Ростов Великий      М   19        0   75888.20   \n",
       "72    15855254    657         Рыбинск      Ж   37        0  163607.18   \n",
       "127   15825424    625  Ростов Великий      М   56        0  148507.24   \n",
       "...        ...    ...             ...    ...  ...      ...        ...   \n",
       "9793  15815099    772  Ростов Великий      Ж   42        0  101979.16   \n",
       "9799  15765467    653       Ярославль      М   46        0  119556.10   \n",
       "9843  15821040    646  Ростов Великий      М   24        0   92398.08   \n",
       "9868  15630376    718       Ярославль      Ж   43        0   93143.39   \n",
       "9919  15840820    688       Ярославль      М   26        0        NaN   \n",
       "\n",
       "      products  creditcard  loyalty  estimated_salary  churn  \n",
       "29           2           1        1          53483.21      0  \n",
       "35           1           1        0          27822.99      1  \n",
       "57           1           0        0          45613.75      0  \n",
       "72           1           0        1          44203.55      0  \n",
       "127          1           1        0          46824.08      1  \n",
       "...        ...         ...      ...               ...    ...  \n",
       "9793         1           1        0          90928.48      0  \n",
       "9799         1           1        0          78250.13      1  \n",
       "9843         1           1        1          18897.29      0  \n",
       "9868         1           1        0         167554.86      0  \n",
       "9919         2           1        0         105784.85      0  \n",
       "\n",
       "[413 rows x 12 columns]"
      ]
     },
     "metadata": {},
     "output_type": "display_data"
    }
   ],
   "source": [
    "display(data.loc[data['objects'] == 0])"
   ]
  },
  {
   "cell_type": "markdown",
   "metadata": {},
   "source": [
    "К сожалению, здесь мы ничего сделать не cможем, эти данные также влияют на исследование.  \n",
    "\n",
    "Поэтому попробуем сгруппировать наш датасет по разным столбцам."
   ]
  },
  {
   "cell_type": "code",
   "execution_count": 12,
   "metadata": {},
   "outputs": [
    {
     "name": "stdout",
     "output_type": "stream",
     "text": [
      "Группировка по score\n"
     ]
    },
    {
     "data": {
      "text/plain": [
       "score\n",
       "350    124503.176667\n",
       "351    163146.460000\n",
       "358    143542.360000\n",
       "359    128747.690000\n",
       "363    146098.430000\n",
       "           ...      \n",
       "846    134746.290000\n",
       "847    109465.106000\n",
       "848    118060.536000\n",
       "849    109884.810000\n",
       "850    118332.422065\n",
       "Name: balance, Length: 460, dtype: float64"
      ]
     },
     "metadata": {},
     "output_type": "display_data"
    },
    {
     "name": "stdout",
     "output_type": "stream",
     "text": [
      "\n",
      "Группировка по city\n"
     ]
    },
    {
     "data": {
      "text/plain": [
       "city\n",
       "Ростов Великий    119730.116134\n",
       "Рыбинск           119814.985923\n",
       "Ярославль         119927.765597\n",
       "Name: balance, dtype: float64"
      ]
     },
     "metadata": {},
     "output_type": "display_data"
    },
    {
     "name": "stdout",
     "output_type": "stream",
     "text": [
      "\n",
      "Группировка по gender\n"
     ]
    },
    {
     "data": {
      "text/plain": [
       "gender\n",
       "Ж    118975.601938\n",
       "М    120531.877184\n",
       "Name: balance, dtype: float64"
      ]
     },
     "metadata": {},
     "output_type": "display_data"
    },
    {
     "name": "stdout",
     "output_type": "stream",
     "text": [
      "\n",
      "Группировка по objects\n"
     ]
    },
    {
     "data": {
      "text/plain": [
       "objects\n",
       "0     119528.949601\n",
       "1     118520.149665\n",
       "2     120912.805616\n",
       "3     119280.171111\n",
       "4     118136.678597\n",
       "5     121256.445502\n",
       "6     119914.354217\n",
       "7     120976.760421\n",
       "8     120672.225393\n",
       "9     120733.242484\n",
       "10    116104.092821\n",
       "Name: balance, dtype: float64"
      ]
     },
     "metadata": {},
     "output_type": "display_data"
    },
    {
     "name": "stdout",
     "output_type": "stream",
     "text": [
      "\n",
      "Группировка по products\n"
     ]
    },
    {
     "data": {
      "text/plain": [
       "products\n",
       "1    119894.163723\n",
       "2    119660.944362\n",
       "3    119475.686310\n",
       "4    122260.610870\n",
       "Name: balance, dtype: float64"
      ]
     },
     "metadata": {},
     "output_type": "display_data"
    },
    {
     "name": "stdout",
     "output_type": "stream",
     "text": [
      "\n",
      "Группировка по creditcard\n"
     ]
    },
    {
     "data": {
      "text/plain": [
       "creditcard\n",
       "0    119519.124656\n",
       "1    119960.155398\n",
       "Name: balance, dtype: float64"
      ]
     },
     "metadata": {},
     "output_type": "display_data"
    },
    {
     "name": "stdout",
     "output_type": "stream",
     "text": [
      "\n",
      "Группировка по loyalty\n"
     ]
    },
    {
     "data": {
      "text/plain": [
       "loyalty\n",
       "0    120458.806251\n",
       "1    119229.499533\n",
       "Name: balance, dtype: float64"
      ]
     },
     "metadata": {},
     "output_type": "display_data"
    },
    {
     "name": "stdout",
     "output_type": "stream",
     "text": [
      "\n",
      "Группировка по churn\n"
     ]
    },
    {
     "data": {
      "text/plain": [
       "churn\n",
       "0    119535.864270\n",
       "1    120746.971132\n",
       "Name: balance, dtype: float64"
      ]
     },
     "metadata": {},
     "output_type": "display_data"
    },
    {
     "name": "stdout",
     "output_type": "stream",
     "text": [
      "\n"
     ]
    }
   ],
   "source": [
    "for column in ['score','city','gender','objects','products','creditcard','loyalty','churn']:\n",
    "    print('Группировка по ' + column)\n",
    "    display(data.groupby(column)['balance'].mean())\n",
    "    print()"
   ]
  },
  {
   "cell_type": "markdown",
   "metadata": {},
   "source": [
    "И тут мимо, группировка не даёт нам каких-то инсайтов.\n",
    "Создавать просто 37% синтетических данных **нет необходимости**, так как, скорее всего, это не повлияет на выводы наше исследования.\n",
    "\n",
    "Таким образом принимаем решение ничего не делать с пропущенными значениями в столбце `balance`"
   ]
  },
,
  {
   "cell_type": "code",
   "execution_count": 13,
   "metadata": {},
   "outputs": [
    {
     "data": {
      "text/html": [
       "<div>\n",
       "<style scoped>\n",
       "    .dataframe tbody tr th:only-of-type {\n",
       "        vertical-align: middle;\n",
       "    }\n",
       "\n",
       "    .dataframe tbody tr th {\n",
       "        vertical-align: top;\n",
       "    }\n",
       "\n",
       "    .dataframe thead th {\n",
       "        text-align: right;\n",
       "    }\n",
       "</style>\n",
       "<table border=\"1\" class=\"dataframe\">\n",
       "  <thead>\n",
       "    <tr style=\"text-align: right;\">\n",
       "      <th></th>\n",
       "      <th>userid</th>\n",
       "      <th>score</th>\n",
       "      <th>city</th>\n",
       "      <th>gender</th>\n",
       "      <th>age</th>\n",
       "      <th>objects</th>\n",
       "      <th>balance</th>\n",
       "      <th>products</th>\n",
       "      <th>creditcard</th>\n",
       "      <th>loyalty</th>\n",
       "      <th>estimated_salary</th>\n",
       "      <th>churn</th>\n",
       "    </tr>\n",
       "  </thead>\n",
       "  <tbody>\n",
       "    <tr>\n",
       "      <td>0</td>\n",
       "      <td>15677338</td>\n",
       "      <td>619</td>\n",
       "      <td>Ярославль</td>\n",
       "      <td>Ж</td>\n",
       "      <td>42</td>\n",
       "      <td>2</td>\n",
       "      <td>NaN</td>\n",
       "      <td>1</td>\n",
       "      <td>1</td>\n",
       "      <td>1</td>\n",
       "      <td>101348.88</td>\n",
       "      <td>1</td>\n",
       "    </tr>\n",
       "    <tr>\n",
       "      <td>1</td>\n",
       "      <td>15690047</td>\n",
       "      <td>608</td>\n",
       "      <td>Рыбинск</td>\n",
       "      <td>Ж</td>\n",
       "      <td>41</td>\n",
       "      <td>1</td>\n",
       "      <td>83807.86</td>\n",
       "      <td>1</td>\n",
       "      <td>0</td>\n",
       "      <td>1</td>\n",
       "      <td>112542.58</td>\n",
       "      <td>0</td>\n",
       "    </tr>\n",
       "    <tr>\n",
       "      <td>2</td>\n",
       "      <td>15662040</td>\n",
       "      <td>502</td>\n",
       "      <td>Ярославль</td>\n",
       "      <td>Ж</td>\n",
       "      <td>42</td>\n",
       "      <td>8</td>\n",
       "      <td>159660.80</td>\n",
       "      <td>3</td>\n",
       "      <td>1</td>\n",
       "      <td>0</td>\n",
       "      <td>113931.57</td>\n",
       "      <td>1</td>\n",
       "    </tr>\n",
       "    <tr>\n",
       "      <td>3</td>\n",
       "      <td>15744090</td>\n",
       "      <td>699</td>\n",
       "      <td>Ярославль</td>\n",
       "      <td>Ж</td>\n",
       "      <td>39</td>\n",
       "      <td>1</td>\n",
       "      <td>NaN</td>\n",
       "      <td>2</td>\n",
       "      <td>0</td>\n",
       "      <td>0</td>\n",
       "      <td>93826.63</td>\n",
       "      <td>0</td>\n",
       "    </tr>\n",
       "    <tr>\n",
       "      <td>4</td>\n",
       "      <td>15780624</td>\n",
       "      <td>850</td>\n",
       "      <td>Рыбинск</td>\n",
       "      <td>Ж</td>\n",
       "      <td>43</td>\n",
       "      <td>2</td>\n",
       "      <td>125510.82</td>\n",
       "      <td>1</td>\n",
       "      <td>1</td>\n",
       "      <td>1</td>\n",
       "      <td>79084.10</td>\n",
       "      <td>0</td>\n",
       "    </tr>\n",
       "  </tbody>\n",
       "</table>\n",
       "</div>"
      ],
      "text/plain": [
       "     userid  score       city gender  age  objects    balance  products  \\\n",
       "0  15677338    619  Ярославль      Ж   42        2        NaN         1   \n",
       "1  15690047    608    Рыбинск      Ж   41        1   83807.86         1   \n",
       "2  15662040    502  Ярославль      Ж   42        8  159660.80         3   \n",
       "3  15744090    699  Ярославль      Ж   39        1        NaN         2   \n",
       "4  15780624    850    Рыбинск      Ж   43        2  125510.82         1   \n",
       "\n",
       "   creditcard  loyalty  estimated_salary  churn  \n",
       "0           1        1         101348.88      1  \n",
       "1           0        1         112542.58      0  \n",
       "2           1        0         113931.57      1  \n",
       "3           0        0          93826.63      0  \n",
       "4           1        1          79084.10      0  "
      ]
     },
     "execution_count": 13,
     "metadata": {},
     "output_type": "execute_result"
    }
   ],
   "source": [
    "data.head(5)"
   ]
  },
  {
   "cell_type": "markdown",
   "metadata": {},
   "source": [
    "### Столбчатые гистограммы и распределение признаков <a id=\"step2.3\"></a>   \n",
    "</div> "
   ]
  },
  {
   "cell_type": "markdown",
   "metadata": {},
   "source": [
    "Визуализируем возвращаемость клиентов по ряду качественных столбцов"
   ]
  },
  {
   "cell_type": "code",
   "execution_count": 14,
   "metadata": {},
   "outputs": [
    {
     "data": {
      "image/png": "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\n",
      "text/plain": [
       "<Figure size 360x360 with 1 Axes>"
      ]
     },
     "metadata": {
      "needs_background": "light"
     },
     "output_type": "display_data"
    },
    {
     "data": {
      "image/png": "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\n",
      "text/plain": [
       "<Figure size 360x360 with 1 Axes>"
      ]
     },
     "metadata": {
      "needs_background": "light"
     },
     "output_type": "display_data"
    },
    {
     "data": {
      "image/png": "iVBORw0KGgoAAAANSUhEUgAAAVMAAAFNCAYAAAC9l4yfAAAABHNCSVQICAgIfAhkiAAAAAlwSFlzAAALEgAACxIB0t1+/AAAADh0RVh0U29mdHdhcmUAbWF0cGxvdGxpYiB2ZXJzaW9uMy4xLjAsIGh0dHA6Ly9tYXRwbG90bGliLm9yZy+17YcXAAAdF0lEQVR4nO3df7RXdZ3v8edLQOmHxa+jIefgwUQnsEQ9oumMcXEpyHTFXGl4S/FHQ60Lc/OuVqNO3UyTubaaUstyFgUK1UhqOTJeJofAH9kdRTBEAV2eUYxzQjmBmNaVAt/3j+/n4Dc8B77gZ39/HF6Ptb6LvT/7s/d+n+9avtx7f/beX0UEZmb29hxQ6wLMzPoCh6mZWQYOUzOzDBymZmYZOEzNzDJwmJqZZeAwtf2WpAckfbrWdVjf4DA1exskTZDUUes6rPYcptYnSOpf6xps/+Ywtbomab2kqyStlfSypFslDew+IpR0haQXgVtT/7+R1C5pi6RFkg4r29YZkp6W9IqkmwGVLfuKpB+WzbdKiu6QljQk7fs3qY5/kfQu4N+AwyS9lj6HSRovaYWk30l6SdI3q/V9We04TK0RfBKYBLwfOAr4Ump/HzAEOByYIWki8L+B84HhwAvAQgBJw4CfpnWHAf8JnLoXNfwAeCcwFjgEuCEifg+cBfwmIt6dPr8BbgJuioj3pJrv2Me/2xqIT42sEdwcERsAJM0Gvg38HHgDuDoitqVlnwTmRcTjaf4q4GVJrcBpwJqIuCstuxH4fCU7lzScUmgOjYiXU/ODu1nlT8CRkoZFxG+BR/bib7UG5SNTawQbyqZfALpP3bsi4vWyZYel5QBExGvAZmBEWrahbFnsst3daQG2lAXpnlxG6Qj6aUmPSfpohetZA/ORqTWClrLpkcBv0vSurzz7DaVTfgDSNc2hQCewsXw7krTLdn9P6TS+2/vKpjcAQyQNioitu+zzLa9di4hngQskHQCcC9wlaWi6LGB9lI9MrRHMlNQsaQjwReDHvfS7HbhE0jhJBwH/ADwaEeuB/wOMlXRuGlT6H/x5YK4CTpM0UtJ7gau6F0TERkoDTd+VNFjSAEmnpcUvAUPTOgBI+pSkpoh4A+gO3zfe3ldg9c5hao3gn4F/B56jNHB0XU+dIuLnwP8CfkLpSPT9wLS07LfAecD1lE79RwO/LFt3CaWQXg2sBO7dZfMXUroW+jSwCbg8rfc0pRB/TtLWdPfAZGCNpNcoDUZNi4j/97a+Aat78suhrZ5JWg98OgWlWd3ykamZWQYOUzOzDHyab2aWgY9MzcwycJiamWXQJ2/aHzZsWLS2tta6DDPrY1auXPnbiGjqaVmfDNPW1lZWrFhR6zLMrI+R9EJvy3yab2aWgcPUzCwDh6mZWQZ98pqp9V1/+tOf6Ojo4PXXX99z5xoZOHAgzc3NDBgwoNalWBU5TK2hdHR0cPDBB9Pa2krpLXr1JSLYvHkzHR0djBo1qtblWBX5NN8ayuuvv87QoUPrMkgBJDF06NC6PnK2YjhMreHUa5B2q/f6rBgOU+vTLr74Yu66665al2H7AYep2W7s2LGj1iVYg3CYWp+yYMECPvShD3Hsscdy4YUXAvDQQw9xyimncMQRR+w8Sn3ggQf46Eff/J27WbNmcdtttwGlJ+iuuOIKjj/+eO68804mTJjAFVdcwfjx4znqqKP4xS9+UfW/y+qfw9T6jDVr1nDdddexbNkynnjiCW666SYANm7cyMMPP8y9997LlVdeWdG2hg4dyuOPP860adMA2L59O8uXL+fGG2/kmmuuKexvsMblW6MMgBO+sKCq+1v59Yuyb3PZsmWcd955DBs2DIAhQ4YAcM4553DAAQcwZswYXnrppYq29YlPfOLP5s8991wATjjhBNavX5+vaOszfGRqfd5BBx20c7r7Zej9+/fnjTfe/MHQXW9lete73tXjNvr168f27duLKtUamMPU+oyJEydy5513snnzZgC2bNnSa9/DDz+ctWvXsm3bNrZu3crSpUurVab1UT7Ntz5j7NixfPGLX+QjH/kI/fr147jjjuu1b0tLC+effz7HHHMMo0aN2m1fs0r0yd+AamtrC7/PdO80yjXTdevW8YEPfCBzNfk1Sp22dyStjIi2npb5NN/MLAOHqZlZBg5TM7MMHKZmZhk4TM3MMnCYmpllUHiYSuon6VeS7k3zoyQ9Kqld0o8lHZjaD0rz7Wl5a9k2rkrtz0iaVHTNZrvzs5/9jKOPPpojjzyS66+/vtblWJ2oxk37nwPWAe9J818DboiIhZL+CbgMuCX9+3JEHClpWur3CUljgGnAWOAw4OeSjooIvxvNst8fu6f7X3fs2MHMmTNZsmQJzc3NnHjiiZx99tmMGTMmax3WeAo9MpXUDPw18P00L2Ai0P223vnAOWl6aponLT899Z8KLIyIbRHxPNAOjC+ybrPeLF++nCOPPJIjjjiCAw88kGnTpnHPPffUuiyrA0Wf5t8I/B3Q/UaJocDWiOh+U0QHMCJNjwA2AKTlr6T+O9t7WMesqjo7O2lpadk539zcTGdnZw0rsnpRWJhK+iiwKSJWFrWPXfY3Q9IKSSu6urqqsUszs52KPDI9FThb0npgIaXT+5uAQZK6r9U2A93/W+8EWgDS8vcCm8vbe1hnp4iYExFtEdHW1NSU/68xA0aMGMGGDW+eKHV0dDBihE+UrMAwjYirIqI5IlopDSAti4hPAvcDH0/dpgPdF5wWpXnS8mVRegvLImBaGu0fBYwGlhdVt9nunHjiiTz77LM8//zz/PGPf2ThwoWcffbZtS7L6kAtXsF3BbBQ0nXAr4C5qX0u8ANJ7cAWSgFMRKyRdAewFtgOzPRIvtVK//79ufnmm5k0aRI7duzg0ksvZezYsbUuy+pAVcI0Ih4AHkjTz9HDaHxEvA6c18v6s4HZxVVojaqInz/ZkylTpjBlypSq79fqm5+AMjPLwGFqZpaBw9TMLAOHqZlZBg5TM7MMHKZmZhk4TM320qWXXsohhxzCMcccU+tSrI7U4qZ9s2x+fe0Hs25v5Jef3GOfiy++mFmzZnHRRdW/x9Xql49MzfbSaaedxpAhQ2pdhtUZh6mZWQYOUzOzDBymZmYZOEzNzDJwmJrtpQsuuIAPf/jDPPPMMzQ3NzN37tw9r2R9nm+NsoZWya1Mud1+++1V36fVv/0uTHP/NPCe1OJ9m2ZWfT7NNzPLwGFqZpaBw9QaTul3FutXvddnxXCYWkMZOHAgmzdvrtvAigg2b97MwIEDa12KVdl+NwBlja25uZmOjg66urpqXUqvBg4cSHNzc63LsCorLEwlDQQeAg5K+7krIq6WdBvwEeCV1PXiiFglScBNwBTgD6n98bSt6cCXUv/rImJ+UXVbfRswYACjRo2qdRlmb1Hkkek2YGJEvCZpAPCwpH9Ly74QEXft0v8sYHT6nATcApwkaQhwNdAGBLBS0qKIeLnA2s3M9kph10yj5LU0OyB9dnehayqwIK33CDBI0nBgErAkIrakAF0CTC6qbjOzfVHoAJSkfpJWAZsoBeKjadFsSasl3SDpoNQ2AthQtnpHauut3cysbhQaphGxIyLGAc3AeEnHAFcBfwGcCAwBrsixL0kzJK2QtKKeByfMrG+qyq1REbEVuB+YHBEb06n8NuBWYHzq1gm0lK3WnNp6a991H3Mioi0i2pqamor4M8zMelVYmEpqkjQoTb8DOAN4Ol0HJY3enwM8lVZZBFykkpOBVyJiI3AfcKakwZIGA2emNjOzulHkaP5wYL6kfpRC+46IuFfSMklNgIBVwGdT/8WUbotqp3Rr1CUAEbFF0leBx1K/ayNiS4F1m5nttcLCNCJWA8f10D6xl/4BzOxl2TxgXtYCzcwy8uOkZmYZOEzNzDJwmJqZZeAwNTPLwGFqZpaBw9TMLAOHqZlZBg5TM7MMHKZmZhk4TM3MMnCYmpll4DA1M8vAYWpmloHD1MwsA4epmVkGDlMzswwcpmZmGThMzcwycJiamWXgMDUzy8BhamaWgcPUzCyDwsJU0kBJyyU9IWmNpGtS+yhJj0pql/RjSQem9oPSfHta3lq2ratS+zOSJhVVs5nZviryyHQbMDEijgXGAZMlnQx8DbghIo4EXgYuS/0vA15O7TekfkgaA0wDxgKTge9K6ldg3WZme62wMI2S19LsgPQJYCJwV2qfD5yTpqemedLy0yUptS+MiG0R8TzQDowvqm4zs31R6DVTSf0krQI2AUuA/wS2RsT21KUDGJGmRwAbANLyV4Ch5e09rGNmVhcKDdOI2BER44BmSkeTf1HUviTNkLRC0oqurq6idmNm1qOqjOZHxFbgfuDDwCBJ/dOiZqAzTXcCLQBp+XuBzeXtPaxTvo85EdEWEW1NTU2F/B1mZr0pcjS/SdKgNP0O4AxgHaVQ/XjqNh24J00vSvOk5csiIlL7tDTaPwoYDSwvqm4zs33Rf89d9tlwYH4aeT8AuCMi7pW0Flgo6TrgV8Dc1H8u8ANJ7cAWSiP4RMQaSXcAa4HtwMyI2FFg3WZme62wMI2I1cBxPbQ/Rw+j8RHxOnBeL9uaDczOXaOZWS5+AsrMLAOHqZlZBg5TM7MMHKZmZhk4TM3MMnCYmpll4DA1M8vAYWpmloHD1MwsA4epmVkGDlMzswwcpmZmGThMzcwycJiamWXgMDUzy8BhamaWgcPUzCwDh6mZWQYOUzOzDBymZmYZOEzNzDIoLEwltUi6X9JaSWskfS61f0VSp6RV6TOlbJ2rJLVLekbSpLL2yamtXdKVRdVsZravCvupZ0q/cf/5iHhc0sHASklL0rIbIuIfyztLGgNMA8YChwE/l3RUWvwd4AygA3hM0qKIWFtg7WZme6WwMI2IjcDGNP2qpHXAiN2sMhVYGBHbgOcltQPj07L2iHgOQNLC1NdhamZ1oyrXTCW1AscBj6amWZJWS5onaXBqGwFsKFutI7X11m5mVjcKD1NJ7wZ+AlweEb8DbgHeD4yjdOT6jUz7mSFphaQVXV1dOTZpZlaxQsNU0gBKQfqjiPgpQES8FBE7IuIN4Hu8eSrfCbSUrd6c2npr/zMRMSci2iKirampKf8fY2a2G0WO5guYC6yLiG+WtQ8v6/Yx4Kk0vQiYJukgSaOA0cBy4DFgtKRRkg6kNEi1qKi6zcz2RZGj+acCFwJPSlqV2v4euEDSOCCA9cBnACJijaQ7KA0sbQdmRsQOAEmzgPuAfsC8iFhTYN1mZnutyNH8hwH1sGjxbtaZDczuoX3x7tYzM6u1ik7zJS2tpM3MbH+12yNTSQOBdwLD0i1M3Uea78G3J5mZ7bSn0/zPAJdTeiJpJW+G6e+Amwusy8ysoew2TCPiJuAmSX8bEd+uUk1mZg2nogGoiPi2pFOA1vJ1ImJBQXWZmTWUisJU0g8oPbW0CtiRmgNwmJqZUfmtUW3AmIiIIosxM2tUlT4B9RTwviILMTNrZJUemQ4D1kpaDmzrboyIswupysyswVQapl8psggzs0ZX6Wj+g0UXYmbWyCodzX+V0ug9wIHAAOD3EfGeogozM2sklR6ZHtw9nV6tNxU4uaiizMwazV6/zzRK/gWYtMfOZmb7iUpP888tmz2A0n2nrxdSkZlZA6p0NP+/lk1vp/RS56nZqzEza1CVXjO9pOhCzMwaWaUvh26WdLekTenzE0nNRRdnZtYoKh2AupXSj9gdlj7/mtrMzIzKw7QpIm6NiO3pcxvg31M2M0sqDdPNkj4lqV/6fArYXGRhZmaNpNIwvRQ4H3gR2Ah8HLi4oJrMzBpOpWF6LTA9Ipoi4hBK4XrN7laQ1CLpfklrJa2R9LnUPkTSEknPpn8Hp3ZJ+pakdkmrJR1ftq3pqf+zkqbv259qZlacSsP0QxHxcvdMRGwBjtvDOtuBz0fEGEqPns6UNAa4ElgaEaOBpWke4CxgdPrMAG6BUvgCVwMnAeOBq7sD2MysXlQapgeUB1gKuD39GN/GiHg8Tb8KrKP089BTgfmp23zgnDQ9FViQHld9BBgkaTilx1aXRMSWFOhLgMkV1m1mVhWVPgH1DeA/JN2Z5s8DZle6E0mtlI5kHwUOjYiNadGLwKFpegSwoWy1jtTWW7uZWd2o9AmoBZJWABNT07kRsbaSdSW9G/gJcHlE/K700qmd2w1JWX5XStIMSpcHGDlyZI5NmplVrNIjU1J4VhSg3SQNoBSkP4qIn6bmlyQNj4iN6TR+U2rvBFrKVm9ObZ3AhF3aH+ihvjnAHIC2tjb/8J+ZVdVev4KvUum9p3OBdRHxzbJFi4DuEfnpwD1l7RelUf2TgVfS5YD7gDMlDU7Xbc9MbWZmdaPiI9N9cCpwIfCkpFWp7e+B64E7JF0GvEDp/lWAxcAUoB34A3AJlO4ckPRV4LHU79p0N4GZWd0oLEwj4mFAvSw+vYf+AczsZVvzgHn5qjMzy6uw03wzs/2Jw9TMLAOHqZlZBg5TM7MMHKZmZhk4TM3MMnCYmpll4DA1M8vAYWpmloHD1MwsA4epmVkGDlMzswwcpmZmGThMzcwycJiamWXgMDUzy8BhamaWgcPUzCwDh6mZWQYOUzOzDBymZmYZFBamkuZJ2iTpqbK2r0jqlLQqfaaULbtKUrukZyRNKmufnNraJV1ZVL1mZm9HkUemtwGTe2i/ISLGpc9iAEljgGnA2LTOdyX1k9QP+A5wFjAGuCD1NTOrK/2L2nBEPCSptcLuU4GFEbENeF5SOzA+LWuPiOcAJC1MfddmLtfM7G2pxTXTWZJWp8sAg1PbCGBDWZ+O1NZbu5lZXal2mN4CvB8YB2wEvpFrw5JmSFohaUVXV1euzZqZVaSqYRoRL0XEjoh4A/geb57KdwItZV2bU1tv7T1te05EtEVEW1NTU/7izcx2o6phKml42ezHgO6R/kXANEkHSRoFjAaWA48BoyWNknQgpUGqRdWs2cysEoUNQEm6HZgADJPUAVwNTJA0DghgPfAZgIhYI+kOSgNL24GZEbEjbWcWcB/QD5gXEWuKqtnMbF8VOZp/QQ/Nc3fTfzYwu4f2xcDijKWZmWXnJ6DMzDIo7MjUSn597Qerur+RX36yqvszsxIfmZqZZeAwNTPLwGFqZpaBw9TMLAOHqZlZBg5TM7MMHKZmZhk4TM3MMnCYmpll4DA1M8vAYWpmloHD1MwsA4epmVkGDlMzswwcpmZmGThMzcwycJiamWXgMDUzy8BhamaWgcPUzCyDwsJU0jxJmyQ9VdY2RNISSc+mfwendkn6lqR2SaslHV+2zvTU/1lJ04uq18zs7SjyyPQ2YPIubVcCSyNiNLA0zQOcBYxOnxnALVAKX+Bq4CRgPHB1dwCbmdWTwsI0Ih4CtuzSPBWYn6bnA+eUtS+IkkeAQZKGA5OAJRGxJSJeBpbw1oA2M6u5al8zPTQiNqbpF4FD0/QIYENZv47U1lu7mVldqdkAVEQEELm2J2mGpBWSVnR1deXarJlZRaodpi+l03fSv5tSeyfQUtavObX11v4WETEnItoioq2pqSl74WZmu1PtMF0EdI/ITwfuKWu/KI3qnwy8ki4H3AecKWlwGng6M7WZmdWV/kVtWNLtwARgmKQOSqPy1wN3SLoMeAE4P3VfDEwB2oE/AJcARMQWSV8FHkv9ro2IXQe1zMxqrrAwjYgLell0eg99A5jZy3bmAfMylmZmlp2fgDIzy8BhamaWgcPUzCwDh6mZWQYOUzOzDBymZmYZOEzNzDJwmJqZZeAwNTPLwGFqZpaBw9TMLAOHqZlZBg5TM7MMHKZmZhk4TM3MMnCYmpll4DA1M8vAYWpmloHD1MwsA4epmVkGDlMzswxqEqaS1kt6UtIqSStS2xBJSyQ9m/4dnNol6VuS2iWtlnR8LWo2M9udWh6Z/peIGBcRbWn+SmBpRIwGlqZ5gLOA0ekzA7il6pWame1BPZ3mTwXmp+n5wDll7Qui5BFgkKThtSjQzKw3tQrTAP5d0kpJM1LboRGxMU2/CByapkcAG8rW7UhtZmZ1o3+N9vuXEdEp6RBgiaSnyxdGREiKvdlgCuUZACNHjsxXqZlZBWpyZBoRnenfTcDdwHjgpe7T9/TvptS9E2gpW705te26zTkR0RYRbU1NTUWWb2b2FlUPU0nvknRw9zRwJvAUsAiYnrpNB+5J04uAi9Ko/snAK2WXA8zM6kItTvMPBe6W1L3/f46In0l6DLhD0mXAC8D5qf9iYArQDvwBuKT6JZuZ7V7VwzQingOO7aF9M3B6D+0BzKxCaWZm+6yebo0yM2tYDlMzswwcpmZmGThMzcwycJiamWVQqyegbD/362s/WNX9jfzyk1Xdn+1/fGRqZpaBw9TMLAOHqZlZBg5TM7MMHKZmZhk4TM3MMvCtUWZ1xLeMNS4fmZqZZeAwNTPLwGFqZpaBw9TMLAOHqZlZBg5TM7MMHKZmZhk4TM3MMnCYmpll0DBPQEmaDNwE9AO+HxHX17gkM6uSaj4Ztq9PhTVEmErqB3wHOAPoAB6TtCgi1ta2MuvrTvjCgqru7+6Dq7o7y6hRTvPHA+0R8VxE/BFYCEytcU1mZjs1SpiOADaUzXekNjOzuqCIqHUNeyTp48DkiPh0mr8QOCkiZpX1mQHMSLNHA89UvdCeDQN+W+si6pC/l575e+lZvXwvh0dEU08LGuKaKdAJtJTNN6e2nSJiDjCnmkVVQtKKiGirdR31xt9Lz/y99KwRvpdGOc1/DBgtaZSkA4FpwKIa12RmtlNDHJlGxHZJs4D7KN0aNS8i1tS4LDOznRoiTAEiYjGwuNZ17IO6u/RQJ/y99MzfS8/q/ntpiAEoM7N61yjXTM3M6prDtCCS5knaJOmpWtdSTyS1SLpf0lpJayR9rtY11ZqkgZKWS3oifSfX1LqmeiKpn6RfSbq31rXsjsO0OLcBk2tdRB3aDnw+IsYAJwMzJY2pcU21tg2YGBHHAuOAyZJOrnFN9eRzwLpaF7EnDtOCRMRDwJZa11FvImJjRDyepl+l9B/Jfv00W5S8lmYHpI8HMwBJzcBfA9+vdS174jC1mpHUChwHPFrbSmovncquAjYBSyJiv/9OkhuBvwPeqHUhe+IwtZqQ9G7gJ8DlEfG7WtdTaxGxIyLGUXq6b7ykY2pdU61J+iiwKSJW1rqWSjhMreokDaAUpD+KiJ/Wup56EhFbgfvx9XaAU4GzJa2n9Ka4iZJ+WNuSeucwtaqSJGAusC4ivlnreuqBpCZJg9L0Oyi9t/fp2lZVexFxVUQ0R0QrpUfIl0XEp2pcVq8cpgWRdDvwH8DRkjokXVbrmurEqcCFlI4yVqXPlFoXVWPDgfslrab0HoolEVHXtwHZW/kJKDOzDHxkamaWgcPUzCwDh6mZWQYOUzOzDBymZmYZOExtvyWpdV/f6iVpgqRTctdkjcthan2OpH5V2M0EwGFqOzlMraGko8mnJf1I0jpJd0l6p6T1kr4m6XHgPEnjJD0iabWkuyUNTuufkN4b+gQws2y7F0u6uWz+XkkT0vRkSY+n9ZamF7R8Fvif6aGDv5J0nqSnUp+HqviVWJ1omN+AMitzNHBZRPxS0jzgv6f2zRFxPEB6muhvI+JBSdcCVwOXA7cCsyLiIUlf39OOJDUB3wNOi4jnJQ2JiC2S/gl4LSL+MfV7EpgUEZ3dj4ba/sVHptaINkTEL9P0D4G/TNM/BpD0XmBQRDyY2ucDp6WQG5TeNQvwgwr2dTLwUEQ8DxARvb2j9pfAbZL+htIv6Np+xmFqjWjXZ6C753//Nra5nT//72HgXhUU8VngS0ALsFLS0LdRizUgh6k1opGSPpym/xvwcPnCiHgFeFnSX6WmC4EH0+vttkrqPpL9ZNlq64Fxkg6Q1AKMT+2PUDqqHQUgaUhqfxU4uHtlSe+PiEcj4stAF6VQtf2Iw9Qa0TOUfjtqHTAYuKWHPtOBr6drp+OAa1P7JcB30lvtVdb/l8DzwFrgW0D3T6t0ATOAn6ZBqx+n/v8KfKx7ACrt68l0q9X/BZ7I9tdaQ/Bbo6yhpJH0eyNiv38TvdUXH5mamWXgI1Mzswx8ZGpmloHD1MwsA4epmVkGDlMzswwcpmZmGThMzcwy+P8vEFJeuSbAaQAAAABJRU5ErkJggg==\n",
      "text/plain": [
       "<Figure size 360x360 with 1 Axes>"
      ]
     },
     "metadata": {
      "needs_background": "light"
     },
     "output_type": "display_data"
    },
    {
     "data": {
      "image/png": "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\n",
      "text/plain": [
       "<Figure size 360x360 with 1 Axes>"
      ]
     },
     "metadata": {
      "needs_background": "light"
     },
     "output_type": "display_data"
    },
    {
     "data": {
      "image/png": "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\n",
      "text/plain": [
       "<Figure size 360x360 with 1 Axes>"
      ]
     },
     "metadata": {
      "needs_background": "light"
     },
     "output_type": "display_data"
    },
    {
     "data": {
      "image/png": "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\n",
      "text/plain": [
       "<Figure size 360x360 with 1 Axes>"
      ]
     },
     "metadata": {
      "needs_background": "light"
     },
     "output_type": "display_data"
    }
   ],
   "source": [
    "for column in ['gender','objects','products','creditcard','loyalty','city']:\n",
    "    plt.figure(figsize=(5, 5))\n",
    "    sns.countplot(x = data[column], hue='churn', data=data)\n",
    "    plt.title(column)\n",
    "    plt.show()"
   ]
  },
  {
   "cell_type": "markdown",
   "metadata": {},
   "source": [
    "Для количественных построим ящик с усами"
   ]
  },
  {
   "cell_type": "code",
   "execution_count": 15,
   "metadata": {},
   "outputs": [
    {
     "data": {
      "image/png": "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\n",
      "text/plain": [
       "<Figure size 360x360 with 1 Axes>"
      ]
     },
     "metadata": {
      "needs_background": "light"
     },
     "output_type": "display_data"
    },
    {
     "data": {
      "image/png": "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\n",
      "text/plain": [
       "<Figure size 360x360 with 1 Axes>"
      ]
     },
     "metadata": {
      "needs_background": "light"
     },
     "output_type": "display_data"
    },
    {
     "data": {
      "image/png": "iVBORw0KGgoAAAANSUhEUgAAAWAAAAFNCAYAAAA+U7WkAAAABHNCSVQICAgIfAhkiAAAAAlwSFlzAAALEgAACxIB0t1+/AAAADh0RVh0U29mdHdhcmUAbWF0cGxvdGxpYiB2ZXJzaW9uMy4xLjAsIGh0dHA6Ly9tYXRwbG90bGliLm9yZy+17YcXAAAfz0lEQVR4nO3de3SddZ3v8fenCZe2yC3UntILRVM9p4CgZAGO4hQoUDhCUZEDrrHRYaxrhFJQPOCcmQMCclBRDqAyVumQgkfAywwVS6FFQBgt0iJabmqEFhq5hkuLhUKa7/lj/1J2wt67O0l3frl8Xmtl5fn9nmc/z3en3Z/88lwVEZiZ2cAblbsAM7ORygFsZpaJA9jMLBMHsJlZJg5gM7NMHMBmZpk4gM0GEUl3SvqHPr72GkkXbeuarHYcwLZVkv6LpB9JelbSBkmvSApJjblrMxvK6nMXYEPCZcAuwLsi4iUASb6Cx6yfPAK2auwH/EdX+PYk6XxJ1xW1r5N0flF7y5/VkmZIWlc076Q0mu6a/ylJ96TpUZJ+mL5K/l+V9EFJv5L0kqQnJX2qxDIfl7SqR9/nJd2UpkdL+oaktZJelnSPpNFp3o8kPZ36fylpn6J1XJNqf29R39dS38wyP5vvVPHXwzsl/UbSekk3Sdq96PVl6+nx/naTdLOk5yS9mKYnFc2/U9KFkv4z/VVzm6Q9tvZzlbSDpEslPSHpGUn/2vWzst5zAFs1VgEfldSwLVcqaTvgQuCpMot8C9gVmBMRnSVevxdwC3AlMA44AHigxHoWA3tL+m9FfZ8EFqXpS4EDgb8Bdgf+J9C1vVuAacDbgfuBH/RY96NA1y+P7YDjgGfKvN93AceUea/F5gB/D0wAOoAriuZtrZ4uo4B/A/YCpgCvUvh5FvsE8Om0ru2Bs1OdlX6ulwDvSn2NwETgf1fxnqwEB7BVYx7wIPCXNFoqORLug88C9wJ/7DlD0oXAYcDHIuKNMq//BLA8In4YEW9ERHtEvCWAI2ITcAPwd2nd+wBTgZvTyPrvgfkR0RYRmyPiV+k1RMTCiNiQ2ucD+0vapWj1i4Ej0yjwOGA58FqZei+m8Atna66NiAcj4q/AvwAnSaqrsp6u99weET+JiI0RsQH4CvC3PRb7t4j4Y0S8CtxIIVShzM9VkoC5wFkR8UJa78XAyVW8JyvBAWxbFRHrgesojMb2iYhd+7tOSW+jMNL8lxKz3wd8FNgDeEeF1UwG/lzlJluAT6QQ+SRwYwqxPYAdS61HUp2kSyT9WdJ6YE2atUfRYm9QCOETgVOB75fauKRDgHenOrbmyaLptcB2wB5V1tO1vTGSvpt2q6wHfgns2hXkydNF0xuBndJ0uZ/rOGAMsCrtmngJWJr6rQ8cwFatbwKXRsQT22h9X6QQgmtLzHsZmAn8L2Bhj9Ao9iTwzmo2FhErgNeBQymM8K5Ns56nMGIttZ5PALNTLbtQGDUDqMdy36fwy6QhIn5XpoSvAV+KiM1VlDu5aHoKhZB/vhf1AHyBQuAfHBE7Ax+qsGxP5X6uz1PYlbFPROyavnaJiJ1KLGtVcADbVkk6kcKH/avbaJVvo7Dv8Stl5v85Ip6KiAXAetK+yRJ+AMxMB/LqJTVIOqDMslDY5/st4I2IuAcg7VteCHxT0p5plPl+STukOjcB7RRGfheXWmlEPEphJPh/ymz3cKAzIm6uUFuxv5M0XdIY4ALgxym4q6oneRuFsHwpHcQ7r8ptQ5mfa/pZfQ+4TNLbASRNlHR0L9ZtRRzAVpGk7SkE7zkRsbHCoh+RtE6FMxw+Any+qP1+4GtFR+F3Bq6IiBerKOEfgLMlvbvnjDQaP5bCaO8FCgeK9q+wrmuBfSnsTil2NrAauC+t56sUPhuLKOwCaAMeBlaUW3FEfDEibiozewKFEXK1rgWuobCLYEfgjNRfdT3A/wVGUxi1rqDwC6IqW/m5ngO0AivSro3lFEba1gfyDdltIEj6PnBRRKzJWMNo4FngfRHxp1x1mHXxCNgGysMU/iTO6R+B+xy+Nlh4BGwjgqQ1FA5AnRARv81cjhngADYzy8a7IMzMMnEAm5ll4ruhJXvssUdMnTo1dxlmNsysWrXq+YgoebWgAziZOnUqK1euzF2GmQ0zkkpd7Ql4F4SZWTYOYDOzTBzAZmaZOIDNzDJxAJuZZeIANjPLxAFsZv3W3t7OGWecQXt7e+5ShpSaBbCkyZLukPSwpIckzU/950tqk/RA+jq26DVfktQq6Q/FN3mWNCv1tUo6t6h/b0n3pv4b0r1ru57cekPqv1fS1Fq9TzODlpYWVq9ezaJFi7a+sG1RyxFwB/CFiJgOHAKcJml6mndZRByQvpYApHknA/sAs4DvpKcT1AHfpvA02enAKUXr+WpaVyPwIoVncpG+v5j6L2PbPcnBzHpob29n6dKlRARLly71KLgXahbA6ZEy96fpDcAjFB5hXc5s4PqI2BQRj1O46/5B6as1Ih6LiNeB64HZ6eGKhwM/Tq9vAU4oWlfXww9/DByRljezbaylpYXOzk4ANm/e7FFwLwzIPuC0C+C9FB5BDnC6pN9LWihpt9Q3ke5Pg12X+sr1NwAvRURHj/5u60rzX07Lm9k2tnz5cjo6Ch/Djo4Oli1blrmioaPmASxpJ+AnwJnp8eZXUXji6gHAU8A3al1DhdrmSlopaeVzzz2XqwyzIW3mzJnU1xduK1NfX8+RRx6ZuaKho6YBLGk7CuH7g4j4KUBEPBMRm4uesHpQWryN7o/jnpT6yvW3A7tKqu/R321daf4uafluImJBRDRFRNO4cSVvVmRmW9Hc3MyoUYUoqaurY86cOZkrGjpqeRaEgKuBRyLim0X9E4oW+wjwYJpeDJyczmDYG5gG/IbCk2qnpTMetqdwoG5xFB7lcQdwYnp9M3BT0bqa0/SJwC/Cj/4wq4mGhgZmzZqFJGbNmkVDg/f2VauWt6P8APBJYLWkB1LfP1E4i+EAIIA1wGcBIuIhSTdSeHhjB3BaRGwGkHQ6cCtQByyMiIfS+s4Brpd0EfBbCoFP+n6tpFYKj9U+uYbv02zEa25uZs2aNR799pKfCZc0NTWF7wdsZtuapFUR0VRqnq+EMzPLxAFsZpaJA9jMLBMHsJn1m2/G0zcOYDPrN9+Mp28cwGbWL74ZT985gM2sX3wznr5zAJtZv/hmPH3nADazfvHNePrOAWxm/eKb8fSdA9jM+sU34+m7Wt6Mx8xGCN+Mp28cwGbWbw0NDVxxxRW5yxhyvAvCzCwTB7CZWSYOYDOzTBzAZmaZOIDNzDJxAJuZZeIANrN+8/2A+8YBbGX5Q2XV8v2A+8YBbGX5Q2XV8P2A+84BbCX5Q2XV8v2A+84BbCX5Q2XV8v2A+84BbCX5Q2XV8v2A+84BbCX5Q2XVKr4f8KhRo3xHtF5wAFtJvsm2VauhoYE999wTgD333NP3A+4FB7CV1NDQwGGHHQbAjBkz/KGystrb22lrawPgL3/5iw/Y9oID2Mp67bXXANi0aVPmSmwwa2lpISIA6Ozs9AHbXnAAW0nt7e3cddddANx5550e1VhZPmDbdw5gK+m73/1ut/aCBQsyVWKD3aGHHlqxbeU5gK2k2267rVv71ltvzVSJDXZdu6q6eJdV9RzAZtYv99xzT7f23XffnamSoccBbGb90nUArlzbynMAW0ljx46t2DbrssMOO1RsW3kOYCvpy1/+crf2BRdckKkSG+xeffXVim0rzwFsJe29997d2lOnTs1TiNkw5gC2kr7+9a93a1966aWZKjEbvhzAVtKKFSu6tX/9619nqsRs+HIAm5ll4gC2kiRVbJt12XHHHbu1R48enamSoadmASxpsqQ7JD0s6SFJ81P/7pKWSfpT+r5b6pekKyS1Svq9pPcVras5Lf8nSc1F/QdKWp1ec4VSSpTbhlXP53ZatXpe+dbzyjgrr5Yj4A7gCxExHTgEOE3SdOBc4PaImAbcntoAxwDT0tdc4CoohClwHnAwcBBwXlGgXgV8puh1s1J/uW1YlXbaaaeKbbMu/mXddzUL4Ih4KiLuT9MbgEeAicBsoCUt1gKckKZnA4uiYAWwq6QJwNHAsoh4ISJeBJYBs9K8nSNiRRT+xRf1WFepbViVuu5uVa5t1qXrxv3l2lZe/UBsRNJU4L3AvcD4iHgqzXoaGJ+mJwJPFr1sXeqr1L+uRD8VtjGkXXnllbS2tg7ItsaOHdvtT8mxY8cyf/78mm+3sbGRefPm1Xw7tu10Pby1XNvKq/mvKkk7AT8BzoyI9cXz0si1pn+vVNqGpLmSVkpa+dxzz9WyjCFn/PjxFdtm1n81HQFL2o5C+P4gIn6aup+RNCEinkq7EZ5N/W3A5KKXT0p9bcCMHv13pv5JJZavtI1uImIBsACgqalp0O+4GuiR4cc+9jHa29uZPXs2Z5111oBu22wkqOVZEAKuBh6JiG8WzVoMdJ3J0AzcVNQ/J50NcQjwctqNcCtwlKTd0sG3o4Bb07z1kg5J25rTY12ltmG9MH78eMaOHesHclpFdXV1FdtWXi13QXwA+CRwuKQH0texwCXAkZL+BMxMbYAlwGNAK/A94HMAEfECcCFwX/q6IPWRlvl+es2fgVtSf7ltWC9st912NDY2+oGcVpGfiNF3NdsFERH3AOXO3j+ixPIBnFZmXQuBhSX6VwL7luhvL7UNM7PBxOeLmFm/9HwiRs+2lecANrN+8YUYfecANrN+2X777Su2rTwHsJn1i5+I0XcOYDOzTAbkUmQzG1gDedl6Kb5svToeAZtZv/je0X3nEbDZMDSQI8OVK1dy9tlnb2lfeumlHHjggQO2/aHMI2Az65empqYto94xY8Y4fHvBAWxm/TZ16lQALrzwwryFDDEOYDPrt5133pn999/fo99ecgCbmWXiADYzy8QBbGaWiQPYzCwTB7CZWSYOYDOzTBzAZmaZOIDNzDJxAJuZZeIANjPLxAFsZpaJA9jMLBMHsJlZJg5gM7NMHMBmZpk4gM3MMnEAm5ll4gA2M8vEAWxmlokD2MwsEwewmVkmDmAzs0wcwGZmmTiAzcwycQCbmWXiADYzy8QBbGaWiQPYzCwTB7CZWSYOYDOzTGoWwJIWSnpW0oNFfedLapP0QPo6tmjelyS1SvqDpKOL+melvlZJ5xb17y3p3tR/g6TtU/8Oqd2a5k+t1Xs0M+uPWo6ArwFmlei/LCIOSF9LACRNB04G9kmv+Y6kOkl1wLeBY4DpwClpWYCvpnU1Ai8Cp6b+U4EXU/9laTkzs0GnZgEcEb8EXqhy8dnA9RGxKSIeB1qBg9JXa0Q8FhGvA9cDsyUJOBz4cXp9C3BC0bpa0vSPgSPS8mZmg0qOfcCnS/p92kWxW+qbCDxZtMy61FeuvwF4KSI6evR3W1ea/3Ja3sxsUBnoAL4KeCdwAPAU8I0B3n43kuZKWilp5XPPPZezFDMbgQY0gCPimYjYHBGdwPco7GIAaAMmFy06KfWV628HdpVU36O/27rS/F3S8qXqWRARTRHRNG7cuP6+PTOzXhnQAJY0oaj5EaDrDInFwMnpDIa9gWnAb4D7gGnpjIftKRyoWxwRAdwBnJhe3wzcVLSu5jR9IvCLtLyZ2aBSv/VF+kbSD4EZwB6S1gHnATMkHQAEsAb4LEBEPCTpRuBhoAM4LSI2p/WcDtwK1AELI+KhtIlzgOslXQT8Frg69V8NXCuplcJBwJNr9R7NzPqjZgEcEaeU6L66RF/X8l8BvlKifwmwpET/Y7y5C6O4/zXg470q1swsA18JZ2aWSVUBLGm8pKsl3ZLa0yWdurXXmZlZedWOgK+hsB92z9T+I3BmLQoyMxspqg3gPSLiRqATtlzgsLlmVZmZjQDVHoT7q6QGCmcvIOkQCleYjWhXXnklra2tucuoma73Nn/+/MyV1E5jYyPz5s3LXYaNUNUG8OcpnF/7Tkn/CYzjzXNwR6zW1lYeePARNo/ZPXcpNTHq9cLp06seeyZzJbVRt7HaW5WY1UZVARwR90v6W+DdgIA/RMQbNa1siNg8Znde/a/Hbn1BG3RGP/qWsxtrxn8tDX21+GupqgCWdBrwg66LICTtJumUiPjONq3GbJhqbW3lTw/9lik7Dc9DJ9u/UTictGntysyV1MYTr9TVZL3V7oL4TER8u6sRES9K+gzgADar0pSdNvNP71ufuwzrg4vv37km6632LIi64nvqphulb1+TiszMRohqR8BLgRskfTe1P5v6zMysj6oN4HMohO4/pvYy4Ps1qcjMbISo9iyITgo3U7+qtuWYmY0c1Z4F8QHgfGCv9BoBERHvqF1pZmbDW7W7IK4GzgJW4UuQzcy2iWoD+OWIuKWmlZiZjTDVBvAdkr4O/BTY1NUZEffXpCozsxGg2gA+OH1vKuoL4PBtW46Z2chR7VkQh9W6EDOzkabqZ8JJ+u/APsCOXX0RcUEtijIzGwmqfSTRvwL/A5hH4RS0j1M4Jc3MzPqo2ntB/E1EzAFejIgvA+8H3lW7sszMhr9qA/jV9H2jpD2BN4AJtSnJzGxkqHYf8M2SdgW+DtxP4QwI3wvCzKwfqj0L4sI0+RNJNwM7RsSIfyZcW1sbdRtfHtAnK9i2U7exnba2jgHZVltbG3/dUFez+8paba3dUMfYtrZtvt6KASzpoxXmERE/3eYVmZmNEFsbAR9XYV5QuDJuxJo4cSJPb6r3M+GGqNGPLmHixPEDsq2JEyeyqeMpPxFjiLr4/p3ZYeLEbb7eigEcEZ/e5ls0MzPAF2KYmWXjCzHMzDLxhRhmZpn4Qgwzs0x6eyHG1yg8FQN8IYaZWb9UG8CXUngi8qHAr4G78QM6zcz6pdoAbgE2AFek9ieARcBJtSjKzGwkqDaA942I6UXtOyQ9XIuCzMxGimoPwt0v6ZCuhqSDgZW1KcnMbGTY2r0gVlO45Hg74FeSnkjtvYBHa1+emdnwtbVdEB8ekCrMzEagrd0LYu1AFWJmNtJUuw/YzMy2sapvxtNbkhZS2IXxbETsm/p2B24ApgJrgJMi4kVJAi4HjgU2Ap+KiPvTa5qBf06rvSgiWlL/gcA1wGhgCTA/IqLcNmr1Ps2q9cQrw/eG7M9sLIzlxo/pzFxJbTzxSh3TarDemgUwhXD8FoXzhbucC9weEZdIOje1zwGOAaalr4MpXORxcArT84AmCgf/VklanAL1KuAzwL0UAngWcEuFbZhl09jYmLuEmnq9tRWAHfYanu9zGrX5N6xZAEfELyVN7dE9G5iRpluAOymE42xgUUQEsELSrpImpGWXRcQLAJKWAbMk3QnsHBErUv8i4AQKAVxuG2bZzJs3L3cJNTV//nwALr/88syVDC0DvQ94fEQ8laafBroeRzAReLJouXWpr1L/uhL9lbZhZjao1HIXREVpf23k3IakucBcgClTpvRpG3UbXxi2D+Uc9Vrh8TmdOw7P/ZZ1G1/Av58tp4EO4GckTYiIp9IuhmdTfxswuWi5SamvjTd3J3T135n6J5VYvtI23iIiFgALAJqamnr9y2C479drbd0AQOM7hmtIjR/2/4Y2uA10AC8GmoFL0vebivpPl3Q9hYNwL6cAvRW4WNJuabmjgC9FxAuS1qfLo+8F5gBXbmUb25z365lZf9TyNLQfUhi97iFpHYWzGS4BbpR0KrCWN++mtoTCKWitFE5D+zRACtoLgfvSchd0HZADPsebp6Hdkr6osA0zs0GllmdBnFJm1hEllg3gtDLrWQgsLNG/Eti3RH97qW2YmQ02vhLOzCwTB7CZWSYOYDOzTBzAZmaZOIDNzDJxAJuZZeIANjPLxAFsZpaJA9jMLBMHsJlZJg5gM7NMHMBmZpk4gM3MMnEAm5ll4gA2M8vEAWxmlokD2MwsEwewmVkmDmAzs0wcwGZmmTiAzcwycQCbmWXiADYzy8QBbGaWiQPYzCwTB7CZWSYOYDOzTBzAZmaZOIDNzDJxAJuZZeIANjPLxAFsZpaJA9jMLBMHsJlZJg5gM7NMHMBmZpk4gM3MMnEAm5ll4gA2M8vEAWxmlokD2Mz6bf369fzud79j1apVuUsZUupzbFTSGmADsBnoiIgmSbsDNwBTgTXASRHxoiQBlwPHAhuBT0XE/Wk9zcA/p9VeFBEtqf9A4BpgNLAEmB8RMSBvzmwQuPLKK2ltbR2w7T3++OMAfPGLX2S//fYbkG02NjYyb968AdlWreQcAR8WEQdERFNqnwvcHhHTgNtTG+AYYFr6mgtcBZAC+zzgYOAg4DxJu6XXXAV8puh1s2r/dsxGpvXr12+Z7uzsZMOGDRmrGVqyjIDLmA3MSNMtwJ3AOal/URrBrpC0q6QJadllEfECgKRlwCxJdwI7R8SK1L8IOAG4ZcDeiVlmAzky/PCHP9yt/eyzz7Jw4cIB2/5QlmsEHMBtklZJmpv6xkfEU2n6aWB8mp4IPFn02nWpr1L/uhL9ZlYDr7zySsW2lZdrBPzBiGiT9HZgmaRHi2dGREiq+T7bFP5zAaZMmVLrzZkNS/X19XR0dHRrW3WyjIAjoi19fxb4dwr7cJ9JuxZI359Ni7cBk4tePin1VeqfVKK/VB0LIqIpIprGjRvX37dlZkDhuLlVY8ADWNJYSW/rmgaOAh4EFgPNabFm4KY0vRiYo4JDgJfTropbgaMk7ZYOvh0F3JrmrZd0SDqDYk7RusxsG+vs7OzW3rx5c6ZKhp4cfyuMB/49/ZasB/5fRCyVdB9wo6RTgbXASWn5JRROQWulcBrapwEi4gVJFwL3peUu6DogB3yON09DuwUfgDOrmZ4B3LNt5Q14AEfEY8D+JfrbgSNK9AdwWpl1LQTecrg1IlYC+/a7WDOzGvKVcGZmmTiAzcwycQCbmWXiADYzy8QBbGVt3LiR1atXD+hNXcxGEgewlbV27Vo6Ozs5//zzc5dig9iYMWMqtq08XzM4hAzkLQY3btzI66+/DsC6deuYO3cuo0ePrvl2h8MtBkeaTZs2VWxbeR4BW0lr167t1l6zZk2eQsyGMY+Ah5CBHBnOmDGjW/v111/n8ssvH7Dt29AxYcIE1q1b161t1fEI2Mz6pb29vWLbynMAm1m/HHrood3aH/rQhzJVMvQ4gM2sX3z7yb5zAFtJPc94GIgzIGxouvvuuyu2rTwHsJXU8yHSfqi0lTNz5swto2BJHHnkkZkrGjocwFbSUUcd1a199NFHZ6rEBrvjjz9+yy/oiOC4447LXNHQ4QC2ko4//vhubX+orJzrrruuYtvKcwBbSf5QWbXuuuuuim0rzwFsJflDZdXy8YK+cwBbSf5QWbUmTZpUsW3lOYCtpJ4fosmTJ2eqxAa7M888s1v7rLPOylTJ0OMAtpJ63oLyvPPOy1OIDXq33XZbxbaV5wC2khobG7eMgidPnkxjY2Pmimywuv3227u1ly9fnqmSoccBbGWdf/75jB071qNfq6jnpci+NLl6DmArq7GxkZ///Oce/VpFRxxxRMW2lecAtrLa29s544wzfHtBq2ju3LmMGlWIklGjRjF37tzMFQ0dDmArq6WlhdWrV7No0aLcpdgg1tDQsOX+D0ceeSQNDQ2ZKxo6HMBWUnt7O0uXLiUiWLp0qUfBVtHcuXN5z3ve49FvLzmAraSWlhY6OzsB2Lx5s0fBVlFDQwNXXHGFR7+95AC2kpYvX05HRwcAHR0dLFu2LHNFZsOPA9hK6vmYmZ5ts2I+YNs3DmAryfd+sN7wAdu+cQBbSffcc0+3th8zY+X4gG3fOYCtpJkzZ1JXVwdAXV2dHzNjZfmAbd85gK2k5ubmLQFcX1/PnDlzMldkg5UP2PadA9hKamhoYNasWUhi1qxZPr3Iypo5cyb19fVA4Ze1/1qqngPYympubma//fbz6Ncqam5u3nIpcl1dnf+/9IID2MryyfVWDf+11HcOYDPrt+OPP54xY8b46dm95AA2s35bvHgxGzdu5Gc/+1nuUoYUB7CZ9YvPA+47B7CZ9YvPA+67YRvAkmZJ+oOkVknn5q7HbLjyecB9NywDWFId8G3gGGA6cIqk6XmrMhuefB5w3w3LAAYOAloj4rGIeB24HpiduSazYcnnAffdcA3gicCTRe11qc/MtjGfB9x39bkLyEnSXGAuwJQpUzJXYzZ0NTc3s2bNGo9+e2m4joDbgMlF7Umpr5uIWBARTRHRNG7cuAErzmy48VWTfTNcA/g+YJqkvSVtD5wMLM5ck5lZN8NyF0REdEg6HbgVqAMWRsRDmcsyM+tmWAYwQEQsAZbkrsPMrJzhugvCzGzQcwCbmWXiADYzy8QBbGaWiSIidw2DgqTngLW56xiE9gCez12EDQn+v1LaXhFR8kIDB7BVJGllRDTlrsMGP/9f6T3vgjAzy8QBbGaWiQPYtmZB7gJsyPD/lV7yPmAzs0w8AjYzy8QBbCX5mXpWLUkLJT0r6cHctQw1DmB7Cz9Tz3rpGmBW7iKGIgewleJn6lnVIuKXwAu56xiKHMBWip+pZzYAHMBmZpk4gK2Uqp6pZ2b94wC2UvxMPbMB4AC2t4iIDqDrmXqPADf6mXpWjqQfAr8G3i1pnaRTc9c0VPhKODOzTDwCNjPLxAFsZpaJA9jMLBMHsJlZJg5gM7NMHMBmPUi6RtKJueuw4c8BbLaNpbvJmW2VA9hGPElzJP1e0u8kXZu6PyTpV5Ie6xoNS5oh6eai131L0qfS9BpJX5V0P/BxSXem9m8k/VHSoQP+xmzQcwDbiCZpH+CfgcMjYn9gfpo1Afgg8GHgkipX1x4R74uI61O7PiIOAs4EztuGZdsw4QC2ke5w4EcR8TxARHTd1/Y/IqIzIh4Gxle5rht6tH+avq8Cpva3UBt+HMBmpW0qmlb63kH3z8yOPV7z1zLr2AzUb7vSbLhwANtI9wsK+2wbACTtXmHZtcB0STtI2hU4YiAKtOHLv5VtRIuIhyR9BbhL0mbgtxWWfVLSjcCDwOOVljWrhu+GZmaWiXdBmJll4gA2M8vEAWxmlokD2MwsEwewmVkmDmAzs0wcwGZmmTiAzcwy+f+MzLnQHb9X1AAAAABJRU5ErkJggg==\n",
      "text/plain": [
       "<Figure size 360x360 with 1 Axes>"
      ]
     },
     "metadata": {
      "needs_background": "light"
     },
     "output_type": "display_data"
    },
    {
     "data": {
      "image/png": "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\n",
      "text/plain": [
       "<Figure size 360x360 with 1 Axes>"
      ]
     },
     "metadata": {
      "needs_background": "light"
     },
     "output_type": "display_data"
    }
   ],
   "source": [
    "for column in ['score', 'age', 'balance', 'estimated_salary']:\n",
    "    plt.figure(figsize=(5, 5))\n",
    "    sns.boxplot(x = 'churn', y = data[column], data = data)\n",
    "    plt.title('Ящик с усами' + ' ' + column)\n",
    "    plt.show()"
   ]
  },
  {
   "cell_type": "markdown",
   "metadata": {},
   "source": [
    "### Матрица корреляции <a id=\"step2.4\"></a>   \n",
    "</div> "
   ]
  },
  {
   "cell_type": "markdown",
   "metadata": {},
   "source": [
    "Для полного успокоения построим матрицу корреляции. "
   ]
  },
  {
   "cell_type": "code",
   "execution_count": 16,
   "metadata": {},
   "outputs": [
    {
     "data": {
      "image/png": "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\n",
      "text/plain": [
       "<Figure size 1080x720 with 2 Axes>"
      ]
     },
     "metadata": {
      "needs_background": "light"
     },
     "output_type": "display_data"
    }
   ],
   "source": [
    "cm = data.corr()\n",
    "plt.figure(figsize=(15, 10))\n",
    "sns.heatmap(cm, annot = True, fmt = '0.2f')\n",
    "plt.show()"
   ]
  },
  {
   "cell_type": "markdown",
   "metadata": {},
   "source": [
    "### Вывод к Шагу №2 <a id=\"step2.5\"></a>   \n",
    "</div>  "
   ]
  },
  {
   "cell_type": "markdown",
   "metadata": {},
   "source": [
    "Каких-то интересных выводов из графиков сделать не предоставляется возможным, все в пределах логики (кроме женщин). \n",
    "- Возвращаемость клиентов не зависит от текущего баланса, уровня зарплаты или кредитного скоринга;\n",
    "- А вот возраст влияет, чем младше, тем меньше вероятность, что клиент уйдёт от нас в другой банк;\n",
    "- Женщины к нашему банку менее лояльны, чем мужчины;\n",
    "- Больше всего наших клиентов в **Ярославле**. Это и понятно - он самый крупный город из анализируемых;\n",
    "- По соотношению уходящих клиентов лучше остальных показывает себя **Рыбинск**, при населении около 200 тысяч человек, отток в этом городе самый маленький;\n",
    "- По количеству клиентов на душу населения **Ростов Великий** выбивается вперёд, но и отток клиентов самый большой;\n",
    "- Количество объектов в собственности также принципиально не влияет на возвращаемость.\n",
    "- Лучше всего показывают себя пользователи с двумя продуктами, а вот отток у пользователей с одним продуктом и, наоборот, >=3 значительнее.\n",
    "\n",
    "Матрица корреляции в целом подтверждает выводы выше, но обнаруживает ещё один факт\n",
    "- Активные клиенты с большим доверием относятся к нашему банку. Возможно, им нравится наша скорость обработки их запросов. \n"
   ]
  },
  {
   "cell_type": "markdown",
   "metadata": {},
   "source": [
    "### Шаг 3. Сегментирование пользователей на основе данных о количестве потребляемых продуктов <a id=\"step3\"></a>   \n",
    "</div>  "
   ]
  },
  {
   "cell_type": "markdown",
   "metadata": {},
   "source": [
    "Соберем `clusters` на основании сводной таблицы."
   ]
  },
  {
   "cell_type": "code",
   "execution_count": 17,
   "metadata": {},
   "outputs": [
    {
     "data": {
      "text/html": [
       "<div>\n",
       "<style scoped>\n",
       "    .dataframe tbody tr th:only-of-type {\n",
       "        vertical-align: middle;\n",
       "    }\n",
       "\n",
       "    .dataframe tbody tr th {\n",
       "        vertical-align: top;\n",
       "    }\n",
       "\n",
       "    .dataframe thead th {\n",
       "        text-align: right;\n",
       "    }\n",
       "</style>\n",
       "<table border=\"1\" class=\"dataframe\">\n",
       "  <thead>\n",
       "    <tr style=\"text-align: right;\">\n",
       "      <th></th>\n",
       "      <th>userid</th>\n",
       "      <th>score</th>\n",
       "      <th>city</th>\n",
       "      <th>gender</th>\n",
       "      <th>age</th>\n",
       "      <th>objects</th>\n",
       "      <th>balance</th>\n",
       "      <th>products</th>\n",
       "      <th>creditcard</th>\n",
       "      <th>loyalty</th>\n",
       "      <th>estimated_salary</th>\n",
       "      <th>churn</th>\n",
       "    </tr>\n",
       "  </thead>\n",
       "  <tbody>\n",
       "    <tr>\n",
       "      <td>0</td>\n",
       "      <td>15677338</td>\n",
       "      <td>619</td>\n",
       "      <td>Ярославль</td>\n",
       "      <td>Ж</td>\n",
       "      <td>42</td>\n",
       "      <td>2</td>\n",
       "      <td>NaN</td>\n",
       "      <td>1</td>\n",
       "      <td>1</td>\n",
       "      <td>1</td>\n",
       "      <td>101348.88</td>\n",
       "      <td>1</td>\n",
       "    </tr>\n",
       "    <tr>\n",
       "      <td>1</td>\n",
       "      <td>15690047</td>\n",
       "      <td>608</td>\n",
       "      <td>Рыбинск</td>\n",
       "      <td>Ж</td>\n",
       "      <td>41</td>\n",
       "      <td>1</td>\n",
       "      <td>83807.86</td>\n",
       "      <td>1</td>\n",
       "      <td>0</td>\n",
       "      <td>1</td>\n",
       "      <td>112542.58</td>\n",
       "      <td>0</td>\n",
       "    </tr>\n",
       "    <tr>\n",
       "      <td>2</td>\n",
       "      <td>15662040</td>\n",
       "      <td>502</td>\n",
       "      <td>Ярославль</td>\n",
       "      <td>Ж</td>\n",
       "      <td>42</td>\n",
       "      <td>8</td>\n",
       "      <td>159660.80</td>\n",
       "      <td>3</td>\n",
       "      <td>1</td>\n",
       "      <td>0</td>\n",
       "      <td>113931.57</td>\n",
       "      <td>1</td>\n",
       "    </tr>\n",
       "    <tr>\n",
       "      <td>3</td>\n",
       "      <td>15744090</td>\n",
       "      <td>699</td>\n",
       "      <td>Ярославль</td>\n",
       "      <td>Ж</td>\n",
       "      <td>39</td>\n",
       "      <td>1</td>\n",
       "      <td>NaN</td>\n",
       "      <td>2</td>\n",
       "      <td>0</td>\n",
       "      <td>0</td>\n",
       "      <td>93826.63</td>\n",
       "      <td>0</td>\n",
       "    </tr>\n",
       "    <tr>\n",
       "      <td>4</td>\n",
       "      <td>15780624</td>\n",
       "      <td>850</td>\n",
       "      <td>Рыбинск</td>\n",
       "      <td>Ж</td>\n",
       "      <td>43</td>\n",
       "      <td>2</td>\n",
       "      <td>125510.82</td>\n",
       "      <td>1</td>\n",
       "      <td>1</td>\n",
       "      <td>1</td>\n",
       "      <td>79084.10</td>\n",
       "      <td>0</td>\n",
       "    </tr>\n",
       "    <tr>\n",
       "      <td>...</td>\n",
       "      <td>...</td>\n",
       "      <td>...</td>\n",
       "      <td>...</td>\n",
       "      <td>...</td>\n",
       "      <td>...</td>\n",
       "      <td>...</td>\n",
       "      <td>...</td>\n",
       "      <td>...</td>\n",
       "      <td>...</td>\n",
       "      <td>...</td>\n",
       "      <td>...</td>\n",
       "      <td>...</td>\n",
       "    </tr>\n",
       "    <tr>\n",
       "      <td>9995</td>\n",
       "      <td>15648965</td>\n",
       "      <td>771</td>\n",
       "      <td>Ярославль</td>\n",
       "      <td>М</td>\n",
       "      <td>39</td>\n",
       "      <td>5</td>\n",
       "      <td>NaN</td>\n",
       "      <td>2</td>\n",
       "      <td>1</td>\n",
       "      <td>0</td>\n",
       "      <td>96270.64</td>\n",
       "      <td>0</td>\n",
       "    </tr>\n",
       "    <tr>\n",
       "      <td>9996</td>\n",
       "      <td>15612628</td>\n",
       "      <td>516</td>\n",
       "      <td>Ярославль</td>\n",
       "      <td>М</td>\n",
       "      <td>35</td>\n",
       "      <td>10</td>\n",
       "      <td>57369.61</td>\n",
       "      <td>1</td>\n",
       "      <td>1</td>\n",
       "      <td>1</td>\n",
       "      <td>101699.77</td>\n",
       "      <td>0</td>\n",
       "    </tr>\n",
       "    <tr>\n",
       "      <td>9997</td>\n",
       "      <td>15627268</td>\n",
       "      <td>709</td>\n",
       "      <td>Ярославль</td>\n",
       "      <td>Ж</td>\n",
       "      <td>36</td>\n",
       "      <td>7</td>\n",
       "      <td>NaN</td>\n",
       "      <td>1</td>\n",
       "      <td>0</td>\n",
       "      <td>1</td>\n",
       "      <td>42085.58</td>\n",
       "      <td>1</td>\n",
       "    </tr>\n",
       "    <tr>\n",
       "      <td>9998</td>\n",
       "      <td>15725091</td>\n",
       "      <td>772</td>\n",
       "      <td>Ростов Великий</td>\n",
       "      <td>М</td>\n",
       "      <td>42</td>\n",
       "      <td>3</td>\n",
       "      <td>75075.31</td>\n",
       "      <td>2</td>\n",
       "      <td>1</td>\n",
       "      <td>0</td>\n",
       "      <td>92888.52</td>\n",
       "      <td>1</td>\n",
       "    </tr>\n",
       "    <tr>\n",
       "      <td>9999</td>\n",
       "      <td>15671055</td>\n",
       "      <td>792</td>\n",
       "      <td>Ярославль</td>\n",
       "      <td>Ж</td>\n",
       "      <td>28</td>\n",
       "      <td>4</td>\n",
       "      <td>130142.79</td>\n",
       "      <td>1</td>\n",
       "      <td>1</td>\n",
       "      <td>0</td>\n",
       "      <td>38190.78</td>\n",
       "      <td>0</td>\n",
       "    </tr>\n",
       "  </tbody>\n",
       "</table>\n",
       "<p>10000 rows × 12 columns</p>\n",
       "</div>"
      ],
      "text/plain": [
       "        userid  score            city gender  age  objects    balance  \\\n",
       "0     15677338    619       Ярославль      Ж   42        2        NaN   \n",
       "1     15690047    608         Рыбинск      Ж   41        1   83807.86   \n",
       "2     15662040    502       Ярославль      Ж   42        8  159660.80   \n",
       "3     15744090    699       Ярославль      Ж   39        1        NaN   \n",
       "4     15780624    850         Рыбинск      Ж   43        2  125510.82   \n",
       "...        ...    ...             ...    ...  ...      ...        ...   \n",
       "9995  15648965    771       Ярославль      М   39        5        NaN   \n",
       "9996  15612628    516       Ярославль      М   35       10   57369.61   \n",
       "9997  15627268    709       Ярославль      Ж   36        7        NaN   \n",
       "9998  15725091    772  Ростов Великий      М   42        3   75075.31   \n",
       "9999  15671055    792       Ярославль      Ж   28        4  130142.79   \n",
       "\n",
       "      products  creditcard  loyalty  estimated_salary  churn  \n",
       "0            1           1        1         101348.88      1  \n",
       "1            1           0        1         112542.58      0  \n",
       "2            3           1        0         113931.57      1  \n",
       "3            2           0        0          93826.63      0  \n",
       "4            1           1        1          79084.10      0  \n",
       "...        ...         ...      ...               ...    ...  \n",
       "9995         2           1        0          96270.64      0  \n",
       "9996         1           1        1         101699.77      0  \n",
       "9997         1           0        1          42085.58      1  \n",
       "9998         2           1        0          92888.52      1  \n",
       "9999         1           1        0          38190.78      0  \n",
       "\n",
       "[10000 rows x 12 columns]"
      ]
     },
     "metadata": {},
     "output_type": "display_data"
    }
   ],
   "source": [
    "display(data)"
   ]
  },
  {
   "cell_type": "code",
   "execution_count": 18,
   "metadata": {},
   "outputs": [
    {
     "data": {
      "text/html": [
       "<div>\n",
       "<style scoped>\n",
       "    .dataframe tbody tr th:only-of-type {\n",
       "        vertical-align: middle;\n",
       "    }\n",
       "\n",
       "    .dataframe tbody tr th {\n",
       "        vertical-align: top;\n",
       "    }\n",
       "\n",
       "    .dataframe thead th {\n",
       "        text-align: right;\n",
       "    }\n",
       "</style>\n",
       "<table border=\"1\" class=\"dataframe\">\n",
       "  <thead>\n",
       "    <tr style=\"text-align: right;\">\n",
       "      <th></th>\n",
       "      <th>score</th>\n",
       "      <th>age</th>\n",
       "      <th>objects</th>\n",
       "      <th>products</th>\n",
       "      <th>creditcard</th>\n",
       "      <th>loyalty</th>\n",
       "      <th>estimated_salary</th>\n",
       "      <th>churn</th>\n",
       "    </tr>\n",
       "  </thead>\n",
       "  <tbody>\n",
       "    <tr>\n",
       "      <td>0</td>\n",
       "      <td>619</td>\n",
       "      <td>42</td>\n",
       "      <td>2</td>\n",
       "      <td>1</td>\n",
       "      <td>1</td>\n",
       "      <td>1</td>\n",
       "      <td>101348.88</td>\n",
       "      <td>1</td>\n",
       "    </tr>\n",
       "    <tr>\n",
       "      <td>1</td>\n",
       "      <td>608</td>\n",
       "      <td>41</td>\n",
       "      <td>1</td>\n",
       "      <td>1</td>\n",
       "      <td>0</td>\n",
       "      <td>1</td>\n",
       "      <td>112542.58</td>\n",
       "      <td>0</td>\n",
       "    </tr>\n",
       "    <tr>\n",
       "      <td>2</td>\n",
       "      <td>502</td>\n",
       "      <td>42</td>\n",
       "      <td>8</td>\n",
       "      <td>3</td>\n",
       "      <td>1</td>\n",
       "      <td>0</td>\n",
       "      <td>113931.57</td>\n",
       "      <td>1</td>\n",
       "    </tr>\n",
       "    <tr>\n",
       "      <td>3</td>\n",
       "      <td>699</td>\n",
       "      <td>39</td>\n",
       "      <td>1</td>\n",
       "      <td>2</td>\n",
       "      <td>0</td>\n",
       "      <td>0</td>\n",
       "      <td>93826.63</td>\n",
       "      <td>0</td>\n",
       "    </tr>\n",
       "    <tr>\n",
       "      <td>4</td>\n",
       "      <td>850</td>\n",
       "      <td>43</td>\n",
       "      <td>2</td>\n",
       "      <td>1</td>\n",
       "      <td>1</td>\n",
       "      <td>1</td>\n",
       "      <td>79084.10</td>\n",
       "      <td>0</td>\n",
       "    </tr>\n",
       "    <tr>\n",
       "      <td>...</td>\n",
       "      <td>...</td>\n",
       "      <td>...</td>\n",
       "      <td>...</td>\n",
       "      <td>...</td>\n",
       "      <td>...</td>\n",
       "      <td>...</td>\n",
       "      <td>...</td>\n",
       "      <td>...</td>\n",
       "    </tr>\n",
       "    <tr>\n",
       "      <td>9995</td>\n",
       "      <td>771</td>\n",
       "      <td>39</td>\n",
       "      <td>5</td>\n",
       "      <td>2</td>\n",
       "      <td>1</td>\n",
       "      <td>0</td>\n",
       "      <td>96270.64</td>\n",
       "      <td>0</td>\n",
       "    </tr>\n",
       "    <tr>\n",
       "      <td>9996</td>\n",
       "      <td>516</td>\n",
       "      <td>35</td>\n",
       "      <td>10</td>\n",
       "      <td>1</td>\n",
       "      <td>1</td>\n",
       "      <td>1</td>\n",
       "      <td>101699.77</td>\n",
       "      <td>0</td>\n",
       "    </tr>\n",
       "    <tr>\n",
       "      <td>9997</td>\n",
       "      <td>709</td>\n",
       "      <td>36</td>\n",
       "      <td>7</td>\n",
       "      <td>1</td>\n",
       "      <td>0</td>\n",
       "      <td>1</td>\n",
       "      <td>42085.58</td>\n",
       "      <td>1</td>\n",
       "    </tr>\n",
       "    <tr>\n",
       "      <td>9998</td>\n",
       "      <td>772</td>\n",
       "      <td>42</td>\n",
       "      <td>3</td>\n",
       "      <td>2</td>\n",
       "      <td>1</td>\n",
       "      <td>0</td>\n",
       "      <td>92888.52</td>\n",
       "      <td>1</td>\n",
       "    </tr>\n",
       "    <tr>\n",
       "      <td>9999</td>\n",
       "      <td>792</td>\n",
       "      <td>28</td>\n",
       "      <td>4</td>\n",
       "      <td>1</td>\n",
       "      <td>1</td>\n",
       "      <td>0</td>\n",
       "      <td>38190.78</td>\n",
       "      <td>0</td>\n",
       "    </tr>\n",
       "  </tbody>\n",
       "</table>\n",
       "<p>10000 rows × 8 columns</p>\n",
       "</div>"
      ],
      "text/plain": [
       "      score  age  objects  products  creditcard  loyalty  estimated_salary  \\\n",
       "0       619   42        2         1           1        1         101348.88   \n",
       "1       608   41        1         1           0        1         112542.58   \n",
       "2       502   42        8         3           1        0         113931.57   \n",
       "3       699   39        1         2           0        0          93826.63   \n",
       "4       850   43        2         1           1        1          79084.10   \n",
       "...     ...  ...      ...       ...         ...      ...               ...   \n",
       "9995    771   39        5         2           1        0          96270.64   \n",
       "9996    516   35       10         1           1        1         101699.77   \n",
       "9997    709   36        7         1           0        1          42085.58   \n",
       "9998    772   42        3         2           1        0          92888.52   \n",
       "9999    792   28        4         1           1        0          38190.78   \n",
       "\n",
       "      churn  \n",
       "0         1  \n",
       "1         0  \n",
       "2         1  \n",
       "3         0  \n",
       "4         0  \n",
       "...     ...  \n",
       "9995      0  \n",
       "9996      0  \n",
       "9997      1  \n",
       "9998      1  \n",
       "9999      0  \n",
       "\n",
       "[10000 rows x 8 columns]"
      ]
     },
     "execution_count": 18,
     "metadata": {},
     "output_type": "execute_result"
    }
   ],
   "source": [
    "clusters = data\n",
    "\n",
    "clusters = clusters.drop(['userid','city', 'gender','balance'], axis = 1)\n",
    "clusters\n"
   ]
  },
  {
   "cell_type": "code",
   "execution_count": null,
   "metadata": {},
   "outputs": [],
   "source": [
    "\n",
    "\n",
    "\n",
    "                        "
   ]
  },
  {
   "cell_type": "code",
   "execution_count": null,
   "metadata": {},
   "outputs": [],
   "source": []
  },
  {
   "cell_type": "markdown",
   "metadata": {},
   "source": [
    "Стандартизируем данные"
   ]
  },
  {
   "cell_type": "code",
   "execution_count": 19,
   "metadata": {},
   "outputs": [],
   "source": [
    "scaler = StandardScaler() \n",
    "x_sc = scaler.fit_transform(clusters)\n",
    "\n"
   ]
  },
  {
   "cell_type": "markdown",
   "metadata": {},
   "source": [
    "Применим функцию `linkage()` c параметром method = `ward`. "
   ]
  },
  {
   "cell_type": "code",
   "execution_count": 20,
   "metadata": {},
   "outputs": [],
   "source": [
    "linked = linkage(x_sc, method = 'ward')"
   ]
  },
  {
   "cell_type": "markdown",
   "metadata": {},
   "source": [
    "Построим дендрограмму"
   ]
  },
  {
   "cell_type": "code",
   "execution_count": 21,
   "metadata": {},
   "outputs": [
    {
     "data": {
      "image/png": "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\n",
      "text/plain": [
       "<Figure size 1152x648 with 1 Axes>"
      ]
     },
     "metadata": {
      "needs_background": "light"
     },
     "output_type": "display_data"
    }
   ],
   "source": [
    "plt.figure(figsize=(16, 9))  \n",
    "dendrogram(linked, orientation='top')\n",
    "plt.title('Дендрограмма')\n",
    "plt.show()"
   ]
  },
  {
   "cell_type": "markdown",
   "metadata": {},
   "source": [
    "Как видно из дендрограммы мы можем кластеризировать пользователей на 4 кластера."
   ]
  },
  {
   "cell_type": "markdown",
   "metadata": {},
   "source": [
    "### Алгоритм K-Means <a id=\"step3.1\"></a>   \n",
    "</div>  "
   ]
  },
  {
   "cell_type": "code",
   "execution_count": 22,
   "metadata": {},
   "outputs": [],
   "source": [
    "km = KMeans(n_clusters = 4)"
   ]
  },
  {
   "cell_type": "markdown",
   "metadata": {},
   "source": [
    "Прогнозируем кластеры для наблюдений"
   ]
  },
  {
   "cell_type": "code",
   "execution_count": 23,
   "metadata": {},
   "outputs": [],
   "source": [
    "labels = km.fit_predict(x_sc)"
   ]
  },
  {
   "cell_type": "markdown",
   "metadata": {},
   "source": [
    "Cохраняем метки кластера в поле нашего датасета"
   ]
  },
  {
   "cell_type": "code",
   "execution_count": 24,
   "metadata": {},
   "outputs": [],
   "source": [
    "clusters['cluster_churn'] = labels"
   ]
  },
  {
   "cell_type": "markdown",
   "metadata": {},
   "source": [
    "### Средние значения признаков для кластеров <a id=\"step3.2\"></a>   \n",
    "</div>  "
   ]
  },
  {
   "cell_type": "markdown",
   "metadata": {},
   "source": [
    "Сгруппируем данные по `cluster_churn`. Округлим данные до двух знаков после запятой и перевернём таблицу для удобства воспрития"
   ]
  },
  {
   "cell_type": "code",
   "execution_count": 25,
   "metadata": {},
   "outputs": [
    {
     "data": {
      "text/html": [
       "<div>\n",
       "<style scoped>\n",
       "    .dataframe tbody tr th:only-of-type {\n",
       "        vertical-align: middle;\n",
       "    }\n",
       "\n",
       "    .dataframe tbody tr th {\n",
       "        vertical-align: top;\n",
       "    }\n",
       "\n",
       "    .dataframe thead th {\n",
       "        text-align: right;\n",
       "    }\n",
       "</style>\n",
       "<table border=\"1\" class=\"dataframe\">\n",
       "  <thead>\n",
       "    <tr style=\"text-align: right;\">\n",
       "      <th>cluster_churn</th>\n",
       "      <th>0</th>\n",
       "      <th>1</th>\n",
       "      <th>2</th>\n",
       "      <th>3</th>\n",
       "    </tr>\n",
       "  </thead>\n",
       "  <tbody>\n",
       "    <tr>\n",
       "      <td>score</td>\n",
       "      <td>645.35</td>\n",
       "      <td>654.29</td>\n",
       "      <td>648.28</td>\n",
       "      <td>652.43</td>\n",
       "    </tr>\n",
       "    <tr>\n",
       "      <td>age</td>\n",
       "      <td>44.85</td>\n",
       "      <td>38.90</td>\n",
       "      <td>35.47</td>\n",
       "      <td>37.48</td>\n",
       "    </tr>\n",
       "    <tr>\n",
       "      <td>objects</td>\n",
       "      <td>4.93</td>\n",
       "      <td>5.02</td>\n",
       "      <td>5.17</td>\n",
       "      <td>4.91</td>\n",
       "    </tr>\n",
       "    <tr>\n",
       "      <td>products</td>\n",
       "      <td>1.47</td>\n",
       "      <td>1.54</td>\n",
       "      <td>1.56</td>\n",
       "      <td>1.54</td>\n",
       "    </tr>\n",
       "    <tr>\n",
       "      <td>creditcard</td>\n",
       "      <td>0.70</td>\n",
       "      <td>1.00</td>\n",
       "      <td>1.00</td>\n",
       "      <td>0.00</td>\n",
       "    </tr>\n",
       "    <tr>\n",
       "      <td>loyalty</td>\n",
       "      <td>0.36</td>\n",
       "      <td>1.00</td>\n",
       "      <td>0.00</td>\n",
       "      <td>0.55</td>\n",
       "    </tr>\n",
       "    <tr>\n",
       "      <td>estimated_salary</td>\n",
       "      <td>101432.80</td>\n",
       "      <td>98666.21</td>\n",
       "      <td>100565.54</td>\n",
       "      <td>100315.52</td>\n",
       "    </tr>\n",
       "    <tr>\n",
       "      <td>churn</td>\n",
       "      <td>1.00</td>\n",
       "      <td>0.00</td>\n",
       "      <td>0.00</td>\n",
       "      <td>0.00</td>\n",
       "    </tr>\n",
       "  </tbody>\n",
       "</table>\n",
       "</div>"
      ],
      "text/plain": [
       "cluster_churn             0         1          2          3\n",
       "score                645.35    654.29     648.28     652.43\n",
       "age                   44.85     38.90      35.47      37.48\n",
       "objects                4.93      5.02       5.17       4.91\n",
       "products               1.47      1.54       1.56       1.54\n",
       "creditcard             0.70      1.00       1.00       0.00\n",
       "loyalty                0.36      1.00       0.00       0.55\n",
       "estimated_salary  101432.80  98666.21  100565.54  100315.52\n",
       "churn                  1.00      0.00       0.00       0.00"
      ]
     },
     "metadata": {},
     "output_type": "display_data"
    }
   ],
   "source": [
    "\n",
    "display(clusters.groupby('cluster_churn').mean().round(2).T)\n"
   ]
  },
  {
   "cell_type": "markdown",
   "metadata": {},
   "source": [
    "- Средний возраст **Кластеров 1,2,3** меньше чем **Кластера 0**;\n",
    "- Средний доход **Кластера 0** чуть выше, чем у хороших кластеров;\n",
    "- Кредитный скоринг выше у хороших кластеров (не зря сотрудники работают);\n",
    "- Количество объектов и продуктов не так сильно влияет на возвращаемость, хотя для проблемного **Кластера №0** наблюдается снижение количества продуктов;\n",
    "- Для **кластера №0** (на который нам не стоит ориентироваться) характерна активность ниже среднего, высокий средний возраст;\n",
    "- **Кластер 3** отличается высокой активностью, наличием кредитной карты;\n",
    "- **Кластер 1** также имеет кредитную карту, но не проявляет особой активности;\n",
    "- **Кластер 2** наоборот не имеет кредитов, но имеет средний уровень активности."
   ]
  },
  {
   "cell_type": "markdown",
   "metadata": {},
   "source": [
    "### Шаг 4. Сформулируем и проверим статистические гипотезы. <a id=\"step4\"></a>   \n",
    "</div>  "
   ]
  },
  {
   "cell_type": "markdown",
   "metadata": {},
   "source": [
    "### Проверим гипотезу различия дохода между теми клиентами, которые пользуются двумя продуктами банка, и теми, которые пользуются одним. <a id=\"step4.1\"></a>   \n",
    "</div>  "
   ]
  },
  {
   "cell_type": "markdown",
   "metadata": {},
   "source": [
    "Для решения данной задачи применим t-распределение Стьюдента. У нас две независимых группы (с одним и двумя продуктами соответственно). Поэтому `st.ttest_ind` нам прекрасно подходит. \n",
    "\n",
    "Нулевая гипотеза H<sub>0</sub> - Доход пользователей, которые пользуются **двумя продуктами**, *не отличается* от дохода пользователей, который пользуются **одним продуктом**   \n",
    "Альтернативная гипотеза H<sub>1</sub> - Доход пользователей, которые пользуются **двумя продуктами**, *отличается* от дохода пользователей, который пользуются **одним продуктом** "
   ]
  },
  {
   "cell_type": "code",
   "execution_count": 26,
   "metadata": {},
   "outputs": [
    {
     "name": "stdout",
     "output_type": "stream",
     "text": [
      "Дисперсия для пользователей с двумя продуктами: 3339048942.6448092\n",
      "Дисперсия для пользователей с одним продуктом: 3289938391.6508718\n",
      "p-значение: 0.41047183624949335\n",
      "Не получилось отвергнуть нулевую гипотезу\n"
     ]
    }
   ],
   "source": [
    "one_product = data.query('products == 1')['estimated_salary']\n",
    "two_products = data.query('products == 2')['estimated_salary']\n",
    "print('Дисперсия для пользователей с двумя продуктами:', np.var(two_products))\n",
    "print('Дисперсия для пользователей с одним продуктом:', np.var(one_product))\n",
    "\n",
    "\n",
    "alpha = 0.05\n",
    "\n",
    "results = st.ttest_ind(\n",
    "    two_products,\n",
    "    one_product, \n",
    "    equal_var=True)\n",
    "\n",
    "print('p-значение:', results.pvalue)\n",
    "\n",
    "if (results.pvalue < alpha):\n",
    "    print(\"Отвергаем нулевую гипотезу\")\n",
    "else:\n",
    "    print(\"Не получилось отвергнуть нулевую гипотезу\")"
   ]
  },
  {
   "cell_type": "markdown",
   "metadata": {},
   "source": [
    "Таким образом мы не можем подтвердить, что доход напрямую связан с количеством используемых продуктов"
   ]
  },
  {
   "cell_type": "markdown",
   "metadata": {},
   "source": [
    "### Проверим статистическую гипотезу относительно представленных данных <a id=\"step4.2\"></a>   \n",
    "</div>  "
   ]
  },
  {
   "cell_type": "markdown",
   "metadata": {},
   "source": [
    "Для проверки статистической гипотезы используем непараметрический подход. В частности будем использовать метод Манна-Уитни - `st.mannwhitneyu`. \n",
    "\n",
    "Ключевая идея — проранжировать две выборки по порядку от меньшего к большему и сравнить ранги одних и тех же значений, попавших в обе выборки. Ранг — это место в упорядоченной выборке.  Разница между рангами одних и тех же значений может одинакова, и такой сдвиг называют типичным. Значит, просто добавились значения, сдвинувшие все остальные."
   ]
  },
  {
   "cell_type": "markdown",
   "metadata": {},
   "source": [
    "Нулевая гипотеза H<sub>0</sub> - Предоставленные данные имеют статистически значимую разницу.    \n",
    "Альтернативная гипотеза H<sub>1</sub> - Предоставленные данные не имеют статистически значимой разницы.   "
   ]
  },
  {
   "cell_type": "code",
   "execution_count": 27,
   "metadata": {},
   "outputs": [
    {
     "name": "stdout",
     "output_type": "stream",
     "text": [
      "p-значение:  0.20397833259638254\n",
      "Не получилось отвергнуть нулевую гипотезу, вывод о различии сделать нельзя\n"
     ]
    }
   ],
   "source": [
    "alpha = 0.05 # критический уровень статистической значимости\n",
    "\n",
    "results = st.mannwhitneyu(one_product, two_products)\n",
    "\n",
    "print('p-значение: ', results.pvalue)\n",
    "\n",
    "if (results.pvalue < alpha):\n",
    "    print(\"Отвергаем нулевую гипотезу: разница статистически значима\")\n",
    "else:\n",
    "    print(\"Не получилось отвергнуть нулевую гипотезу, вывод о различии сделать нельзя\")"
   ]
  },
  {
   "cell_type": "markdown",
   "metadata": {},
   "source": [
    "### Коментарий наставника\n",
    "\n",
    "<font color = purple>Проверка гипотез выполнена правильно\n",
    "</font>"
   ]
  },
  {
   "cell_type": "markdown",
   "metadata": {},
   "source": [
    "### Шаг 5. Общий вывод <a id=\"step5\"></a>   \n",
    "</div>  "
   ]
  },
  {
   "cell_type": "markdown",
   "metadata": {},
   "source": [
    "В процессе работы над проектом мы обнаружили большое количество пропущенных значений, но не стали создавать лишние синтетические данные, чтобы не нарушать логику датасета.  \n",
    "\n",
    "В остальном претензий к полученному датасету у нас нет, на поставленную задачу пропущенные значения не влияли.\n",
    "\n",
    "В ходе исследования мы выяснили, что:  \n",
    "\n",
    "- Женщины меньше любят наш банк и чаще уходят;\n",
    "- Чем старше клиент, тем хуже для банка;\n",
    "- В банке, в целом, хорошо справляются с активными клиентами;\n",
    "- Принципиально можно выделить 2 сегмента клиентов (с возможностью разбивки нужного нам кластера на 3 подгруппы соответственно, отличающихся наличием кредиток и активностью);\n",
    "- Для \"плохого\" кластера характерен высокий возраст, несколько более низкое количество используемых продуктов и низкий кредитный скоринг.\n",
    "- В ходе исследования не удалось опровергнуть гипотезу о том, что доход связан с количеством используемых продуктов;\n",
    "- Датасет не имеет статистических выбросов.\n",
    "\n",
    "#### Со своей стороны мы бы рекомендовали усилить привлечение мужской аудитории. Возможно, что есть пути привлечения и женской части клиентов, но для этого в коммуникацию нужно добавить \"нежности\" и \"спокойствия\", не потеряв при этом активных клиентов. Также существует перекос в сторону в 30-40 летних клиентов, а поколение старше чаще уходит (возможно, нужно опять же добавить \"спокойствия\"). \n",
    "#### С клиентами, у которых всего 1 продукт банка, нужно работать в части расширения продуктовой линейки в их портфеле, так вероятность их отказа от дальнейшего сотрудничества падает.  \n",
    "\n"
   ]
  },

  {
   "cell_type": "code",
   "execution_count": null,
   "metadata": {},
   "outputs": [],
   "source": []
  }
 ],
 "metadata": {
  "kernelspec": {
   "display_name": "Python 3",
   "language": "python",
   "name": "python3"
  },
  "language_info": {
   "codemirror_mode": {
    "name": "ipython",
    "version": 3
   },
   "file_extension": ".py",
   "mimetype": "text/x-python",
   "name": "python",
   "nbconvert_exporter": "python",
   "pygments_lexer": "ipython3",
   "version": "3.7.6"
  }
 },
 "nbformat": 4,
 "nbformat_minor": 2
}
