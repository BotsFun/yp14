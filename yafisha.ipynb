{
 "cells": [
  {
   "cell_type": "markdown",
   "metadata": {},
   "source": [
    "# Аналитика в Яндекс.Афише"
   ]
  },
  {
   "cell_type": "markdown",
   "metadata": {},
   "source": [
    "Вас пригласили на стажировку в отдел аналитики Яндекс.Афиши. Первое задание: помочь маркетологам оптимизировать маркетинговые затраты.\n",
    "У вас в распоряжении есть данные от Яндекс.Афиши с июня 2017 по конец мая 2018 года:\n",
    "- лог сервера с данными о посещениях сайта Яндекс.Афиши,\n",
    "- выгрузка всех заказов за этот период,\n",
    "- статистика рекламных расходов."
   ]
  },
  {
   "cell_type": "markdown",
   "metadata": {},
   "source": [
    "## Описание данных\n",
    "\n",
    "**/datasets/visits_log.csv.** — лог сервера с информацией о посещениях сайта:  \n",
    "- Uid — уникальный идентификатор пользователя\n",
    "- Device — категория устройства пользователя\n",
    "- Start Ts — дата и время начала сессии\n",
    "- End Ts — дата и время окончания сессии\n",
    "- Source Id — идентификатор рекламного источника, из которого пришел пользователь \n",
    " \n",
    "**/datasets/orders_log.csv** — информация о заказах:\n",
    "- Uid — уникальный id пользователя, который сделал заказ\n",
    "- Buy Ts — дата и время заказа\n",
    "- Revenue — выручка Яндекс.Афиши с этого заказа\n",
    "\n",
    "**/datasets/costs.csv** — информация о затратах на маркетинг:\n",
    "- source_id — идентификатор рекламного источника\n",
    "- dt — дата\n",
    "- costs — затраты на этот рекламный источник в этот день"
   ]
  },
  {
   "cell_type": "markdown",
   "metadata": {},
   "source": [
    "## Оглавление\n",
    "1. [Шаг 1. Откройте файл с данными и изучите общую информацию](#step1)  \n",
    "    1.1 [Вывод к Шагу 1](#step1.1)\n",
    "    \n",
    "        \n",
    "2. [Шаг 2. Подготовка данных](#step2)  \n",
    "    2.4  [Вывод к Шагу 2](#step2.1)     \n",
    "  \n",
    "    \n",
    "3. [Шаг 3. Построим отчёты и посчитаем метрики](#step3)   \n",
    "    3.1   [Продукт. Сколько людей пользуются в день, неделю, месяц?](#step3.1)  \n",
    "    3.2   [Продукт. Сколько сессий в день?](#step3.2)  \n",
    "    3.3   [Продукт. Сколько длится одна сессия?](#step3.3)  \n",
    "    3.4   [Продукт. Как часто люди возвращаются?](#step3.4)  \n",
    "    3.5   [Продажи. Когда люди начинают покупать?](#step3.5)   \n",
    "    3.6   [Продажи. Сколько раз покупают за период?](#step3.6)   \n",
    "    3.7   [Продажи. Какой средний чек?](#step3.7)   \n",
    "    3.8   [Продажи. Сколько денег приносят? (LTV)](#step3.8)  \n",
    "    3.9   [Маркетинг. Сколько денег потратили? Всего / на каждый источник / по времени](#step3.9)   \n",
    "    3.10  [Маркетинг. Сколько стоило привлечение одного покупателя из каждого источника?](#step3.10)   \n",
    "    3.11  [Маркетинг. На сколько окупились расходы? (ROI)](#step3.11)     \n",
    "\n",
    " \n",
    "4. [Шаг 4. Общий вывод](#step4)  "
   ]
  },
  {
   "cell_type": "markdown",
   "metadata": {},
   "source": [
    "### Шаг 1. Откройте файлы с данными и изучите общую информацию <a id=\"step1\"></a>   \n",
    "</div>"
   ]
  },
  {
   "cell_type": "code",
   "execution_count": 1,
   "metadata": {},
   "outputs": [],
   "source": [
    "import pandas as pd\n",
    "import matplotlib.pyplot as plt\n",
    "from IPython.display import display\n",
    "from scipy import stats as st\n",
    "from math import factorial\n",
    "import numpy as np\n",
    "from functools import reduce\n",
    "import seaborn as sns\n"
   ]
  },
  {
   "cell_type": "code",
   "execution_count": 2,
   "metadata": {},
   "outputs": [
    {
     "data": {
      "text/html": [
       "<div>\n",
       "<style scoped>\n",
       "    .dataframe tbody tr th:only-of-type {\n",
       "        vertical-align: middle;\n",
       "    }\n",
       "\n",
       "    .dataframe tbody tr th {\n",
       "        vertical-align: top;\n",
       "    }\n",
       "\n",
       "    .dataframe thead th {\n",
       "        text-align: right;\n",
       "    }\n",
       "</style>\n",
       "<table border=\"1\" class=\"dataframe\">\n",
       "  <thead>\n",
       "    <tr style=\"text-align: right;\">\n",
       "      <th></th>\n",
       "      <th>Device</th>\n",
       "      <th>End Ts</th>\n",
       "      <th>Source Id</th>\n",
       "      <th>Start Ts</th>\n",
       "      <th>Uid</th>\n",
       "    </tr>\n",
       "  </thead>\n",
       "  <tbody>\n",
       "    <tr>\n",
       "      <td>0</td>\n",
       "      <td>touch</td>\n",
       "      <td>2017-12-20 17:38:00</td>\n",
       "      <td>4</td>\n",
       "      <td>2017-12-20 17:20:00</td>\n",
       "      <td>16879256277535980062</td>\n",
       "    </tr>\n",
       "    <tr>\n",
       "      <td>1</td>\n",
       "      <td>desktop</td>\n",
       "      <td>2018-02-19 17:21:00</td>\n",
       "      <td>2</td>\n",
       "      <td>2018-02-19 16:53:00</td>\n",
       "      <td>104060357244891740</td>\n",
       "    </tr>\n",
       "    <tr>\n",
       "      <td>2</td>\n",
       "      <td>touch</td>\n",
       "      <td>2017-07-01 01:54:00</td>\n",
       "      <td>5</td>\n",
       "      <td>2017-07-01 01:54:00</td>\n",
       "      <td>7459035603376831527</td>\n",
       "    </tr>\n",
       "    <tr>\n",
       "      <td>3</td>\n",
       "      <td>desktop</td>\n",
       "      <td>2018-05-20 11:23:00</td>\n",
       "      <td>9</td>\n",
       "      <td>2018-05-20 10:59:00</td>\n",
       "      <td>16174680259334210214</td>\n",
       "    </tr>\n",
       "    <tr>\n",
       "      <td>4</td>\n",
       "      <td>desktop</td>\n",
       "      <td>2017-12-27 14:06:00</td>\n",
       "      <td>3</td>\n",
       "      <td>2017-12-27 14:06:00</td>\n",
       "      <td>9969694820036681168</td>\n",
       "    </tr>\n",
       "    <tr>\n",
       "      <td>5</td>\n",
       "      <td>desktop</td>\n",
       "      <td>2017-09-03 21:36:00</td>\n",
       "      <td>5</td>\n",
       "      <td>2017-09-03 21:35:00</td>\n",
       "      <td>16007536194108375387</td>\n",
       "    </tr>\n",
       "    <tr>\n",
       "      <td>6</td>\n",
       "      <td>desktop</td>\n",
       "      <td>2018-01-30 12:09:00</td>\n",
       "      <td>1</td>\n",
       "      <td>2018-01-30 11:13:00</td>\n",
       "      <td>6661610529277171451</td>\n",
       "    </tr>\n",
       "    <tr>\n",
       "      <td>7</td>\n",
       "      <td>touch</td>\n",
       "      <td>2017-11-05 15:15:00</td>\n",
       "      <td>3</td>\n",
       "      <td>2017-11-05 15:14:00</td>\n",
       "      <td>11423865690854540312</td>\n",
       "    </tr>\n",
       "    <tr>\n",
       "      <td>8</td>\n",
       "      <td>desktop</td>\n",
       "      <td>2017-07-19 10:44:00</td>\n",
       "      <td>3</td>\n",
       "      <td>2017-07-19 10:41:00</td>\n",
       "      <td>2987360259350925644</td>\n",
       "    </tr>\n",
       "    <tr>\n",
       "      <td>9</td>\n",
       "      <td>desktop</td>\n",
       "      <td>2017-11-08 13:43:00</td>\n",
       "      <td>5</td>\n",
       "      <td>2017-11-08 13:42:00</td>\n",
       "      <td>1289240080042562063</td>\n",
       "    </tr>\n",
       "  </tbody>\n",
       "</table>\n",
       "</div>"
      ],
      "text/plain": [
       "    Device               End Ts  Source Id             Start Ts  \\\n",
       "0    touch  2017-12-20 17:38:00          4  2017-12-20 17:20:00   \n",
       "1  desktop  2018-02-19 17:21:00          2  2018-02-19 16:53:00   \n",
       "2    touch  2017-07-01 01:54:00          5  2017-07-01 01:54:00   \n",
       "3  desktop  2018-05-20 11:23:00          9  2018-05-20 10:59:00   \n",
       "4  desktop  2017-12-27 14:06:00          3  2017-12-27 14:06:00   \n",
       "5  desktop  2017-09-03 21:36:00          5  2017-09-03 21:35:00   \n",
       "6  desktop  2018-01-30 12:09:00          1  2018-01-30 11:13:00   \n",
       "7    touch  2017-11-05 15:15:00          3  2017-11-05 15:14:00   \n",
       "8  desktop  2017-07-19 10:44:00          3  2017-07-19 10:41:00   \n",
       "9  desktop  2017-11-08 13:43:00          5  2017-11-08 13:42:00   \n",
       "\n",
       "                    Uid  \n",
       "0  16879256277535980062  \n",
       "1    104060357244891740  \n",
       "2   7459035603376831527  \n",
       "3  16174680259334210214  \n",
       "4   9969694820036681168  \n",
       "5  16007536194108375387  \n",
       "6   6661610529277171451  \n",
       "7  11423865690854540312  \n",
       "8   2987360259350925644  \n",
       "9   1289240080042562063  "
      ]
     },
     "metadata": {},
     "output_type": "display_data"
    },
    {
     "name": "stdout",
     "output_type": "stream",
     "text": [
      "<class 'pandas.core.frame.DataFrame'>\n",
      "RangeIndex: 359400 entries, 0 to 359399\n",
      "Data columns (total 5 columns):\n",
      "Device       359400 non-null object\n",
      "End Ts       359400 non-null object\n",
      "Source Id    359400 non-null int64\n",
      "Start Ts     359400 non-null object\n",
      "Uid          359400 non-null uint64\n",
      "dtypes: int64(1), object(3), uint64(1)\n",
      "memory usage: 13.7+ MB\n",
      "None\n",
      "\n"
     ]
    },
    {
     "data": {
      "text/html": [
       "<div>\n",
       "<style scoped>\n",
       "    .dataframe tbody tr th:only-of-type {\n",
       "        vertical-align: middle;\n",
       "    }\n",
       "\n",
       "    .dataframe tbody tr th {\n",
       "        vertical-align: top;\n",
       "    }\n",
       "\n",
       "    .dataframe thead th {\n",
       "        text-align: right;\n",
       "    }\n",
       "</style>\n",
       "<table border=\"1\" class=\"dataframe\">\n",
       "  <thead>\n",
       "    <tr style=\"text-align: right;\">\n",
       "      <th></th>\n",
       "      <th>Buy Ts</th>\n",
       "      <th>Revenue</th>\n",
       "      <th>Uid</th>\n",
       "    </tr>\n",
       "  </thead>\n",
       "  <tbody>\n",
       "    <tr>\n",
       "      <td>0</td>\n",
       "      <td>2017-06-01 00:10:00</td>\n",
       "      <td>17.00</td>\n",
       "      <td>10329302124590727494</td>\n",
       "    </tr>\n",
       "    <tr>\n",
       "      <td>1</td>\n",
       "      <td>2017-06-01 00:25:00</td>\n",
       "      <td>0.55</td>\n",
       "      <td>11627257723692907447</td>\n",
       "    </tr>\n",
       "    <tr>\n",
       "      <td>2</td>\n",
       "      <td>2017-06-01 00:27:00</td>\n",
       "      <td>0.37</td>\n",
       "      <td>17903680561304213844</td>\n",
       "    </tr>\n",
       "    <tr>\n",
       "      <td>3</td>\n",
       "      <td>2017-06-01 00:29:00</td>\n",
       "      <td>0.55</td>\n",
       "      <td>16109239769442553005</td>\n",
       "    </tr>\n",
       "    <tr>\n",
       "      <td>4</td>\n",
       "      <td>2017-06-01 07:58:00</td>\n",
       "      <td>0.37</td>\n",
       "      <td>14200605875248379450</td>\n",
       "    </tr>\n",
       "    <tr>\n",
       "      <td>5</td>\n",
       "      <td>2017-06-01 08:43:00</td>\n",
       "      <td>0.18</td>\n",
       "      <td>10402394430196413321</td>\n",
       "    </tr>\n",
       "    <tr>\n",
       "      <td>6</td>\n",
       "      <td>2017-06-01 08:54:00</td>\n",
       "      <td>1.83</td>\n",
       "      <td>12464626743129688638</td>\n",
       "    </tr>\n",
       "    <tr>\n",
       "      <td>7</td>\n",
       "      <td>2017-06-01 09:22:00</td>\n",
       "      <td>1.22</td>\n",
       "      <td>3644482766749211722</td>\n",
       "    </tr>\n",
       "    <tr>\n",
       "      <td>8</td>\n",
       "      <td>2017-06-01 09:22:00</td>\n",
       "      <td>3.30</td>\n",
       "      <td>17542070709969841479</td>\n",
       "    </tr>\n",
       "    <tr>\n",
       "      <td>9</td>\n",
       "      <td>2017-06-01 09:23:00</td>\n",
       "      <td>0.37</td>\n",
       "      <td>1074355127080856382</td>\n",
       "    </tr>\n",
       "  </tbody>\n",
       "</table>\n",
       "</div>"
      ],
      "text/plain": [
       "                Buy Ts  Revenue                   Uid\n",
       "0  2017-06-01 00:10:00    17.00  10329302124590727494\n",
       "1  2017-06-01 00:25:00     0.55  11627257723692907447\n",
       "2  2017-06-01 00:27:00     0.37  17903680561304213844\n",
       "3  2017-06-01 00:29:00     0.55  16109239769442553005\n",
       "4  2017-06-01 07:58:00     0.37  14200605875248379450\n",
       "5  2017-06-01 08:43:00     0.18  10402394430196413321\n",
       "6  2017-06-01 08:54:00     1.83  12464626743129688638\n",
       "7  2017-06-01 09:22:00     1.22   3644482766749211722\n",
       "8  2017-06-01 09:22:00     3.30  17542070709969841479\n",
       "9  2017-06-01 09:23:00     0.37   1074355127080856382"
      ]
     },
     "metadata": {},
     "output_type": "display_data"
    },
    {
     "name": "stdout",
     "output_type": "stream",
     "text": [
      "<class 'pandas.core.frame.DataFrame'>\n",
      "RangeIndex: 50415 entries, 0 to 50414\n",
      "Data columns (total 3 columns):\n",
      "Buy Ts     50415 non-null object\n",
      "Revenue    50415 non-null float64\n",
      "Uid        50415 non-null uint64\n",
      "dtypes: float64(1), object(1), uint64(1)\n",
      "memory usage: 1.2+ MB\n",
      "None\n",
      "\n"
     ]
    },
    {
     "data": {
      "text/html": [
       "<div>\n",
       "<style scoped>\n",
       "    .dataframe tbody tr th:only-of-type {\n",
       "        vertical-align: middle;\n",
       "    }\n",
       "\n",
       "    .dataframe tbody tr th {\n",
       "        vertical-align: top;\n",
       "    }\n",
       "\n",
       "    .dataframe thead th {\n",
       "        text-align: right;\n",
       "    }\n",
       "</style>\n",
       "<table border=\"1\" class=\"dataframe\">\n",
       "  <thead>\n",
       "    <tr style=\"text-align: right;\">\n",
       "      <th></th>\n",
       "      <th>source_id</th>\n",
       "      <th>dt</th>\n",
       "      <th>costs</th>\n",
       "    </tr>\n",
       "  </thead>\n",
       "  <tbody>\n",
       "    <tr>\n",
       "      <td>0</td>\n",
       "      <td>1</td>\n",
       "      <td>2017-06-01</td>\n",
       "      <td>75.20</td>\n",
       "    </tr>\n",
       "    <tr>\n",
       "      <td>1</td>\n",
       "      <td>1</td>\n",
       "      <td>2017-06-02</td>\n",
       "      <td>62.25</td>\n",
       "    </tr>\n",
       "    <tr>\n",
       "      <td>2</td>\n",
       "      <td>1</td>\n",
       "      <td>2017-06-03</td>\n",
       "      <td>36.53</td>\n",
       "    </tr>\n",
       "    <tr>\n",
       "      <td>3</td>\n",
       "      <td>1</td>\n",
       "      <td>2017-06-04</td>\n",
       "      <td>55.00</td>\n",
       "    </tr>\n",
       "    <tr>\n",
       "      <td>4</td>\n",
       "      <td>1</td>\n",
       "      <td>2017-06-05</td>\n",
       "      <td>57.08</td>\n",
       "    </tr>\n",
       "    <tr>\n",
       "      <td>5</td>\n",
       "      <td>1</td>\n",
       "      <td>2017-06-06</td>\n",
       "      <td>40.39</td>\n",
       "    </tr>\n",
       "    <tr>\n",
       "      <td>6</td>\n",
       "      <td>1</td>\n",
       "      <td>2017-06-07</td>\n",
       "      <td>40.59</td>\n",
       "    </tr>\n",
       "    <tr>\n",
       "      <td>7</td>\n",
       "      <td>1</td>\n",
       "      <td>2017-06-08</td>\n",
       "      <td>56.63</td>\n",
       "    </tr>\n",
       "    <tr>\n",
       "      <td>8</td>\n",
       "      <td>1</td>\n",
       "      <td>2017-06-09</td>\n",
       "      <td>40.16</td>\n",
       "    </tr>\n",
       "    <tr>\n",
       "      <td>9</td>\n",
       "      <td>1</td>\n",
       "      <td>2017-06-10</td>\n",
       "      <td>43.24</td>\n",
       "    </tr>\n",
       "  </tbody>\n",
       "</table>\n",
       "</div>"
      ],
      "text/plain": [
       "   source_id          dt  costs\n",
       "0          1  2017-06-01  75.20\n",
       "1          1  2017-06-02  62.25\n",
       "2          1  2017-06-03  36.53\n",
       "3          1  2017-06-04  55.00\n",
       "4          1  2017-06-05  57.08\n",
       "5          1  2017-06-06  40.39\n",
       "6          1  2017-06-07  40.59\n",
       "7          1  2017-06-08  56.63\n",
       "8          1  2017-06-09  40.16\n",
       "9          1  2017-06-10  43.24"
      ]
     },
     "metadata": {},
     "output_type": "display_data"
    },
    {
     "name": "stdout",
     "output_type": "stream",
     "text": [
      "<class 'pandas.core.frame.DataFrame'>\n",
      "RangeIndex: 2542 entries, 0 to 2541\n",
      "Data columns (total 3 columns):\n",
      "source_id    2542 non-null int64\n",
      "dt           2542 non-null object\n",
      "costs        2542 non-null float64\n",
      "dtypes: float64(1), int64(1), object(1)\n",
      "memory usage: 59.7+ KB\n",
      "None\n",
      "\n"
     ]
    }
   ],
   "source": [
    "visits = pd.read_csv('/datasets/visits_log.csv')\n",
    "display(visits.head(10))\n",
    "print(visits.info())\n",
    "print()\n",
    "\n",
    "orders = pd.read_csv('/datasets/orders_log.csv')\n",
    "display(orders.head(10))\n",
    "print(orders.info())\n",
    "print()\n",
    "\n",
    "costs = pd.read_csv('/datasets/costs.csv')\n",
    "display(costs.head(10))\n",
    "print(costs.info())\n",
    "print()"
   ]
  },
  {
   "cell_type": "markdown",
   "metadata": {},
   "source": [
    "### Вывод<a id=\"step1.1\"></a>   \n",
    "</div>  \n",
    "\n",
    "Мы получили датасет без пропущенных значений, есть небольшие проблемы с названием столбцов (верхний регистр и пробелы). Для стобцов с датами изменим формат с `object` на `datetime`. Дополнительно проверим датасет на дубликаты. "
   ]
  },
  {
   "cell_type": "markdown",
   "metadata": {},
   "source": [
    "### Шаг 2. Предобработка данных <a id=\"step2\"></a>   \n",
    "</div>  "
   ]
  },
  {
   "cell_type": "markdown",
   "metadata": {},
   "source": [
    "Начнём с **visits**. Выведем названия столбцов"
   ]
  },
  {
   "cell_type": "code",
   "execution_count": 3,
   "metadata": {},
   "outputs": [
    {
     "name": "stdout",
     "output_type": "stream",
     "text": [
      "Index(['Device', 'End Ts', 'Source Id', 'Start Ts', 'Uid'], dtype='object')\n"
     ]
    }
   ],
   "source": [
    "print(visits.columns)"
   ]
  },
  {
   "cell_type": "markdown",
   "metadata": {},
   "source": [
    "Изменим названия, уберём пробелы и верхний регистр."
   ]
  },
  {
   "cell_type": "code",
   "execution_count": 4,
   "metadata": {},
   "outputs": [],
   "source": [
    "visits.columns = ['device', 'end_ts', 'source_id', 'start_ts', 'uid']\n"
   ]
  },
  {
   "cell_type": "markdown",
   "metadata": {},
   "source": [
    "Изменим тип данных у `end_ts` и `start_ts` (с точностью до секунды)"
   ]
  },
  {
   "cell_type": "code",
   "execution_count": 5,
   "metadata": {},
   "outputs": [],
   "source": [
    "visits['end_ts'] = pd.to_datetime(visits['end_ts'], format = '%Y-%m-%d %H:%M:%S')\n",
    "visits['start_ts'] = pd.to_datetime(visits['start_ts'], format = '%Y-%m-%d %H:%M:%S')"
   ]
  },
  {
   "cell_type": "markdown",
   "metadata": {},
   "source": [
    "Проверим всё ли правильно"
   ]
  },
  {
   "cell_type": "code",
   "execution_count": 6,
   "metadata": {},
   "outputs": [
    {
     "name": "stdout",
     "output_type": "stream",
     "text": [
      "<class 'pandas.core.frame.DataFrame'>\n",
      "RangeIndex: 359400 entries, 0 to 359399\n",
      "Data columns (total 5 columns):\n",
      "device       359400 non-null object\n",
      "end_ts       359400 non-null datetime64[ns]\n",
      "source_id    359400 non-null int64\n",
      "start_ts     359400 non-null datetime64[ns]\n",
      "uid          359400 non-null uint64\n",
      "dtypes: datetime64[ns](2), int64(1), object(1), uint64(1)\n",
      "memory usage: 13.7+ MB\n"
     ]
    },
    {
     "data": {
      "text/html": [
       "<div>\n",
       "<style scoped>\n",
       "    .dataframe tbody tr th:only-of-type {\n",
       "        vertical-align: middle;\n",
       "    }\n",
       "\n",
       "    .dataframe tbody tr th {\n",
       "        vertical-align: top;\n",
       "    }\n",
       "\n",
       "    .dataframe thead th {\n",
       "        text-align: right;\n",
       "    }\n",
       "</style>\n",
       "<table border=\"1\" class=\"dataframe\">\n",
       "  <thead>\n",
       "    <tr style=\"text-align: right;\">\n",
       "      <th></th>\n",
       "      <th>device</th>\n",
       "      <th>end_ts</th>\n",
       "      <th>source_id</th>\n",
       "      <th>start_ts</th>\n",
       "      <th>uid</th>\n",
       "    </tr>\n",
       "  </thead>\n",
       "  <tbody>\n",
       "    <tr>\n",
       "      <td>0</td>\n",
       "      <td>touch</td>\n",
       "      <td>2017-12-20 17:38:00</td>\n",
       "      <td>4</td>\n",
       "      <td>2017-12-20 17:20:00</td>\n",
       "      <td>16879256277535980062</td>\n",
       "    </tr>\n",
       "    <tr>\n",
       "      <td>1</td>\n",
       "      <td>desktop</td>\n",
       "      <td>2018-02-19 17:21:00</td>\n",
       "      <td>2</td>\n",
       "      <td>2018-02-19 16:53:00</td>\n",
       "      <td>104060357244891740</td>\n",
       "    </tr>\n",
       "    <tr>\n",
       "      <td>2</td>\n",
       "      <td>touch</td>\n",
       "      <td>2017-07-01 01:54:00</td>\n",
       "      <td>5</td>\n",
       "      <td>2017-07-01 01:54:00</td>\n",
       "      <td>7459035603376831527</td>\n",
       "    </tr>\n",
       "    <tr>\n",
       "      <td>3</td>\n",
       "      <td>desktop</td>\n",
       "      <td>2018-05-20 11:23:00</td>\n",
       "      <td>9</td>\n",
       "      <td>2018-05-20 10:59:00</td>\n",
       "      <td>16174680259334210214</td>\n",
       "    </tr>\n",
       "    <tr>\n",
       "      <td>4</td>\n",
       "      <td>desktop</td>\n",
       "      <td>2017-12-27 14:06:00</td>\n",
       "      <td>3</td>\n",
       "      <td>2017-12-27 14:06:00</td>\n",
       "      <td>9969694820036681168</td>\n",
       "    </tr>\n",
       "  </tbody>\n",
       "</table>\n",
       "</div>"
      ],
      "text/plain": [
       "    device              end_ts  source_id            start_ts  \\\n",
       "0    touch 2017-12-20 17:38:00          4 2017-12-20 17:20:00   \n",
       "1  desktop 2018-02-19 17:21:00          2 2018-02-19 16:53:00   \n",
       "2    touch 2017-07-01 01:54:00          5 2017-07-01 01:54:00   \n",
       "3  desktop 2018-05-20 11:23:00          9 2018-05-20 10:59:00   \n",
       "4  desktop 2017-12-27 14:06:00          3 2017-12-27 14:06:00   \n",
       "\n",
       "                    uid  \n",
       "0  16879256277535980062  \n",
       "1    104060357244891740  \n",
       "2   7459035603376831527  \n",
       "3  16174680259334210214  \n",
       "4   9969694820036681168  "
      ]
     },
     "execution_count": 6,
     "metadata": {},
     "output_type": "execute_result"
    }
   ],
   "source": [
    "visits.info()\n",
    "visits.head(5)"
   ]
  },
  {
   "cell_type": "markdown",
   "metadata": {},
   "source": [
    "Для удобства работы переместим столбец `uid` в начало, а `end_ts` в конец"
   ]
  },
  {
   "cell_type": "code",
   "execution_count": 7,
   "metadata": {},
   "outputs": [
    {
     "data": {
      "text/html": [
       "<div>\n",
       "<style scoped>\n",
       "    .dataframe tbody tr th:only-of-type {\n",
       "        vertical-align: middle;\n",
       "    }\n",
       "\n",
       "    .dataframe tbody tr th {\n",
       "        vertical-align: top;\n",
       "    }\n",
       "\n",
       "    .dataframe thead th {\n",
       "        text-align: right;\n",
       "    }\n",
       "</style>\n",
       "<table border=\"1\" class=\"dataframe\">\n",
       "  <thead>\n",
       "    <tr style=\"text-align: right;\">\n",
       "      <th></th>\n",
       "      <th>uid</th>\n",
       "      <th>device</th>\n",
       "      <th>source_id</th>\n",
       "      <th>start_ts</th>\n",
       "      <th>end_ts</th>\n",
       "    </tr>\n",
       "  </thead>\n",
       "  <tbody>\n",
       "    <tr>\n",
       "      <td>0</td>\n",
       "      <td>16879256277535980062</td>\n",
       "      <td>touch</td>\n",
       "      <td>4</td>\n",
       "      <td>2017-12-20 17:20:00</td>\n",
       "      <td>2017-12-20 17:38:00</td>\n",
       "    </tr>\n",
       "    <tr>\n",
       "      <td>1</td>\n",
       "      <td>104060357244891740</td>\n",
       "      <td>desktop</td>\n",
       "      <td>2</td>\n",
       "      <td>2018-02-19 16:53:00</td>\n",
       "      <td>2018-02-19 17:21:00</td>\n",
       "    </tr>\n",
       "    <tr>\n",
       "      <td>2</td>\n",
       "      <td>7459035603376831527</td>\n",
       "      <td>touch</td>\n",
       "      <td>5</td>\n",
       "      <td>2017-07-01 01:54:00</td>\n",
       "      <td>2017-07-01 01:54:00</td>\n",
       "    </tr>\n",
       "    <tr>\n",
       "      <td>3</td>\n",
       "      <td>16174680259334210214</td>\n",
       "      <td>desktop</td>\n",
       "      <td>9</td>\n",
       "      <td>2018-05-20 10:59:00</td>\n",
       "      <td>2018-05-20 11:23:00</td>\n",
       "    </tr>\n",
       "    <tr>\n",
       "      <td>4</td>\n",
       "      <td>9969694820036681168</td>\n",
       "      <td>desktop</td>\n",
       "      <td>3</td>\n",
       "      <td>2017-12-27 14:06:00</td>\n",
       "      <td>2017-12-27 14:06:00</td>\n",
       "    </tr>\n",
       "  </tbody>\n",
       "</table>\n",
       "</div>"
      ],
      "text/plain": [
       "                    uid   device  source_id            start_ts  \\\n",
       "0  16879256277535980062    touch          4 2017-12-20 17:20:00   \n",
       "1    104060357244891740  desktop          2 2018-02-19 16:53:00   \n",
       "2   7459035603376831527    touch          5 2017-07-01 01:54:00   \n",
       "3  16174680259334210214  desktop          9 2018-05-20 10:59:00   \n",
       "4   9969694820036681168  desktop          3 2017-12-27 14:06:00   \n",
       "\n",
       "               end_ts  \n",
       "0 2017-12-20 17:38:00  \n",
       "1 2018-02-19 17:21:00  \n",
       "2 2017-07-01 01:54:00  \n",
       "3 2018-05-20 11:23:00  \n",
       "4 2017-12-27 14:06:00  "
      ]
     },
     "metadata": {},
     "output_type": "display_data"
    }
   ],
   "source": [
    "visits = visits[['uid', 'device', 'source_id',  'start_ts', 'end_ts']]\n",
    "display(visits.head(5))"
   ]
  },
  {
   "cell_type": "markdown",
   "metadata": {},
   "source": [
    "Проверим наличие дубликатов и какие есть значения в столбцах `source_id` и `device`."
   ]
  },
  {
   "cell_type": "code",
   "execution_count": 8,
   "metadata": {},
   "outputs": [
    {
     "name": "stdout",
     "output_type": "stream",
     "text": [
      "Количество дубликатов в visits: 0\n"
     ]
    },
    {
     "data": {
      "text/plain": [
       "source_id  1           34121.0\n",
       "           2           47626.0\n",
       "           3           85610.0\n",
       "           4          101794.0\n",
       "           5           66905.0\n",
       "           6               6.0\n",
       "           7              36.0\n",
       "           9           13277.0\n",
       "           10          10025.0\n",
       "device     desktop    262567.0\n",
       "           touch       96833.0\n",
       "dtype: float64"
      ]
     },
     "metadata": {},
     "output_type": "display_data"
    }
   ],
   "source": [
    "print('Количество дубликатов в visits:', visits.duplicated().sum())\n",
    "display(visits[['source_id','device']].apply(lambda x: x.value_counts()).T.stack())"
   ]
  },
  {
   "cell_type": "markdown",
   "metadata": {},
   "source": [
    "Никаких артефактов не обнаружено, поэтому с **visits** закончили, теперь перейдём к **orders**. Выведем название столбцов"
   ]
  },
  {
   "cell_type": "code",
   "execution_count": 9,
   "metadata": {},
   "outputs": [
    {
     "name": "stdout",
     "output_type": "stream",
     "text": [
      "Index(['Buy Ts', 'Revenue', 'Uid'], dtype='object')\n"
     ]
    }
   ],
   "source": [
    "print(orders.columns)"
   ]
  },
  {
   "cell_type": "markdown",
   "metadata": {},
   "source": [
    "Наблюдаются те же проблемы, что и в случае с **visits**. Поэтому опять изменим названия, изменим тип данных для дат (с точностью до секунды) и переместим уникальный номер в начало таблицы, а дату в конец."
   ]
  },
  {
   "cell_type": "code",
   "execution_count": 10,
   "metadata": {},
   "outputs": [],
   "source": [
    "orders.columns = ['buy_ts', 'revenue', 'uid']\n",
    "orders['buy_ts'] = pd.to_datetime(orders['buy_ts'], format = '%Y-%m-%d %H:%M:%S')\n",
    "orders = orders[['uid', 'revenue', 'buy_ts']]\n"
   ]
  },
  {
   "cell_type": "markdown",
   "metadata": {},
   "source": [
    "Проверим, нет ли дубликатов. И выведем часть таблицы на экран. Дополнительно выведем общую информацию\n",
    "\n"
   ]
  },
  {
   "cell_type": "code",
   "execution_count": 11,
   "metadata": {},
   "outputs": [
    {
     "name": "stdout",
     "output_type": "stream",
     "text": [
      "Количество дубликатов в orders: 0\n",
      "<class 'pandas.core.frame.DataFrame'>\n",
      "RangeIndex: 50415 entries, 0 to 50414\n",
      "Data columns (total 3 columns):\n",
      "uid        50415 non-null uint64\n",
      "revenue    50415 non-null float64\n",
      "buy_ts     50415 non-null datetime64[ns]\n",
      "dtypes: datetime64[ns](1), float64(1), uint64(1)\n",
      "memory usage: 1.2 MB\n"
     ]
    },
    {
     "data": {
      "text/plain": [
       "None"
      ]
     },
     "metadata": {},
     "output_type": "display_data"
    },
    {
     "data": {
      "text/html": [
       "<div>\n",
       "<style scoped>\n",
       "    .dataframe tbody tr th:only-of-type {\n",
       "        vertical-align: middle;\n",
       "    }\n",
       "\n",
       "    .dataframe tbody tr th {\n",
       "        vertical-align: top;\n",
       "    }\n",
       "\n",
       "    .dataframe thead th {\n",
       "        text-align: right;\n",
       "    }\n",
       "</style>\n",
       "<table border=\"1\" class=\"dataframe\">\n",
       "  <thead>\n",
       "    <tr style=\"text-align: right;\">\n",
       "      <th></th>\n",
       "      <th>uid</th>\n",
       "      <th>revenue</th>\n",
       "      <th>buy_ts</th>\n",
       "    </tr>\n",
       "  </thead>\n",
       "  <tbody>\n",
       "    <tr>\n",
       "      <td>0</td>\n",
       "      <td>10329302124590727494</td>\n",
       "      <td>17.00</td>\n",
       "      <td>2017-06-01 00:10:00</td>\n",
       "    </tr>\n",
       "    <tr>\n",
       "      <td>1</td>\n",
       "      <td>11627257723692907447</td>\n",
       "      <td>0.55</td>\n",
       "      <td>2017-06-01 00:25:00</td>\n",
       "    </tr>\n",
       "    <tr>\n",
       "      <td>2</td>\n",
       "      <td>17903680561304213844</td>\n",
       "      <td>0.37</td>\n",
       "      <td>2017-06-01 00:27:00</td>\n",
       "    </tr>\n",
       "    <tr>\n",
       "      <td>3</td>\n",
       "      <td>16109239769442553005</td>\n",
       "      <td>0.55</td>\n",
       "      <td>2017-06-01 00:29:00</td>\n",
       "    </tr>\n",
       "    <tr>\n",
       "      <td>4</td>\n",
       "      <td>14200605875248379450</td>\n",
       "      <td>0.37</td>\n",
       "      <td>2017-06-01 07:58:00</td>\n",
       "    </tr>\n",
       "  </tbody>\n",
       "</table>\n",
       "</div>"
      ],
      "text/plain": [
       "                    uid  revenue              buy_ts\n",
       "0  10329302124590727494    17.00 2017-06-01 00:10:00\n",
       "1  11627257723692907447     0.55 2017-06-01 00:25:00\n",
       "2  17903680561304213844     0.37 2017-06-01 00:27:00\n",
       "3  16109239769442553005     0.55 2017-06-01 00:29:00\n",
       "4  14200605875248379450     0.37 2017-06-01 07:58:00"
      ]
     },
     "metadata": {},
     "output_type": "display_data"
    }
   ],
   "source": [
    "print('Количество дубликатов в orders:', orders.duplicated().sum())\n",
    "display(orders.info())\n",
    "display(orders.head(5))"
   ]
  },
  {
   "cell_type": "markdown",
   "metadata": {},
   "source": [
    "От **orders** перейдём **costs**. Поступаем по аналогии: выводим на экран название столбцов."
   ]
  },
  {
   "cell_type": "code",
   "execution_count": 12,
   "metadata": {},
   "outputs": [
    {
     "data": {
      "text/plain": [
       "Index(['source_id', 'dt', 'costs'], dtype='object')"
      ]
     },
     "metadata": {},
     "output_type": "display_data"
    }
   ],
   "source": [
    "display(costs.columns)"
   ]
  },
  {
   "cell_type": "markdown",
   "metadata": {},
   "source": [
    "Здесь проблем с названием столбцов меньше. Для удобства чтения переименуем `dt` в `date`, изменим его формат методом to_datetime (с точностью до дня). И, как и делали выше, перемести дату в конец таблицы."
   ]
  },
  {
   "cell_type": "code",
   "execution_count": 13,
   "metadata": {},
   "outputs": [],
   "source": [
    "costs.columns = ['source_id', 'date', 'costs']\n",
    "costs['date'] = pd.to_datetime(costs['date'], format = '%Y-%m-%d')\n",
    "costs = costs[['source_id', 'costs', 'date']]"
   ]
  },
  {
   "cell_type": "markdown",
   "metadata": {},
   "source": [
    "Проверим наличие дубликатов, проверим какие есть источники."
   ]
  },
  {
   "cell_type": "code",
   "execution_count": 14,
   "metadata": {
    "scrolled": true
   },
   "outputs": [
    {
     "data": {
      "text/plain": [
       "source_id  5     364\n",
       "           9     363\n",
       "           3     363\n",
       "           1     363\n",
       "           10    363\n",
       "           4     363\n",
       "           2     363\n",
       "dtype: int64"
      ]
     },
     "metadata": {},
     "output_type": "display_data"
    }
   ],
   "source": [
    "costs.duplicated().sum()\n",
    "display(costs[['source_id']].apply(lambda x: x.value_counts()).T.stack())"
   ]
  },
  {
   "cell_type": "markdown",
   "metadata": {},
   "source": [
    "Обратим внимание, что источники 6 и 7 не фигурируют в затратах. Видимо они связаны с органическими переходами (хотя маловато для органики) и/или, к примеру, бартерной рекламой.  \n",
    "Дополнительно посмотрим, что это за особенная такая строка у 5 источника."
   ]
  },
  {
   "cell_type": "code",
   "execution_count": 15,
   "metadata": {},
   "outputs": [
    {
     "data": {
      "text/plain": [
       "2018-03-31    1\n",
       "Name: date, dtype: int64"
      ]
     },
     "metadata": {},
     "output_type": "display_data"
    },
    {
     "data": {
      "text/html": [
       "<div>\n",
       "<style scoped>\n",
       "    .dataframe tbody tr th:only-of-type {\n",
       "        vertical-align: middle;\n",
       "    }\n",
       "\n",
       "    .dataframe tbody tr th {\n",
       "        vertical-align: top;\n",
       "    }\n",
       "\n",
       "    .dataframe thead th {\n",
       "        text-align: right;\n",
       "    }\n",
       "</style>\n",
       "<table border=\"1\" class=\"dataframe\">\n",
       "  <thead>\n",
       "    <tr style=\"text-align: right;\">\n",
       "      <th></th>\n",
       "      <th>source_id</th>\n",
       "      <th>costs</th>\n",
       "      <th>date</th>\n",
       "    </tr>\n",
       "  </thead>\n",
       "  <tbody>\n",
       "    <tr>\n",
       "      <td>303</td>\n",
       "      <td>1</td>\n",
       "      <td>15.67</td>\n",
       "      <td>2018-04-02</td>\n",
       "    </tr>\n",
       "    <tr>\n",
       "      <td>666</td>\n",
       "      <td>2</td>\n",
       "      <td>90.86</td>\n",
       "      <td>2018-04-02</td>\n",
       "    </tr>\n",
       "    <tr>\n",
       "      <td>1029</td>\n",
       "      <td>3</td>\n",
       "      <td>317.38</td>\n",
       "      <td>2018-04-02</td>\n",
       "    </tr>\n",
       "    <tr>\n",
       "      <td>1392</td>\n",
       "      <td>4</td>\n",
       "      <td>65.09</td>\n",
       "      <td>2018-04-02</td>\n",
       "    </tr>\n",
       "    <tr>\n",
       "      <td>1755</td>\n",
       "      <td>5</td>\n",
       "      <td>0.70</td>\n",
       "      <td>2018-03-31</td>\n",
       "    </tr>\n",
       "    <tr>\n",
       "      <td>1756</td>\n",
       "      <td>5</td>\n",
       "      <td>63.05</td>\n",
       "      <td>2018-04-02</td>\n",
       "    </tr>\n",
       "    <tr>\n",
       "      <td>2119</td>\n",
       "      <td>9</td>\n",
       "      <td>12.44</td>\n",
       "      <td>2018-04-02</td>\n",
       "    </tr>\n",
       "    <tr>\n",
       "      <td>2482</td>\n",
       "      <td>10</td>\n",
       "      <td>21.25</td>\n",
       "      <td>2018-04-02</td>\n",
       "    </tr>\n",
       "  </tbody>\n",
       "</table>\n",
       "</div>"
      ],
      "text/plain": [
       "      source_id   costs       date\n",
       "303           1   15.67 2018-04-02\n",
       "666           2   90.86 2018-04-02\n",
       "1029          3  317.38 2018-04-02\n",
       "1392          4   65.09 2018-04-02\n",
       "1755          5    0.70 2018-03-31\n",
       "1756          5   63.05 2018-04-02\n",
       "2119          9   12.44 2018-04-02\n",
       "2482         10   21.25 2018-04-02"
      ]
     },
     "metadata": {},
     "output_type": "display_data"
    }
   ],
   "source": [
    "display(costs['date'].value_counts().sort_values().head(1))\n",
    "display(costs.loc[(costs['date'] > '2018-03-30') & (costs['date'] < '2018-04-03')])"
   ]
  },
  {
   "cell_type": "markdown",
   "metadata": {},
   "source": [
    "Что же, видимо такое бывает, просто 31 марта 2018 года были затраты только по одному рекламному источнику"
   ]
  },
  {
   "cell_type": "markdown",
   "metadata": {},
   "source": [
    "Выведем первые 10 строк таблицы, а также общую информацию"
   ]
  },
  {
   "cell_type": "code",
   "execution_count": 16,
   "metadata": {
    "scrolled": false
   },
   "outputs": [
    {
     "name": "stdout",
     "output_type": "stream",
     "text": [
      "<class 'pandas.core.frame.DataFrame'>\n",
      "RangeIndex: 2542 entries, 0 to 2541\n",
      "Data columns (total 3 columns):\n",
      "source_id    2542 non-null int64\n",
      "costs        2542 non-null float64\n",
      "date         2542 non-null datetime64[ns]\n",
      "dtypes: datetime64[ns](1), float64(1), int64(1)\n",
      "memory usage: 59.7 KB\n"
     ]
    },
    {
     "data": {
      "text/html": [
       "<div>\n",
       "<style scoped>\n",
       "    .dataframe tbody tr th:only-of-type {\n",
       "        vertical-align: middle;\n",
       "    }\n",
       "\n",
       "    .dataframe tbody tr th {\n",
       "        vertical-align: top;\n",
       "    }\n",
       "\n",
       "    .dataframe thead th {\n",
       "        text-align: right;\n",
       "    }\n",
       "</style>\n",
       "<table border=\"1\" class=\"dataframe\">\n",
       "  <thead>\n",
       "    <tr style=\"text-align: right;\">\n",
       "      <th></th>\n",
       "      <th>source_id</th>\n",
       "      <th>costs</th>\n",
       "      <th>date</th>\n",
       "    </tr>\n",
       "  </thead>\n",
       "  <tbody>\n",
       "    <tr>\n",
       "      <td>0</td>\n",
       "      <td>1</td>\n",
       "      <td>75.20</td>\n",
       "      <td>2017-06-01</td>\n",
       "    </tr>\n",
       "    <tr>\n",
       "      <td>1</td>\n",
       "      <td>1</td>\n",
       "      <td>62.25</td>\n",
       "      <td>2017-06-02</td>\n",
       "    </tr>\n",
       "    <tr>\n",
       "      <td>2</td>\n",
       "      <td>1</td>\n",
       "      <td>36.53</td>\n",
       "      <td>2017-06-03</td>\n",
       "    </tr>\n",
       "    <tr>\n",
       "      <td>3</td>\n",
       "      <td>1</td>\n",
       "      <td>55.00</td>\n",
       "      <td>2017-06-04</td>\n",
       "    </tr>\n",
       "    <tr>\n",
       "      <td>4</td>\n",
       "      <td>1</td>\n",
       "      <td>57.08</td>\n",
       "      <td>2017-06-05</td>\n",
       "    </tr>\n",
       "    <tr>\n",
       "      <td>5</td>\n",
       "      <td>1</td>\n",
       "      <td>40.39</td>\n",
       "      <td>2017-06-06</td>\n",
       "    </tr>\n",
       "    <tr>\n",
       "      <td>6</td>\n",
       "      <td>1</td>\n",
       "      <td>40.59</td>\n",
       "      <td>2017-06-07</td>\n",
       "    </tr>\n",
       "    <tr>\n",
       "      <td>7</td>\n",
       "      <td>1</td>\n",
       "      <td>56.63</td>\n",
       "      <td>2017-06-08</td>\n",
       "    </tr>\n",
       "    <tr>\n",
       "      <td>8</td>\n",
       "      <td>1</td>\n",
       "      <td>40.16</td>\n",
       "      <td>2017-06-09</td>\n",
       "    </tr>\n",
       "    <tr>\n",
       "      <td>9</td>\n",
       "      <td>1</td>\n",
       "      <td>43.24</td>\n",
       "      <td>2017-06-10</td>\n",
       "    </tr>\n",
       "  </tbody>\n",
       "</table>\n",
       "</div>"
      ],
      "text/plain": [
       "   source_id  costs       date\n",
       "0          1  75.20 2017-06-01\n",
       "1          1  62.25 2017-06-02\n",
       "2          1  36.53 2017-06-03\n",
       "3          1  55.00 2017-06-04\n",
       "4          1  57.08 2017-06-05\n",
       "5          1  40.39 2017-06-06\n",
       "6          1  40.59 2017-06-07\n",
       "7          1  56.63 2017-06-08\n",
       "8          1  40.16 2017-06-09\n",
       "9          1  43.24 2017-06-10"
      ]
     },
     "metadata": {},
     "output_type": "display_data"
    }
   ],
   "source": [
    "costs.info()\n",
    "display(costs.head(10))"
   ]
  },
  {
   "cell_type": "markdown",
   "metadata": {},
   "source": [
    "Выделим из **visits** отдельные датасеты для `desktop` и `touch`"
   ]
  },
  {
   "cell_type": "code",
   "execution_count": 17,
   "metadata": {},
   "outputs": [
    {
     "data": {
      "text/html": [
       "<div>\n",
       "<style scoped>\n",
       "    .dataframe tbody tr th:only-of-type {\n",
       "        vertical-align: middle;\n",
       "    }\n",
       "\n",
       "    .dataframe tbody tr th {\n",
       "        vertical-align: top;\n",
       "    }\n",
       "\n",
       "    .dataframe thead th {\n",
       "        text-align: right;\n",
       "    }\n",
       "</style>\n",
       "<table border=\"1\" class=\"dataframe\">\n",
       "  <thead>\n",
       "    <tr style=\"text-align: right;\">\n",
       "      <th></th>\n",
       "      <th>index</th>\n",
       "      <th>uid</th>\n",
       "      <th>device</th>\n",
       "      <th>source_id</th>\n",
       "      <th>start_ts</th>\n",
       "      <th>end_ts</th>\n",
       "    </tr>\n",
       "  </thead>\n",
       "  <tbody>\n",
       "    <tr>\n",
       "      <td>0</td>\n",
       "      <td>1</td>\n",
       "      <td>104060357244891740</td>\n",
       "      <td>desktop</td>\n",
       "      <td>2</td>\n",
       "      <td>2018-02-19 16:53:00</td>\n",
       "      <td>2018-02-19 17:21:00</td>\n",
       "    </tr>\n",
       "    <tr>\n",
       "      <td>1</td>\n",
       "      <td>3</td>\n",
       "      <td>16174680259334210214</td>\n",
       "      <td>desktop</td>\n",
       "      <td>9</td>\n",
       "      <td>2018-05-20 10:59:00</td>\n",
       "      <td>2018-05-20 11:23:00</td>\n",
       "    </tr>\n",
       "    <tr>\n",
       "      <td>2</td>\n",
       "      <td>4</td>\n",
       "      <td>9969694820036681168</td>\n",
       "      <td>desktop</td>\n",
       "      <td>3</td>\n",
       "      <td>2017-12-27 14:06:00</td>\n",
       "      <td>2017-12-27 14:06:00</td>\n",
       "    </tr>\n",
       "    <tr>\n",
       "      <td>3</td>\n",
       "      <td>5</td>\n",
       "      <td>16007536194108375387</td>\n",
       "      <td>desktop</td>\n",
       "      <td>5</td>\n",
       "      <td>2017-09-03 21:35:00</td>\n",
       "      <td>2017-09-03 21:36:00</td>\n",
       "    </tr>\n",
       "    <tr>\n",
       "      <td>4</td>\n",
       "      <td>6</td>\n",
       "      <td>6661610529277171451</td>\n",
       "      <td>desktop</td>\n",
       "      <td>1</td>\n",
       "      <td>2018-01-30 11:13:00</td>\n",
       "      <td>2018-01-30 12:09:00</td>\n",
       "    </tr>\n",
       "  </tbody>\n",
       "</table>\n",
       "</div>"
      ],
      "text/plain": [
       "   index                   uid   device  source_id            start_ts  \\\n",
       "0      1    104060357244891740  desktop          2 2018-02-19 16:53:00   \n",
       "1      3  16174680259334210214  desktop          9 2018-05-20 10:59:00   \n",
       "2      4   9969694820036681168  desktop          3 2017-12-27 14:06:00   \n",
       "3      5  16007536194108375387  desktop          5 2017-09-03 21:35:00   \n",
       "4      6   6661610529277171451  desktop          1 2018-01-30 11:13:00   \n",
       "\n",
       "               end_ts  \n",
       "0 2018-02-19 17:21:00  \n",
       "1 2018-05-20 11:23:00  \n",
       "2 2017-12-27 14:06:00  \n",
       "3 2017-09-03 21:36:00  \n",
       "4 2018-01-30 12:09:00  "
      ]
     },
     "metadata": {},
     "output_type": "display_data"
    },
    {
     "data": {
      "text/html": [
       "<div>\n",
       "<style scoped>\n",
       "    .dataframe tbody tr th:only-of-type {\n",
       "        vertical-align: middle;\n",
       "    }\n",
       "\n",
       "    .dataframe tbody tr th {\n",
       "        vertical-align: top;\n",
       "    }\n",
       "\n",
       "    .dataframe thead th {\n",
       "        text-align: right;\n",
       "    }\n",
       "</style>\n",
       "<table border=\"1\" class=\"dataframe\">\n",
       "  <thead>\n",
       "    <tr style=\"text-align: right;\">\n",
       "      <th></th>\n",
       "      <th>index</th>\n",
       "      <th>uid</th>\n",
       "      <th>device</th>\n",
       "      <th>source_id</th>\n",
       "      <th>start_ts</th>\n",
       "      <th>end_ts</th>\n",
       "    </tr>\n",
       "  </thead>\n",
       "  <tbody>\n",
       "    <tr>\n",
       "      <td>96828</td>\n",
       "      <td>359386</td>\n",
       "      <td>18176348973341832326</td>\n",
       "      <td>touch</td>\n",
       "      <td>2</td>\n",
       "      <td>2017-09-15 21:14:00</td>\n",
       "      <td>2017-09-15 21:14:19</td>\n",
       "    </tr>\n",
       "    <tr>\n",
       "      <td>96829</td>\n",
       "      <td>359391</td>\n",
       "      <td>18304232853749481866</td>\n",
       "      <td>touch</td>\n",
       "      <td>2</td>\n",
       "      <td>2017-08-30 11:53:00</td>\n",
       "      <td>2017-08-30 11:53:19</td>\n",
       "    </tr>\n",
       "    <tr>\n",
       "      <td>96830</td>\n",
       "      <td>359394</td>\n",
       "      <td>18332905065174083046</td>\n",
       "      <td>touch</td>\n",
       "      <td>4</td>\n",
       "      <td>2017-11-06 08:00:00</td>\n",
       "      <td>2017-11-06 08:00:19</td>\n",
       "    </tr>\n",
       "    <tr>\n",
       "      <td>96831</td>\n",
       "      <td>359396</td>\n",
       "      <td>18370831553019119586</td>\n",
       "      <td>touch</td>\n",
       "      <td>1</td>\n",
       "      <td>2018-01-25 17:38:00</td>\n",
       "      <td>2018-01-25 17:38:19</td>\n",
       "    </tr>\n",
       "    <tr>\n",
       "      <td>96832</td>\n",
       "      <td>359399</td>\n",
       "      <td>18396128934054549559</td>\n",
       "      <td>touch</td>\n",
       "      <td>2</td>\n",
       "      <td>2017-09-10 13:13:00</td>\n",
       "      <td>2017-09-10 13:13:19</td>\n",
       "    </tr>\n",
       "  </tbody>\n",
       "</table>\n",
       "</div>"
      ],
      "text/plain": [
       "        index                   uid device  source_id            start_ts  \\\n",
       "96828  359386  18176348973341832326  touch          2 2017-09-15 21:14:00   \n",
       "96829  359391  18304232853749481866  touch          2 2017-08-30 11:53:00   \n",
       "96830  359394  18332905065174083046  touch          4 2017-11-06 08:00:00   \n",
       "96831  359396  18370831553019119586  touch          1 2018-01-25 17:38:00   \n",
       "96832  359399  18396128934054549559  touch          2 2017-09-10 13:13:00   \n",
       "\n",
       "                   end_ts  \n",
       "96828 2017-09-15 21:14:19  \n",
       "96829 2017-08-30 11:53:19  \n",
       "96830 2017-11-06 08:00:19  \n",
       "96831 2018-01-25 17:38:19  \n",
       "96832 2017-09-10 13:13:19  "
      ]
     },
     "metadata": {},
     "output_type": "display_data"
    }
   ],
   "source": [
    "visits_desktop = visits.query('device == \"desktop\"').reset_index()\n",
    "visits_touch = visits.query('device == \"touch\"').reset_index()\n",
    "display(visits_desktop.head(5))\n",
    "display(visits_touch.tail(5))"
   ]
  },
  {
   "cell_type": "markdown",
   "metadata": {},
   "source": [
    "### Вывод <a id=\"step2.1\"></a>   \n",
    "</div>  \n",
    "\n",
    "В датасете не обнаружено дубликатов и пропущенных значений. Самые существенные проблемы были с типом данных у столбцов датами, а также с самим названием столбцов.\n",
    "\n",
    "Кроме этого обнаружили интересные, хоть и малозначительные по количеству переходов, источники, по которым не обнаружены затраты. \n",
    "\n",
    "\n",
    "Все проблемы улажены, вынесли устройства в отдельные таблицы и можем двигаться дальше. \n",
    "\n"
   ]
  },
  {
   "cell_type": "markdown",
   "metadata": {},
   "source": [
    "### Шаг 3. Построим отчёты и посчитаем метрики <a id=\"step3\"></a>   \n",
    "</div>  "
   ]
  },
  {
   "cell_type": "markdown",
   "metadata": {},
   "source": [
    "### Продукт. Сколько людей пользуются в день, неделю, месяц?<a id=\"step3.1\"></a>   \n",
    "</div>  "
   ]
  },
  {
   "cell_type": "markdown",
   "metadata": {},
   "source": [
    "Добавим в **visits** столбцы `date, week, month` "
   ]
  },
  {
   "cell_type": "code",
   "execution_count": 18,
   "metadata": {},
   "outputs": [],
   "source": [
    "for data in [visits, visits_desktop, visits_touch]:\n",
    "    \n",
    "    data['date'] = data['start_ts'].dt.date\n",
    "    data['week'] = data['start_ts'].dt.week\n",
    "    data['month'] = data['start_ts'].dt.month\n",
    "\n"
   ]
  },
  {
   "cell_type": "markdown",
   "metadata": {},
   "source": [
    "Найдем ежедневную, еженедельную и ежемесячную аудиторию Яндекс.Афиши"
   ]
  },
  {
   "cell_type": "code",
   "execution_count": 19,
   "metadata": {},
   "outputs": [
    {
     "name": "stdout",
     "output_type": "stream",
     "text": [
      "Общая аудитория\n",
      "Ежедневная аудитория: 907 человек\n",
      "Еженедельная аудитория: 5825 человек\n",
      "Ежемесячная аудитория: 23228 человек\n",
      "\n",
      "Аудитория desktop\n",
      "Ежедневная аудитория: 659 человек\n",
      "Еженедельная аудитория: 4208 человек\n",
      "Ежемесячная аудитория: 16724 человек\n",
      "\n",
      "Аудитория touch\n",
      "Ежедневная аудитория: 252 человек\n",
      "Еженедельная аудитория: 1666 человек\n",
      "Ежемесячная аудитория: 6825 человек\n",
      "\n"
     ]
    }
   ],
   "source": [
    "for data in [visits, visits_desktop, visits_touch]:\n",
    "    DAU = data.groupby('date').agg({'uid': 'nunique'}).mean()\n",
    "    WAU = data.groupby('week').agg({'uid': 'nunique'}).mean()\n",
    "    MAU = data.groupby('month').agg({'uid': 'nunique'}).mean()\n",
    "    if data is visits:\n",
    "        print('Общая аудитория')\n",
    "    if data is visits_desktop:\n",
    "        print('Аудитория desktop')\n",
    "    if data is visits_touch:\n",
    "        print('Аудитория touch')\n",
    "        \n",
    "    print('Ежедневная аудитория:', int(DAU), 'человек')\n",
    "    print('Еженедельная аудитория:', int(WAU), 'человек')\n",
    "    print('Ежемесячная аудитория:', int(MAU), 'человек')\n",
    "    print()\n",
    "\n",
    "\n",
    "\n"
   ]
  },
  {
   "cell_type": "markdown",
   "metadata": {},
   "source": [
    "### Продукт. Сколько сессий в день?<a id=\"step3.2\"></a>   \n",
    "</div>"
   ]
  },
  {
   "cell_type": "code",
   "execution_count": 20,
   "metadata": {},
   "outputs": [
    {
     "name": "stdout",
     "output_type": "stream",
     "text": [
      "Общее количество сессий 987\n",
      "Количество сессий с desktop 721\n",
      "Количество сессий с touch 267\n"
     ]
    }
   ],
   "source": [
    "for data in [visits, visits_desktop, visits_touch]:\n",
    "    session_count = data.groupby('date').agg({'uid': 'count'}).mean()\n",
    "    if data is visits:\n",
    "        print('Общее количество сессий', int(session_count.round(0)))\n",
    "\n",
    "    if data is visits_desktop:\n",
    "        print('Количество сессий с desktop', int(session_count.round(0)))\n",
    "\n",
    "    if data is visits_touch:\n",
    "        print('Количество сессий с touch', int(session_count.round(0)))      \n"
   ]
  },
  {
   "cell_type": "markdown",
   "metadata": {},
   "source": [
    "### Продукт. Сколько длится одна сессия?<a id=\"step3.3\"></a>   \n",
    "</div>"
   ]
  },
  {
   "cell_type": "markdown",
   "metadata": {},
   "source": [
    "Вычтем из времени окончании сессии время начала. С помощью метода describe рассмотрим новый столбец `session_duration_sec` "
   ]
  },
  {
   "cell_type": "code",
   "execution_count": 21,
   "metadata": {},
   "outputs": [
    {
     "name": "stdout",
     "output_type": "stream",
     "text": [
      "Метод describe для всех сессий\n",
      "count    359400.000000\n",
      "mean        643.506489\n",
      "std        1016.334786\n",
      "min           0.000000\n",
      "25%         120.000000\n",
      "50%         300.000000\n",
      "75%         840.000000\n",
      "max       84480.000000\n",
      "Name: session_duration_sec, dtype: float64\n",
      "\n",
      "Метод describe для сессий с desktop\n",
      "count    262567.000000\n",
      "mean        703.946977\n",
      "std        1091.545596\n",
      "min           0.000000\n",
      "25%         120.000000\n",
      "50%         360.000000\n",
      "75%         900.000000\n",
      "max       84480.000000\n",
      "Name: session_duration_sec, dtype: float64\n",
      "\n",
      "Метод describe для сессий с touch\n",
      "count    96833.000000\n",
      "mean       479.619407\n",
      "std        752.531533\n",
      "min          0.000000\n",
      "25%         60.000000\n",
      "50%        180.000000\n",
      "75%        600.000000\n",
      "max      30840.000000\n",
      "Name: session_duration_sec, dtype: float64\n",
      "\n"
     ]
    }
   ],
   "source": [
    "for data in [visits, visits_desktop, visits_touch]:\n",
    "    \n",
    "    data['session_duration_sec'] = (data['end_ts'] - data['start_ts']).dt.seconds\n",
    "    if data is visits:\n",
    "        print('Метод describe для всех сессий')\n",
    "    if data is visits_desktop:\n",
    "        print('Метод describe для сессий с desktop')\n",
    "    if data is visits_touch:\n",
    "        print('Метод describe для сессий с touch') \n",
    "        \n",
    "    print(data['session_duration_sec'].describe())\n",
    "    print()\n",
    "\n",
    "    \n",
    "    "
   ]
  },
  {
   "cell_type": "markdown",
   "metadata": {},
   "source": [
    "Построим гистограмму для длительности сессий"
   ]
  },
  {
   "cell_type": "code",
   "execution_count": 22,
   "metadata": {
    "scrolled": false
   },
   "outputs": [
    {
     "data": {
      "image/png": "[encoded data removed]",
      "text/plain": [
       "<Figure size 432x288 with 1 Axes>"
      ]
     },
     "metadata": {
      "needs_background": "light"
     },
     "output_type": "display_data"
    },
    {
     "data": {
      "image/png": "[encoded data removed]",
      "text/plain": [
       "<Figure size 432x288 with 1 Axes>"
      ]
     },
     "metadata": {
      "needs_background": "light"
     },
     "output_type": "display_data"
    },
    {
     "data": {
      "image/png": "[encoded data removed]",
      "text/plain": [
       "<Figure size 432x288 with 1 Axes>"
      ]
     },
     "metadata": {
      "needs_background": "light"
     },
     "output_type": "display_data"
    }
   ],
   "source": [
    "for data in [visits, visits_desktop, visits_touch]:\n",
    "    if data is visits:\n",
    "        plt.title('Гистограмма длительности всех сессий')\n",
    "    if data is visits_desktop:\n",
    "        plt.title('Гистограмма длительности сессий для desktop')\n",
    "    if data is visits_touch:\n",
    "        plt.title('Гистограмма длительности сессий для touch')\n",
    "    plt.hist(data['session_duration_sec'], bins=300)\n",
    "    plt.xlabel('Продолжительной сессии')\n",
    "    plt.ylabel('Количество сессий')\n",
    "\n",
    "    plt.xlim(-100,10000)\n",
    "    plt.show()"
   ]
  },
  {
   "cell_type": "markdown",
   "metadata": {},
   "source": [
    "Таким образом можно сделать вывод, что медианное значение для длительности сессии составляет ровно **300 секунд**. Среднее значение длительности - **644 секунды**.   \n",
    "Для *desktop* медианная длительность справедливо увеличивается до **360 секунд**, а для *touch* - наоборот уменьшается до **180 секунд**. Это можно объяснить тем, что более углубленный поиск пользователи совершают чаще с компьютера, чем с телефона. "
   ]
  },
  {
   "cell_type": "markdown",
   "metadata": {},
   "source": [
    "### Продукт. Как часто люди возвращаются?<a id=\"step3.4\"></a>   \n",
    "</div>"
   ]
  },
  {
   "cell_type": "markdown",
   "metadata": {},
   "source": [
    "Можно предположить, что большая часть пользователей обращаются к ресурсу не чаще, чем раз в месяц. Поэтому когорты будем формировать по данным за месяц. "
   ]
  },
  {
   "cell_type": "markdown",
   "metadata": {},
   "source": [
    "Найдём дату первой сессии, соберём это в объект Series `first_visit_date` и методом `join` добавим к нашей таблице"
   ]
  },
  {
   "cell_type": "code",
   "execution_count": 23,
   "metadata": {},
   "outputs": [],
   "source": [
    "first_visit_date = visits.groupby(['uid'])['start_ts'].min()\n",
    "first_visit_date.name = 'first_visit_date'\n",
    "visits = visits.join(first_visit_date, on='uid')\n",
    "\n",
    "first_visit_desktop_date = visits_desktop.groupby(['uid'])['start_ts'].min()\n",
    "first_visit_desktop_date.name = 'first_visit_date'\n",
    "visits_desktop = visits_desktop.join(first_visit_desktop_date, on='uid')\n",
    "\n",
    "first_visit_touch_date = visits_touch.groupby(['uid'])['start_ts'].min()\n",
    "first_visit_touch_date.name = 'first_visit_date'\n",
    "visits_touch = visits_touch.join(first_visit_touch_date, on='uid')\n",
    "\n",
    "\n",
    "#Оставил здесь цикл, который не стал работать из-за обращений к first_visit_date. \n",
    "#Честно говоря я так и не понял, почему он не работал \n",
    "#for data in [visits, visits_desktop, visits_touch]:\n",
    "    #first_visit_date = data.groupby(['uid'])['start_ts'].min()\n",
    "    #first_visit_date.name = 'first_visit_date'\n",
    "    #data = data.join(first_visit_date, on='uid')\n"
   ]
  },
  {
   "cell_type": "code",
   "execution_count": null,
   "metadata": {},
   "outputs": [],
   "source": []
  },
  {
   "cell_type": "markdown",
   "metadata": {},
   "source": [
    "Приведём `first_visit_month и visit_month` к типу `datetime64[M]`, то есть с размерностью временной метки в месяц."
   ]
  },
  {
   "cell_type": "code",
   "execution_count": null,
   "metadata": {},
   "outputs": [],
   "source": []
  },
  {
   "cell_type": "code",
   "execution_count": 24,
   "metadata": {},
   "outputs": [],
   "source": [
    "for data in [visits, visits_desktop, visits_touch]:\n",
    "    data['first_visit_month'] = data['first_visit_date'].astype('datetime64[M]')\n",
    "    data['visit_month'] = data['start_ts'].astype('datetime64[M]')"
   ]
  },
  {
   "cell_type": "markdown",
   "metadata": {},
   "source": [
    "Теперь подсчитаем время жизни для будущей когорт"
   ]
  },
  {
   "cell_type": "code",
   "execution_count": 25,
   "metadata": {},
   "outputs": [],
   "source": [
    "for data in [visits, visits_desktop, visits_touch]:\n",
    "    data['lifetime'] = (data['visit_month'] - data['first_visit_month']) / np.timedelta64(1, 'M')\n",
    "    data['lifetime'] = data['lifetime'].round().astype('int')"
   ]
  },
  {
   "cell_type": "markdown",
   "metadata": {},
   "source": [
    "Сгруппируем данные по когорте и `lifetime`. Подсчитаем количество `uid`"
   ]
  },
  {
   "cell_type": "markdown",
   "metadata": {},
   "source": [
    "for data in [visits, visits_desktop, visits_touch]:\n",
    "    if data is visits:\n",
    "    if data is visits_desktop:\n",
    "    if data is visits_touch:"
   ]
  },
  {
   "cell_type": "code",
   "execution_count": 26,
   "metadata": {},
   "outputs": [
    {
     "name": "stdout",
     "output_type": "stream",
     "text": [
      "Когорты всех сессий\n"
     ]
    },
    {
     "data": {
      "text/html": [
       "<div>\n",
       "<style scoped>\n",
       "    .dataframe tbody tr th:only-of-type {\n",
       "        vertical-align: middle;\n",
       "    }\n",
       "\n",
       "    .dataframe tbody tr th {\n",
       "        vertical-align: top;\n",
       "    }\n",
       "\n",
       "    .dataframe thead th {\n",
       "        text-align: right;\n",
       "    }\n",
       "</style>\n",
       "<table border=\"1\" class=\"dataframe\">\n",
       "  <thead>\n",
       "    <tr style=\"text-align: right;\">\n",
       "      <th></th>\n",
       "      <th>first_visit_month</th>\n",
       "      <th>lifetime</th>\n",
       "      <th>uid</th>\n",
       "    </tr>\n",
       "  </thead>\n",
       "  <tbody>\n",
       "    <tr>\n",
       "      <td>0</td>\n",
       "      <td>2017-06-01</td>\n",
       "      <td>0</td>\n",
       "      <td>13259</td>\n",
       "    </tr>\n",
       "    <tr>\n",
       "      <td>1</td>\n",
       "      <td>2017-06-01</td>\n",
       "      <td>1</td>\n",
       "      <td>1043</td>\n",
       "    </tr>\n",
       "    <tr>\n",
       "      <td>2</td>\n",
       "      <td>2017-06-01</td>\n",
       "      <td>2</td>\n",
       "      <td>713</td>\n",
       "    </tr>\n",
       "    <tr>\n",
       "      <td>3</td>\n",
       "      <td>2017-06-01</td>\n",
       "      <td>3</td>\n",
       "      <td>814</td>\n",
       "    </tr>\n",
       "    <tr>\n",
       "      <td>4</td>\n",
       "      <td>2017-06-01</td>\n",
       "      <td>4</td>\n",
       "      <td>909</td>\n",
       "    </tr>\n",
       "    <tr>\n",
       "      <td>...</td>\n",
       "      <td>...</td>\n",
       "      <td>...</td>\n",
       "      <td>...</td>\n",
       "    </tr>\n",
       "    <tr>\n",
       "      <td>73</td>\n",
       "      <td>2018-03-01</td>\n",
       "      <td>1</td>\n",
       "      <td>861</td>\n",
       "    </tr>\n",
       "    <tr>\n",
       "      <td>74</td>\n",
       "      <td>2018-03-01</td>\n",
       "      <td>2</td>\n",
       "      <td>557</td>\n",
       "    </tr>\n",
       "    <tr>\n",
       "      <td>75</td>\n",
       "      <td>2018-04-01</td>\n",
       "      <td>0</td>\n",
       "      <td>15709</td>\n",
       "    </tr>\n",
       "    <tr>\n",
       "      <td>76</td>\n",
       "      <td>2018-04-01</td>\n",
       "      <td>1</td>\n",
       "      <td>760</td>\n",
       "    </tr>\n",
       "    <tr>\n",
       "      <td>77</td>\n",
       "      <td>2018-05-01</td>\n",
       "      <td>0</td>\n",
       "      <td>15273</td>\n",
       "    </tr>\n",
       "  </tbody>\n",
       "</table>\n",
       "<p>78 rows × 3 columns</p>\n",
       "</div>"
      ],
      "text/plain": [
       "   first_visit_month  lifetime    uid\n",
       "0         2017-06-01         0  13259\n",
       "1         2017-06-01         1   1043\n",
       "2         2017-06-01         2    713\n",
       "3         2017-06-01         3    814\n",
       "4         2017-06-01         4    909\n",
       "..               ...       ...    ...\n",
       "73        2018-03-01         1    861\n",
       "74        2018-03-01         2    557\n",
       "75        2018-04-01         0  15709\n",
       "76        2018-04-01         1    760\n",
       "77        2018-05-01         0  15273\n",
       "\n",
       "[78 rows x 3 columns]"
      ]
     },
     "metadata": {},
     "output_type": "display_data"
    },
    {
     "name": "stdout",
     "output_type": "stream",
     "text": [
      "Когорты desktop\n"
     ]
    },
    {
     "data": {
      "text/html": [
       "<div>\n",
       "<style scoped>\n",
       "    .dataframe tbody tr th:only-of-type {\n",
       "        vertical-align: middle;\n",
       "    }\n",
       "\n",
       "    .dataframe tbody tr th {\n",
       "        vertical-align: top;\n",
       "    }\n",
       "\n",
       "    .dataframe thead th {\n",
       "        text-align: right;\n",
       "    }\n",
       "</style>\n",
       "<table border=\"1\" class=\"dataframe\">\n",
       "  <thead>\n",
       "    <tr style=\"text-align: right;\">\n",
       "      <th></th>\n",
       "      <th>first_visit_month</th>\n",
       "      <th>lifetime</th>\n",
       "      <th>uid</th>\n",
       "    </tr>\n",
       "  </thead>\n",
       "  <tbody>\n",
       "    <tr>\n",
       "      <td>0</td>\n",
       "      <td>2017-06-01</td>\n",
       "      <td>0</td>\n",
       "      <td>9761</td>\n",
       "    </tr>\n",
       "    <tr>\n",
       "      <td>1</td>\n",
       "      <td>2017-06-01</td>\n",
       "      <td>1</td>\n",
       "      <td>771</td>\n",
       "    </tr>\n",
       "    <tr>\n",
       "      <td>2</td>\n",
       "      <td>2017-06-01</td>\n",
       "      <td>2</td>\n",
       "      <td>541</td>\n",
       "    </tr>\n",
       "    <tr>\n",
       "      <td>3</td>\n",
       "      <td>2017-06-01</td>\n",
       "      <td>3</td>\n",
       "      <td>620</td>\n",
       "    </tr>\n",
       "    <tr>\n",
       "      <td>4</td>\n",
       "      <td>2017-06-01</td>\n",
       "      <td>4</td>\n",
       "      <td>678</td>\n",
       "    </tr>\n",
       "    <tr>\n",
       "      <td>...</td>\n",
       "      <td>...</td>\n",
       "      <td>...</td>\n",
       "      <td>...</td>\n",
       "    </tr>\n",
       "    <tr>\n",
       "      <td>73</td>\n",
       "      <td>2018-03-01</td>\n",
       "      <td>1</td>\n",
       "      <td>615</td>\n",
       "    </tr>\n",
       "    <tr>\n",
       "      <td>74</td>\n",
       "      <td>2018-03-01</td>\n",
       "      <td>2</td>\n",
       "      <td>381</td>\n",
       "    </tr>\n",
       "    <tr>\n",
       "      <td>75</td>\n",
       "      <td>2018-04-01</td>\n",
       "      <td>0</td>\n",
       "      <td>11055</td>\n",
       "    </tr>\n",
       "    <tr>\n",
       "      <td>76</td>\n",
       "      <td>2018-04-01</td>\n",
       "      <td>1</td>\n",
       "      <td>540</td>\n",
       "    </tr>\n",
       "    <tr>\n",
       "      <td>77</td>\n",
       "      <td>2018-05-01</td>\n",
       "      <td>0</td>\n",
       "      <td>10465</td>\n",
       "    </tr>\n",
       "  </tbody>\n",
       "</table>\n",
       "<p>78 rows × 3 columns</p>\n",
       "</div>"
      ],
      "text/plain": [
       "   first_visit_month  lifetime    uid\n",
       "0         2017-06-01         0   9761\n",
       "1         2017-06-01         1    771\n",
       "2         2017-06-01         2    541\n",
       "3         2017-06-01         3    620\n",
       "4         2017-06-01         4    678\n",
       "..               ...       ...    ...\n",
       "73        2018-03-01         1    615\n",
       "74        2018-03-01         2    381\n",
       "75        2018-04-01         0  11055\n",
       "76        2018-04-01         1    540\n",
       "77        2018-05-01         0  10465\n",
       "\n",
       "[78 rows x 3 columns]"
      ]
     },
     "metadata": {},
     "output_type": "display_data"
    },
    {
     "name": "stdout",
     "output_type": "stream",
     "text": [
      "Когорты touch\n"
     ]
    },
    {
     "data": {
      "text/html": [
       "<div>\n",
       "<style scoped>\n",
       "    .dataframe tbody tr th:only-of-type {\n",
       "        vertical-align: middle;\n",
       "    }\n",
       "\n",
       "    .dataframe tbody tr th {\n",
       "        vertical-align: top;\n",
       "    }\n",
       "\n",
       "    .dataframe thead th {\n",
       "        text-align: right;\n",
       "    }\n",
       "</style>\n",
       "<table border=\"1\" class=\"dataframe\">\n",
       "  <thead>\n",
       "    <tr style=\"text-align: right;\">\n",
       "      <th></th>\n",
       "      <th>first_visit_month</th>\n",
       "      <th>lifetime</th>\n",
       "      <th>uid</th>\n",
       "    </tr>\n",
       "  </thead>\n",
       "  <tbody>\n",
       "    <tr>\n",
       "      <td>0</td>\n",
       "      <td>2017-06-01</td>\n",
       "      <td>0</td>\n",
       "      <td>3655</td>\n",
       "    </tr>\n",
       "    <tr>\n",
       "      <td>1</td>\n",
       "      <td>2017-06-01</td>\n",
       "      <td>1</td>\n",
       "      <td>187</td>\n",
       "    </tr>\n",
       "    <tr>\n",
       "      <td>2</td>\n",
       "      <td>2017-06-01</td>\n",
       "      <td>2</td>\n",
       "      <td>112</td>\n",
       "    </tr>\n",
       "    <tr>\n",
       "      <td>3</td>\n",
       "      <td>2017-06-01</td>\n",
       "      <td>3</td>\n",
       "      <td>124</td>\n",
       "    </tr>\n",
       "    <tr>\n",
       "      <td>4</td>\n",
       "      <td>2017-06-01</td>\n",
       "      <td>4</td>\n",
       "      <td>152</td>\n",
       "    </tr>\n",
       "    <tr>\n",
       "      <td>...</td>\n",
       "      <td>...</td>\n",
       "      <td>...</td>\n",
       "      <td>...</td>\n",
       "    </tr>\n",
       "    <tr>\n",
       "      <td>73</td>\n",
       "      <td>2018-03-01</td>\n",
       "      <td>1</td>\n",
       "      <td>238</td>\n",
       "    </tr>\n",
       "    <tr>\n",
       "      <td>74</td>\n",
       "      <td>2018-03-01</td>\n",
       "      <td>2</td>\n",
       "      <td>147</td>\n",
       "    </tr>\n",
       "    <tr>\n",
       "      <td>75</td>\n",
       "      <td>2018-04-01</td>\n",
       "      <td>0</td>\n",
       "      <td>5311</td>\n",
       "    </tr>\n",
       "    <tr>\n",
       "      <td>76</td>\n",
       "      <td>2018-04-01</td>\n",
       "      <td>1</td>\n",
       "      <td>205</td>\n",
       "    </tr>\n",
       "    <tr>\n",
       "      <td>77</td>\n",
       "      <td>2018-05-01</td>\n",
       "      <td>0</td>\n",
       "      <td>5501</td>\n",
       "    </tr>\n",
       "  </tbody>\n",
       "</table>\n",
       "<p>78 rows × 3 columns</p>\n",
       "</div>"
      ],
      "text/plain": [
       "   first_visit_month  lifetime   uid\n",
       "0         2017-06-01         0  3655\n",
       "1         2017-06-01         1   187\n",
       "2         2017-06-01         2   112\n",
       "3         2017-06-01         3   124\n",
       "4         2017-06-01         4   152\n",
       "..               ...       ...   ...\n",
       "73        2018-03-01         1   238\n",
       "74        2018-03-01         2   147\n",
       "75        2018-04-01         0  5311\n",
       "76        2018-04-01         1   205\n",
       "77        2018-05-01         0  5501\n",
       "\n",
       "[78 rows x 3 columns]"
      ]
     },
     "metadata": {},
     "output_type": "display_data"
    }
   ],
   "source": [
    "for data in [visits, visits_desktop, visits_touch]:\n",
    "    cohorts = data.groupby(['first_visit_month','lifetime']).agg({'uid':'nunique'}).reset_index()\n",
    "    if data is visits:\n",
    "        cohorts_visits = cohorts\n",
    "        print('Когорты всех сессий')\n",
    "        display(cohorts_visits)\n",
    "    if data is visits_desktop:\n",
    "        cohorts_visits_desktop = cohorts\n",
    "        print('Когорты desktop')\n",
    "        display(cohorts_visits_desktop)\n",
    "    if data is visits_touch:\n",
    "        cohorts_visits_touch = cohorts\n",
    "        print('Когорты touch')\n",
    "        display(cohorts_visits_touch)\n"
   ]
  },
  {
   "cell_type": "markdown",
   "metadata": {},
   "source": [
    "Подсчитаем исходное количество пользователей в когорте. Возьмём их число на нулевую неделю. После чего переименуем столбцы и объединим получившиеся данные с `cohorts`."
   ]
  },
  {
   "cell_type": "code",
   "execution_count": 27,
   "metadata": {},
   "outputs": [],
   "source": [
    "#Для всех сессий\n",
    "initial_users_count_visits = cohorts_visits[cohorts_visits['lifetime'] == 0][['first_visit_month','uid']]\n",
    "initial_users_count_visits = initial_users_count_visits.rename(columns={'uid':'cohort_users'})\n",
    "cohorts_visits = cohorts_visits.merge(initial_users_count_visits,on='first_visit_month')\n",
    "\n",
    "#Для desktop\n",
    "initial_users_count_visits_d = cohorts_visits_desktop[cohorts_visits_desktop['lifetime'] == 0][['first_visit_month','uid']]\n",
    "initial_users_count_visits_d = initial_users_count_visits_d.rename(columns={'uid':'cohort_users'})\n",
    "cohorts_visits_desktop = cohorts_visits_desktop.merge(initial_users_count_visits_d,on='first_visit_month')\n",
    "\n",
    "#Для touch\n",
    "initial_users_count_visits_t = cohorts_visits_touch[cohorts_visits_touch['lifetime'] == 0][['first_visit_month','uid']]\n",
    "initial_users_count_visits_t = initial_users_count_visits_t.rename(columns={'uid':'cohort_users'})\n",
    "cohorts_visits_touch = cohorts_visits_touch.merge(initial_users_count_visits_t,on='first_visit_month')\n",
    "\n",
    "                                          \n",
    "                                          "
   ]
  },
  {
   "cell_type": "markdown",
   "metadata": {},
   "source": [
    "Теперь рассчитаем *Retention Rate*, построим сводную таблицу и создадим тепловую карту"
   ]
  },
  {
   "cell_type": "code",
   "execution_count": 28,
   "metadata": {},
   "outputs": [
    {
     "data": {
      "image/png": "[encoded data removed]",
      "text/plain": [
       "<Figure size 936x648 with 2 Axes>"
      ]
     },
     "metadata": {
      "needs_background": "light"
     },
     "output_type": "display_data"
    }
   ],
   "source": [
    "for cohorts in [cohorts_visits]:\n",
    "    cohorts['retention'] = cohorts['uid']/cohorts['cohort_users']\n",
    "    retention_pivot = cohorts.pivot_table(index='first_visit_month',columns='lifetime',values='retention',aggfunc='sum')\n",
    "    plt.figure(figsize=(13, 9))\n",
    "    plt.title('Cohorts: User Retention. Общий')\n",
    "    sns.heatmap(retention_pivot, annot=True, fmt='.1%', linewidths=1, linecolor='blue');"
   ]
  },
  {
   "cell_type": "code",
   "execution_count": 29,
   "metadata": {},
   "outputs": [
    {
     "data": {
      "image/png": "[encoded data removed]",
      "text/plain": [
       "<Figure size 936x648 with 2 Axes>"
      ]
     },
     "metadata": {
      "needs_background": "light"
     },
     "output_type": "display_data"
    }
   ],
   "source": [
    "for cohorts in [cohorts_visits_desktop]:\n",
    "    cohorts['retention'] = cohorts['uid']/cohorts['cohort_users']\n",
    "    retention_pivot = cohorts.pivot_table(index='first_visit_month',columns='lifetime',values='retention',aggfunc='sum')\n",
    "    plt.figure(figsize=(13, 9))\n",
    "    plt.title('Cohorts: User Retention. Desktop')\n",
    "    sns.heatmap(retention_pivot, annot=True, fmt='.1%', linewidths=1, linecolor='blue');"
   ]
  },
  {
   "cell_type": "code",
   "execution_count": 30,
   "metadata": {},
   "outputs": [
    {
     "data": {
      "image/png": "[encoded data removed]",
      "text/plain": [
       "<Figure size 936x648 with 2 Axes>"
      ]
     },
     "metadata": {
      "needs_background": "light"
     },
     "output_type": "display_data"
    }
   ],
   "source": [
    "for cohorts in [cohorts_visits_touch]:\n",
    "    cohorts['retention'] = cohorts['uid']/cohorts['cohort_users']\n",
    "    retention_pivot = cohorts.pivot_table(index='first_visit_month',columns='lifetime',values='retention',aggfunc='sum')\n",
    "    plt.figure(figsize=(13, 9))\n",
    "    plt.title('Cohorts: User Retention. Touch')\n",
    "    sns.heatmap(retention_pivot, annot=True, fmt='.1%', linewidths=1, linecolor='blue');"
   ]
  },
  {
   "cell_type": "markdown",
   "metadata": {},
   "source": [
    "Как видно из тепловой карты, большинство пользователей не возвращаются на следующий месяц, то есть более **92% пользователей не удерживаются** после первого использования.   \n",
    "При этом оставшееся меньшинство значительно стабильнее возвращается к Яндекс.Афише. Да есть общий естественный спад, но он не так большой и составляет около **3 п.п.**  \n",
    "\n",
    "Если *desktop* очень близок по содержанию к тепловой карте всех сессий, то у *touch* устройств заметно снижение по всем когортам в начале их существования на **2 п.п.**. Возможно, объяснение этому лежит в плоскости юзабилити *touch* версии Яндекс.Афиши. Есть версия, что не все устройства работают правильно с сайтом/приложением. На это стоит обратить внимание разработчиков.  \n",
    "\n"
   ]
  },
  {
   "cell_type": "markdown",
   "metadata": {},
   "source": [
    "### Продажи. Когда люди начинают покупать?<a id=\"step3.5\"></a>   \n",
    "</div>"
   ]
  },
  {
   "cell_type": "markdown",
   "metadata": {},
   "source": [
    "В начале сгруппируем таблицы **visits** и **orders** по дате первого визита и первой покупки соответственно."
   ]
  },
  {
   "cell_type": "code",
   "execution_count": 31,
   "metadata": {},
   "outputs": [],
   "source": [
    "first_visit = visits.groupby('uid').agg({'start_ts':'min'}).reset_index()\n",
    "first_visit_desktop = visits_desktop.groupby('uid').agg({'start_ts':'min'}).reset_index()\n",
    "first_visit_touch = visits_touch.groupby('uid').agg({'start_ts':'min'}).reset_index()\n",
    "first_order = orders.groupby('uid').agg({'buy_ts':'min'}).reset_index()"
   ]
  },
  {
   "cell_type": "markdown",
   "metadata": {},
   "source": [
    "Методом `merge` объединим получившиеся таблицы по столбцу `uid` в `buying_time` и выведём её первые 3 значения на экран."
   ]
  },
  {
   "cell_type": "code",
   "execution_count": 32,
   "metadata": {},
   "outputs": [
    {
     "data": {
      "text/html": [
       "<div>\n",
       "<style scoped>\n",
       "    .dataframe tbody tr th:only-of-type {\n",
       "        vertical-align: middle;\n",
       "    }\n",
       "\n",
       "    .dataframe tbody tr th {\n",
       "        vertical-align: top;\n",
       "    }\n",
       "\n",
       "    .dataframe thead th {\n",
       "        text-align: right;\n",
       "    }\n",
       "</style>\n",
       "<table border=\"1\" class=\"dataframe\">\n",
       "  <thead>\n",
       "    <tr style=\"text-align: right;\">\n",
       "      <th></th>\n",
       "      <th>uid</th>\n",
       "      <th>start_ts</th>\n",
       "      <th>buy_ts</th>\n",
       "    </tr>\n",
       "  </thead>\n",
       "  <tbody>\n",
       "    <tr>\n",
       "      <td>0</td>\n",
       "      <td>313578113262317</td>\n",
       "      <td>2017-09-18 22:49:00</td>\n",
       "      <td>2018-01-03 21:51:00</td>\n",
       "    </tr>\n",
       "    <tr>\n",
       "      <td>1</td>\n",
       "      <td>1575281904278712</td>\n",
       "      <td>2017-06-03 10:13:00</td>\n",
       "      <td>2017-06-03 10:13:00</td>\n",
       "    </tr>\n",
       "    <tr>\n",
       "      <td>2</td>\n",
       "      <td>2429014661409475</td>\n",
       "      <td>2017-10-11 17:14:00</td>\n",
       "      <td>2017-10-11 18:33:00</td>\n",
       "    </tr>\n",
       "  </tbody>\n",
       "</table>\n",
       "</div>"
      ],
      "text/plain": [
       "                uid            start_ts              buy_ts\n",
       "0   313578113262317 2017-09-18 22:49:00 2018-01-03 21:51:00\n",
       "1  1575281904278712 2017-06-03 10:13:00 2017-06-03 10:13:00\n",
       "2  2429014661409475 2017-10-11 17:14:00 2017-10-11 18:33:00"
      ]
     },
     "metadata": {},
     "output_type": "display_data"
    },
    {
     "data": {
      "text/html": [
       "<div>\n",
       "<style scoped>\n",
       "    .dataframe tbody tr th:only-of-type {\n",
       "        vertical-align: middle;\n",
       "    }\n",
       "\n",
       "    .dataframe tbody tr th {\n",
       "        vertical-align: top;\n",
       "    }\n",
       "\n",
       "    .dataframe thead th {\n",
       "        text-align: right;\n",
       "    }\n",
       "</style>\n",
       "<table border=\"1\" class=\"dataframe\">\n",
       "  <thead>\n",
       "    <tr style=\"text-align: right;\">\n",
       "      <th></th>\n",
       "      <th>uid</th>\n",
       "      <th>start_ts</th>\n",
       "      <th>buy_ts</th>\n",
       "    </tr>\n",
       "  </thead>\n",
       "  <tbody>\n",
       "    <tr>\n",
       "      <td>0</td>\n",
       "      <td>313578113262317</td>\n",
       "      <td>2017-09-18 22:49:00</td>\n",
       "      <td>2018-01-03 21:51:00</td>\n",
       "    </tr>\n",
       "    <tr>\n",
       "      <td>1</td>\n",
       "      <td>2429014661409475</td>\n",
       "      <td>2017-10-11 17:14:00</td>\n",
       "      <td>2017-10-11 18:33:00</td>\n",
       "    </tr>\n",
       "    <tr>\n",
       "      <td>2</td>\n",
       "      <td>2464366381792757</td>\n",
       "      <td>2018-01-27 20:10:00</td>\n",
       "      <td>2018-01-28 15:54:00</td>\n",
       "    </tr>\n",
       "  </tbody>\n",
       "</table>\n",
       "</div>"
      ],
      "text/plain": [
       "                uid            start_ts              buy_ts\n",
       "0   313578113262317 2017-09-18 22:49:00 2018-01-03 21:51:00\n",
       "1  2429014661409475 2017-10-11 17:14:00 2017-10-11 18:33:00\n",
       "2  2464366381792757 2018-01-27 20:10:00 2018-01-28 15:54:00"
      ]
     },
     "metadata": {},
     "output_type": "display_data"
    },
    {
     "data": {
      "text/html": [
       "<div>\n",
       "<style scoped>\n",
       "    .dataframe tbody tr th:only-of-type {\n",
       "        vertical-align: middle;\n",
       "    }\n",
       "\n",
       "    .dataframe tbody tr th {\n",
       "        vertical-align: top;\n",
       "    }\n",
       "\n",
       "    .dataframe thead th {\n",
       "        text-align: right;\n",
       "    }\n",
       "</style>\n",
       "<table border=\"1\" class=\"dataframe\">\n",
       "  <thead>\n",
       "    <tr style=\"text-align: right;\">\n",
       "      <th></th>\n",
       "      <th>uid</th>\n",
       "      <th>start_ts</th>\n",
       "      <th>buy_ts</th>\n",
       "    </tr>\n",
       "  </thead>\n",
       "  <tbody>\n",
       "    <tr>\n",
       "      <td>0</td>\n",
       "      <td>1575281904278712</td>\n",
       "      <td>2017-06-03 10:13:00</td>\n",
       "      <td>2017-06-03 10:13:00</td>\n",
       "    </tr>\n",
       "    <tr>\n",
       "      <td>1</td>\n",
       "      <td>3077748354309989</td>\n",
       "      <td>2018-03-03 12:08:00</td>\n",
       "      <td>2018-03-03 12:33:00</td>\n",
       "    </tr>\n",
       "    <tr>\n",
       "      <td>2</td>\n",
       "      <td>4992223027560440</td>\n",
       "      <td>2018-04-04 13:54:00</td>\n",
       "      <td>2018-04-04 13:54:00</td>\n",
       "    </tr>\n",
       "  </tbody>\n",
       "</table>\n",
       "</div>"
      ],
      "text/plain": [
       "                uid            start_ts              buy_ts\n",
       "0  1575281904278712 2017-06-03 10:13:00 2017-06-03 10:13:00\n",
       "1  3077748354309989 2018-03-03 12:08:00 2018-03-03 12:33:00\n",
       "2  4992223027560440 2018-04-04 13:54:00 2018-04-04 13:54:00"
      ]
     },
     "metadata": {},
     "output_type": "display_data"
    }
   ],
   "source": [
    "buying_time = first_visit.merge(first_order, on='uid', how='inner')\n",
    "buying_time_desktop = first_visit_desktop.merge(first_order, on='uid', how='inner')\n",
    "buying_time_touch = first_visit_touch.merge(first_order, on='uid', how='inner')\n",
    "for data in [buying_time, buying_time_desktop, buying_time_touch]:\n",
    "    display(data.head(3))"
   ]
  },
  {
   "cell_type": "markdown",
   "metadata": {},
   "source": [
    "Подсчитаем время первой покупки. Для этого вычтем из времени совершения первой покупки `buy_ts` время первой сессии на сайте `start_ts`."
   ]
  },
  {
   "cell_type": "code",
   "execution_count": 33,
   "metadata": {},
   "outputs": [],
   "source": [
    "for data in [buying_time, buying_time_desktop, buying_time_touch]:\n",
    "    data['buying_time'] = (data['buy_ts'] - data['start_ts']).dt.seconds\n"
   ]
  },
  {
   "cell_type": "markdown",
   "metadata": {},
   "source": [
    "Изучим получившиеся столбец методом describe. Предварительно для удобства переведём секунды в минуты."
   ]
  },
  {
   "cell_type": "code",
   "execution_count": 34,
   "metadata": {},
   "outputs": [
    {
     "name": "stdout",
     "output_type": "stream",
     "text": [
      "Время совершения до первой покупки для всех сессий\n"
     ]
    },
    {
     "data": {
      "text/plain": [
       "count    36523.000000\n",
       "mean       249.164691\n",
       "std        429.742785\n",
       "min          0.000000\n",
       "25%          4.000000\n",
       "50%         16.000000\n",
       "75%        252.000000\n",
       "max       1439.000000\n",
       "Name: buying_time, dtype: float64"
      ]
     },
     "metadata": {},
     "output_type": "display_data"
    },
    {
     "name": "stdout",
     "output_type": "stream",
     "text": [
      "\n",
      "\n",
      "Время совершения до первой покупки для desktop\n"
     ]
    },
    {
     "data": {
      "text/plain": [
       "count    30602.000000\n",
       "mean       243.308934\n",
       "std        429.295202\n",
       "min          0.000000\n",
       "25%          4.000000\n",
       "50%         15.000000\n",
       "75%        222.000000\n",
       "max       1439.000000\n",
       "Name: buying_time, dtype: float64"
      ]
     },
     "metadata": {},
     "output_type": "display_data"
    },
    {
     "name": "stdout",
     "output_type": "stream",
     "text": [
      "\n",
      "\n",
      "Время совершения до первой покупки для touch\n"
     ]
    },
    {
     "data": {
      "text/plain": [
       "count    8912.000000\n",
       "mean      376.517168\n",
       "std       474.839468\n",
       "min         0.000000\n",
       "25%         6.000000\n",
       "50%        87.000000\n",
       "75%       741.250000\n",
       "max      1439.000000\n",
       "Name: buying_time, dtype: float64"
      ]
     },
     "metadata": {},
     "output_type": "display_data"
    },
    {
     "name": "stdout",
     "output_type": "stream",
     "text": [
      "\n",
      "\n"
     ]
    }
   ],
   "source": [
    "for data in [buying_time, buying_time_desktop, buying_time_touch]:\n",
    "    data['buying_time'] = data['buying_time']/60\n",
    "    if data is buying_time:\n",
    "        print('Время совершения до первой покупки для всех сессий')\n",
    "    if data is buying_time_desktop:\n",
    "        print('Время совершения до первой покупки для desktop')\n",
    "    if data is buying_time_touch:\n",
    "        print('Время совершения до первой покупки для touch')\n",
    "        \n",
    "    display(data['buying_time'].describe())\n",
    "    print()\n",
    "    print()\n",
    "    \n",
    "    "
   ]
  },
  {
   "cell_type": "markdown",
   "metadata": {},
   "source": [
    "Построим гистаграмму затраченного времени"
   ]
  },
  {
   "cell_type": "code",
   "execution_count": 35,
   "metadata": {},
   "outputs": [
    {
     "data": {
      "image/png": "[encoded data removed]",
      "text/plain": [
       "<Figure size 432x288 with 1 Axes>"
      ]
     },
     "metadata": {
      "needs_background": "light"
     },
     "output_type": "display_data"
    },
    {
     "data": {
      "image/png": "[encoded data removed]",
      "text/plain": [
       "<Figure size 432x288 with 1 Axes>"
      ]
     },
     "metadata": {
      "needs_background": "light"
     },
     "output_type": "display_data"
    },
    {
     "data": {
      "image/png": "[encoded data removed]",
      "text/plain": [
       "<Figure size 432x288 with 1 Axes>"
      ]
     },
     "metadata": {
      "needs_background": "light"
     },
     "output_type": "display_data"
    }
   ],
   "source": [
    "for data in [buying_time, buying_time_desktop, buying_time_touch]:\n",
    "    \n",
    "    if data is buying_time:\n",
    "        plt.title('Гистограмма затраченного времени на покупку от первой сессии')\n",
    "    if data is buying_time_desktop:\n",
    "        plt.title('Гистограмма затраченного времени на покупку от первой сессии для desktop')\n",
    "    if data is buying_time_touch:\n",
    "        plt.title('Гистограмма затраченного времени на покупку от первой сессии для touch')\n",
    "    plt.hist(data['buying_time'], bins=50)\n",
    "    plt.xlabel('Затраченное время на покупку')\n",
    "    plt.ylabel('Количество сессий')\n",
    "    plt.xlim(-100,2000)\n",
    "    plt.show()"
   ]
  },
  {
   "cell_type": "markdown",
   "metadata": {},
   "source": [
    "На гистаграмме обнаружился интересный артефакт - очень много нулевых значений. Предположительно это связано с тем, что некоторые сайты концертов/театров/музыкальных групп интегрируют Яндекс.Афиши на свой сайт (то есть прямого захода на наш ресурс нет), поэтому такие значения могут существенно ухудшить нашу аналитику. Посчитаем их количество.\n",
    "\n"
   ]
  },
  {
   "cell_type": "code",
   "execution_count": 36,
   "metadata": {},
   "outputs": [
    {
     "data": {
      "text/plain": [
       "2467"
      ]
     },
     "execution_count": 36,
     "metadata": {},
     "output_type": "execute_result"
    }
   ],
   "source": [
    "buying_time[buying_time['buying_time'] == 0]['start_ts'].count()"
   ]
  },
  {
   "cell_type": "markdown",
   "metadata": {},
   "source": [
    "2467 значений - это больше допустимых 5%. Уберём их из нашей таблицы и посмотрим на новое описание describe."
   ]
  },
  {
   "cell_type": "code",
   "execution_count": 37,
   "metadata": {},
   "outputs": [
    {
     "name": "stdout",
     "output_type": "stream",
     "text": [
      "\n",
      "Время совершения до первой покупки для всех сессий\n"
     ]
    },
    {
     "data": {
      "text/plain": [
       "count    34056.000000\n",
       "mean       267.214059\n",
       "std        439.584023\n",
       "min          1.000000\n",
       "25%          5.000000\n",
       "50%         20.000000\n",
       "75%        310.000000\n",
       "max       1439.000000\n",
       "Name: buying_time, dtype: float64"
      ]
     },
     "metadata": {},
     "output_type": "display_data"
    },
    {
     "data": {
      "image/png": "[encoded data removed]",
      "text/plain": [
       "<Figure size 432x288 with 1 Axes>"
      ]
     },
     "metadata": {
      "needs_background": "light"
     },
     "output_type": "display_data"
    },
    {
     "name": "stdout",
     "output_type": "stream",
     "text": [
      "\n",
      "\n",
      "Время совершения до первой покупки для desktop\n"
     ]
    },
    {
     "data": {
      "text/plain": [
       "count    28626.000000\n",
       "mean       260.104101\n",
       "std        438.916474\n",
       "min          1.000000\n",
       "25%          5.000000\n",
       "50%         18.000000\n",
       "75%        275.000000\n",
       "max       1439.000000\n",
       "Name: buying_time, dtype: float64"
      ]
     },
     "metadata": {},
     "output_type": "display_data"
    },
    {
     "data": {
      "image/png": "[encoded data removed]",
      "text/plain": [
       "<Figure size 432x288 with 1 Axes>"
      ]
     },
     "metadata": {
      "needs_background": "light"
     },
     "output_type": "display_data"
    },
    {
     "name": "stdout",
     "output_type": "stream",
     "text": [
      "\n",
      "\n",
      "Время совершения до первой покупки для touch\n"
     ]
    },
    {
     "data": {
      "text/plain": [
       "count    8378.000000\n",
       "mean      400.515756\n",
       "std       479.825515\n",
       "min         1.000000\n",
       "25%         8.000000\n",
       "50%       128.000000\n",
       "75%       795.000000\n",
       "max      1439.000000\n",
       "Name: buying_time, dtype: float64"
      ]
     },
     "metadata": {},
     "output_type": "display_data"
    },
    {
     "data": {
      "image/png": "[encoded data removed]",
      "text/plain": [
       "<Figure size 432x288 with 1 Axes>"
      ]
     },
     "metadata": {
      "needs_background": "light"
     },
     "output_type": "display_data"
    },
    {
     "name": "stdout",
     "output_type": "stream",
     "text": [
      "\n",
      "\n",
      "Статистическая мода для времени покупки: 1\n"
     ]
    }
   ],
   "source": [
    "print()\n",
    "good_buying_time = []\n",
    "for data in [buying_time, buying_time_desktop, buying_time_touch]:\n",
    "    good_buying_time = data.query('buying_time > 0')\n",
    "    if data is buying_time:\n",
    "        print('Время совершения до первой покупки для всех сессий')\n",
    "    if data is buying_time_desktop:\n",
    "        print('Время совершения до первой покупки для desktop')\n",
    "    if data is buying_time_touch:\n",
    "        print('Время совершения до первой покупки для touch')\n",
    "    display(good_buying_time['buying_time'].describe())\n",
    "    \n",
    "    plt.hist(good_buying_time['buying_time'], bins=50)\n",
    "    plt.xlabel('Затраченное время на покупку')\n",
    "    plt.ylabel('Количество сессий')\n",
    "    if data is buying_time:\n",
    "        plt.title('Гистограмма затраченного времени на покупку от первой сессии')\n",
    "    if data is buying_time_desktop:\n",
    "        plt.title('Гистограмма затраченного времени на покупку от первой сессии для desktop')\n",
    "    if data is buying_time_touch:\n",
    "        plt.title('Гистограмма затраченного времени на покупку от первой сессии для touch')\n",
    "    plt.xlim(-1,1500)\n",
    "    plt.show()\n",
    "    print()\n",
    "    print()\n",
    "print('Статистическая мода для времени покупки:', int(good_buying_time['buying_time'].mode()))"
   ]
  },
  {
   "cell_type": "markdown",
   "metadata": {},
   "source": [
    "Таким образом наши клиенты по медиане совершают покупку за **20 минут**.  \n",
    "В среднем же на покупку уходит около **267 минут**, то есть эта часть пользователей заходит на сайт, серфит его какое-то время, возможно обсуждает потенциальные мероприятия со своими друзьями и уже всех этих этапов совершает покупку.  \n",
    "А вот мода в **1 минуту** говорит нам о том, что очень много людей заходят с максимально точным запросом и по сути переходят сразу на экран оплаты. Это подтверждает и тепловая карта из предыдущего этапа исследования. Такие пользователи заинтересованы в конкретном мероприятии, а Яндекс.Афишу используют как кассу для выбранного события.  \n",
    "\n",
    "Интересно, что медианное значения для покупки с *touch* составляет **128 минут**, то есть 50% пользователей *desktop* быстрее в 4,5 раза! Возможно, здесь есть ошибка подсчёта реально затраченного времени связанная с огромным количеством разных устройств и настройкой в них, то есть системы Афиши может считать, что пользователь использует приложение, а фактически оно свёрнуто в трей. Стоит сказать или просто уточнить об этом у разработчиков.\n"
   ]
  },
  {
   "cell_type": "markdown",
   "metadata": {},
   "source": [
    "### Продажи. Сколько раз покупают за период?<a id=\"step3.6\"></a>   \n",
    "</div>"
   ]
  },
  {
   "cell_type": "markdown",
   "metadata": {},
   "source": [
    "Для ответа на этот вопрос объединим таблицу **first_visit** c **orders**  методом `merge`. Выведем первые пять строк на экран"
   ]
  },
  {
   "cell_type": "code",
   "execution_count": 38,
   "metadata": {},
   "outputs": [
    {
     "name": "stdout",
     "output_type": "stream",
     "text": [
      "Вcе заказы\n"
     ]
    },
    {
     "data": {
      "text/html": [
       "<div>\n",
       "<style scoped>\n",
       "    .dataframe tbody tr th:only-of-type {\n",
       "        vertical-align: middle;\n",
       "    }\n",
       "\n",
       "    .dataframe tbody tr th {\n",
       "        vertical-align: top;\n",
       "    }\n",
       "\n",
       "    .dataframe thead th {\n",
       "        text-align: right;\n",
       "    }\n",
       "</style>\n",
       "<table border=\"1\" class=\"dataframe\">\n",
       "  <thead>\n",
       "    <tr style=\"text-align: right;\">\n",
       "      <th></th>\n",
       "      <th>uid</th>\n",
       "      <th>revenue</th>\n",
       "      <th>buy_ts</th>\n",
       "      <th>start_ts</th>\n",
       "    </tr>\n",
       "  </thead>\n",
       "  <tbody>\n",
       "    <tr>\n",
       "      <td>0</td>\n",
       "      <td>10329302124590727494</td>\n",
       "      <td>17.00</td>\n",
       "      <td>2017-06-01 00:10:00</td>\n",
       "      <td>2017-06-01 00:09:00</td>\n",
       "    </tr>\n",
       "    <tr>\n",
       "      <td>1</td>\n",
       "      <td>11627257723692907447</td>\n",
       "      <td>0.55</td>\n",
       "      <td>2017-06-01 00:25:00</td>\n",
       "      <td>2017-06-01 00:14:00</td>\n",
       "    </tr>\n",
       "    <tr>\n",
       "      <td>2</td>\n",
       "      <td>17903680561304213844</td>\n",
       "      <td>0.37</td>\n",
       "      <td>2017-06-01 00:27:00</td>\n",
       "      <td>2017-06-01 00:25:00</td>\n",
       "    </tr>\n",
       "    <tr>\n",
       "      <td>3</td>\n",
       "      <td>16109239769442553005</td>\n",
       "      <td>0.55</td>\n",
       "      <td>2017-06-01 00:29:00</td>\n",
       "      <td>2017-06-01 00:14:00</td>\n",
       "    </tr>\n",
       "    <tr>\n",
       "      <td>4</td>\n",
       "      <td>14200605875248379450</td>\n",
       "      <td>0.37</td>\n",
       "      <td>2017-06-01 07:58:00</td>\n",
       "      <td>2017-06-01 07:31:00</td>\n",
       "    </tr>\n",
       "  </tbody>\n",
       "</table>\n",
       "</div>"
      ],
      "text/plain": [
       "                    uid  revenue              buy_ts            start_ts\n",
       "0  10329302124590727494    17.00 2017-06-01 00:10:00 2017-06-01 00:09:00\n",
       "1  11627257723692907447     0.55 2017-06-01 00:25:00 2017-06-01 00:14:00\n",
       "2  17903680561304213844     0.37 2017-06-01 00:27:00 2017-06-01 00:25:00\n",
       "3  16109239769442553005     0.55 2017-06-01 00:29:00 2017-06-01 00:14:00\n",
       "4  14200605875248379450     0.37 2017-06-01 07:58:00 2017-06-01 07:31:00"
      ]
     },
     "metadata": {},
     "output_type": "display_data"
    },
    {
     "name": "stdout",
     "output_type": "stream",
     "text": [
      "\n",
      "\n",
      "Заказы с desktop\n"
     ]
    },
    {
     "data": {
      "text/html": [
       "<div>\n",
       "<style scoped>\n",
       "    .dataframe tbody tr th:only-of-type {\n",
       "        vertical-align: middle;\n",
       "    }\n",
       "\n",
       "    .dataframe tbody tr th {\n",
       "        vertical-align: top;\n",
       "    }\n",
       "\n",
       "    .dataframe thead th {\n",
       "        text-align: right;\n",
       "    }\n",
       "</style>\n",
       "<table border=\"1\" class=\"dataframe\">\n",
       "  <thead>\n",
       "    <tr style=\"text-align: right;\">\n",
       "      <th></th>\n",
       "      <th>uid</th>\n",
       "      <th>revenue</th>\n",
       "      <th>buy_ts</th>\n",
       "      <th>start_ts</th>\n",
       "    </tr>\n",
       "  </thead>\n",
       "  <tbody>\n",
       "    <tr>\n",
       "      <td>0</td>\n",
       "      <td>10329302124590727494</td>\n",
       "      <td>17.00</td>\n",
       "      <td>2017-06-01 00:10:00</td>\n",
       "      <td>2017-06-01 00:09:00</td>\n",
       "    </tr>\n",
       "    <tr>\n",
       "      <td>1</td>\n",
       "      <td>11627257723692907447</td>\n",
       "      <td>0.55</td>\n",
       "      <td>2017-06-01 00:25:00</td>\n",
       "      <td>2017-06-01 00:14:00</td>\n",
       "    </tr>\n",
       "    <tr>\n",
       "      <td>2</td>\n",
       "      <td>17903680561304213844</td>\n",
       "      <td>0.37</td>\n",
       "      <td>2017-06-01 00:27:00</td>\n",
       "      <td>2017-06-01 00:25:00</td>\n",
       "    </tr>\n",
       "    <tr>\n",
       "      <td>3</td>\n",
       "      <td>16109239769442553005</td>\n",
       "      <td>0.55</td>\n",
       "      <td>2017-06-01 00:29:00</td>\n",
       "      <td>2017-06-01 00:14:00</td>\n",
       "    </tr>\n",
       "    <tr>\n",
       "      <td>4</td>\n",
       "      <td>14200605875248379450</td>\n",
       "      <td>0.37</td>\n",
       "      <td>2017-06-01 07:58:00</td>\n",
       "      <td>2017-06-01 07:31:00</td>\n",
       "    </tr>\n",
       "  </tbody>\n",
       "</table>\n",
       "</div>"
      ],
      "text/plain": [
       "                    uid  revenue              buy_ts            start_ts\n",
       "0  10329302124590727494    17.00 2017-06-01 00:10:00 2017-06-01 00:09:00\n",
       "1  11627257723692907447     0.55 2017-06-01 00:25:00 2017-06-01 00:14:00\n",
       "2  17903680561304213844     0.37 2017-06-01 00:27:00 2017-06-01 00:25:00\n",
       "3  16109239769442553005     0.55 2017-06-01 00:29:00 2017-06-01 00:14:00\n",
       "4  14200605875248379450     0.37 2017-06-01 07:58:00 2017-06-01 07:31:00"
      ]
     },
     "metadata": {},
     "output_type": "display_data"
    },
    {
     "name": "stdout",
     "output_type": "stream",
     "text": [
      "\n",
      "\n",
      "Заказы с touch\n"
     ]
    },
    {
     "data": {
      "text/html": [
       "<div>\n",
       "<style scoped>\n",
       "    .dataframe tbody tr th:only-of-type {\n",
       "        vertical-align: middle;\n",
       "    }\n",
       "\n",
       "    .dataframe tbody tr th {\n",
       "        vertical-align: top;\n",
       "    }\n",
       "\n",
       "    .dataframe thead th {\n",
       "        text-align: right;\n",
       "    }\n",
       "</style>\n",
       "<table border=\"1\" class=\"dataframe\">\n",
       "  <thead>\n",
       "    <tr style=\"text-align: right;\">\n",
       "      <th></th>\n",
       "      <th>uid</th>\n",
       "      <th>revenue</th>\n",
       "      <th>buy_ts</th>\n",
       "      <th>start_ts</th>\n",
       "    </tr>\n",
       "  </thead>\n",
       "  <tbody>\n",
       "    <tr>\n",
       "      <td>0</td>\n",
       "      <td>3644482766749211722</td>\n",
       "      <td>1.22</td>\n",
       "      <td>2017-06-01 09:22:00</td>\n",
       "      <td>2017-09-15 15:38:00</td>\n",
       "    </tr>\n",
       "    <tr>\n",
       "      <td>1</td>\n",
       "      <td>3644482766749211722</td>\n",
       "      <td>0.85</td>\n",
       "      <td>2017-06-02 12:44:00</td>\n",
       "      <td>2017-09-15 15:38:00</td>\n",
       "    </tr>\n",
       "    <tr>\n",
       "      <td>2</td>\n",
       "      <td>3644482766749211722</td>\n",
       "      <td>12.83</td>\n",
       "      <td>2017-06-02 15:08:00</td>\n",
       "      <td>2017-09-15 15:38:00</td>\n",
       "    </tr>\n",
       "    <tr>\n",
       "      <td>3</td>\n",
       "      <td>3644482766749211722</td>\n",
       "      <td>17.11</td>\n",
       "      <td>2017-06-04 13:06:00</td>\n",
       "      <td>2017-09-15 15:38:00</td>\n",
       "    </tr>\n",
       "    <tr>\n",
       "      <td>4</td>\n",
       "      <td>3644482766749211722</td>\n",
       "      <td>7.33</td>\n",
       "      <td>2017-06-07 11:06:00</td>\n",
       "      <td>2017-09-15 15:38:00</td>\n",
       "    </tr>\n",
       "  </tbody>\n",
       "</table>\n",
       "</div>"
      ],
      "text/plain": [
       "                   uid  revenue              buy_ts            start_ts\n",
       "0  3644482766749211722     1.22 2017-06-01 09:22:00 2017-09-15 15:38:00\n",
       "1  3644482766749211722     0.85 2017-06-02 12:44:00 2017-09-15 15:38:00\n",
       "2  3644482766749211722    12.83 2017-06-02 15:08:00 2017-09-15 15:38:00\n",
       "3  3644482766749211722    17.11 2017-06-04 13:06:00 2017-09-15 15:38:00\n",
       "4  3644482766749211722     7.33 2017-06-07 11:06:00 2017-09-15 15:38:00"
      ]
     },
     "metadata": {},
     "output_type": "display_data"
    },
    {
     "name": "stdout",
     "output_type": "stream",
     "text": [
      "\n",
      "\n"
     ]
    }
   ],
   "source": [
    "all_orders = orders.merge(first_visit)\n",
    "all_orders_desktop = orders.merge(first_visit_desktop)\n",
    "all_orders_touch = orders.merge(first_visit_touch)\n",
    "for data in [all_orders, all_orders_desktop, all_orders_touch]: \n",
    "    if data is all_orders:\n",
    "        print('Вcе заказы')\n",
    "    if data is all_orders_desktop:\n",
    "        print('Заказы с desktop')\n",
    "    if data is all_orders_touch:\n",
    "        print('Заказы с touch')\n",
    "    display(data.head(5))\n",
    "\n",
    "        \n",
    "    print()\n",
    "    print()"
   ]
  },
  {
   "cell_type": "markdown",
   "metadata": {},
   "source": [
    "Для каждой покупки найдём день, время и месяц. "
   ]
  },
  {
   "cell_type": "code",
   "execution_count": 39,
   "metadata": {},
   "outputs": [],
   "source": [
    "for data in [all_orders, all_orders_desktop, all_orders_touch]: \n",
    "    data['buy_date'] = data['buy_ts'].dt.date\n",
    "    data['buy_week'] = data['buy_ts'].dt.week\n",
    "    data['buy_month'] = data['buy_ts'].dt.month\n"
   ]
  },
  {
   "cell_type": "markdown",
   "metadata": {},
   "source": [
    "Сгруппируем покупки для каждого дня, недели и месяца."
   ]
  },
  {
   "cell_type": "code",
   "execution_count": 40,
   "metadata": {},
   "outputs": [],
   "source": [
    "buys_per_day = all_orders.groupby('buy_date')['uid'].count()\n",
    "buys_per_week = all_orders.groupby('buy_week')['uid'].count()\n",
    "buys_per_month = all_orders.groupby('buy_month')['uid'].count()\n",
    "buys_per_day_d = all_orders_desktop.groupby('buy_date')['uid'].count()\n",
    "buys_per_week_d = all_orders_desktop.groupby('buy_week')['uid'].count()\n",
    "buys_per_month_d = all_orders_desktop.groupby('buy_month')['uid'].count()\n",
    "buys_per_day_t = all_orders_touch.groupby('buy_date')['uid'].count()\n",
    "buys_per_week_t = all_orders_touch.groupby('buy_week')['uid'].count()\n",
    "buys_per_month_t = all_orders_touch.groupby('buy_month')['uid'].count()\n",
    "\n"
   ]
  },
  {
   "cell_type": "markdown",
   "metadata": {},
   "source": [
    "Каждую переменную опишем методом describe и соберём их в один датафрейм."
   ]
  },
  {
   "cell_type": "code",
   "execution_count": 41,
   "metadata": {},
   "outputs": [
    {
     "name": "stdout",
     "output_type": "stream",
     "text": [
      "Покупки для каждого дня, недели, месяца\n"
     ]
    },
    {
     "data": {
      "text/html": [
       "<div>\n",
       "<style scoped>\n",
       "    .dataframe tbody tr th:only-of-type {\n",
       "        vertical-align: middle;\n",
       "    }\n",
       "\n",
       "    .dataframe tbody tr th {\n",
       "        vertical-align: top;\n",
       "    }\n",
       "\n",
       "    .dataframe thead th {\n",
       "        text-align: right;\n",
       "    }\n",
       "</style>\n",
       "<table border=\"1\" class=\"dataframe\">\n",
       "  <thead>\n",
       "    <tr style=\"text-align: right;\">\n",
       "      <th></th>\n",
       "      <th>per_day</th>\n",
       "      <th>per_week</th>\n",
       "      <th>per_month</th>\n",
       "    </tr>\n",
       "  </thead>\n",
       "  <tbody>\n",
       "    <tr>\n",
       "      <td>mean</td>\n",
       "      <td>138.50</td>\n",
       "      <td>969.52</td>\n",
       "      <td>4201.25</td>\n",
       "    </tr>\n",
       "    <tr>\n",
       "      <td>std</td>\n",
       "      <td>76.86</td>\n",
       "      <td>397.63</td>\n",
       "      <td>1511.86</td>\n",
       "    </tr>\n",
       "    <tr>\n",
       "      <td>min</td>\n",
       "      <td>1.00</td>\n",
       "      <td>314.00</td>\n",
       "      <td>1807.00</td>\n",
       "    </tr>\n",
       "    <tr>\n",
       "      <td>25%</td>\n",
       "      <td>82.75</td>\n",
       "      <td>658.50</td>\n",
       "      <td>3045.50</td>\n",
       "    </tr>\n",
       "    <tr>\n",
       "      <td>50%</td>\n",
       "      <td>136.00</td>\n",
       "      <td>997.50</td>\n",
       "      <td>4533.50</td>\n",
       "    </tr>\n",
       "    <tr>\n",
       "      <td>75%</td>\n",
       "      <td>177.00</td>\n",
       "      <td>1270.50</td>\n",
       "      <td>5409.25</td>\n",
       "    </tr>\n",
       "    <tr>\n",
       "      <td>max</td>\n",
       "      <td>814.00</td>\n",
       "      <td>1894.00</td>\n",
       "      <td>6218.00</td>\n",
       "    </tr>\n",
       "  </tbody>\n",
       "</table>\n",
       "</div>"
      ],
      "text/plain": [
       "      per_day  per_week  per_month\n",
       "mean   138.50    969.52    4201.25\n",
       "std     76.86    397.63    1511.86\n",
       "min      1.00    314.00    1807.00\n",
       "25%     82.75    658.50    3045.50\n",
       "50%    136.00    997.50    4533.50\n",
       "75%    177.00   1270.50    5409.25\n",
       "max    814.00   1894.00    6218.00"
      ]
     },
     "metadata": {},
     "output_type": "display_data"
    },
    {
     "name": "stdout",
     "output_type": "stream",
     "text": [
      "\n",
      "\n",
      "Покупки для каждого дня, недели, месяца для desktop\n"
     ]
    },
    {
     "data": {
      "text/html": [
       "<div>\n",
       "<style scoped>\n",
       "    .dataframe tbody tr th:only-of-type {\n",
       "        vertical-align: middle;\n",
       "    }\n",
       "\n",
       "    .dataframe tbody tr th {\n",
       "        vertical-align: top;\n",
       "    }\n",
       "\n",
       "    .dataframe thead th {\n",
       "        text-align: right;\n",
       "    }\n",
       "</style>\n",
       "<table border=\"1\" class=\"dataframe\">\n",
       "  <thead>\n",
       "    <tr style=\"text-align: right;\">\n",
       "      <th></th>\n",
       "      <th>per_day</th>\n",
       "      <th>per_week</th>\n",
       "      <th>per_month</th>\n",
       "    </tr>\n",
       "  </thead>\n",
       "  <tbody>\n",
       "    <tr>\n",
       "      <td>mean</td>\n",
       "      <td>118.65</td>\n",
       "      <td>830.58</td>\n",
       "      <td>3599.17</td>\n",
       "    </tr>\n",
       "    <tr>\n",
       "      <td>std</td>\n",
       "      <td>67.09</td>\n",
       "      <td>341.64</td>\n",
       "      <td>1291.36</td>\n",
       "    </tr>\n",
       "    <tr>\n",
       "      <td>min</td>\n",
       "      <td>1.00</td>\n",
       "      <td>270.00</td>\n",
       "      <td>1572.00</td>\n",
       "    </tr>\n",
       "    <tr>\n",
       "      <td>25%</td>\n",
       "      <td>70.75</td>\n",
       "      <td>569.00</td>\n",
       "      <td>2641.50</td>\n",
       "    </tr>\n",
       "    <tr>\n",
       "      <td>50%</td>\n",
       "      <td>114.00</td>\n",
       "      <td>848.00</td>\n",
       "      <td>3845.50</td>\n",
       "    </tr>\n",
       "    <tr>\n",
       "      <td>75%</td>\n",
       "      <td>152.50</td>\n",
       "      <td>1086.00</td>\n",
       "      <td>4635.25</td>\n",
       "    </tr>\n",
       "    <tr>\n",
       "      <td>max</td>\n",
       "      <td>727.00</td>\n",
       "      <td>1644.00</td>\n",
       "      <td>5326.00</td>\n",
       "    </tr>\n",
       "  </tbody>\n",
       "</table>\n",
       "</div>"
      ],
      "text/plain": [
       "      per_day  per_week  per_month\n",
       "mean   118.65    830.58    3599.17\n",
       "std     67.09    341.64    1291.36\n",
       "min      1.00    270.00    1572.00\n",
       "25%     70.75    569.00    2641.50\n",
       "50%    114.00    848.00    3845.50\n",
       "75%    152.50   1086.00    4635.25\n",
       "max    727.00   1644.00    5326.00"
      ]
     },
     "metadata": {},
     "output_type": "display_data"
    },
    {
     "name": "stdout",
     "output_type": "stream",
     "text": [
      "\n",
      "\n",
      "Покупки для каждого дня, недели, месяца для touch\n"
     ]
    },
    {
     "data": {
      "text/html": [
       "<div>\n",
       "<style scoped>\n",
       "    .dataframe tbody tr th:only-of-type {\n",
       "        vertical-align: middle;\n",
       "    }\n",
       "\n",
       "    .dataframe tbody tr th {\n",
       "        vertical-align: top;\n",
       "    }\n",
       "\n",
       "    .dataframe thead th {\n",
       "        text-align: right;\n",
       "    }\n",
       "</style>\n",
       "<table border=\"1\" class=\"dataframe\">\n",
       "  <thead>\n",
       "    <tr style=\"text-align: right;\">\n",
       "      <th></th>\n",
       "      <th>per_day</th>\n",
       "      <th>per_week</th>\n",
       "      <th>per_month</th>\n",
       "    </tr>\n",
       "  </thead>\n",
       "  <tbody>\n",
       "    <tr>\n",
       "      <td>mean</td>\n",
       "      <td>35.12</td>\n",
       "      <td>245.15</td>\n",
       "      <td>1062.33</td>\n",
       "    </tr>\n",
       "    <tr>\n",
       "      <td>std</td>\n",
       "      <td>21.73</td>\n",
       "      <td>108.54</td>\n",
       "      <td>410.70</td>\n",
       "    </tr>\n",
       "    <tr>\n",
       "      <td>min</td>\n",
       "      <td>4.00</td>\n",
       "      <td>71.00</td>\n",
       "      <td>436.00</td>\n",
       "    </tr>\n",
       "    <tr>\n",
       "      <td>25%</td>\n",
       "      <td>21.00</td>\n",
       "      <td>165.25</td>\n",
       "      <td>731.00</td>\n",
       "    </tr>\n",
       "    <tr>\n",
       "      <td>50%</td>\n",
       "      <td>34.00</td>\n",
       "      <td>235.50</td>\n",
       "      <td>1099.00</td>\n",
       "    </tr>\n",
       "    <tr>\n",
       "      <td>75%</td>\n",
       "      <td>45.00</td>\n",
       "      <td>331.50</td>\n",
       "      <td>1413.00</td>\n",
       "    </tr>\n",
       "    <tr>\n",
       "      <td>max</td>\n",
       "      <td>251.00</td>\n",
       "      <td>549.00</td>\n",
       "      <td>1632.00</td>\n",
       "    </tr>\n",
       "  </tbody>\n",
       "</table>\n",
       "</div>"
      ],
      "text/plain": [
       "      per_day  per_week  per_month\n",
       "mean    35.12    245.15    1062.33\n",
       "std     21.73    108.54     410.70\n",
       "min      4.00     71.00     436.00\n",
       "25%     21.00    165.25     731.00\n",
       "50%     34.00    235.50    1099.00\n",
       "75%     45.00    331.50    1413.00\n",
       "max    251.00    549.00    1632.00"
      ]
     },
     "metadata": {},
     "output_type": "display_data"
    },
    {
     "name": "stdout",
     "output_type": "stream",
     "text": [
      "\n",
      "\n"
     ]
    }
   ],
   "source": [
    "orders_per_period = pd.DataFrame()\n",
    "orders_per_period_d = pd.DataFrame()\n",
    "orders_per_period_t = pd.DataFrame()\n",
    "\n",
    "print('Покупки для каждого дня, недели, месяца')\n",
    "orders_per_period['per_day'] = buys_per_day.describe()\n",
    "orders_per_period['per_week'] = buys_per_week.describe()\n",
    "orders_per_period['per_month'] = buys_per_month.describe()\n",
    "display(orders_per_period[1:9].round(2))\n",
    "\n",
    "print()\n",
    "print()\n",
    "\n",
    "print('Покупки для каждого дня, недели, месяца для desktop')\n",
    "orders_per_period_d['per_day'] = buys_per_day_d.describe()\n",
    "orders_per_period_d['per_week'] = buys_per_week_d.describe()\n",
    "orders_per_period_d['per_month'] = buys_per_month_d.describe()\n",
    "display(orders_per_period_d[1:9].round(2))\n",
    "\n",
    "print()\n",
    "print()\n",
    "\n",
    "print('Покупки для каждого дня, недели, месяца для touch')\n",
    "orders_per_period_t['per_day'] = buys_per_day_t.describe()\n",
    "orders_per_period_t['per_week'] = buys_per_week_t.describe()\n",
    "orders_per_period_t['per_month'] = buys_per_month_t.describe()\n",
    "display(orders_per_period_t[1:9].round(2))\n",
    "\n",
    "print()\n",
    "print()\n",
    "\n"
   ]
  },
  {
   "cell_type": "markdown",
   "metadata": {},
   "source": [
    "Как и ожидалось с *desktop* заказы совершают в **3,5 раза** чаще, чем с *touch*"
   ]
  },
  {
   "cell_type": "markdown",
   "metadata": {},
   "source": [
    "### Продажи. Какой средний чек?<a id=\"step3.7\"></a>   \n",
    "</div>"
   ]
  },
  {
   "cell_type": "markdown",
   "metadata": {},
   "source": [
    "С помощью `describe` посмотрим на столбец выручки и создадим `order_month`."
   ]
  },
  {
   "cell_type": "code",
   "execution_count": 42,
   "metadata": {},
   "outputs": [
    {
     "name": "stdout",
     "output_type": "stream",
     "text": [
      "Вcе заказы\n"
     ]
    },
    {
     "data": {
      "text/plain": [
       "count    50415.000000\n",
       "mean         4.999647\n",
       "std         21.818359\n",
       "min          0.000000\n",
       "25%          1.220000\n",
       "50%          2.500000\n",
       "75%          4.890000\n",
       "max       2633.280000\n",
       "Name: revenue, dtype: float64"
      ]
     },
     "metadata": {},
     "output_type": "display_data"
    },
    {
     "name": "stdout",
     "output_type": "stream",
     "text": [
      "\n",
      "\n",
      "Заказы с desktop\n"
     ]
    },
    {
     "data": {
      "text/plain": [
       "count    43190.000000\n",
       "mean         5.197312\n",
       "std         23.417780\n",
       "min          0.000000\n",
       "25%          1.280000\n",
       "50%          2.690000\n",
       "75%          4.890000\n",
       "max       2633.280000\n",
       "Name: revenue, dtype: float64"
      ]
     },
     "metadata": {},
     "output_type": "display_data"
    },
    {
     "name": "stdout",
     "output_type": "stream",
     "text": [
      "\n",
      "\n",
      "Заказы с touch\n"
     ]
    },
    {
     "data": {
      "text/plain": [
       "count    12748.000000\n",
       "mean         4.785987\n",
       "std         10.765277\n",
       "min          0.000000\n",
       "25%          1.220000\n",
       "50%          2.440000\n",
       "75%          4.890000\n",
       "max        273.780000\n",
       "Name: revenue, dtype: float64"
      ]
     },
     "metadata": {},
     "output_type": "display_data"
    },
    {
     "name": "stdout",
     "output_type": "stream",
     "text": [
      "\n",
      "\n"
     ]
    }
   ],
   "source": [
    "for data in [all_orders, all_orders_desktop, all_orders_touch]:\n",
    "    if data is all_orders:\n",
    "        print('Вcе заказы')\n",
    "    if data is all_orders_desktop:\n",
    "        print('Заказы с desktop')\n",
    "    if data is all_orders_touch:\n",
    "        print('Заказы с touch')    \n",
    "    display(data['revenue'].describe())\n",
    "    data['order_month'] = data['buy_ts'].astype('datetime64[M]').dt.date\n",
    "    print()\n",
    "    print()"
   ]
  },
  {
   "cell_type": "markdown",
   "metadata": {},
   "source": [
    "Рассмотрим среднюю выручку по месяцам."
   ]
  },
  {
   "cell_type": "code",
   "execution_count": 43,
   "metadata": {},
   "outputs": [],
   "source": [
    "buys_per_month_mean = all_orders.groupby('order_month').agg({'revenue': 'mean'}).reset_index()\n",
    "buys_per_month_mean_d = all_orders_desktop.groupby('order_month').agg({'revenue': 'mean'}).reset_index()\n",
    "buys_per_month_mean_t = all_orders_desktop.groupby('order_month').agg({'revenue': 'mean'}).reset_index()\n"
   ]
  },
  {
   "cell_type": "markdown",
   "metadata": {},
   "source": [
    "Построим линейчатую диаграмму для средней выручки с разбивкой по месяцам "
   ]
  },
  {
   "cell_type": "code",
   "execution_count": 44,
   "metadata": {
    "scrolled": false
   },
   "outputs": [
    {
     "data": {
      "image/png": "[encoded data removed]",
      "text/plain": [
       "<Figure size 720x288 with 1 Axes>"
      ]
     },
     "metadata": {
      "needs_background": "light"
     },
     "output_type": "display_data"
    },
    {
     "data": {
      "image/png": "[encoded data removed]",
      "text/plain": [
       "<Figure size 720x288 with 1 Axes>"
      ]
     },
     "metadata": {
      "needs_background": "light"
     },
     "output_type": "display_data"
    },
    {
     "data": {
      "image/png": "[encoded data removed]",
      "text/plain": [
       "<Figure size 720x288 with 1 Axes>"
      ]
     },
     "metadata": {
      "needs_background": "light"
     },
     "output_type": "display_data"
    }
   ],
   "source": [
    "for data in [all_orders, all_orders_desktop, all_orders_touch]:\n",
    "    plt.subplots(figsize=(10, 4))\n",
    "    sns.barplot(data = data, x = 'order_month', y = 'revenue')\n",
    "    if data is all_orders:\n",
    "        plt.title('Вcе заказы')\n",
    "    if data is all_orders_desktop:\n",
    "        plt.title('Заказы с desktop')\n",
    "    if data is all_orders_touch:\n",
    "        plt.title('Заказы с touch')\n",
    "    plt.ylabel('Выручка')\n",
    "    plt.xlabel('Месяц')\n",
    "    plt.xticks(rotation=90)\n",
    "    plt.show()"
   ]
  },
  {
   "cell_type": "markdown",
   "metadata": {},
   "source": [
    "Как видно из получившихся таблиц, в данном случае лучше ориентироваться именно на медианное значение **2.5**, так как среднее лежит в 4 квартиле. \n",
    "\n",
    "Анализ по месяцам не показал принципиальной сезонности. Можно отметить небольшой всплеск покупок в декабре, что можно объяснить новогодними праздниками.   \n",
    "\n",
    "Интересный инсайт с *touch* устройств зимой соершается значительно меньше заказов. Пользователи берегут аккумуляторы!\n"
   ]
  },
  {
   "cell_type": "markdown",
   "metadata": {},
   "source": [
    "### Продажи. Сколько денег приносят? (LTV) <a id=\"step3.8\"></a>   \n",
    "</div>"
   ]
  },
  {
   "cell_type": "markdown",
   "metadata": {},
   "source": [
    "Выделим месяцы из дат в **orders** и **costs**"
   ]
  },
  {
   "cell_type": "code",
   "execution_count": 45,
   "metadata": {},
   "outputs": [],
   "source": [
    "orders['order_month'] = orders['buy_ts'].astype('datetime64[M]')\n",
    "costs['month'] = costs['date'].astype('datetime64[M]')\n"
   ]
  },
  {
   "cell_type": "markdown",
   "metadata": {},
   "source": [
    "Получим первый месяц покупки и выведем его на экран"
   ]
  },
  {
   "cell_type": "code",
   "execution_count": 46,
   "metadata": {},
   "outputs": [
    {
     "data": {
      "text/html": [
       "<div>\n",
       "<style scoped>\n",
       "    .dataframe tbody tr th:only-of-type {\n",
       "        vertical-align: middle;\n",
       "    }\n",
       "\n",
       "    .dataframe tbody tr th {\n",
       "        vertical-align: top;\n",
       "    }\n",
       "\n",
       "    .dataframe thead th {\n",
       "        text-align: right;\n",
       "    }\n",
       "</style>\n",
       "<table border=\"1\" class=\"dataframe\">\n",
       "  <thead>\n",
       "    <tr style=\"text-align: right;\">\n",
       "      <th></th>\n",
       "      <th>uid</th>\n",
       "      <th>first_order_month</th>\n",
       "    </tr>\n",
       "  </thead>\n",
       "  <tbody>\n",
       "    <tr>\n",
       "      <td>0</td>\n",
       "      <td>313578113262317</td>\n",
       "      <td>2018-01-01</td>\n",
       "    </tr>\n",
       "    <tr>\n",
       "      <td>1</td>\n",
       "      <td>1575281904278712</td>\n",
       "      <td>2017-06-01</td>\n",
       "    </tr>\n",
       "    <tr>\n",
       "      <td>2</td>\n",
       "      <td>2429014661409475</td>\n",
       "      <td>2017-10-01</td>\n",
       "    </tr>\n",
       "    <tr>\n",
       "      <td>3</td>\n",
       "      <td>2464366381792757</td>\n",
       "      <td>2018-01-01</td>\n",
       "    </tr>\n",
       "    <tr>\n",
       "      <td>4</td>\n",
       "      <td>2551852515556206</td>\n",
       "      <td>2017-11-01</td>\n",
       "    </tr>\n",
       "  </tbody>\n",
       "</table>\n",
       "</div>"
      ],
      "text/plain": [
       "                uid first_order_month\n",
       "0   313578113262317        2018-01-01\n",
       "1  1575281904278712        2017-06-01\n",
       "2  2429014661409475        2017-10-01\n",
       "3  2464366381792757        2018-01-01\n",
       "4  2551852515556206        2017-11-01"
      ]
     },
     "metadata": {},
     "output_type": "display_data"
    }
   ],
   "source": [
    "first_orders = orders.groupby('uid').agg({'order_month': 'min'}).reset_index()\n",
    "first_orders.columns = ['uid', 'first_order_month']\n",
    "display(first_orders.head())\n"
   ]
  },
  {
   "cell_type": "markdown",
   "metadata": {},
   "source": [
    "Посчитаем количество новых покупателей `n_buyers` за каждый месяц"
   ]
  },
  {
   "cell_type": "code",
   "execution_count": 47,
   "metadata": {},
   "outputs": [
    {
     "data": {
      "text/html": [
       "<div>\n",
       "<style scoped>\n",
       "    .dataframe tbody tr th:only-of-type {\n",
       "        vertical-align: middle;\n",
       "    }\n",
       "\n",
       "    .dataframe tbody tr th {\n",
       "        vertical-align: top;\n",
       "    }\n",
       "\n",
       "    .dataframe thead th {\n",
       "        text-align: right;\n",
       "    }\n",
       "</style>\n",
       "<table border=\"1\" class=\"dataframe\">\n",
       "  <thead>\n",
       "    <tr style=\"text-align: right;\">\n",
       "      <th></th>\n",
       "      <th>first_order_month</th>\n",
       "      <th>n_buyers</th>\n",
       "    </tr>\n",
       "  </thead>\n",
       "  <tbody>\n",
       "    <tr>\n",
       "      <td>0</td>\n",
       "      <td>2017-06-01</td>\n",
       "      <td>2023</td>\n",
       "    </tr>\n",
       "    <tr>\n",
       "      <td>1</td>\n",
       "      <td>2017-07-01</td>\n",
       "      <td>1923</td>\n",
       "    </tr>\n",
       "    <tr>\n",
       "      <td>2</td>\n",
       "      <td>2017-08-01</td>\n",
       "      <td>1370</td>\n",
       "    </tr>\n",
       "    <tr>\n",
       "      <td>3</td>\n",
       "      <td>2017-09-01</td>\n",
       "      <td>2581</td>\n",
       "    </tr>\n",
       "    <tr>\n",
       "      <td>4</td>\n",
       "      <td>2017-10-01</td>\n",
       "      <td>4340</td>\n",
       "    </tr>\n",
       "  </tbody>\n",
       "</table>\n",
       "</div>"
      ],
      "text/plain": [
       "  first_order_month  n_buyers\n",
       "0        2017-06-01      2023\n",
       "1        2017-07-01      1923\n",
       "2        2017-08-01      1370\n",
       "3        2017-09-01      2581\n",
       "4        2017-10-01      4340"
      ]
     },
     "metadata": {},
     "output_type": "display_data"
    }
   ],
   "source": [
    "cohort_sizes = first_orders.groupby('first_order_month').agg({'uid': 'nunique'}).reset_index()\n",
    "cohort_sizes.columns = ['first_order_month', 'n_buyers']\n",
    "display(cohort_sizes.head(5))"
   ]
  },
  {
   "cell_type": "markdown",
   "metadata": {},
   "source": [
    "Строим когорты. Добавляем месяц первой покупки для каждого покупателя"
   ]
  },
  {
   "cell_type": "code",
   "execution_count": 48,
   "metadata": {},
   "outputs": [
    {
     "data": {
      "text/html": [
       "<div>\n",
       "<style scoped>\n",
       "    .dataframe tbody tr th:only-of-type {\n",
       "        vertical-align: middle;\n",
       "    }\n",
       "\n",
       "    .dataframe tbody tr th {\n",
       "        vertical-align: top;\n",
       "    }\n",
       "\n",
       "    .dataframe thead th {\n",
       "        text-align: right;\n",
       "    }\n",
       "</style>\n",
       "<table border=\"1\" class=\"dataframe\">\n",
       "  <thead>\n",
       "    <tr style=\"text-align: right;\">\n",
       "      <th></th>\n",
       "      <th>uid</th>\n",
       "      <th>revenue</th>\n",
       "      <th>buy_ts</th>\n",
       "      <th>order_month</th>\n",
       "      <th>first_order_month</th>\n",
       "    </tr>\n",
       "  </thead>\n",
       "  <tbody>\n",
       "    <tr>\n",
       "      <td>0</td>\n",
       "      <td>10329302124590727494</td>\n",
       "      <td>17.00</td>\n",
       "      <td>2017-06-01 00:10:00</td>\n",
       "      <td>2017-06-01</td>\n",
       "      <td>2017-06-01</td>\n",
       "    </tr>\n",
       "    <tr>\n",
       "      <td>1</td>\n",
       "      <td>11627257723692907447</td>\n",
       "      <td>0.55</td>\n",
       "      <td>2017-06-01 00:25:00</td>\n",
       "      <td>2017-06-01</td>\n",
       "      <td>2017-06-01</td>\n",
       "    </tr>\n",
       "    <tr>\n",
       "      <td>2</td>\n",
       "      <td>17903680561304213844</td>\n",
       "      <td>0.37</td>\n",
       "      <td>2017-06-01 00:27:00</td>\n",
       "      <td>2017-06-01</td>\n",
       "      <td>2017-06-01</td>\n",
       "    </tr>\n",
       "    <tr>\n",
       "      <td>3</td>\n",
       "      <td>16109239769442553005</td>\n",
       "      <td>0.55</td>\n",
       "      <td>2017-06-01 00:29:00</td>\n",
       "      <td>2017-06-01</td>\n",
       "      <td>2017-06-01</td>\n",
       "    </tr>\n",
       "    <tr>\n",
       "      <td>4</td>\n",
       "      <td>14200605875248379450</td>\n",
       "      <td>0.37</td>\n",
       "      <td>2017-06-01 07:58:00</td>\n",
       "      <td>2017-06-01</td>\n",
       "      <td>2017-06-01</td>\n",
       "    </tr>\n",
       "  </tbody>\n",
       "</table>\n",
       "</div>"
      ],
      "text/plain": [
       "                    uid  revenue              buy_ts order_month  \\\n",
       "0  10329302124590727494    17.00 2017-06-01 00:10:00  2017-06-01   \n",
       "1  11627257723692907447     0.55 2017-06-01 00:25:00  2017-06-01   \n",
       "2  17903680561304213844     0.37 2017-06-01 00:27:00  2017-06-01   \n",
       "3  16109239769442553005     0.55 2017-06-01 00:29:00  2017-06-01   \n",
       "4  14200605875248379450     0.37 2017-06-01 07:58:00  2017-06-01   \n",
       "\n",
       "  first_order_month  \n",
       "0        2017-06-01  \n",
       "1        2017-06-01  \n",
       "2        2017-06-01  \n",
       "3        2017-06-01  \n",
       "4        2017-06-01  "
      ]
     },
     "metadata": {},
     "output_type": "display_data"
    }
   ],
   "source": [
    "orders_new = pd.merge(orders,first_orders, on='uid')\n",
    "display(orders_new.head(5))"
   ]
  },
  {
   "cell_type": "markdown",
   "metadata": {},
   "source": [
    "Сгруппируем таблицу заказаов по месяцу первой покупки и имесяцу каждого заказа и сложим вырчку. Дополнительно спросим индексы методом `reset_index`"
   ]
  },
  {
   "cell_type": "code",
   "execution_count": 49,
   "metadata": {},
   "outputs": [
    {
     "data": {
      "text/html": [
       "<div>\n",
       "<style scoped>\n",
       "    .dataframe tbody tr th:only-of-type {\n",
       "        vertical-align: middle;\n",
       "    }\n",
       "\n",
       "    .dataframe tbody tr th {\n",
       "        vertical-align: top;\n",
       "    }\n",
       "\n",
       "    .dataframe thead th {\n",
       "        text-align: right;\n",
       "    }\n",
       "</style>\n",
       "<table border=\"1\" class=\"dataframe\">\n",
       "  <thead>\n",
       "    <tr style=\"text-align: right;\">\n",
       "      <th></th>\n",
       "      <th>first_order_month</th>\n",
       "      <th>order_month</th>\n",
       "      <th>revenue</th>\n",
       "    </tr>\n",
       "  </thead>\n",
       "  <tbody>\n",
       "    <tr>\n",
       "      <td>0</td>\n",
       "      <td>2017-06-01</td>\n",
       "      <td>2017-06-01</td>\n",
       "      <td>9557.49</td>\n",
       "    </tr>\n",
       "    <tr>\n",
       "      <td>1</td>\n",
       "      <td>2017-06-01</td>\n",
       "      <td>2017-07-01</td>\n",
       "      <td>981.82</td>\n",
       "    </tr>\n",
       "    <tr>\n",
       "      <td>2</td>\n",
       "      <td>2017-06-01</td>\n",
       "      <td>2017-08-01</td>\n",
       "      <td>885.34</td>\n",
       "    </tr>\n",
       "    <tr>\n",
       "      <td>3</td>\n",
       "      <td>2017-06-01</td>\n",
       "      <td>2017-09-01</td>\n",
       "      <td>1931.30</td>\n",
       "    </tr>\n",
       "    <tr>\n",
       "      <td>4</td>\n",
       "      <td>2017-06-01</td>\n",
       "      <td>2017-10-01</td>\n",
       "      <td>2068.58</td>\n",
       "    </tr>\n",
       "  </tbody>\n",
       "</table>\n",
       "</div>"
      ],
      "text/plain": [
       "  first_order_month order_month  revenue\n",
       "0        2017-06-01  2017-06-01  9557.49\n",
       "1        2017-06-01  2017-07-01   981.82\n",
       "2        2017-06-01  2017-08-01   885.34\n",
       "3        2017-06-01  2017-09-01  1931.30\n",
       "4        2017-06-01  2017-10-01  2068.58"
      ]
     },
     "metadata": {},
     "output_type": "display_data"
    }
   ],
   "source": [
    "cohorts = orders_new.groupby(['first_order_month','order_month']).agg({'revenue': 'sum'}).reset_index()\n",
    "display(cohorts.head())"
   ]
  },
  {
   "cell_type": "markdown",
   "metadata": {},
   "source": [
    "Добавим в таблицу `cohorts` данные о том, сколько людей первый раз совершили покупку в каждый месяц"
   ]
  },
  {
   "cell_type": "code",
   "execution_count": 50,
   "metadata": {},
   "outputs": [
    {
     "data": {
      "text/html": [
       "<div>\n",
       "<style scoped>\n",
       "    .dataframe tbody tr th:only-of-type {\n",
       "        vertical-align: middle;\n",
       "    }\n",
       "\n",
       "    .dataframe tbody tr th {\n",
       "        vertical-align: top;\n",
       "    }\n",
       "\n",
       "    .dataframe thead th {\n",
       "        text-align: right;\n",
       "    }\n",
       "</style>\n",
       "<table border=\"1\" class=\"dataframe\">\n",
       "  <thead>\n",
       "    <tr style=\"text-align: right;\">\n",
       "      <th></th>\n",
       "      <th>first_order_month</th>\n",
       "      <th>n_buyers</th>\n",
       "      <th>order_month</th>\n",
       "      <th>revenue</th>\n",
       "    </tr>\n",
       "  </thead>\n",
       "  <tbody>\n",
       "    <tr>\n",
       "      <td>0</td>\n",
       "      <td>2017-06-01</td>\n",
       "      <td>2023</td>\n",
       "      <td>2017-06-01</td>\n",
       "      <td>9557.49</td>\n",
       "    </tr>\n",
       "    <tr>\n",
       "      <td>1</td>\n",
       "      <td>2017-06-01</td>\n",
       "      <td>2023</td>\n",
       "      <td>2017-07-01</td>\n",
       "      <td>981.82</td>\n",
       "    </tr>\n",
       "    <tr>\n",
       "      <td>2</td>\n",
       "      <td>2017-06-01</td>\n",
       "      <td>2023</td>\n",
       "      <td>2017-08-01</td>\n",
       "      <td>885.34</td>\n",
       "    </tr>\n",
       "    <tr>\n",
       "      <td>3</td>\n",
       "      <td>2017-06-01</td>\n",
       "      <td>2023</td>\n",
       "      <td>2017-09-01</td>\n",
       "      <td>1931.30</td>\n",
       "    </tr>\n",
       "    <tr>\n",
       "      <td>4</td>\n",
       "      <td>2017-06-01</td>\n",
       "      <td>2023</td>\n",
       "      <td>2017-10-01</td>\n",
       "      <td>2068.58</td>\n",
       "    </tr>\n",
       "  </tbody>\n",
       "</table>\n",
       "</div>"
      ],
      "text/plain": [
       "  first_order_month  n_buyers order_month  revenue\n",
       "0        2017-06-01      2023  2017-06-01  9557.49\n",
       "1        2017-06-01      2023  2017-07-01   981.82\n",
       "2        2017-06-01      2023  2017-08-01   885.34\n",
       "3        2017-06-01      2023  2017-09-01  1931.30\n",
       "4        2017-06-01      2023  2017-10-01  2068.58"
      ]
     },
     "metadata": {},
     "output_type": "display_data"
    }
   ],
   "source": [
    "report = pd.merge(cohort_sizes, cohorts, on='first_order_month')\n",
    "display(report.head())"
   ]
  },
  {
   "cell_type": "markdown",
   "metadata": {},
   "source": [
    "Найдём \"возраст\" когорт. Примем `margin_rate` за 1."
   ]
  },
  {
   "cell_type": "code",
   "execution_count": 51,
   "metadata": {},
   "outputs": [
    {
     "data": {
      "text/html": [
       "<div>\n",
       "<style scoped>\n",
       "    .dataframe tbody tr th:only-of-type {\n",
       "        vertical-align: middle;\n",
       "    }\n",
       "\n",
       "    .dataframe tbody tr th {\n",
       "        vertical-align: top;\n",
       "    }\n",
       "\n",
       "    .dataframe thead th {\n",
       "        text-align: right;\n",
       "    }\n",
       "</style>\n",
       "<table border=\"1\" class=\"dataframe\">\n",
       "  <thead>\n",
       "    <tr style=\"text-align: right;\">\n",
       "      <th></th>\n",
       "      <th>first_order_month</th>\n",
       "      <th>n_buyers</th>\n",
       "      <th>order_month</th>\n",
       "      <th>revenue</th>\n",
       "      <th>gp</th>\n",
       "      <th>age</th>\n",
       "    </tr>\n",
       "  </thead>\n",
       "  <tbody>\n",
       "    <tr>\n",
       "      <td>0</td>\n",
       "      <td>2017-06-01</td>\n",
       "      <td>2023</td>\n",
       "      <td>2017-06-01</td>\n",
       "      <td>9557.49</td>\n",
       "      <td>9557.49</td>\n",
       "      <td>0</td>\n",
       "    </tr>\n",
       "    <tr>\n",
       "      <td>1</td>\n",
       "      <td>2017-06-01</td>\n",
       "      <td>2023</td>\n",
       "      <td>2017-07-01</td>\n",
       "      <td>981.82</td>\n",
       "      <td>981.82</td>\n",
       "      <td>1</td>\n",
       "    </tr>\n",
       "    <tr>\n",
       "      <td>2</td>\n",
       "      <td>2017-06-01</td>\n",
       "      <td>2023</td>\n",
       "      <td>2017-08-01</td>\n",
       "      <td>885.34</td>\n",
       "      <td>885.34</td>\n",
       "      <td>2</td>\n",
       "    </tr>\n",
       "    <tr>\n",
       "      <td>3</td>\n",
       "      <td>2017-06-01</td>\n",
       "      <td>2023</td>\n",
       "      <td>2017-09-01</td>\n",
       "      <td>1931.30</td>\n",
       "      <td>1931.30</td>\n",
       "      <td>3</td>\n",
       "    </tr>\n",
       "    <tr>\n",
       "      <td>4</td>\n",
       "      <td>2017-06-01</td>\n",
       "      <td>2023</td>\n",
       "      <td>2017-10-01</td>\n",
       "      <td>2068.58</td>\n",
       "      <td>2068.58</td>\n",
       "      <td>4</td>\n",
       "    </tr>\n",
       "  </tbody>\n",
       "</table>\n",
       "</div>"
      ],
      "text/plain": [
       "  first_order_month  n_buyers order_month  revenue       gp  age\n",
       "0        2017-06-01      2023  2017-06-01  9557.49  9557.49    0\n",
       "1        2017-06-01      2023  2017-07-01   981.82   981.82    1\n",
       "2        2017-06-01      2023  2017-08-01   885.34   885.34    2\n",
       "3        2017-06-01      2023  2017-09-01  1931.30  1931.30    3\n",
       "4        2017-06-01      2023  2017-10-01  2068.58  2068.58    4"
      ]
     },
     "metadata": {},
     "output_type": "display_data"
    }
   ],
   "source": [
    "margin_rate = 1\n",
    "    \n",
    "report['gp'] = report['revenue'] * margin_rate\n",
    "report['age'] = (report['order_month'] - report['first_order_month']) / np.timedelta64(1, 'M')\n",
    "report['age'] = report['age'].round().astype('int')\n",
    "display(report.head())"
   ]
  },
  {
   "cell_type": "markdown",
   "metadata": {},
   "source": [
    "Теперь найдем непосредственно `LTV` и для наглядности выведем его в сводной таблице"
   ]
  },
  {
   "cell_type": "code",
   "execution_count": 52,
   "metadata": {},
   "outputs": [
    {
     "data": {
      "text/html": [
       "<div>\n",
       "<style scoped>\n",
       "    .dataframe tbody tr th:only-of-type {\n",
       "        vertical-align: middle;\n",
       "    }\n",
       "\n",
       "    .dataframe tbody tr th {\n",
       "        vertical-align: top;\n",
       "    }\n",
       "\n",
       "    .dataframe thead th {\n",
       "        text-align: right;\n",
       "    }\n",
       "</style>\n",
       "<table border=\"1\" class=\"dataframe\">\n",
       "  <thead>\n",
       "    <tr style=\"text-align: right;\">\n",
       "      <th>age</th>\n",
       "      <th>0</th>\n",
       "      <th>1</th>\n",
       "      <th>2</th>\n",
       "      <th>3</th>\n",
       "      <th>4</th>\n",
       "      <th>5</th>\n",
       "      <th>6</th>\n",
       "      <th>7</th>\n",
       "      <th>8</th>\n",
       "      <th>9</th>\n",
       "      <th>10</th>\n",
       "      <th>11</th>\n",
       "    </tr>\n",
       "    <tr>\n",
       "      <th>first_order_month</th>\n",
       "      <th></th>\n",
       "      <th></th>\n",
       "      <th></th>\n",
       "      <th></th>\n",
       "      <th></th>\n",
       "      <th></th>\n",
       "      <th></th>\n",
       "      <th></th>\n",
       "      <th></th>\n",
       "      <th></th>\n",
       "      <th></th>\n",
       "      <th></th>\n",
       "    </tr>\n",
       "  </thead>\n",
       "  <tbody>\n",
       "    <tr>\n",
       "      <td>2017-06-01</td>\n",
       "      <td>4.72</td>\n",
       "      <td>0.49</td>\n",
       "      <td>0.44</td>\n",
       "      <td>0.95</td>\n",
       "      <td>1.02</td>\n",
       "      <td>0.74</td>\n",
       "      <td>0.95</td>\n",
       "      <td>0.58</td>\n",
       "      <td>0.55</td>\n",
       "      <td>0.61</td>\n",
       "      <td>0.57</td>\n",
       "      <td>0.26</td>\n",
       "    </tr>\n",
       "    <tr>\n",
       "      <td>2017-07-01</td>\n",
       "      <td>6.01</td>\n",
       "      <td>0.34</td>\n",
       "      <td>0.62</td>\n",
       "      <td>0.36</td>\n",
       "      <td>0.18</td>\n",
       "      <td>0.16</td>\n",
       "      <td>0.12</td>\n",
       "      <td>0.14</td>\n",
       "      <td>0.16</td>\n",
       "      <td>0.15</td>\n",
       "      <td>0.16</td>\n",
       "      <td>NaN</td>\n",
       "    </tr>\n",
       "    <tr>\n",
       "      <td>2017-08-01</td>\n",
       "      <td>5.28</td>\n",
       "      <td>0.47</td>\n",
       "      <td>0.46</td>\n",
       "      <td>0.39</td>\n",
       "      <td>0.49</td>\n",
       "      <td>0.28</td>\n",
       "      <td>0.21</td>\n",
       "      <td>0.41</td>\n",
       "      <td>0.29</td>\n",
       "      <td>0.19</td>\n",
       "      <td>NaN</td>\n",
       "      <td>NaN</td>\n",
       "    </tr>\n",
       "    <tr>\n",
       "      <td>2017-09-01</td>\n",
       "      <td>5.64</td>\n",
       "      <td>1.12</td>\n",
       "      <td>0.52</td>\n",
       "      <td>3.98</td>\n",
       "      <td>0.40</td>\n",
       "      <td>0.65</td>\n",
       "      <td>0.70</td>\n",
       "      <td>0.24</td>\n",
       "      <td>0.18</td>\n",
       "      <td>NaN</td>\n",
       "      <td>NaN</td>\n",
       "      <td>NaN</td>\n",
       "    </tr>\n",
       "    <tr>\n",
       "      <td>2017-10-01</td>\n",
       "      <td>5.00</td>\n",
       "      <td>0.54</td>\n",
       "      <td>0.19</td>\n",
       "      <td>0.16</td>\n",
       "      <td>0.15</td>\n",
       "      <td>0.12</td>\n",
       "      <td>0.08</td>\n",
       "      <td>0.12</td>\n",
       "      <td>NaN</td>\n",
       "      <td>NaN</td>\n",
       "      <td>NaN</td>\n",
       "      <td>NaN</td>\n",
       "    </tr>\n",
       "    <tr>\n",
       "      <td>2017-11-01</td>\n",
       "      <td>5.15</td>\n",
       "      <td>0.40</td>\n",
       "      <td>0.20</td>\n",
       "      <td>0.32</td>\n",
       "      <td>0.15</td>\n",
       "      <td>0.05</td>\n",
       "      <td>0.11</td>\n",
       "      <td>NaN</td>\n",
       "      <td>NaN</td>\n",
       "      <td>NaN</td>\n",
       "      <td>NaN</td>\n",
       "      <td>NaN</td>\n",
       "    </tr>\n",
       "    <tr>\n",
       "      <td>2017-12-01</td>\n",
       "      <td>4.74</td>\n",
       "      <td>0.26</td>\n",
       "      <td>0.93</td>\n",
       "      <td>1.07</td>\n",
       "      <td>0.31</td>\n",
       "      <td>0.34</td>\n",
       "      <td>NaN</td>\n",
       "      <td>NaN</td>\n",
       "      <td>NaN</td>\n",
       "      <td>NaN</td>\n",
       "      <td>NaN</td>\n",
       "      <td>NaN</td>\n",
       "    </tr>\n",
       "    <tr>\n",
       "      <td>2018-01-01</td>\n",
       "      <td>4.14</td>\n",
       "      <td>0.29</td>\n",
       "      <td>0.30</td>\n",
       "      <td>0.14</td>\n",
       "      <td>0.06</td>\n",
       "      <td>NaN</td>\n",
       "      <td>NaN</td>\n",
       "      <td>NaN</td>\n",
       "      <td>NaN</td>\n",
       "      <td>NaN</td>\n",
       "      <td>NaN</td>\n",
       "      <td>NaN</td>\n",
       "    </tr>\n",
       "    <tr>\n",
       "      <td>2018-02-01</td>\n",
       "      <td>4.16</td>\n",
       "      <td>0.28</td>\n",
       "      <td>0.08</td>\n",
       "      <td>0.07</td>\n",
       "      <td>NaN</td>\n",
       "      <td>NaN</td>\n",
       "      <td>NaN</td>\n",
       "      <td>NaN</td>\n",
       "      <td>NaN</td>\n",
       "      <td>NaN</td>\n",
       "      <td>NaN</td>\n",
       "      <td>NaN</td>\n",
       "    </tr>\n",
       "    <tr>\n",
       "      <td>2018-03-01</td>\n",
       "      <td>4.84</td>\n",
       "      <td>0.30</td>\n",
       "      <td>0.32</td>\n",
       "      <td>NaN</td>\n",
       "      <td>NaN</td>\n",
       "      <td>NaN</td>\n",
       "      <td>NaN</td>\n",
       "      <td>NaN</td>\n",
       "      <td>NaN</td>\n",
       "      <td>NaN</td>\n",
       "      <td>NaN</td>\n",
       "      <td>NaN</td>\n",
       "    </tr>\n",
       "    <tr>\n",
       "      <td>2018-04-01</td>\n",
       "      <td>4.66</td>\n",
       "      <td>0.53</td>\n",
       "      <td>NaN</td>\n",
       "      <td>NaN</td>\n",
       "      <td>NaN</td>\n",
       "      <td>NaN</td>\n",
       "      <td>NaN</td>\n",
       "      <td>NaN</td>\n",
       "      <td>NaN</td>\n",
       "      <td>NaN</td>\n",
       "      <td>NaN</td>\n",
       "      <td>NaN</td>\n",
       "    </tr>\n",
       "    <tr>\n",
       "      <td>2018-05-01</td>\n",
       "      <td>4.66</td>\n",
       "      <td>NaN</td>\n",
       "      <td>NaN</td>\n",
       "      <td>NaN</td>\n",
       "      <td>NaN</td>\n",
       "      <td>NaN</td>\n",
       "      <td>NaN</td>\n",
       "      <td>NaN</td>\n",
       "      <td>NaN</td>\n",
       "      <td>NaN</td>\n",
       "      <td>NaN</td>\n",
       "      <td>NaN</td>\n",
       "    </tr>\n",
       "    <tr>\n",
       "      <td>2018-06-01</td>\n",
       "      <td>3.42</td>\n",
       "      <td>NaN</td>\n",
       "      <td>NaN</td>\n",
       "      <td>NaN</td>\n",
       "      <td>NaN</td>\n",
       "      <td>NaN</td>\n",
       "      <td>NaN</td>\n",
       "      <td>NaN</td>\n",
       "      <td>NaN</td>\n",
       "      <td>NaN</td>\n",
       "      <td>NaN</td>\n",
       "      <td>NaN</td>\n",
       "    </tr>\n",
       "  </tbody>\n",
       "</table>\n",
       "</div>"
      ],
      "text/plain": [
       "age                  0     1     2     3     4     5     6     7     8     9   \\\n",
       "first_order_month                                                               \n",
       "2017-06-01         4.72  0.49  0.44  0.95  1.02  0.74  0.95  0.58  0.55  0.61   \n",
       "2017-07-01         6.01  0.34  0.62  0.36  0.18  0.16  0.12  0.14  0.16  0.15   \n",
       "2017-08-01         5.28  0.47  0.46  0.39  0.49  0.28  0.21  0.41  0.29  0.19   \n",
       "2017-09-01         5.64  1.12  0.52  3.98  0.40  0.65  0.70  0.24  0.18   NaN   \n",
       "2017-10-01         5.00  0.54  0.19  0.16  0.15  0.12  0.08  0.12   NaN   NaN   \n",
       "2017-11-01         5.15  0.40  0.20  0.32  0.15  0.05  0.11   NaN   NaN   NaN   \n",
       "2017-12-01         4.74  0.26  0.93  1.07  0.31  0.34   NaN   NaN   NaN   NaN   \n",
       "2018-01-01         4.14  0.29  0.30  0.14  0.06   NaN   NaN   NaN   NaN   NaN   \n",
       "2018-02-01         4.16  0.28  0.08  0.07   NaN   NaN   NaN   NaN   NaN   NaN   \n",
       "2018-03-01         4.84  0.30  0.32   NaN   NaN   NaN   NaN   NaN   NaN   NaN   \n",
       "2018-04-01         4.66  0.53   NaN   NaN   NaN   NaN   NaN   NaN   NaN   NaN   \n",
       "2018-05-01         4.66   NaN   NaN   NaN   NaN   NaN   NaN   NaN   NaN   NaN   \n",
       "2018-06-01         3.42   NaN   NaN   NaN   NaN   NaN   NaN   NaN   NaN   NaN   \n",
       "\n",
       "age                  10    11  \n",
       "first_order_month              \n",
       "2017-06-01         0.57  0.26  \n",
       "2017-07-01         0.16   NaN  \n",
       "2017-08-01          NaN   NaN  \n",
       "2017-09-01          NaN   NaN  \n",
       "2017-10-01          NaN   NaN  \n",
       "2017-11-01          NaN   NaN  \n",
       "2017-12-01          NaN   NaN  \n",
       "2018-01-01          NaN   NaN  \n",
       "2018-02-01          NaN   NaN  \n",
       "2018-03-01          NaN   NaN  \n",
       "2018-04-01          NaN   NaN  \n",
       "2018-05-01          NaN   NaN  \n",
       "2018-06-01          NaN   NaN  "
      ]
     },
     "metadata": {},
     "output_type": "display_data"
    }
   ],
   "source": [
    "report['ltv'] = report['gp'] / report['n_buyers']\n",
    "    \n",
    "output_ltv = report.pivot_table(\n",
    "        index='first_order_month', \n",
    "        columns='age', \n",
    "        values='ltv', \n",
    "        aggfunc='mean').round(2)\n",
    "    \n",
    "display(output_ltv)"
   ]
  },
  {
   "cell_type": "markdown",
   "metadata": {},
   "source": [
    "Дополнительно построим сводную таблицу с `revenue`. "
   ]
  },
  {
   "cell_type": "code",
   "execution_count": 53,
   "metadata": {},
   "outputs": [
    {
     "data": {
      "text/html": [
       "<div>\n",
       "<style scoped>\n",
       "    .dataframe tbody tr th:only-of-type {\n",
       "        vertical-align: middle;\n",
       "    }\n",
       "\n",
       "    .dataframe tbody tr th {\n",
       "        vertical-align: top;\n",
       "    }\n",
       "\n",
       "    .dataframe thead th {\n",
       "        text-align: right;\n",
       "    }\n",
       "</style>\n",
       "<table border=\"1\" class=\"dataframe\">\n",
       "  <thead>\n",
       "    <tr style=\"text-align: right;\">\n",
       "      <th>age</th>\n",
       "      <th>0</th>\n",
       "      <th>1</th>\n",
       "      <th>2</th>\n",
       "      <th>3</th>\n",
       "      <th>4</th>\n",
       "      <th>5</th>\n",
       "      <th>6</th>\n",
       "      <th>7</th>\n",
       "      <th>8</th>\n",
       "      <th>9</th>\n",
       "      <th>10</th>\n",
       "      <th>11</th>\n",
       "    </tr>\n",
       "    <tr>\n",
       "      <th>first_order_month</th>\n",
       "      <th></th>\n",
       "      <th></th>\n",
       "      <th></th>\n",
       "      <th></th>\n",
       "      <th></th>\n",
       "      <th></th>\n",
       "      <th></th>\n",
       "      <th></th>\n",
       "      <th></th>\n",
       "      <th></th>\n",
       "      <th></th>\n",
       "      <th></th>\n",
       "    </tr>\n",
       "  </thead>\n",
       "  <tbody>\n",
       "    <tr>\n",
       "      <td>2017-06-01</td>\n",
       "      <td>9557.0</td>\n",
       "      <td>10539.0</td>\n",
       "      <td>11424.0</td>\n",
       "      <td>13355.0</td>\n",
       "      <td>15424.0</td>\n",
       "      <td>16912.0</td>\n",
       "      <td>18835.0</td>\n",
       "      <td>20012.0</td>\n",
       "      <td>21131.0</td>\n",
       "      <td>22357.0</td>\n",
       "      <td>23513.0</td>\n",
       "      <td>24033.0</td>\n",
       "    </tr>\n",
       "    <tr>\n",
       "      <td>2017-07-01</td>\n",
       "      <td>11558.0</td>\n",
       "      <td>12203.0</td>\n",
       "      <td>13402.0</td>\n",
       "      <td>14092.0</td>\n",
       "      <td>14432.0</td>\n",
       "      <td>14732.0</td>\n",
       "      <td>14963.0</td>\n",
       "      <td>15236.0</td>\n",
       "      <td>15546.0</td>\n",
       "      <td>15829.0</td>\n",
       "      <td>16128.0</td>\n",
       "      <td>NaN</td>\n",
       "    </tr>\n",
       "    <tr>\n",
       "      <td>2017-08-01</td>\n",
       "      <td>7229.0</td>\n",
       "      <td>7876.0</td>\n",
       "      <td>8504.0</td>\n",
       "      <td>9040.0</td>\n",
       "      <td>9717.0</td>\n",
       "      <td>10105.0</td>\n",
       "      <td>10394.0</td>\n",
       "      <td>10949.0</td>\n",
       "      <td>11349.0</td>\n",
       "      <td>11607.0</td>\n",
       "      <td>NaN</td>\n",
       "      <td>NaN</td>\n",
       "    </tr>\n",
       "    <tr>\n",
       "      <td>2017-09-01</td>\n",
       "      <td>14569.0</td>\n",
       "      <td>17453.0</td>\n",
       "      <td>18798.0</td>\n",
       "      <td>29060.0</td>\n",
       "      <td>30094.0</td>\n",
       "      <td>31764.0</td>\n",
       "      <td>33575.0</td>\n",
       "      <td>34203.0</td>\n",
       "      <td>34678.0</td>\n",
       "      <td>NaN</td>\n",
       "      <td>NaN</td>\n",
       "      <td>NaN</td>\n",
       "    </tr>\n",
       "    <tr>\n",
       "      <td>2017-10-01</td>\n",
       "      <td>21716.0</td>\n",
       "      <td>24041.0</td>\n",
       "      <td>24872.0</td>\n",
       "      <td>25554.0</td>\n",
       "      <td>26212.0</td>\n",
       "      <td>26734.0</td>\n",
       "      <td>27102.0</td>\n",
       "      <td>27603.0</td>\n",
       "      <td>NaN</td>\n",
       "      <td>NaN</td>\n",
       "      <td>NaN</td>\n",
       "      <td>NaN</td>\n",
       "    </tr>\n",
       "    <tr>\n",
       "      <td>2017-11-01</td>\n",
       "      <td>21036.0</td>\n",
       "      <td>22665.0</td>\n",
       "      <td>23479.0</td>\n",
       "      <td>24805.0</td>\n",
       "      <td>25409.0</td>\n",
       "      <td>25629.0</td>\n",
       "      <td>26098.0</td>\n",
       "      <td>NaN</td>\n",
       "      <td>NaN</td>\n",
       "      <td>NaN</td>\n",
       "      <td>NaN</td>\n",
       "      <td>NaN</td>\n",
       "    </tr>\n",
       "    <tr>\n",
       "      <td>2017-12-01</td>\n",
       "      <td>20767.0</td>\n",
       "      <td>21908.0</td>\n",
       "      <td>25963.0</td>\n",
       "      <td>30632.0</td>\n",
       "      <td>32004.0</td>\n",
       "      <td>33486.0</td>\n",
       "      <td>NaN</td>\n",
       "      <td>NaN</td>\n",
       "      <td>NaN</td>\n",
       "      <td>NaN</td>\n",
       "      <td>NaN</td>\n",
       "      <td>NaN</td>\n",
       "    </tr>\n",
       "    <tr>\n",
       "      <td>2018-01-01</td>\n",
       "      <td>13949.0</td>\n",
       "      <td>14943.0</td>\n",
       "      <td>15969.0</td>\n",
       "      <td>16451.0</td>\n",
       "      <td>16662.0</td>\n",
       "      <td>NaN</td>\n",
       "      <td>NaN</td>\n",
       "      <td>NaN</td>\n",
       "      <td>NaN</td>\n",
       "      <td>NaN</td>\n",
       "      <td>NaN</td>\n",
       "      <td>NaN</td>\n",
       "    </tr>\n",
       "    <tr>\n",
       "      <td>2018-02-01</td>\n",
       "      <td>15177.0</td>\n",
       "      <td>16193.0</td>\n",
       "      <td>16480.0</td>\n",
       "      <td>16751.0</td>\n",
       "      <td>NaN</td>\n",
       "      <td>NaN</td>\n",
       "      <td>NaN</td>\n",
       "      <td>NaN</td>\n",
       "      <td>NaN</td>\n",
       "      <td>NaN</td>\n",
       "      <td>NaN</td>\n",
       "      <td>NaN</td>\n",
       "    </tr>\n",
       "    <tr>\n",
       "      <td>2018-03-01</td>\n",
       "      <td>17095.0</td>\n",
       "      <td>18158.0</td>\n",
       "      <td>19273.0</td>\n",
       "      <td>NaN</td>\n",
       "      <td>NaN</td>\n",
       "      <td>NaN</td>\n",
       "      <td>NaN</td>\n",
       "      <td>NaN</td>\n",
       "      <td>NaN</td>\n",
       "      <td>NaN</td>\n",
       "      <td>NaN</td>\n",
       "      <td>NaN</td>\n",
       "    </tr>\n",
       "    <tr>\n",
       "      <td>2018-04-01</td>\n",
       "      <td>10601.0</td>\n",
       "      <td>11811.0</td>\n",
       "      <td>NaN</td>\n",
       "      <td>NaN</td>\n",
       "      <td>NaN</td>\n",
       "      <td>NaN</td>\n",
       "      <td>NaN</td>\n",
       "      <td>NaN</td>\n",
       "      <td>NaN</td>\n",
       "      <td>NaN</td>\n",
       "      <td>NaN</td>\n",
       "      <td>NaN</td>\n",
       "    </tr>\n",
       "    <tr>\n",
       "      <td>2018-05-01</td>\n",
       "      <td>13926.0</td>\n",
       "      <td>NaN</td>\n",
       "      <td>NaN</td>\n",
       "      <td>NaN</td>\n",
       "      <td>NaN</td>\n",
       "      <td>NaN</td>\n",
       "      <td>NaN</td>\n",
       "      <td>NaN</td>\n",
       "      <td>NaN</td>\n",
       "      <td>NaN</td>\n",
       "      <td>NaN</td>\n",
       "      <td>NaN</td>\n",
       "    </tr>\n",
       "    <tr>\n",
       "      <td>2018-06-01</td>\n",
       "      <td>3.0</td>\n",
       "      <td>NaN</td>\n",
       "      <td>NaN</td>\n",
       "      <td>NaN</td>\n",
       "      <td>NaN</td>\n",
       "      <td>NaN</td>\n",
       "      <td>NaN</td>\n",
       "      <td>NaN</td>\n",
       "      <td>NaN</td>\n",
       "      <td>NaN</td>\n",
       "      <td>NaN</td>\n",
       "      <td>NaN</td>\n",
       "    </tr>\n",
       "  </tbody>\n",
       "</table>\n",
       "</div>"
      ],
      "text/plain": [
       "age                     0        1        2        3        4        5   \\\n",
       "first_order_month                                                         \n",
       "2017-06-01          9557.0  10539.0  11424.0  13355.0  15424.0  16912.0   \n",
       "2017-07-01         11558.0  12203.0  13402.0  14092.0  14432.0  14732.0   \n",
       "2017-08-01          7229.0   7876.0   8504.0   9040.0   9717.0  10105.0   \n",
       "2017-09-01         14569.0  17453.0  18798.0  29060.0  30094.0  31764.0   \n",
       "2017-10-01         21716.0  24041.0  24872.0  25554.0  26212.0  26734.0   \n",
       "2017-11-01         21036.0  22665.0  23479.0  24805.0  25409.0  25629.0   \n",
       "2017-12-01         20767.0  21908.0  25963.0  30632.0  32004.0  33486.0   \n",
       "2018-01-01         13949.0  14943.0  15969.0  16451.0  16662.0      NaN   \n",
       "2018-02-01         15177.0  16193.0  16480.0  16751.0      NaN      NaN   \n",
       "2018-03-01         17095.0  18158.0  19273.0      NaN      NaN      NaN   \n",
       "2018-04-01         10601.0  11811.0      NaN      NaN      NaN      NaN   \n",
       "2018-05-01         13926.0      NaN      NaN      NaN      NaN      NaN   \n",
       "2018-06-01             3.0      NaN      NaN      NaN      NaN      NaN   \n",
       "\n",
       "age                     6        7        8        9        10       11  \n",
       "first_order_month                                                        \n",
       "2017-06-01         18835.0  20012.0  21131.0  22357.0  23513.0  24033.0  \n",
       "2017-07-01         14963.0  15236.0  15546.0  15829.0  16128.0      NaN  \n",
       "2017-08-01         10394.0  10949.0  11349.0  11607.0      NaN      NaN  \n",
       "2017-09-01         33575.0  34203.0  34678.0      NaN      NaN      NaN  \n",
       "2017-10-01         27102.0  27603.0      NaN      NaN      NaN      NaN  \n",
       "2017-11-01         26098.0      NaN      NaN      NaN      NaN      NaN  \n",
       "2017-12-01             NaN      NaN      NaN      NaN      NaN      NaN  \n",
       "2018-01-01             NaN      NaN      NaN      NaN      NaN      NaN  \n",
       "2018-02-01             NaN      NaN      NaN      NaN      NaN      NaN  \n",
       "2018-03-01             NaN      NaN      NaN      NaN      NaN      NaN  \n",
       "2018-04-01             NaN      NaN      NaN      NaN      NaN      NaN  \n",
       "2018-05-01             NaN      NaN      NaN      NaN      NaN      NaN  \n",
       "2018-06-01             NaN      NaN      NaN      NaN      NaN      NaN  "
      ]
     },
     "metadata": {},
     "output_type": "display_data"
    }
   ],
   "source": [
    "output_revenue = report.pivot_table(\n",
    "        index='first_order_month', \n",
    "        columns='age', \n",
    "        values='revenue', \n",
    "        aggfunc='mean').round()\n",
    "    \n",
    "display(output_revenue.cumsum(axis=1))"
   ]
  },
  {
   "cell_type": "markdown",
   "metadata": {},
   "source": [
    "Посчитаем **CAC** и **LTV** для когорты *2017-06-01*. "
   ]
  },
  {
   "cell_type": "code",
   "execution_count": 54,
   "metadata": {},
   "outputs": [
    {
     "name": "stdout",
     "output_type": "stream",
     "text": [
      "CAC 1 когорты = 8.905\n",
      "LTV 1 когорты = 11.88\n"
     ]
    }
   ],
   "source": [
    "cohort_20170601 = report[report['first_order_month'] == '2017-06-01']\n",
    "n_buyers_20170601 = cohort_20170601['n_buyers'][0]\n",
    "costs_20170601 = costs[costs['month'] == '2017-06-01']['costs'].sum()\n",
    "cac_20170601 = costs_20170601 / n_buyers_20170601\n",
    "ltv_20170601 = output_ltv.loc['2017-06-01'].sum()\n",
    "print('CAC 1 когорты =', cac_20170601.round(3))\n",
    "print('LTV 1 когорты =', ltv_20170601.round(3))"
   ]
  },
  {
   "cell_type": "markdown",
   "metadata": {},
   "source": [
    "С учётом взятого коэффициента маржинальности **LTV** превышает **CAC**, что говорит нам вложения в эту когорту окупились. "
   ]
  },
  {
   "cell_type": "markdown",
   "metadata": {},
   "source": [
    "Теперь посмотрми, сколько нужно каждой когорте, чтобы выйти на окупаемость. Найдём суммарные расходы за каждый месяц и поделим им на количество покупателей в когорте.  \n",
    "\n",
    "Добавим эти данные в наш отчёт `report_new` и посчитаем **CAC**.  \n",
    "\n",
    "И затем найдём **ROMI**, поделив **LTV** на **CAC**. Выведем получившуюся сводную таблицу.\n",
    "\n",
    "\n",
    "\n"
   ]
  },
  {
   "cell_type": "code",
   "execution_count": 55,
   "metadata": {},
   "outputs": [
    {
     "data": {
      "text/html": [
       "<div>\n",
       "<style scoped>\n",
       "    .dataframe tbody tr th:only-of-type {\n",
       "        vertical-align: middle;\n",
       "    }\n",
       "\n",
       "    .dataframe tbody tr th {\n",
       "        vertical-align: top;\n",
       "    }\n",
       "\n",
       "    .dataframe thead th {\n",
       "        text-align: right;\n",
       "    }\n",
       "</style>\n",
       "<table border=\"1\" class=\"dataframe\">\n",
       "  <thead>\n",
       "    <tr style=\"text-align: right;\">\n",
       "      <th>age</th>\n",
       "      <th>0</th>\n",
       "      <th>1</th>\n",
       "      <th>2</th>\n",
       "      <th>3</th>\n",
       "      <th>4</th>\n",
       "      <th>5</th>\n",
       "      <th>6</th>\n",
       "      <th>7</th>\n",
       "      <th>8</th>\n",
       "      <th>9</th>\n",
       "      <th>10</th>\n",
       "      <th>11</th>\n",
       "    </tr>\n",
       "    <tr>\n",
       "      <th>first_order_month</th>\n",
       "      <th></th>\n",
       "      <th></th>\n",
       "      <th></th>\n",
       "      <th></th>\n",
       "      <th></th>\n",
       "      <th></th>\n",
       "      <th></th>\n",
       "      <th></th>\n",
       "      <th></th>\n",
       "      <th></th>\n",
       "      <th></th>\n",
       "      <th></th>\n",
       "    </tr>\n",
       "  </thead>\n",
       "  <tbody>\n",
       "    <tr>\n",
       "      <td>2017-06-01</td>\n",
       "      <td>0.53</td>\n",
       "      <td>0.59</td>\n",
       "      <td>0.63</td>\n",
       "      <td>0.74</td>\n",
       "      <td>0.86</td>\n",
       "      <td>0.94</td>\n",
       "      <td>1.05</td>\n",
       "      <td>1.11</td>\n",
       "      <td>1.17</td>\n",
       "      <td>1.24</td>\n",
       "      <td>1.31</td>\n",
       "      <td>1.33</td>\n",
       "    </tr>\n",
       "    <tr>\n",
       "      <td>2017-07-01</td>\n",
       "      <td>0.63</td>\n",
       "      <td>0.67</td>\n",
       "      <td>0.73</td>\n",
       "      <td>0.77</td>\n",
       "      <td>0.79</td>\n",
       "      <td>0.81</td>\n",
       "      <td>0.82</td>\n",
       "      <td>0.84</td>\n",
       "      <td>0.85</td>\n",
       "      <td>0.87</td>\n",
       "      <td>0.88</td>\n",
       "      <td>NaN</td>\n",
       "    </tr>\n",
       "    <tr>\n",
       "      <td>2017-08-01</td>\n",
       "      <td>0.49</td>\n",
       "      <td>0.53</td>\n",
       "      <td>0.57</td>\n",
       "      <td>0.61</td>\n",
       "      <td>0.66</td>\n",
       "      <td>0.68</td>\n",
       "      <td>0.70</td>\n",
       "      <td>0.74</td>\n",
       "      <td>0.77</td>\n",
       "      <td>0.78</td>\n",
       "      <td>NaN</td>\n",
       "      <td>NaN</td>\n",
       "    </tr>\n",
       "    <tr>\n",
       "      <td>2017-09-01</td>\n",
       "      <td>0.60</td>\n",
       "      <td>0.72</td>\n",
       "      <td>0.77</td>\n",
       "      <td>1.19</td>\n",
       "      <td>1.23</td>\n",
       "      <td>1.30</td>\n",
       "      <td>1.38</td>\n",
       "      <td>1.40</td>\n",
       "      <td>1.42</td>\n",
       "      <td>NaN</td>\n",
       "      <td>NaN</td>\n",
       "      <td>NaN</td>\n",
       "    </tr>\n",
       "    <tr>\n",
       "      <td>2017-10-01</td>\n",
       "      <td>0.60</td>\n",
       "      <td>0.66</td>\n",
       "      <td>0.68</td>\n",
       "      <td>0.70</td>\n",
       "      <td>0.72</td>\n",
       "      <td>0.74</td>\n",
       "      <td>0.75</td>\n",
       "      <td>0.76</td>\n",
       "      <td>NaN</td>\n",
       "      <td>NaN</td>\n",
       "      <td>NaN</td>\n",
       "      <td>NaN</td>\n",
       "    </tr>\n",
       "    <tr>\n",
       "      <td>2017-11-01</td>\n",
       "      <td>0.55</td>\n",
       "      <td>0.60</td>\n",
       "      <td>0.62</td>\n",
       "      <td>0.65</td>\n",
       "      <td>0.67</td>\n",
       "      <td>0.68</td>\n",
       "      <td>0.69</td>\n",
       "      <td>NaN</td>\n",
       "      <td>NaN</td>\n",
       "      <td>NaN</td>\n",
       "      <td>NaN</td>\n",
       "      <td>NaN</td>\n",
       "    </tr>\n",
       "    <tr>\n",
       "      <td>2017-12-01</td>\n",
       "      <td>0.54</td>\n",
       "      <td>0.57</td>\n",
       "      <td>0.68</td>\n",
       "      <td>0.80</td>\n",
       "      <td>0.84</td>\n",
       "      <td>0.87</td>\n",
       "      <td>NaN</td>\n",
       "      <td>NaN</td>\n",
       "      <td>NaN</td>\n",
       "      <td>NaN</td>\n",
       "      <td>NaN</td>\n",
       "      <td>NaN</td>\n",
       "    </tr>\n",
       "    <tr>\n",
       "      <td>2018-01-01</td>\n",
       "      <td>0.42</td>\n",
       "      <td>0.45</td>\n",
       "      <td>0.48</td>\n",
       "      <td>0.49</td>\n",
       "      <td>0.50</td>\n",
       "      <td>NaN</td>\n",
       "      <td>NaN</td>\n",
       "      <td>NaN</td>\n",
       "      <td>NaN</td>\n",
       "      <td>NaN</td>\n",
       "      <td>NaN</td>\n",
       "      <td>NaN</td>\n",
       "    </tr>\n",
       "    <tr>\n",
       "      <td>2018-02-01</td>\n",
       "      <td>0.46</td>\n",
       "      <td>0.49</td>\n",
       "      <td>0.50</td>\n",
       "      <td>0.51</td>\n",
       "      <td>NaN</td>\n",
       "      <td>NaN</td>\n",
       "      <td>NaN</td>\n",
       "      <td>NaN</td>\n",
       "      <td>NaN</td>\n",
       "      <td>NaN</td>\n",
       "      <td>NaN</td>\n",
       "      <td>NaN</td>\n",
       "    </tr>\n",
       "    <tr>\n",
       "      <td>2018-03-01</td>\n",
       "      <td>0.56</td>\n",
       "      <td>0.60</td>\n",
       "      <td>0.63</td>\n",
       "      <td>NaN</td>\n",
       "      <td>NaN</td>\n",
       "      <td>NaN</td>\n",
       "      <td>NaN</td>\n",
       "      <td>NaN</td>\n",
       "      <td>NaN</td>\n",
       "      <td>NaN</td>\n",
       "      <td>NaN</td>\n",
       "      <td>NaN</td>\n",
       "    </tr>\n",
       "    <tr>\n",
       "      <td>2018-04-01</td>\n",
       "      <td>0.48</td>\n",
       "      <td>0.53</td>\n",
       "      <td>NaN</td>\n",
       "      <td>NaN</td>\n",
       "      <td>NaN</td>\n",
       "      <td>NaN</td>\n",
       "      <td>NaN</td>\n",
       "      <td>NaN</td>\n",
       "      <td>NaN</td>\n",
       "      <td>NaN</td>\n",
       "      <td>NaN</td>\n",
       "      <td>NaN</td>\n",
       "    </tr>\n",
       "    <tr>\n",
       "      <td>2018-05-01</td>\n",
       "      <td>0.63</td>\n",
       "      <td>NaN</td>\n",
       "      <td>NaN</td>\n",
       "      <td>NaN</td>\n",
       "      <td>NaN</td>\n",
       "      <td>NaN</td>\n",
       "      <td>NaN</td>\n",
       "      <td>NaN</td>\n",
       "      <td>NaN</td>\n",
       "      <td>NaN</td>\n",
       "      <td>NaN</td>\n",
       "      <td>NaN</td>\n",
       "    </tr>\n",
       "  </tbody>\n",
       "</table>\n",
       "</div>"
      ],
      "text/plain": [
       "age                  0     1     2     3     4     5     6     7     8     9   \\\n",
       "first_order_month                                                               \n",
       "2017-06-01         0.53  0.59  0.63  0.74  0.86  0.94  1.05  1.11  1.17  1.24   \n",
       "2017-07-01         0.63  0.67  0.73  0.77  0.79  0.81  0.82  0.84  0.85  0.87   \n",
       "2017-08-01         0.49  0.53  0.57  0.61  0.66  0.68  0.70  0.74  0.77  0.78   \n",
       "2017-09-01         0.60  0.72  0.77  1.19  1.23  1.30  1.38  1.40  1.42   NaN   \n",
       "2017-10-01         0.60  0.66  0.68  0.70  0.72  0.74  0.75  0.76   NaN   NaN   \n",
       "2017-11-01         0.55  0.60  0.62  0.65  0.67  0.68  0.69   NaN   NaN   NaN   \n",
       "2017-12-01         0.54  0.57  0.68  0.80  0.84  0.87   NaN   NaN   NaN   NaN   \n",
       "2018-01-01         0.42  0.45  0.48  0.49  0.50   NaN   NaN   NaN   NaN   NaN   \n",
       "2018-02-01         0.46  0.49  0.50  0.51   NaN   NaN   NaN   NaN   NaN   NaN   \n",
       "2018-03-01         0.56  0.60  0.63   NaN   NaN   NaN   NaN   NaN   NaN   NaN   \n",
       "2018-04-01         0.48  0.53   NaN   NaN   NaN   NaN   NaN   NaN   NaN   NaN   \n",
       "2018-05-01         0.63   NaN   NaN   NaN   NaN   NaN   NaN   NaN   NaN   NaN   \n",
       "\n",
       "age                  10    11  \n",
       "first_order_month              \n",
       "2017-06-01         1.31  1.33  \n",
       "2017-07-01         0.88   NaN  \n",
       "2017-08-01          NaN   NaN  \n",
       "2017-09-01          NaN   NaN  \n",
       "2017-10-01          NaN   NaN  \n",
       "2017-11-01          NaN   NaN  \n",
       "2017-12-01          NaN   NaN  \n",
       "2018-01-01          NaN   NaN  \n",
       "2018-02-01          NaN   NaN  \n",
       "2018-03-01          NaN   NaN  \n",
       "2018-04-01          NaN   NaN  \n",
       "2018-05-01          NaN   NaN  "
      ]
     },
     "execution_count": 55,
     "metadata": {},
     "output_type": "execute_result"
    }
   ],
   "source": [
    "monthly_costs = costs.groupby('month').sum()\n",
    "report_new = pd.merge(report, monthly_costs, left_on='first_order_month', right_on='month')\n",
    "report_new['cac'] = report_new['costs'] / report_new['n_buyers']\n",
    "report_new.head()\n",
    "report_new['romi'] = report_new['ltv'] / report_new['cac']\n",
    "output_romi = report_new.pivot_table(\n",
    "        index='first_order_month', \n",
    "        columns='age', \n",
    "        values='romi', \n",
    "        aggfunc='mean')\n",
    "\n",
    "output_romi.cumsum(axis=1).round(2)"
   ]
  },
  {
   "cell_type": "markdown",
   "metadata": {},
   "source": [
    "Из сводной таблицы можно обратить внимание, что первая когорта вышла на самоокупаемость на **7 месяц**, а более успешной была только 4 когорта. Её период самокупаемости составил 4 месяца, а существенный доход мы получили как раз в новогодние праздники.\n",
    "\n",
    "Остальные когорты были менее успешны и лишь подбираются к самоокупаемости. "
   ]
  },
  {
   "cell_type": "markdown",
   "metadata": {},
   "source": [
    "Теперь найдём **среднюю когорту**. Усредним **ROMI** всех когорт за каждый месяц. "
   ]
  },
  {
   "cell_type": "code",
   "execution_count": 56,
   "metadata": {},
   "outputs": [
    {
     "data": {
      "text/plain": [
       "age\n",
       "0     0.540816\n",
       "1     0.581985\n",
       "2     0.631069\n",
       "3     0.719740\n",
       "4     0.782946\n",
       "5     0.859876\n",
       "6     0.896819\n",
       "7     0.969951\n",
       "8     1.053871\n",
       "9     0.964488\n",
       "10    1.094658\n",
       "11    1.333982\n",
       "dtype: float64"
      ]
     },
     "metadata": {},
     "output_type": "display_data"
    }
   ],
   "source": [
    "display(output_romi.cumsum(axis=1).mean(axis=0))"
   ]
  },
  {
   "cell_type": "markdown",
   "metadata": {},
   "source": [
    "Как видно из получившеся таблицы, **средняя когорта** окупилась только к **9 месяцу**. После чего колебалась около окупаемости в **10-11** месяцах и к **12** вышла на стабильную окупаемость.  "
   ]
  },
  {
   "cell_type": "markdown",
   "metadata": {},
   "source": [
    "### Маркетинг. Сколько денег потратили? Всего / на каждый источник / по времени (LTV) <a id=\"step3.9\"></a>   \n",
    "</div>"
   ]
  },
  {
   "cell_type": "markdown",
   "metadata": {},
   "source": [
    "Просуммируем `costs` в **costs**, тем самым найдем **общие затраты** на маркетинг"
   ]
  },
  {
   "cell_type": "code",
   "execution_count": 57,
   "metadata": {},
   "outputs": [
    {
     "name": "stdout",
     "output_type": "stream",
     "text": [
      "Всего на маркетинг потрачено 329131.62\n"
     ]
    }
   ],
   "source": [
    "total_costs = costs['costs'].sum()\n",
    "print('Всего на маркетинг потрачено', total_costs)"
   ]
  },
  {
   "cell_type": "markdown",
   "metadata": {},
   "source": [
    "Теперь соберём статистику по **каждому источнику**, сгруппируем **costs** по `source_id`"
   ]
  },
  {
   "cell_type": "code",
   "execution_count": 58,
   "metadata": {},
   "outputs": [
    {
     "data": {
      "text/html": [
       "<div>\n",
       "<style scoped>\n",
       "    .dataframe tbody tr th:only-of-type {\n",
       "        vertical-align: middle;\n",
       "    }\n",
       "\n",
       "    .dataframe tbody tr th {\n",
       "        vertical-align: top;\n",
       "    }\n",
       "\n",
       "    .dataframe thead th {\n",
       "        text-align: right;\n",
       "    }\n",
       "</style>\n",
       "<table border=\"1\" class=\"dataframe\">\n",
       "  <thead>\n",
       "    <tr style=\"text-align: right;\">\n",
       "      <th></th>\n",
       "      <th>source_id</th>\n",
       "      <th>costs</th>\n",
       "    </tr>\n",
       "  </thead>\n",
       "  <tbody>\n",
       "    <tr>\n",
       "      <td>0</td>\n",
       "      <td>1</td>\n",
       "      <td>20833.27</td>\n",
       "    </tr>\n",
       "    <tr>\n",
       "      <td>1</td>\n",
       "      <td>2</td>\n",
       "      <td>42806.04</td>\n",
       "    </tr>\n",
       "    <tr>\n",
       "      <td>2</td>\n",
       "      <td>3</td>\n",
       "      <td>141321.63</td>\n",
       "    </tr>\n",
       "    <tr>\n",
       "      <td>3</td>\n",
       "      <td>4</td>\n",
       "      <td>61073.60</td>\n",
       "    </tr>\n",
       "    <tr>\n",
       "      <td>4</td>\n",
       "      <td>5</td>\n",
       "      <td>51757.10</td>\n",
       "    </tr>\n",
       "    <tr>\n",
       "      <td>5</td>\n",
       "      <td>9</td>\n",
       "      <td>5517.49</td>\n",
       "    </tr>\n",
       "    <tr>\n",
       "      <td>6</td>\n",
       "      <td>10</td>\n",
       "      <td>5822.49</td>\n",
       "    </tr>\n",
       "  </tbody>\n",
       "</table>\n",
       "</div>"
      ],
      "text/plain": [
       "   source_id      costs\n",
       "0          1   20833.27\n",
       "1          2   42806.04\n",
       "2          3  141321.63\n",
       "3          4   61073.60\n",
       "4          5   51757.10\n",
       "5          9    5517.49\n",
       "6         10    5822.49"
      ]
     },
     "metadata": {},
     "output_type": "display_data"
    }
   ],
   "source": [
    "costs_by_src = costs.groupby('source_id')['costs'].sum().reset_index()\n",
    "display(costs_by_src)"
   ]
  },
  {
   "cell_type": "markdown",
   "metadata": {},
   "source": [
    "Найдем траты по источникам в процентах и отсортируем по убыванию\n"
   ]
  },
  {
   "cell_type": "code",
   "execution_count": 59,
   "metadata": {},
   "outputs": [
    {
     "data": {
      "text/html": [
       "<div>\n",
       "<style scoped>\n",
       "    .dataframe tbody tr th:only-of-type {\n",
       "        vertical-align: middle;\n",
       "    }\n",
       "\n",
       "    .dataframe tbody tr th {\n",
       "        vertical-align: top;\n",
       "    }\n",
       "\n",
       "    .dataframe thead th {\n",
       "        text-align: right;\n",
       "    }\n",
       "</style>\n",
       "<table border=\"1\" class=\"dataframe\">\n",
       "  <thead>\n",
       "    <tr style=\"text-align: right;\">\n",
       "      <th></th>\n",
       "      <th>source_id</th>\n",
       "      <th>costs</th>\n",
       "      <th>%</th>\n",
       "    </tr>\n",
       "  </thead>\n",
       "  <tbody>\n",
       "    <tr>\n",
       "      <td>2</td>\n",
       "      <td>3</td>\n",
       "      <td>141321.63</td>\n",
       "      <td>42.94</td>\n",
       "    </tr>\n",
       "    <tr>\n",
       "      <td>3</td>\n",
       "      <td>4</td>\n",
       "      <td>61073.60</td>\n",
       "      <td>18.56</td>\n",
       "    </tr>\n",
       "    <tr>\n",
       "      <td>4</td>\n",
       "      <td>5</td>\n",
       "      <td>51757.10</td>\n",
       "      <td>15.73</td>\n",
       "    </tr>\n",
       "    <tr>\n",
       "      <td>1</td>\n",
       "      <td>2</td>\n",
       "      <td>42806.04</td>\n",
       "      <td>13.01</td>\n",
       "    </tr>\n",
       "    <tr>\n",
       "      <td>0</td>\n",
       "      <td>1</td>\n",
       "      <td>20833.27</td>\n",
       "      <td>6.33</td>\n",
       "    </tr>\n",
       "    <tr>\n",
       "      <td>6</td>\n",
       "      <td>10</td>\n",
       "      <td>5822.49</td>\n",
       "      <td>1.77</td>\n",
       "    </tr>\n",
       "    <tr>\n",
       "      <td>5</td>\n",
       "      <td>9</td>\n",
       "      <td>5517.49</td>\n",
       "      <td>1.68</td>\n",
       "    </tr>\n",
       "  </tbody>\n",
       "</table>\n",
       "</div>"
      ],
      "text/plain": [
       "   source_id      costs      %\n",
       "2          3  141321.63  42.94\n",
       "3          4   61073.60  18.56\n",
       "4          5   51757.10  15.73\n",
       "1          2   42806.04  13.01\n",
       "0          1   20833.27   6.33\n",
       "6         10    5822.49   1.77\n",
       "5          9    5517.49   1.68"
      ]
     },
     "metadata": {},
     "output_type": "display_data"
    }
   ],
   "source": [
    "costs_by_src['%'] = (costs_by_src['costs'] / total_costs * 100).round(2)\n",
    "display(costs_by_src.sort_values('costs', ascending = False))"
   ]
  },
  {
   "cell_type": "markdown",
   "metadata": {},
   "source": [
    "Больше всего потратили на **3 источник**. Затем идёт группа из **4, 5 и 2 источников**. Меньше всего на **10 и 9** источники. И, как и было выявлено ранее, трат на **6 и 7 источники** не было. "
   ]
  },
  {
   "cell_type": "markdown",
   "metadata": {},
   "source": [
    "Теперь проанализируем траты **по месяцам**. Для этого сгруппируем **costs** по месяцам, предварительно приведём `date` к формату `datetime64[M]`"
   ]
  },
  {
   "cell_type": "code",
   "execution_count": 60,
   "metadata": {},
   "outputs": [
    {
     "data": {
      "text/html": [
       "<div>\n",
       "<style scoped>\n",
       "    .dataframe tbody tr th:only-of-type {\n",
       "        vertical-align: middle;\n",
       "    }\n",
       "\n",
       "    .dataframe tbody tr th {\n",
       "        vertical-align: top;\n",
       "    }\n",
       "\n",
       "    .dataframe thead th {\n",
       "        text-align: right;\n",
       "    }\n",
       "</style>\n",
       "<table border=\"1\" class=\"dataframe\">\n",
       "  <thead>\n",
       "    <tr style=\"text-align: right;\">\n",
       "      <th></th>\n",
       "      <th>costs_month</th>\n",
       "      <th>costs</th>\n",
       "    </tr>\n",
       "  </thead>\n",
       "  <tbody>\n",
       "    <tr>\n",
       "      <td>0</td>\n",
       "      <td>2017-06-01</td>\n",
       "      <td>18015.00</td>\n",
       "    </tr>\n",
       "    <tr>\n",
       "      <td>1</td>\n",
       "      <td>2017-07-01</td>\n",
       "      <td>18240.59</td>\n",
       "    </tr>\n",
       "    <tr>\n",
       "      <td>2</td>\n",
       "      <td>2017-08-01</td>\n",
       "      <td>14790.54</td>\n",
       "    </tr>\n",
       "    <tr>\n",
       "      <td>3</td>\n",
       "      <td>2017-09-01</td>\n",
       "      <td>24368.91</td>\n",
       "    </tr>\n",
       "    <tr>\n",
       "      <td>4</td>\n",
       "      <td>2017-10-01</td>\n",
       "      <td>36322.88</td>\n",
       "    </tr>\n",
       "    <tr>\n",
       "      <td>5</td>\n",
       "      <td>2017-11-01</td>\n",
       "      <td>37907.88</td>\n",
       "    </tr>\n",
       "    <tr>\n",
       "      <td>6</td>\n",
       "      <td>2017-12-01</td>\n",
       "      <td>38315.35</td>\n",
       "    </tr>\n",
       "    <tr>\n",
       "      <td>7</td>\n",
       "      <td>2018-01-01</td>\n",
       "      <td>33518.52</td>\n",
       "    </tr>\n",
       "    <tr>\n",
       "      <td>8</td>\n",
       "      <td>2018-02-01</td>\n",
       "      <td>32723.03</td>\n",
       "    </tr>\n",
       "    <tr>\n",
       "      <td>9</td>\n",
       "      <td>2018-03-01</td>\n",
       "      <td>30415.27</td>\n",
       "    </tr>\n",
       "    <tr>\n",
       "      <td>10</td>\n",
       "      <td>2018-04-01</td>\n",
       "      <td>22289.38</td>\n",
       "    </tr>\n",
       "    <tr>\n",
       "      <td>11</td>\n",
       "      <td>2018-05-01</td>\n",
       "      <td>22224.27</td>\n",
       "    </tr>\n",
       "  </tbody>\n",
       "</table>\n",
       "</div>"
      ],
      "text/plain": [
       "   costs_month     costs\n",
       "0   2017-06-01  18015.00\n",
       "1   2017-07-01  18240.59\n",
       "2   2017-08-01  14790.54\n",
       "3   2017-09-01  24368.91\n",
       "4   2017-10-01  36322.88\n",
       "5   2017-11-01  37907.88\n",
       "6   2017-12-01  38315.35\n",
       "7   2018-01-01  33518.52\n",
       "8   2018-02-01  32723.03\n",
       "9   2018-03-01  30415.27\n",
       "10  2018-04-01  22289.38\n",
       "11  2018-05-01  22224.27"
      ]
     },
     "metadata": {},
     "output_type": "display_data"
    }
   ],
   "source": [
    "costs['costs_month'] = costs['date'].astype('datetime64[M]').dt.date\n",
    "costs_by_month = costs.groupby('costs_month')['costs'].sum().reset_index()\n",
    "display(costs_by_month)"
   ]
  },
  {
   "cell_type": "markdown",
   "metadata": {},
   "source": [
    "Построим линейчатую диаграмму средних затрат с разбивкой по месяцам"
   ]
  },
  {
   "cell_type": "code",
   "execution_count": 61,
   "metadata": {},
   "outputs": [
    {
     "data": {
      "image/png": "[encoded data removed]",
      "text/plain": [
       "<Figure size 720x288 with 1 Axes>"
      ]
     },
     "metadata": {
      "needs_background": "light"
     },
     "output_type": "display_data"
    }
   ],
   "source": [
    "plt.subplots(figsize=(10, 4))\n",
    "sns.barplot(data = costs_by_month, x = 'costs_month', y = 'costs')\n",
    "\n",
    "plt.title('Средние затраты по месяцам')\n",
    "plt.xticks(rotation=90) \n",
    "plt.ylabel('Затраты')\n",
    "plt.xlabel('Месяц')\n",
    "\n",
    "plt.show()"
   ]
  },
  {
   "cell_type": "markdown",
   "metadata": {},
   "source": [
    "Как видим, маркетологи, как и мы, отмечают активность пользователей ближе к концу года, поэтому затраты увеличиваются начиная с сентября и растут до декабря. Затем идёт планомерное падение и после мартовских праздников траты значительно уменьшаются. "
   ]
  },
  {
   "cell_type": "markdown",
   "metadata": {},
   "source": [
    "### Маркетинг. Сколько стоило привлечение одного покупателя из каждого источника <a id=\"step3.10\"></a>   \n",
    "</div>"
   ]
  },
  {
   "cell_type": "markdown",
   "metadata": {},
   "source": [
    "Сгруппируем **costs** по источнику"
   ]
  },
  {
   "cell_type": "code",
   "execution_count": 62,
   "metadata": {},
   "outputs": [],
   "source": [
    "costs_by_src = costs.groupby('source_id').agg({'costs':'sum'})\n"
   ]
  },
  {
   "cell_type": "markdown",
   "metadata": {},
   "source": [
    "Сделаем срез **visits**, где дата совпадает с датой первой сессии. И объединим получившийся срез с **orders** по **uid**. После чего сгруппируем получившуюся таблицу `buyers_by_src` по источнику. "
   ]
  },
  {
   "cell_type": "code",
   "execution_count": 63,
   "metadata": {},
   "outputs": [],
   "source": [
    "visits_by_src = visits.query('start_ts == first_visit_date')\n",
    "buyers_by_src = orders.merge(visits_by_src, on='uid', how='inner')\n",
    "buyers_by_src = buyers_by_src.groupby('source_id').agg({'uid':'nunique'})\n",
    "\n"
   ]
  },
  {
   "cell_type": "code",
   "execution_count": null,
   "metadata": {},
   "outputs": [],
   "source": []
  },
  {
   "cell_type": "markdown",
   "metadata": {},
   "source": [
    "Теперь найдём **CAC**. Предварительно методом `join` соединим `costs_by_src` и `buyers_by_src`. Помня про **6 и 7 источник** заполним  отсутствующие значения нулями методом `fillna`"
   ]
  },
  {
   "cell_type": "code",
   "execution_count": 64,
   "metadata": {},
   "outputs": [
    {
     "data": {
      "text/html": [
       "<div>\n",
       "<style scoped>\n",
       "    .dataframe tbody tr th:only-of-type {\n",
       "        vertical-align: middle;\n",
       "    }\n",
       "\n",
       "    .dataframe tbody tr th {\n",
       "        vertical-align: top;\n",
       "    }\n",
       "\n",
       "    .dataframe thead th {\n",
       "        text-align: right;\n",
       "    }\n",
       "</style>\n",
       "<table border=\"1\" class=\"dataframe\">\n",
       "  <thead>\n",
       "    <tr style=\"text-align: right;\">\n",
       "      <th></th>\n",
       "      <th>source_id</th>\n",
       "      <th>uid</th>\n",
       "      <th>costs</th>\n",
       "      <th>cac</th>\n",
       "    </tr>\n",
       "  </thead>\n",
       "  <tbody>\n",
       "    <tr>\n",
       "      <td>0</td>\n",
       "      <td>1</td>\n",
       "      <td>2899</td>\n",
       "      <td>20833.27</td>\n",
       "      <td>7.19</td>\n",
       "    </tr>\n",
       "    <tr>\n",
       "      <td>1</td>\n",
       "      <td>2</td>\n",
       "      <td>3506</td>\n",
       "      <td>42806.04</td>\n",
       "      <td>12.21</td>\n",
       "    </tr>\n",
       "    <tr>\n",
       "      <td>2</td>\n",
       "      <td>3</td>\n",
       "      <td>10473</td>\n",
       "      <td>141321.63</td>\n",
       "      <td>13.49</td>\n",
       "    </tr>\n",
       "    <tr>\n",
       "      <td>3</td>\n",
       "      <td>4</td>\n",
       "      <td>10296</td>\n",
       "      <td>61073.60</td>\n",
       "      <td>5.93</td>\n",
       "    </tr>\n",
       "    <tr>\n",
       "      <td>4</td>\n",
       "      <td>5</td>\n",
       "      <td>6931</td>\n",
       "      <td>51757.10</td>\n",
       "      <td>7.47</td>\n",
       "    </tr>\n",
       "    <tr>\n",
       "      <td>5</td>\n",
       "      <td>7</td>\n",
       "      <td>1</td>\n",
       "      <td>0.00</td>\n",
       "      <td>0.00</td>\n",
       "    </tr>\n",
       "    <tr>\n",
       "      <td>6</td>\n",
       "      <td>9</td>\n",
       "      <td>1088</td>\n",
       "      <td>5517.49</td>\n",
       "      <td>5.07</td>\n",
       "    </tr>\n",
       "    <tr>\n",
       "      <td>7</td>\n",
       "      <td>10</td>\n",
       "      <td>1329</td>\n",
       "      <td>5822.49</td>\n",
       "      <td>4.38</td>\n",
       "    </tr>\n",
       "  </tbody>\n",
       "</table>\n",
       "</div>"
      ],
      "text/plain": [
       "   source_id    uid      costs    cac\n",
       "0          1   2899   20833.27   7.19\n",
       "1          2   3506   42806.04  12.21\n",
       "2          3  10473  141321.63  13.49\n",
       "3          4  10296   61073.60   5.93\n",
       "4          5   6931   51757.10   7.47\n",
       "5          7      1       0.00   0.00\n",
       "6          9   1088    5517.49   5.07\n",
       "7         10   1329    5822.49   4.38"
      ]
     },
     "metadata": {},
     "output_type": "display_data"
    }
   ],
   "source": [
    "cac_by_src = buyers_by_src.join(costs_by_src).reset_index()\n",
    "\n",
    "\n",
    "\n",
    "cac_by_src['cac'] = (cac_by_src['costs'] / cac_by_src['uid']).round(2)\n",
    "cac_by_src = cac_by_src.fillna(0)\n",
    "\n",
    "display(cac_by_src)"
   ]
  },
  {
   "cell_type": "markdown",
   "metadata": {},
   "source": [
    "Построим линейчатую диаграмму для **CAC** по источникам"
   ]
  },
  {
   "cell_type": "code",
   "execution_count": 65,
   "metadata": {},
   "outputs": [
    {
     "data": {
      "image/png": "[encoded data removed]",
      "text/plain": [
       "<Figure size 720x288 with 1 Axes>"
      ]
     },
     "metadata": {
      "needs_background": "light"
     },
     "output_type": "display_data"
    }
   ],
   "source": [
    "plt.subplots(figsize=(10, 4))\n",
    "sns.barplot(data = cac_by_src, x = 'source_id', y = 'cac')\n",
    "\n",
    "plt.title('CAC по каждому источнику')\n",
    "plt.xticks(rotation=90) \n",
    "plt.ylabel('CAC')\n",
    "plt.xlabel('Источник')\n",
    "\n",
    "plt.show()"
   ]
  },
  {
   "cell_type": "markdown",
   "metadata": {},
   "source": [
    "Мы видим двух однозначных лидеров: **3 и 2** источники с **CAC** равным 13,49 и 12,21 соответственно.. За ними идут **1 и 5** источники. Хуже всего дела обстоят с **10** источником. Его **CAC** составляет всего лишь 4,38 "
   ]
  },
  {
   "cell_type": "markdown",
   "metadata": {},
   "source": [
    "### Маркетинг. На сколько окупились расходы? (ROI) <a id=\"step3.11\"></a>   \n",
    "</div>"
   ]
  },
  {
   "cell_type": "code",
   "execution_count": 66,
   "metadata": {},
   "outputs": [],
   "source": [
    "revenue_by_src = orders.merge(visits_by_src, on='uid', how='inner')\n",
    "revenue_by_src = revenue_by_src.groupby(['source_id']).agg({'revenue':'sum'})\n"
   ]
  },
  {
   "cell_type": "code",
   "execution_count": 67,
   "metadata": {},
   "outputs": [
    {
     "data": {
      "text/html": [
       "<div>\n",
       "<style scoped>\n",
       "    .dataframe tbody tr th:only-of-type {\n",
       "        vertical-align: middle;\n",
       "    }\n",
       "\n",
       "    .dataframe tbody tr th {\n",
       "        vertical-align: top;\n",
       "    }\n",
       "\n",
       "    .dataframe thead th {\n",
       "        text-align: right;\n",
       "    }\n",
       "</style>\n",
       "<table border=\"1\" class=\"dataframe\">\n",
       "  <thead>\n",
       "    <tr style=\"text-align: right;\">\n",
       "      <th></th>\n",
       "      <th>revenue</th>\n",
       "      <th>costs</th>\n",
       "      <th>roi</th>\n",
       "    </tr>\n",
       "    <tr>\n",
       "      <th>source_id</th>\n",
       "      <th></th>\n",
       "      <th></th>\n",
       "      <th></th>\n",
       "    </tr>\n",
       "  </thead>\n",
       "  <tbody>\n",
       "    <tr>\n",
       "      <td>1</td>\n",
       "      <td>31090.55</td>\n",
       "      <td>20833.27</td>\n",
       "      <td>0.49</td>\n",
       "    </tr>\n",
       "    <tr>\n",
       "      <td>2</td>\n",
       "      <td>46923.61</td>\n",
       "      <td>42806.04</td>\n",
       "      <td>0.10</td>\n",
       "    </tr>\n",
       "    <tr>\n",
       "      <td>3</td>\n",
       "      <td>54511.24</td>\n",
       "      <td>141321.63</td>\n",
       "      <td>-0.61</td>\n",
       "    </tr>\n",
       "    <tr>\n",
       "      <td>4</td>\n",
       "      <td>56696.83</td>\n",
       "      <td>61073.60</td>\n",
       "      <td>-0.07</td>\n",
       "    </tr>\n",
       "    <tr>\n",
       "      <td>5</td>\n",
       "      <td>52624.02</td>\n",
       "      <td>51757.10</td>\n",
       "      <td>0.02</td>\n",
       "    </tr>\n",
       "    <tr>\n",
       "      <td>7</td>\n",
       "      <td>1.22</td>\n",
       "      <td>NaN</td>\n",
       "      <td>NaN</td>\n",
       "    </tr>\n",
       "    <tr>\n",
       "      <td>9</td>\n",
       "      <td>5759.40</td>\n",
       "      <td>5517.49</td>\n",
       "      <td>0.04</td>\n",
       "    </tr>\n",
       "    <tr>\n",
       "      <td>10</td>\n",
       "      <td>4450.33</td>\n",
       "      <td>5822.49</td>\n",
       "      <td>-0.24</td>\n",
       "    </tr>\n",
       "  </tbody>\n",
       "</table>\n",
       "</div>"
      ],
      "text/plain": [
       "            revenue      costs   roi\n",
       "source_id                           \n",
       "1          31090.55   20833.27  0.49\n",
       "2          46923.61   42806.04  0.10\n",
       "3          54511.24  141321.63 -0.61\n",
       "4          56696.83   61073.60 -0.07\n",
       "5          52624.02   51757.10  0.02\n",
       "7              1.22        NaN   NaN\n",
       "9           5759.40    5517.49  0.04\n",
       "10          4450.33    5822.49 -0.24"
      ]
     },
     "metadata": {},
     "output_type": "display_data"
    },
    {
     "name": "stdout",
     "output_type": "stream",
     "text": [
      "Среднее ROI по всем источникам: -0.03857142857142857\n"
     ]
    }
   ],
   "source": [
    "roi_by_src = revenue_by_src.join(costs_by_src)\n",
    "roi_by_src['roi'] = ((roi_by_src['revenue'] - roi_by_src['costs']) / roi_by_src['costs']).round(2)\n",
    "\n",
    "display(roi_by_src)\n",
    "\n",
    "print('Среднее ROI по всем источникам:', roi_by_src['roi'].mean())"
   ]
  },
  {
   "cell_type": "markdown",
   "metadata": {},
   "source": [
    "По **ROI** наш фаворит - **первый источник**. В пять раз хуже него, но всё-таки в плюсе **2** источник. А вот **3** напротив имеет отрицательный показатель.   \n",
    "Здесь, скорее всего, подвело желание получить как можно больше клиентов. Если с **4** и **5** источникам баланс почти удалось удержать (при небольшом минусе и плюсе соответственно), то **3** источник провалился достаточно значительно. "
   ]
  },
  {
   "cell_type": "markdown",
   "metadata": {},
   "source": [
    "Посмотрим на доход от каждого источника и устройства отдельно"
   ]
  },
  {
   "cell_type": "code",
   "execution_count": 68,
   "metadata": {
    "scrolled": true
   },
   "outputs": [
    {
     "data": {
      "text/html": [
       "<div>\n",
       "<style scoped>\n",
       "    .dataframe tbody tr th:only-of-type {\n",
       "        vertical-align: middle;\n",
       "    }\n",
       "\n",
       "    .dataframe tbody tr th {\n",
       "        vertical-align: top;\n",
       "    }\n",
       "\n",
       "    .dataframe thead th {\n",
       "        text-align: right;\n",
       "    }\n",
       "</style>\n",
       "<table border=\"1\" class=\"dataframe\">\n",
       "  <thead>\n",
       "    <tr style=\"text-align: right;\">\n",
       "      <th></th>\n",
       "      <th></th>\n",
       "      <th>revenue</th>\n",
       "    </tr>\n",
       "    <tr>\n",
       "      <th>source_id</th>\n",
       "      <th>device</th>\n",
       "      <th></th>\n",
       "    </tr>\n",
       "  </thead>\n",
       "  <tbody>\n",
       "    <tr>\n",
       "      <td rowspan=\"2\" valign=\"top\">1</td>\n",
       "      <td>desktop</td>\n",
       "      <td>25995.60</td>\n",
       "    </tr>\n",
       "    <tr>\n",
       "      <td>touch</td>\n",
       "      <td>5094.95</td>\n",
       "    </tr>\n",
       "    <tr>\n",
       "      <td rowspan=\"2\" valign=\"top\">2</td>\n",
       "      <td>desktop</td>\n",
       "      <td>40386.63</td>\n",
       "    </tr>\n",
       "    <tr>\n",
       "      <td>touch</td>\n",
       "      <td>6536.98</td>\n",
       "    </tr>\n",
       "    <tr>\n",
       "      <td rowspan=\"2\" valign=\"top\">3</td>\n",
       "      <td>desktop</td>\n",
       "      <td>46273.75</td>\n",
       "    </tr>\n",
       "    <tr>\n",
       "      <td>touch</td>\n",
       "      <td>8237.49</td>\n",
       "    </tr>\n",
       "    <tr>\n",
       "      <td rowspan=\"2\" valign=\"top\">4</td>\n",
       "      <td>desktop</td>\n",
       "      <td>43414.96</td>\n",
       "    </tr>\n",
       "    <tr>\n",
       "      <td>touch</td>\n",
       "      <td>13281.87</td>\n",
       "    </tr>\n",
       "    <tr>\n",
       "      <td rowspan=\"2\" valign=\"top\">5</td>\n",
       "      <td>desktop</td>\n",
       "      <td>46825.34</td>\n",
       "    </tr>\n",
       "    <tr>\n",
       "      <td>touch</td>\n",
       "      <td>5798.68</td>\n",
       "    </tr>\n",
       "    <tr>\n",
       "      <td>7</td>\n",
       "      <td>desktop</td>\n",
       "      <td>1.22</td>\n",
       "    </tr>\n",
       "    <tr>\n",
       "      <td rowspan=\"2\" valign=\"top\">9</td>\n",
       "      <td>desktop</td>\n",
       "      <td>4866.41</td>\n",
       "    </tr>\n",
       "    <tr>\n",
       "      <td>touch</td>\n",
       "      <td>892.99</td>\n",
       "    </tr>\n",
       "    <tr>\n",
       "      <td rowspan=\"2\" valign=\"top\">10</td>\n",
       "      <td>desktop</td>\n",
       "      <td>3565.86</td>\n",
       "    </tr>\n",
       "    <tr>\n",
       "      <td>touch</td>\n",
       "      <td>884.47</td>\n",
       "    </tr>\n",
       "  </tbody>\n",
       "</table>\n",
       "</div>"
      ],
      "text/plain": [
       "                    revenue\n",
       "source_id device           \n",
       "1         desktop  25995.60\n",
       "          touch     5094.95\n",
       "2         desktop  40386.63\n",
       "          touch     6536.98\n",
       "3         desktop  46273.75\n",
       "          touch     8237.49\n",
       "4         desktop  43414.96\n",
       "          touch    13281.87\n",
       "5         desktop  46825.34\n",
       "          touch     5798.68\n",
       "7         desktop      1.22\n",
       "9         desktop   4866.41\n",
       "          touch      892.99\n",
       "10        desktop   3565.86\n",
       "          touch      884.47"
      ]
     },
     "metadata": {},
     "output_type": "display_data"
    }
   ],
   "source": [
    "revenue_by_src_and_device = orders.merge(visits_by_src, on='uid', how='inner')\n",
    "revenue_by_src_and_device = revenue_by_src_and_device.groupby(['source_id', 'device']).agg({'revenue':'sum'})\n",
    "display(revenue_by_src_and_device)\n",
    "revenue_by_src_and_device_rst = revenue_by_src_and_device.reset_index()\n"
   ]
  },
  {
   "cell_type": "markdown",
   "metadata": {},
   "source": [
    "Для наглядности построим линейчатую диаграмму с разбивкой по `device`"
   ]
  },
  {
   "cell_type": "code",
   "execution_count": 69,
   "metadata": {},
   "outputs": [
    {
     "data": {
      "image/png": "[encoded data removed]",
      "text/plain": [
       "<Figure size 1152x648 with 1 Axes>"
      ]
     },
     "metadata": {
      "needs_background": "light"
     },
     "output_type": "display_data"
    }
   ],
   "source": [
    "plt.figure(figsize = (16, 9))\n",
    "sns.barplot(data=revenue_by_src_and_device_rst,\n",
    "            x = 'source_id',\n",
    "            y = 'revenue',\n",
    "            hue='device',\n",
    "            palette='pastel')\n",
    "\n",
    "plt.title('Выручка в зависимости от источника и устройства')\n",
    "plt.xlabel('Источник')\n",
    "plt.ylabel('Выручка')\n",
    "plt.show()"
   ]
  },
  {
   "cell_type": "markdown",
   "metadata": {},
   "source": [
    "Собёрем эту таблицу иначе, убрав из выборки 7 источник. Посчитаем соотношение между *desktop* и *touch* **revenue**. Добавим общий **roi_by_src** (также предварительно уберём 7 источник). Выведем две таблицы: с сортировкой по **ratio** и **roi**."
   ]
  },
  {
   "cell_type": "code",
   "execution_count": 70,
   "metadata": {},
   "outputs": [
    {
     "name": "stdout",
     "output_type": "stream",
     "text": [
      "Сортировка по соотношению между touch и desktop\n"
     ]
    },
    {
     "data": {
      "text/html": [
       "<div>\n",
       "<style scoped>\n",
       "    .dataframe tbody tr th:only-of-type {\n",
       "        vertical-align: middle;\n",
       "    }\n",
       "\n",
       "    .dataframe tbody tr th {\n",
       "        vertical-align: top;\n",
       "    }\n",
       "\n",
       "    .dataframe thead th {\n",
       "        text-align: right;\n",
       "    }\n",
       "</style>\n",
       "<table border=\"1\" class=\"dataframe\">\n",
       "  <thead>\n",
       "    <tr style=\"text-align: right;\">\n",
       "      <th></th>\n",
       "      <th>desktop_revenue</th>\n",
       "      <th>touch_revenue</th>\n",
       "      <th>ratio</th>\n",
       "      <th>revenue</th>\n",
       "      <th>costs</th>\n",
       "      <th>roi</th>\n",
       "    </tr>\n",
       "    <tr>\n",
       "      <th>source_id</th>\n",
       "      <th></th>\n",
       "      <th></th>\n",
       "      <th></th>\n",
       "      <th></th>\n",
       "      <th></th>\n",
       "      <th></th>\n",
       "    </tr>\n",
       "  </thead>\n",
       "  <tbody>\n",
       "    <tr>\n",
       "      <td>4</td>\n",
       "      <td>43414.96</td>\n",
       "      <td>13281.87</td>\n",
       "      <td>0.31</td>\n",
       "      <td>56696.83</td>\n",
       "      <td>61073.60</td>\n",
       "      <td>-0.07</td>\n",
       "    </tr>\n",
       "    <tr>\n",
       "      <td>10</td>\n",
       "      <td>3565.86</td>\n",
       "      <td>884.47</td>\n",
       "      <td>0.25</td>\n",
       "      <td>4450.33</td>\n",
       "      <td>5822.49</td>\n",
       "      <td>-0.24</td>\n",
       "    </tr>\n",
       "    <tr>\n",
       "      <td>1</td>\n",
       "      <td>25995.60</td>\n",
       "      <td>5094.95</td>\n",
       "      <td>0.20</td>\n",
       "      <td>31090.55</td>\n",
       "      <td>20833.27</td>\n",
       "      <td>0.49</td>\n",
       "    </tr>\n",
       "    <tr>\n",
       "      <td>3</td>\n",
       "      <td>46273.75</td>\n",
       "      <td>8237.49</td>\n",
       "      <td>0.18</td>\n",
       "      <td>54511.24</td>\n",
       "      <td>141321.63</td>\n",
       "      <td>-0.61</td>\n",
       "    </tr>\n",
       "    <tr>\n",
       "      <td>9</td>\n",
       "      <td>4866.41</td>\n",
       "      <td>892.99</td>\n",
       "      <td>0.18</td>\n",
       "      <td>5759.40</td>\n",
       "      <td>5517.49</td>\n",
       "      <td>0.04</td>\n",
       "    </tr>\n",
       "    <tr>\n",
       "      <td>2</td>\n",
       "      <td>40386.63</td>\n",
       "      <td>6536.98</td>\n",
       "      <td>0.16</td>\n",
       "      <td>46923.61</td>\n",
       "      <td>42806.04</td>\n",
       "      <td>0.10</td>\n",
       "    </tr>\n",
       "    <tr>\n",
       "      <td>5</td>\n",
       "      <td>46825.34</td>\n",
       "      <td>5798.68</td>\n",
       "      <td>0.12</td>\n",
       "      <td>52624.02</td>\n",
       "      <td>51757.10</td>\n",
       "      <td>0.02</td>\n",
       "    </tr>\n",
       "  </tbody>\n",
       "</table>\n",
       "</div>"
      ],
      "text/plain": [
       "           desktop_revenue  touch_revenue  ratio   revenue      costs   roi\n",
       "source_id                                                                  \n",
       "4                 43414.96       13281.87   0.31  56696.83   61073.60 -0.07\n",
       "10                 3565.86         884.47   0.25   4450.33    5822.49 -0.24\n",
       "1                 25995.60        5094.95   0.20  31090.55   20833.27  0.49\n",
       "3                 46273.75        8237.49   0.18  54511.24  141321.63 -0.61\n",
       "9                  4866.41         892.99   0.18   5759.40    5517.49  0.04\n",
       "2                 40386.63        6536.98   0.16  46923.61   42806.04  0.10\n",
       "5                 46825.34        5798.68   0.12  52624.02   51757.10  0.02"
      ]
     },
     "metadata": {},
     "output_type": "display_data"
    },
    {
     "name": "stdout",
     "output_type": "stream",
     "text": [
      "\n",
      "\n",
      "Сортировка по ROI\n"
     ]
    },
    {
     "data": {
      "text/html": [
       "<div>\n",
       "<style scoped>\n",
       "    .dataframe tbody tr th:only-of-type {\n",
       "        vertical-align: middle;\n",
       "    }\n",
       "\n",
       "    .dataframe tbody tr th {\n",
       "        vertical-align: top;\n",
       "    }\n",
       "\n",
       "    .dataframe thead th {\n",
       "        text-align: right;\n",
       "    }\n",
       "</style>\n",
       "<table border=\"1\" class=\"dataframe\">\n",
       "  <thead>\n",
       "    <tr style=\"text-align: right;\">\n",
       "      <th></th>\n",
       "      <th>desktop_revenue</th>\n",
       "      <th>touch_revenue</th>\n",
       "      <th>ratio</th>\n",
       "      <th>revenue</th>\n",
       "      <th>costs</th>\n",
       "      <th>roi</th>\n",
       "    </tr>\n",
       "    <tr>\n",
       "      <th>source_id</th>\n",
       "      <th></th>\n",
       "      <th></th>\n",
       "      <th></th>\n",
       "      <th></th>\n",
       "      <th></th>\n",
       "      <th></th>\n",
       "    </tr>\n",
       "  </thead>\n",
       "  <tbody>\n",
       "    <tr>\n",
       "      <td>1</td>\n",
       "      <td>25995.60</td>\n",
       "      <td>5094.95</td>\n",
       "      <td>0.20</td>\n",
       "      <td>31090.55</td>\n",
       "      <td>20833.27</td>\n",
       "      <td>0.49</td>\n",
       "    </tr>\n",
       "    <tr>\n",
       "      <td>2</td>\n",
       "      <td>40386.63</td>\n",
       "      <td>6536.98</td>\n",
       "      <td>0.16</td>\n",
       "      <td>46923.61</td>\n",
       "      <td>42806.04</td>\n",
       "      <td>0.10</td>\n",
       "    </tr>\n",
       "    <tr>\n",
       "      <td>9</td>\n",
       "      <td>4866.41</td>\n",
       "      <td>892.99</td>\n",
       "      <td>0.18</td>\n",
       "      <td>5759.40</td>\n",
       "      <td>5517.49</td>\n",
       "      <td>0.04</td>\n",
       "    </tr>\n",
       "    <tr>\n",
       "      <td>5</td>\n",
       "      <td>46825.34</td>\n",
       "      <td>5798.68</td>\n",
       "      <td>0.12</td>\n",
       "      <td>52624.02</td>\n",
       "      <td>51757.10</td>\n",
       "      <td>0.02</td>\n",
       "    </tr>\n",
       "    <tr>\n",
       "      <td>4</td>\n",
       "      <td>43414.96</td>\n",
       "      <td>13281.87</td>\n",
       "      <td>0.31</td>\n",
       "      <td>56696.83</td>\n",
       "      <td>61073.60</td>\n",
       "      <td>-0.07</td>\n",
       "    </tr>\n",
       "    <tr>\n",
       "      <td>10</td>\n",
       "      <td>3565.86</td>\n",
       "      <td>884.47</td>\n",
       "      <td>0.25</td>\n",
       "      <td>4450.33</td>\n",
       "      <td>5822.49</td>\n",
       "      <td>-0.24</td>\n",
       "    </tr>\n",
       "    <tr>\n",
       "      <td>3</td>\n",
       "      <td>46273.75</td>\n",
       "      <td>8237.49</td>\n",
       "      <td>0.18</td>\n",
       "      <td>54511.24</td>\n",
       "      <td>141321.63</td>\n",
       "      <td>-0.61</td>\n",
       "    </tr>\n",
       "  </tbody>\n",
       "</table>\n",
       "</div>"
      ],
      "text/plain": [
       "           desktop_revenue  touch_revenue  ratio   revenue      costs   roi\n",
       "source_id                                                                  \n",
       "1                 25995.60        5094.95   0.20  31090.55   20833.27  0.49\n",
       "2                 40386.63        6536.98   0.16  46923.61   42806.04  0.10\n",
       "9                  4866.41         892.99   0.18   5759.40    5517.49  0.04\n",
       "5                 46825.34        5798.68   0.12  52624.02   51757.10  0.02\n",
       "4                 43414.96       13281.87   0.31  56696.83   61073.60 -0.07\n",
       "10                 3565.86         884.47   0.25   4450.33    5822.49 -0.24\n",
       "3                 46273.75        8237.49   0.18  54511.24  141321.63 -0.61"
      ]
     },
     "metadata": {},
     "output_type": "display_data"
    }
   ],
   "source": [
    "revenue_desktop = revenue_by_src_and_device.query('device == \"desktop\" and source_id != 7')\n",
    "revenue_touch = revenue_by_src_and_device.query('device == \"touch\"')\n",
    "\n",
    "revenue_all = revenue_desktop.merge(revenue_touch, on = 'source_id')\n",
    "\n",
    "revenue_all.columns = ['desktop_revenue', 'touch_revenue']\n",
    "revenue_all['ratio'] = (revenue_all['touch_revenue'] / revenue_all['desktop_revenue']).round(2)\n",
    "\n",
    "\n",
    "\n",
    "roi_by_src_and_device_by_ratio = (revenue_all.merge(roi_by_src.query('source_id != 7'), on = 'source_id').sort_values(by = 'ratio', ascending = False))\n",
    "\n",
    "print('Сортировка по соотношению между touch и desktop')\n",
    "display(roi_by_src_and_device_by_ratio)\n",
    "print()\n",
    "print()\n",
    "\n",
    "roi_by_src_and_device_by_roi = roi_by_src_and_device_by_ratio.sort_values(by = 'roi', ascending = False)\n",
    "print('Сортировка по ROI')\n",
    "display(roi_by_src_and_device_by_roi)\n",
    "\n"
   ]
  },
  {
   "cell_type": "markdown",
   "metadata": {},
   "source": [
    "Таблицы выше ярко иллюстрируют известный факт: ***во всём нужен баланс***. Нельзя просто гнаться за количеством, что доказывает нам **третий источник**. Если пытаться выжимать как можно больше выручки из мобильных устройств, то это также ни к чему хорошему не приведет, как показывают нам **4 и 10 источники**. **Первый источник** следует этим правилам и остаётся самым успешным."
   ]
  },
  {
   "cell_type": "markdown",
   "metadata": {},
   "source": [
    "### Шаг 4. Общий вывод  <a id=\"step4\"></a>   \n",
    "</div>  \n"
   ]
  },
  {
   "cell_type": "markdown",
   "metadata": {},
   "source": [
    "В рамках нашего исследования мы проверили полученные датасеты. Проанализировали их на предмет пропущенных значений и дубликатов. Привели даты к нужному формату. Провели наличие (и подтвердили их отсутствие) артефактов в полях `device, source_id`. \n",
    "\n",
    "\n",
    "|               | Общая аудитория Яндекс.Афиши, человек| Аудитория Desktop, человек| Аудитория Touch, человек|\n",
    "| ------------- |:------------------------------:| :------------------------:| :----------------------:| \n",
    "| Ежедневная    | 907| 659 | 252 | \n",
    "| Еженедельная  | 5 825| 4 208 | 1 666 |  \n",
    "| Ежемесячная   | 23 228| 16 724 | 6 825 | \n",
    "\n",
    "#### Выводы по продукту: \n",
    "- В день совершается около 987 сессий. \n",
    "- Медианная продолжительность одной сессии: 300 секунд\n",
    "- Сессии с мобильных устройств значительно короче сессий со станционарных (180 секунд против 360)\n",
    "- В 92% и более случаев люди не возвращаются за повторной покупкой. Для мобильных устройств этот процент увеличивается до 95%\n",
    "\n",
    "\n",
    "#### Выводы по продажам \n",
    "- 20 минут - медианная продолжительность от захода на сайт до покупки. С телефонов эта продолжительность составляет 128 минут. На этот факт нужно обратить внимание разработчиков. \n",
    "- В день совершается 138 покупок. В неделю - 959 покупок. В месяц - 4201 покупка.\n",
    "- Средний чек - 5 у.е. Но лежит он в 4 квартиле распределения. Рекомендуем ориентироваться на медианное значение - 2,5 у.е.\n",
    "- LTV первой когорты - 11.88, CAC - 8.9. Окупилась за 7 месяцев.\n",
    "- Среднестатистическая когорта окупается к 11 месяцу. Особо удачная 4 когорта окупилась за 4 месяца. \n",
    "\n",
    "#### Выводы по маркетингу\n",
    "- Маркетологи потратили 329131.62 у.е.\n",
    "- Больше всего вкладывались в 3 источник.\n",
    "- Маркетологи особенно усердствовали в предновогодние и предпраздничные месяцы . Их можно понять, но не чувствуются более \"интересные\" попытки раскрутить продукт. \n",
    "- Особенно дорогое привлечение из 2 и 3 источника. Самое дешёвое - из 10 источника. Самое интересное - из 7 источника (денег не потратили, а клиента получили).\n",
    "- Общее ROI чуть ниже 0. Но есть возможности к оптимизации.\n",
    "\n",
    "#### Рекомендации маркетологам\n",
    "- В качестве гипотезы принять 1 источник как эталонный.\n",
    "- Перераспределить самые большие бюджеты с 3 источника на 1 источник.\n",
    "- Часть бюджета попробовать отправить на рекламу на мобильных устройствах с помощью 2 источника (гипотетически есть потенциал для роста)\n",
    "- Уменьшить траты на мобильную рекламу у 4 источника. Есть дисбаланс по сравнению с 1 источником, попробовать стремиться к его показателям.\n",
    "- Осознать факт, что бОльшее количество клиентов не означает бОльшую выручку для проекта. Яркий пример 3 источник.\n",
    "- Не бояться отказываться от малоёмких источников (как 10 источник), если нет задачи обязательного присутствия в нём. \n",
    "- Рассмотреть возможность увеличения рекламного бюджета на мобильных устройствах с помощью 5 источника (гипотетически есть потенциал для роста)\n"
   ]
  },
  {
   "cell_type": "code",
   "execution_count": null,
   "metadata": {},
   "outputs": [],
   "source": []
  }
 ],
 "metadata": {
  "kernelspec": {
   "display_name": "Python 3",
   "language": "python",
   "name": "python3"
  },
  "language_info": {
   "codemirror_mode": {
    "name": "ipython",
    "version": 3
   },
   "file_extension": ".py",
   "mimetype": "text/x-python",
   "name": "python",
   "nbconvert_exporter": "python",
   "pygments_lexer": "ipython3",
   "version": "3.7.8"
  },
  "toc": {
   "base_numbering": 1,
   "nav_menu": {},
   "number_sections": true,
   "sideBar": true,
   "skip_h1_title": true,
   "title_cell": "Table of Contents",
   "title_sidebar": "Contents",
   "toc_cell": false,
   "toc_position": {},
   "toc_section_display": true,
   "toc_window_display": false
  }
 },
 "nbformat": 4,
 "nbformat_minor": 2
}
